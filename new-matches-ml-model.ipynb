{
 "cells": [
  {
   "cell_type": "code",
   "execution_count": 36,
   "metadata": {},
   "outputs": [],
   "source": [
    "# Importing\n",
    "import pandas as pd\n",
    "import numpy as np\n",
    "from sklearn.model_selection import train_test_split\n",
    "from sklearn.metrics import accuracy_score\n",
    "from sklearn.svm import SVC\n",
    "from sklearn.ensemble import RandomForestClassifier, AdaBoostClassifier\n",
    "from keras.utils import to_categorical\n",
    "import keras\n",
    "from keras.layers import Dense\n",
    "from keras import Sequential"
   ]
  },
  {
   "cell_type": "code",
   "execution_count": 2,
   "metadata": {},
   "outputs": [],
   "source": [
    "data = pd.read_csv(\"matches.csv\")"
   ]
  },
  {
   "cell_type": "code",
   "execution_count": 3,
   "metadata": {},
   "outputs": [
    {
     "data": {
      "text/html": [
       "<div>\n",
       "<style scoped>\n",
       "    .dataframe tbody tr th:only-of-type {\n",
       "        vertical-align: middle;\n",
       "    }\n",
       "\n",
       "    .dataframe tbody tr th {\n",
       "        vertical-align: top;\n",
       "    }\n",
       "\n",
       "    .dataframe thead th {\n",
       "        text-align: right;\n",
       "    }\n",
       "</style>\n",
       "<table border=\"1\" class=\"dataframe\">\n",
       "  <thead>\n",
       "    <tr style=\"text-align: right;\">\n",
       "      <th></th>\n",
       "      <th>id</th>\n",
       "      <th>season</th>\n",
       "      <th>city</th>\n",
       "      <th>date</th>\n",
       "      <th>team1</th>\n",
       "      <th>team2</th>\n",
       "      <th>toss_winner</th>\n",
       "      <th>toss_decision</th>\n",
       "      <th>result</th>\n",
       "      <th>dl_applied</th>\n",
       "      <th>winner</th>\n",
       "      <th>win_by_runs</th>\n",
       "      <th>win_by_wickets</th>\n",
       "      <th>player_of_match</th>\n",
       "      <th>venue</th>\n",
       "      <th>umpire1</th>\n",
       "      <th>umpire2</th>\n",
       "      <th>umpire3</th>\n",
       "    </tr>\n",
       "  </thead>\n",
       "  <tbody>\n",
       "    <tr>\n",
       "      <th>0</th>\n",
       "      <td>1</td>\n",
       "      <td>2017</td>\n",
       "      <td>Hyderabad</td>\n",
       "      <td>2017-04-05</td>\n",
       "      <td>Sunrisers Hyderabad</td>\n",
       "      <td>Royal Challengers Bangalore</td>\n",
       "      <td>Royal Challengers Bangalore</td>\n",
       "      <td>field</td>\n",
       "      <td>normal</td>\n",
       "      <td>0</td>\n",
       "      <td>Sunrisers Hyderabad</td>\n",
       "      <td>35</td>\n",
       "      <td>0</td>\n",
       "      <td>Yuvraj Singh</td>\n",
       "      <td>Rajiv Gandhi International Stadium, Uppal</td>\n",
       "      <td>AY Dandekar</td>\n",
       "      <td>NJ Llong</td>\n",
       "      <td>NaN</td>\n",
       "    </tr>\n",
       "    <tr>\n",
       "      <th>1</th>\n",
       "      <td>2</td>\n",
       "      <td>2017</td>\n",
       "      <td>Pune</td>\n",
       "      <td>2017-04-06</td>\n",
       "      <td>Mumbai Indians</td>\n",
       "      <td>Rising Pune Supergiant</td>\n",
       "      <td>Rising Pune Supergiant</td>\n",
       "      <td>field</td>\n",
       "      <td>normal</td>\n",
       "      <td>0</td>\n",
       "      <td>Rising Pune Supergiant</td>\n",
       "      <td>0</td>\n",
       "      <td>7</td>\n",
       "      <td>SPD Smith</td>\n",
       "      <td>Maharashtra Cricket Association Stadium</td>\n",
       "      <td>A Nand Kishore</td>\n",
       "      <td>S Ravi</td>\n",
       "      <td>NaN</td>\n",
       "    </tr>\n",
       "    <tr>\n",
       "      <th>2</th>\n",
       "      <td>3</td>\n",
       "      <td>2017</td>\n",
       "      <td>Rajkot</td>\n",
       "      <td>2017-04-07</td>\n",
       "      <td>Gujarat Lions</td>\n",
       "      <td>Kolkata Knight Riders</td>\n",
       "      <td>Kolkata Knight Riders</td>\n",
       "      <td>field</td>\n",
       "      <td>normal</td>\n",
       "      <td>0</td>\n",
       "      <td>Kolkata Knight Riders</td>\n",
       "      <td>0</td>\n",
       "      <td>10</td>\n",
       "      <td>CA Lynn</td>\n",
       "      <td>Saurashtra Cricket Association Stadium</td>\n",
       "      <td>Nitin Menon</td>\n",
       "      <td>CK Nandan</td>\n",
       "      <td>NaN</td>\n",
       "    </tr>\n",
       "    <tr>\n",
       "      <th>3</th>\n",
       "      <td>4</td>\n",
       "      <td>2017</td>\n",
       "      <td>Indore</td>\n",
       "      <td>2017-04-08</td>\n",
       "      <td>Rising Pune Supergiant</td>\n",
       "      <td>Kings XI Punjab</td>\n",
       "      <td>Kings XI Punjab</td>\n",
       "      <td>field</td>\n",
       "      <td>normal</td>\n",
       "      <td>0</td>\n",
       "      <td>Kings XI Punjab</td>\n",
       "      <td>0</td>\n",
       "      <td>6</td>\n",
       "      <td>GJ Maxwell</td>\n",
       "      <td>Holkar Cricket Stadium</td>\n",
       "      <td>AK Chaudhary</td>\n",
       "      <td>C Shamshuddin</td>\n",
       "      <td>NaN</td>\n",
       "    </tr>\n",
       "    <tr>\n",
       "      <th>4</th>\n",
       "      <td>5</td>\n",
       "      <td>2017</td>\n",
       "      <td>Bangalore</td>\n",
       "      <td>2017-04-08</td>\n",
       "      <td>Royal Challengers Bangalore</td>\n",
       "      <td>Delhi Daredevils</td>\n",
       "      <td>Royal Challengers Bangalore</td>\n",
       "      <td>bat</td>\n",
       "      <td>normal</td>\n",
       "      <td>0</td>\n",
       "      <td>Royal Challengers Bangalore</td>\n",
       "      <td>15</td>\n",
       "      <td>0</td>\n",
       "      <td>KM Jadhav</td>\n",
       "      <td>M Chinnaswamy Stadium</td>\n",
       "      <td>NaN</td>\n",
       "      <td>NaN</td>\n",
       "      <td>NaN</td>\n",
       "    </tr>\n",
       "  </tbody>\n",
       "</table>\n",
       "</div>"
      ],
      "text/plain": [
       "   id  season       city        date                        team1  \\\n",
       "0   1    2017  Hyderabad  2017-04-05          Sunrisers Hyderabad   \n",
       "1   2    2017       Pune  2017-04-06               Mumbai Indians   \n",
       "2   3    2017     Rajkot  2017-04-07                Gujarat Lions   \n",
       "3   4    2017     Indore  2017-04-08       Rising Pune Supergiant   \n",
       "4   5    2017  Bangalore  2017-04-08  Royal Challengers Bangalore   \n",
       "\n",
       "                         team2                  toss_winner toss_decision  \\\n",
       "0  Royal Challengers Bangalore  Royal Challengers Bangalore         field   \n",
       "1       Rising Pune Supergiant       Rising Pune Supergiant         field   \n",
       "2        Kolkata Knight Riders        Kolkata Knight Riders         field   \n",
       "3              Kings XI Punjab              Kings XI Punjab         field   \n",
       "4             Delhi Daredevils  Royal Challengers Bangalore           bat   \n",
       "\n",
       "   result  dl_applied                       winner  win_by_runs  \\\n",
       "0  normal           0          Sunrisers Hyderabad           35   \n",
       "1  normal           0       Rising Pune Supergiant            0   \n",
       "2  normal           0        Kolkata Knight Riders            0   \n",
       "3  normal           0              Kings XI Punjab            0   \n",
       "4  normal           0  Royal Challengers Bangalore           15   \n",
       "\n",
       "   win_by_wickets player_of_match                                      venue  \\\n",
       "0               0    Yuvraj Singh  Rajiv Gandhi International Stadium, Uppal   \n",
       "1               7       SPD Smith    Maharashtra Cricket Association Stadium   \n",
       "2              10         CA Lynn     Saurashtra Cricket Association Stadium   \n",
       "3               6      GJ Maxwell                     Holkar Cricket Stadium   \n",
       "4               0       KM Jadhav                      M Chinnaswamy Stadium   \n",
       "\n",
       "          umpire1        umpire2  umpire3  \n",
       "0     AY Dandekar       NJ Llong      NaN  \n",
       "1  A Nand Kishore         S Ravi      NaN  \n",
       "2     Nitin Menon      CK Nandan      NaN  \n",
       "3    AK Chaudhary  C Shamshuddin      NaN  \n",
       "4             NaN            NaN      NaN  "
      ]
     },
     "execution_count": 3,
     "metadata": {},
     "output_type": "execute_result"
    }
   ],
   "source": [
    "data.head()"
   ]
  },
  {
   "cell_type": "code",
   "execution_count": 4,
   "metadata": {},
   "outputs": [],
   "source": [
    "data.toss_decision = data.toss_decision.map({'bat':1, 'field':0})"
   ]
  },
  {
   "cell_type": "code",
   "execution_count": 5,
   "metadata": {},
   "outputs": [],
   "source": [
    "data.result = data.result.map({'normal':1, 'tie':2, 'no result':0})"
   ]
  },
  {
   "cell_type": "code",
   "execution_count": 6,
   "metadata": {},
   "outputs": [],
   "source": [
    "data.drop(columns=['venue', 'player_of_match', 'dl_applied','umpire1','umpire2','umpire3','date','city','season','id'], inplace=True)"
   ]
  },
  {
   "cell_type": "code",
   "execution_count": 7,
   "metadata": {},
   "outputs": [],
   "source": [
    "r = len(data.team2.unique())\n",
    "teams = data.team1.unique()\n",
    "mapping = {}"
   ]
  },
  {
   "cell_type": "code",
   "execution_count": 8,
   "metadata": {},
   "outputs": [],
   "source": [
    "for i in range(14): # There are 14 teams.\n",
    "    mapping[teams[i]] = i"
   ]
  },
  {
   "cell_type": "code",
   "execution_count": 9,
   "metadata": {},
   "outputs": [],
   "source": [
    "# Encoding data in numeric form\n",
    "data.team1 = data.team1.map(mapping)\n",
    "data.team2 = data.team2.map(mapping)"
   ]
  },
  {
   "cell_type": "code",
   "execution_count": 10,
   "metadata": {},
   "outputs": [],
   "source": [
    "data.toss_winner = data.toss_winner.map(mapping)"
   ]
  },
  {
   "cell_type": "code",
   "execution_count": 11,
   "metadata": {},
   "outputs": [],
   "source": [
    "data.winner = data.winner.map(mapping)"
   ]
  },
  {
   "cell_type": "code",
   "execution_count": 12,
   "metadata": {},
   "outputs": [],
   "source": [
    "data.winner.fillna(0, axis=0, inplace=True)"
   ]
  },
  {
   "cell_type": "code",
   "execution_count": 13,
   "metadata": {},
   "outputs": [],
   "source": [
    "data.winner = data.winner.astype(int)"
   ]
  },
  {
   "cell_type": "code",
   "execution_count": 14,
   "metadata": {},
   "outputs": [],
   "source": [
    "for i in range(len(data['win_by_runs'].values)):\n",
    "    if (data['win_by_runs'][i]) >= 20: # Strong team\n",
    "        data['win_by_runs'][i] = 1\n",
    "    else:\n",
    "        data['win_by_runs'][i] = 0"
   ]
  },
  {
   "cell_type": "code",
   "execution_count": 15,
   "metadata": {},
   "outputs": [],
   "source": [
    "for i in range(len(data['win_by_wickets'].values)):\n",
    "    if data['win_by_wickets'][i] >= 7: # Strong team\n",
    "        data['win_by_wickets'][i] = 1\n",
    "    else:\n",
    "        data['win_by_wickets'][i] = 0"
   ]
  },
  {
   "cell_type": "code",
   "execution_count": 16,
   "metadata": {},
   "outputs": [
    {
     "data": {
      "text/html": [
       "<div>\n",
       "<style scoped>\n",
       "    .dataframe tbody tr th:only-of-type {\n",
       "        vertical-align: middle;\n",
       "    }\n",
       "\n",
       "    .dataframe tbody tr th {\n",
       "        vertical-align: top;\n",
       "    }\n",
       "\n",
       "    .dataframe thead th {\n",
       "        text-align: right;\n",
       "    }\n",
       "</style>\n",
       "<table border=\"1\" class=\"dataframe\">\n",
       "  <thead>\n",
       "    <tr style=\"text-align: right;\">\n",
       "      <th></th>\n",
       "      <th>team1</th>\n",
       "      <th>team2</th>\n",
       "      <th>toss_winner</th>\n",
       "      <th>toss_decision</th>\n",
       "      <th>result</th>\n",
       "      <th>winner</th>\n",
       "      <th>win_by_runs</th>\n",
       "      <th>win_by_wickets</th>\n",
       "    </tr>\n",
       "  </thead>\n",
       "  <tbody>\n",
       "    <tr>\n",
       "      <th>0</th>\n",
       "      <td>0</td>\n",
       "      <td>4</td>\n",
       "      <td>4</td>\n",
       "      <td>0</td>\n",
       "      <td>1</td>\n",
       "      <td>0</td>\n",
       "      <td>1</td>\n",
       "      <td>0</td>\n",
       "    </tr>\n",
       "    <tr>\n",
       "      <th>1</th>\n",
       "      <td>1</td>\n",
       "      <td>3</td>\n",
       "      <td>3</td>\n",
       "      <td>0</td>\n",
       "      <td>1</td>\n",
       "      <td>3</td>\n",
       "      <td>0</td>\n",
       "      <td>1</td>\n",
       "    </tr>\n",
       "    <tr>\n",
       "      <th>2</th>\n",
       "      <td>2</td>\n",
       "      <td>5</td>\n",
       "      <td>5</td>\n",
       "      <td>0</td>\n",
       "      <td>1</td>\n",
       "      <td>5</td>\n",
       "      <td>0</td>\n",
       "      <td>1</td>\n",
       "    </tr>\n",
       "    <tr>\n",
       "      <th>3</th>\n",
       "      <td>3</td>\n",
       "      <td>7</td>\n",
       "      <td>7</td>\n",
       "      <td>0</td>\n",
       "      <td>1</td>\n",
       "      <td>7</td>\n",
       "      <td>0</td>\n",
       "      <td>0</td>\n",
       "    </tr>\n",
       "    <tr>\n",
       "      <th>4</th>\n",
       "      <td>4</td>\n",
       "      <td>6</td>\n",
       "      <td>4</td>\n",
       "      <td>1</td>\n",
       "      <td>1</td>\n",
       "      <td>4</td>\n",
       "      <td>0</td>\n",
       "      <td>0</td>\n",
       "    </tr>\n",
       "  </tbody>\n",
       "</table>\n",
       "</div>"
      ],
      "text/plain": [
       "   team1  team2  toss_winner  toss_decision  result  winner  win_by_runs  \\\n",
       "0      0      4            4              0       1       0            1   \n",
       "1      1      3            3              0       1       3            0   \n",
       "2      2      5            5              0       1       5            0   \n",
       "3      3      7            7              0       1       7            0   \n",
       "4      4      6            4              1       1       4            0   \n",
       "\n",
       "   win_by_wickets  \n",
       "0               0  \n",
       "1               1  \n",
       "2               1  \n",
       "3               0  \n",
       "4               0  "
      ]
     },
     "execution_count": 16,
     "metadata": {},
     "output_type": "execute_result"
    }
   ],
   "source": [
    "data.head()"
   ]
  },
  {
   "cell_type": "code",
   "execution_count": 17,
   "metadata": {},
   "outputs": [],
   "source": [
    "# Extracting features and labels\n",
    "labels = data.winner.values\n",
    "features = data.drop(columns=[\"winner\"]).values"
   ]
  },
  {
   "cell_type": "code",
   "execution_count": 18,
   "metadata": {},
   "outputs": [],
   "source": [
    "# For neural network\n",
    "ndim = features.shape[1]"
   ]
  },
  {
   "cell_type": "code",
   "execution_count": 19,
   "metadata": {},
   "outputs": [],
   "source": [
    "features_train, features_test, labels_train, labels_test = train_test_split(features, labels, random_state=3, shuffle=True)"
   ]
  },
  {
   "cell_type": "code",
   "execution_count": 20,
   "metadata": {},
   "outputs": [
    {
     "data": {
      "text/plain": [
       "477"
      ]
     },
     "execution_count": 20,
     "metadata": {},
     "output_type": "execute_result"
    }
   ],
   "source": [
    "len(features_train)"
   ]
  },
  {
   "cell_type": "code",
   "execution_count": 22,
   "metadata": {},
   "outputs": [
    {
     "data": {
      "text/plain": [
       "8"
      ]
     },
     "execution_count": 22,
     "metadata": {},
     "output_type": "execute_result"
    }
   ],
   "source": [
    "len(data.columns)"
   ]
  },
  {
   "cell_type": "code",
   "execution_count": 23,
   "metadata": {},
   "outputs": [
    {
     "data": {
      "text/plain": [
       "7"
      ]
     },
     "execution_count": 23,
     "metadata": {},
     "output_type": "execute_result"
    }
   ],
   "source": [
    "features.shape[1]"
   ]
  },
  {
   "cell_type": "code",
   "execution_count": 25,
   "metadata": {},
   "outputs": [
    {
     "data": {
      "text/plain": [
       "array([ 0,  3,  5,  7,  4,  0,  1,  7,  6,  1,  5,  1,  2,  5,  6,  1,  3,\n",
       "        5,  0,  4,  0,  1,  2,  1,  3,  7,  5,  3,  5,  2,  5,  0,  3,  1,\n",
       "        7,  0,  1,  3,  6,  3,  6,  7,  3,  1,  5,  2,  0,  7,  6,  7,  6,\n",
       "        0,  1,  3,  4,  3,  5,  1,  1,  5,  8,  6,  4,  5,  9,  6,  8,  9,\n",
       "        7,  9,  8, 10,  7,  8,  1,  6,  7,  9,  6,  4,  7,  1,  9,  7, 10,\n",
       "        1,  8,  5,  9,  1,  8,  5,  9,  7,  5,  1,  7,  6,  1,  7,  9,  1,\n",
       "        8,  6,  9,  7,  4,  7,  6,  9,  4,  5,  9,  8,  9,  8,  9,  1,  4,\n",
       "        6, 10,  8,  5, 10,  6,  9,  7, 10,  6,  7, 10,  1,  9,  4,  7,  6,\n",
       "        8,  1,  4,  9,  8,  7,  4,  8,  9,  6, 10,  9,  8,  6,  7,  8,  1,\n",
       "        6, 10,  4,  1,  6,  4,  9,  7,  8, 10,  7,  6,  5,  4,  5,  8,  6,\n",
       "        4, 10,  4, 10,  5,  1,  6,  5, 10,  6,  4,  8,  1,  4,  8, 10,  9,\n",
       "        4, 10,  7,  1,  4,  9,  1,  9,  5,  6,  9,  1,  6,  1,  8,  6,  5,\n",
       "        4,  8,  1,  7,  6,  9,  8,  9,  5, 10,  7, 10,  4,  7,  1, 10,  1,\n",
       "        8,  4,  6, 10,  1,  5,  8, 10,  5,  1,  8,  4,  8,  8,  9,  4,  1,\n",
       "       12,  5,  9,  1,  7, 12, 10,  5, 11,  8,  7,  6,  5, 11, 10,  1, 11,\n",
       "        7,  1,  4,  6,  1,  9,  8,  4,  8, 10,  5,  9,  4,  6,  5,  9,  8,\n",
       "        1, 11,  5,  8,  1, 11,  6,  4,  5,  1,  4, 12,  8, 12,  7,  4,  8,\n",
       "        7,  4, 10,  7, 11, 10,  7,  8,  5,  9, 10,  0,  4,  1,  8,  1,  4,\n",
       "        8,  1,  6, 12,  9,  4,  8,  9, 12,  1,  5,  6,  1,  8,  7,  5,  6,\n",
       "       12,  7,  9,  6,  9,  4,  5,  6,  8,  4,  8, 12,  7,  5,  4,  6,  1,\n",
       "       10,  6,  7,  5,  6,  1,  5, 10,  6,  7,  1,  8,  5,  9,  1,  4,  5,\n",
       "        9,  7,  4,  8,  4,  1,  8,  9,  7,  1,  8,  6,  5,  7,  4, 10,  6,\n",
       "        5, 10,  1,  5,  8,  8,  5,  5,  4,  0,  9,  1,  7,  0,  9,  1,  8,\n",
       "        4, 12,  0,  1,  8,  5,  9, 12,  7,  4,  0,  9,  8,  0,  8,  4,  6,\n",
       "        7,  8,  4,  7,  1,  8,  5,  9,  1,  8,  6,  9,  1,  8,  0,  6,  8,\n",
       "        4,  5,  0,  7,  1,  9,  4,  9,  1,  8,  9,  5,  4,  1,  0,  5,  9,\n",
       "        7,  1, 12,  8,  1,  7,  0,  7, 12,  4,  0,  8,  9,  1,  1,  5,  4,\n",
       "        7,  9,  4,  6,  7,  8,  7,  8,  5,  0,  8,  9,  7,  6,  8,  7,  9,\n",
       "        0,  8,  1,  9,  4,  9,  8,  1,  5,  7,  0,  7,  0,  8,  5,  9,  1,\n",
       "        8,  4,  7,  5,  9,  4,  5,  1,  7,  0,  5,  1,  5,  0,  1,  7,  8,\n",
       "        5,  7,  1,  5,  8,  7,  5,  5,  8,  9,  8,  4,  9,  7,  0,  9,  5,\n",
       "        6,  9,  8,  6,  5,  9,  1,  5,  7,  0,  8,  6,  4,  1,  8,  4,  0,\n",
       "        5,  0,  8,  6,  1,  4,  0,  1,  9,  8,  5,  1,  4,  0,  1,  5,  0,\n",
       "        4,  8,  0,  6,  7,  1,  4,  8,  9,  0,  1,  1,  4,  8,  1, 13,  5,\n",
       "        2,  4,  1,  2,  6,  5,  2,  7,  6,  0,  5,  1,  0,  4,  6,  0,  2,\n",
       "        5,  1, 13,  2,  1,  2,  6,  0,  7,  1,  5,  6,  5, 13,  0,  4,  7,\n",
       "        0,  2,  4,  0,  1,  6,  7,  4,  5,  0,  1,  4, 13,  4,  2,  6, 13,\n",
       "        2,  5,  4,  4,  0,  0,  0])"
      ]
     },
     "execution_count": 25,
     "metadata": {},
     "output_type": "execute_result"
    }
   ],
   "source": [
    "# Viewing labels\n",
    "labels"
   ]
  },
  {
   "cell_type": "code",
   "execution_count": 26,
   "metadata": {},
   "outputs": [],
   "source": [
    "# As the labels are multi class, we perform one hot encoding."
   ]
  },
  {
   "cell_type": "code",
   "execution_count": 27,
   "metadata": {},
   "outputs": [],
   "source": [
    "labels_copy = to_categorical(labels)"
   ]
  },
  {
   "cell_type": "code",
   "execution_count": 40,
   "metadata": {},
   "outputs": [],
   "source": [
    "labels_copy.shape\n",
    "features_copy_train, features_copy_test,labels_copy_train,labels_copy_test = train_test_split(features, labels_copy, random_state=3, shuffle=True)"
   ]
  },
  {
   "cell_type": "code",
   "execution_count": 35,
   "metadata": {},
   "outputs": [
    {
     "data": {
      "text/plain": [
       "0.61006289308176098"
      ]
     },
     "execution_count": 35,
     "metadata": {},
     "output_type": "execute_result"
    }
   ],
   "source": [
    "# Building models\n",
    "clf1 = SVC(C=100)\n",
    "clf1.fit(features_train, labels_train)\n",
    "clf1.score(features_test, labels_test)"
   ]
  },
  {
   "cell_type": "code",
   "execution_count": 33,
   "metadata": {},
   "outputs": [
    {
     "data": {
      "text/plain": [
       "0.62893081761006286"
      ]
     },
     "execution_count": 33,
     "metadata": {},
     "output_type": "execute_result"
    }
   ],
   "source": [
    "clf2 = RandomForestClassifier(n_estimators=100, min_samples_split=10)\n",
    "clf2.fit(features_train, labels_train)\n",
    "clf2.score(features_test, labels_test)"
   ]
  },
  {
   "cell_type": "code",
   "execution_count": 105,
   "metadata": {},
   "outputs": [],
   "source": [
    "# Building neural network\n",
    "model = Sequential()\n",
    "model.add(Dense(100, input_dim=ndim, activation=\"relu\"))\n",
    "model.add(Dense(100,activation=\"relu\"))\n",
    "model.add(Dense(75, activation=\"relu\"))\n",
    "model.add(Dense(14, activation=\"softmax\"))\n",
    "model.compile(optimizer=\"adam\", loss=keras.losses.mse, metrics=[\"accuracy\"])"
   ]
  },
  {
   "cell_type": "code",
   "execution_count": 106,
   "metadata": {},
   "outputs": [
    {
     "name": "stdout",
     "output_type": "stream",
     "text": [
      "Train on 477 samples, validate on 159 samples\n",
      "Epoch 1/200\n",
      "477/477 [==============================] - 0s 741us/step - loss: 0.0668 - acc: 0.1426 - val_loss: 0.0657 - val_acc: 0.1384\n",
      "Epoch 2/200\n",
      "477/477 [==============================] - 0s 38us/step - loss: 0.0645 - acc: 0.1887 - val_loss: 0.0650 - val_acc: 0.1887\n",
      "Epoch 3/200\n",
      "477/477 [==============================] - 0s 41us/step - loss: 0.0631 - acc: 0.2285 - val_loss: 0.0641 - val_acc: 0.2201\n",
      "Epoch 4/200\n",
      "477/477 [==============================] - 0s 39us/step - loss: 0.0621 - acc: 0.2600 - val_loss: 0.0635 - val_acc: 0.2201\n",
      "Epoch 5/200\n",
      "477/477 [==============================] - 0s 43us/step - loss: 0.0614 - acc: 0.2683 - val_loss: 0.0629 - val_acc: 0.2138\n",
      "Epoch 6/200\n",
      "477/477 [==============================] - 0s 48us/step - loss: 0.0607 - acc: 0.2767 - val_loss: 0.0624 - val_acc: 0.2264\n",
      "Epoch 7/200\n",
      "477/477 [==============================] - 0s 36us/step - loss: 0.0601 - acc: 0.2809 - val_loss: 0.0620 - val_acc: 0.2516\n",
      "Epoch 8/200\n",
      "477/477 [==============================] - 0s 42us/step - loss: 0.0597 - acc: 0.2725 - val_loss: 0.0621 - val_acc: 0.2516\n",
      "Epoch 9/200\n",
      "477/477 [==============================] - 0s 44us/step - loss: 0.0592 - acc: 0.2956 - val_loss: 0.0620 - val_acc: 0.2453\n",
      "Epoch 10/200\n",
      "477/477 [==============================] - 0s 43us/step - loss: 0.0587 - acc: 0.3061 - val_loss: 0.0618 - val_acc: 0.2390\n",
      "Epoch 11/200\n",
      "477/477 [==============================] - 0s 42us/step - loss: 0.0583 - acc: 0.2977 - val_loss: 0.0615 - val_acc: 0.2453\n",
      "Epoch 12/200\n",
      "477/477 [==============================] - 0s 42us/step - loss: 0.0579 - acc: 0.3040 - val_loss: 0.0611 - val_acc: 0.2453\n",
      "Epoch 13/200\n",
      "477/477 [==============================] - 0s 43us/step - loss: 0.0574 - acc: 0.3124 - val_loss: 0.0609 - val_acc: 0.2516\n",
      "Epoch 14/200\n",
      "477/477 [==============================] - 0s 44us/step - loss: 0.0570 - acc: 0.3354 - val_loss: 0.0610 - val_acc: 0.2767\n",
      "Epoch 15/200\n",
      "477/477 [==============================] - 0s 45us/step - loss: 0.0565 - acc: 0.3459 - val_loss: 0.0605 - val_acc: 0.2704\n",
      "Epoch 16/200\n",
      "477/477 [==============================] - 0s 41us/step - loss: 0.0562 - acc: 0.3543 - val_loss: 0.0599 - val_acc: 0.2893\n",
      "Epoch 17/200\n",
      "477/477 [==============================] - 0s 51us/step - loss: 0.0559 - acc: 0.3522 - val_loss: 0.0602 - val_acc: 0.3019\n",
      "Epoch 18/200\n",
      "477/477 [==============================] - 0s 48us/step - loss: 0.0551 - acc: 0.3690 - val_loss: 0.0599 - val_acc: 0.2767\n",
      "Epoch 19/200\n",
      "477/477 [==============================] - 0s 45us/step - loss: 0.0545 - acc: 0.3690 - val_loss: 0.0592 - val_acc: 0.2956\n",
      "Epoch 20/200\n",
      "477/477 [==============================] - 0s 42us/step - loss: 0.0542 - acc: 0.3585 - val_loss: 0.0587 - val_acc: 0.3396\n",
      "Epoch 21/200\n",
      "477/477 [==============================] - 0s 40us/step - loss: 0.0536 - acc: 0.4046 - val_loss: 0.0586 - val_acc: 0.3522\n",
      "Epoch 22/200\n",
      "477/477 [==============================] - 0s 43us/step - loss: 0.0532 - acc: 0.4067 - val_loss: 0.0585 - val_acc: 0.3522\n",
      "Epoch 23/200\n",
      "477/477 [==============================] - 0s 37us/step - loss: 0.0524 - acc: 0.4193 - val_loss: 0.0579 - val_acc: 0.3899\n",
      "Epoch 24/200\n",
      "477/477 [==============================] - 0s 37us/step - loss: 0.0520 - acc: 0.4319 - val_loss: 0.0577 - val_acc: 0.3899\n",
      "Epoch 25/200\n",
      "477/477 [==============================] - 0s 49us/step - loss: 0.0514 - acc: 0.4361 - val_loss: 0.0569 - val_acc: 0.4151\n",
      "Epoch 26/200\n",
      "477/477 [==============================] - 0s 37us/step - loss: 0.0511 - acc: 0.4486 - val_loss: 0.0570 - val_acc: 0.3899\n",
      "Epoch 27/200\n",
      "477/477 [==============================] - 0s 47us/step - loss: 0.0506 - acc: 0.4528 - val_loss: 0.0566 - val_acc: 0.3899\n",
      "Epoch 28/200\n",
      "477/477 [==============================] - 0s 35us/step - loss: 0.0502 - acc: 0.4444 - val_loss: 0.0559 - val_acc: 0.4465\n",
      "Epoch 29/200\n",
      "477/477 [==============================] - 0s 41us/step - loss: 0.0497 - acc: 0.4675 - val_loss: 0.0562 - val_acc: 0.4214\n",
      "Epoch 30/200\n",
      "477/477 [==============================] - 0s 38us/step - loss: 0.0493 - acc: 0.4612 - val_loss: 0.0557 - val_acc: 0.4214\n",
      "Epoch 31/200\n",
      "477/477 [==============================] - 0s 34us/step - loss: 0.0489 - acc: 0.4864 - val_loss: 0.0550 - val_acc: 0.4591\n",
      "Epoch 32/200\n",
      "477/477 [==============================] - 0s 44us/step - loss: 0.0486 - acc: 0.4801 - val_loss: 0.0555 - val_acc: 0.3899\n",
      "Epoch 33/200\n",
      "477/477 [==============================] - 0s 34us/step - loss: 0.0483 - acc: 0.4822 - val_loss: 0.0550 - val_acc: 0.3962\n",
      "Epoch 34/200\n",
      "477/477 [==============================] - 0s 41us/step - loss: 0.0476 - acc: 0.4927 - val_loss: 0.0542 - val_acc: 0.4528\n",
      "Epoch 35/200\n",
      "477/477 [==============================] - 0s 37us/step - loss: 0.0476 - acc: 0.4927 - val_loss: 0.0543 - val_acc: 0.4151\n",
      "Epoch 36/200\n",
      "477/477 [==============================] - 0s 39us/step - loss: 0.0472 - acc: 0.5073 - val_loss: 0.0548 - val_acc: 0.3962\n",
      "Epoch 37/200\n",
      "477/477 [==============================] - 0s 39us/step - loss: 0.0468 - acc: 0.5178 - val_loss: 0.0544 - val_acc: 0.4088\n",
      "Epoch 38/200\n",
      "477/477 [==============================] - 0s 34us/step - loss: 0.0469 - acc: 0.4948 - val_loss: 0.0541 - val_acc: 0.4151\n",
      "Epoch 39/200\n",
      "477/477 [==============================] - 0s 42us/step - loss: 0.0467 - acc: 0.5052 - val_loss: 0.0544 - val_acc: 0.4214\n",
      "Epoch 40/200\n",
      "477/477 [==============================] - 0s 38us/step - loss: 0.0465 - acc: 0.5220 - val_loss: 0.0542 - val_acc: 0.4088\n",
      "Epoch 41/200\n",
      "477/477 [==============================] - 0s 34us/step - loss: 0.0464 - acc: 0.5157 - val_loss: 0.0529 - val_acc: 0.4591\n",
      "Epoch 42/200\n",
      "477/477 [==============================] - 0s 43us/step - loss: 0.0459 - acc: 0.5304 - val_loss: 0.0536 - val_acc: 0.4403\n",
      "Epoch 43/200\n",
      "477/477 [==============================] - 0s 37us/step - loss: 0.0460 - acc: 0.4948 - val_loss: 0.0542 - val_acc: 0.3836\n",
      "Epoch 44/200\n",
      "477/477 [==============================] - 0s 37us/step - loss: 0.0458 - acc: 0.5325 - val_loss: 0.0536 - val_acc: 0.4340\n",
      "Epoch 45/200\n",
      "477/477 [==============================] - 0s 40us/step - loss: 0.0454 - acc: 0.5094 - val_loss: 0.0520 - val_acc: 0.4654\n",
      "Epoch 46/200\n",
      "477/477 [==============================] - 0s 36us/step - loss: 0.0449 - acc: 0.5178 - val_loss: 0.0539 - val_acc: 0.4088\n",
      "Epoch 47/200\n",
      "477/477 [==============================] - 0s 43us/step - loss: 0.0445 - acc: 0.5304 - val_loss: 0.0527 - val_acc: 0.4528\n",
      "Epoch 48/200\n",
      "477/477 [==============================] - 0s 41us/step - loss: 0.0443 - acc: 0.5262 - val_loss: 0.0521 - val_acc: 0.4528\n",
      "Epoch 49/200\n",
      "477/477 [==============================] - 0s 32us/step - loss: 0.0443 - acc: 0.5430 - val_loss: 0.0533 - val_acc: 0.4088\n",
      "Epoch 50/200\n",
      "477/477 [==============================] - 0s 51us/step - loss: 0.0439 - acc: 0.5472 - val_loss: 0.0524 - val_acc: 0.4465\n",
      "Epoch 51/200\n",
      "477/477 [==============================] - 0s 47us/step - loss: 0.0437 - acc: 0.5367 - val_loss: 0.0524 - val_acc: 0.4717\n",
      "Epoch 52/200\n",
      "477/477 [==============================] - 0s 36us/step - loss: 0.0436 - acc: 0.5409 - val_loss: 0.0527 - val_acc: 0.4340\n",
      "Epoch 53/200\n",
      "477/477 [==============================] - 0s 43us/step - loss: 0.0433 - acc: 0.5514 - val_loss: 0.0517 - val_acc: 0.4591\n",
      "Epoch 54/200\n",
      "477/477 [==============================] - 0s 41us/step - loss: 0.0434 - acc: 0.5493 - val_loss: 0.0526 - val_acc: 0.4528\n",
      "Epoch 55/200\n",
      "477/477 [==============================] - 0s 48us/step - loss: 0.0431 - acc: 0.5472 - val_loss: 0.0527 - val_acc: 0.4340\n",
      "Epoch 56/200\n",
      "477/477 [==============================] - 0s 44us/step - loss: 0.0429 - acc: 0.5577 - val_loss: 0.0524 - val_acc: 0.4591\n",
      "Epoch 57/200\n",
      "477/477 [==============================] - 0s 47us/step - loss: 0.0427 - acc: 0.5639 - val_loss: 0.0528 - val_acc: 0.4465\n",
      "Epoch 58/200\n",
      "477/477 [==============================] - 0s 45us/step - loss: 0.0422 - acc: 0.5723 - val_loss: 0.0530 - val_acc: 0.4277\n",
      "Epoch 59/200\n",
      "477/477 [==============================] - 0s 41us/step - loss: 0.0420 - acc: 0.5597 - val_loss: 0.0518 - val_acc: 0.4591\n",
      "Epoch 60/200\n",
      "477/477 [==============================] - 0s 45us/step - loss: 0.0420 - acc: 0.5597 - val_loss: 0.0523 - val_acc: 0.4465\n",
      "Epoch 61/200\n",
      "477/477 [==============================] - 0s 41us/step - loss: 0.0412 - acc: 0.5996 - val_loss: 0.0517 - val_acc: 0.4717\n",
      "Epoch 62/200\n",
      "477/477 [==============================] - 0s 45us/step - loss: 0.0413 - acc: 0.5891 - val_loss: 0.0513 - val_acc: 0.4591\n",
      "Epoch 63/200\n",
      "477/477 [==============================] - 0s 43us/step - loss: 0.0413 - acc: 0.5807 - val_loss: 0.0523 - val_acc: 0.4591\n",
      "Epoch 64/200\n",
      "477/477 [==============================] - 0s 43us/step - loss: 0.0410 - acc: 0.5828 - val_loss: 0.0519 - val_acc: 0.4528\n",
      "Epoch 65/200\n",
      "477/477 [==============================] - 0s 46us/step - loss: 0.0406 - acc: 0.5870 - val_loss: 0.0518 - val_acc: 0.4528\n",
      "Epoch 66/200\n",
      "477/477 [==============================] - 0s 42us/step - loss: 0.0407 - acc: 0.5975 - val_loss: 0.0511 - val_acc: 0.4717\n",
      "Epoch 67/200\n",
      "477/477 [==============================] - 0s 39us/step - loss: 0.0404 - acc: 0.5996 - val_loss: 0.0523 - val_acc: 0.4403\n",
      "Epoch 68/200\n",
      "477/477 [==============================] - 0s 40us/step - loss: 0.0403 - acc: 0.6038 - val_loss: 0.0508 - val_acc: 0.4780\n",
      "Epoch 69/200\n",
      "477/477 [==============================] - 0s 39us/step - loss: 0.0400 - acc: 0.6017 - val_loss: 0.0517 - val_acc: 0.4717\n",
      "Epoch 70/200\n",
      "477/477 [==============================] - 0s 42us/step - loss: 0.0397 - acc: 0.6164 - val_loss: 0.0513 - val_acc: 0.4780\n",
      "Epoch 71/200\n",
      "477/477 [==============================] - 0s 45us/step - loss: 0.0392 - acc: 0.6373 - val_loss: 0.0512 - val_acc: 0.4654\n",
      "Epoch 72/200\n",
      "477/477 [==============================] - 0s 44us/step - loss: 0.0393 - acc: 0.6226 - val_loss: 0.0509 - val_acc: 0.4654\n",
      "Epoch 73/200\n",
      "477/477 [==============================] - 0s 37us/step - loss: 0.0388 - acc: 0.6143 - val_loss: 0.0513 - val_acc: 0.4528\n",
      "Epoch 74/200\n",
      "477/477 [==============================] - 0s 42us/step - loss: 0.0389 - acc: 0.6373 - val_loss: 0.0510 - val_acc: 0.4780\n",
      "Epoch 75/200\n",
      "477/477 [==============================] - 0s 43us/step - loss: 0.0385 - acc: 0.6310 - val_loss: 0.0513 - val_acc: 0.4591\n",
      "Epoch 76/200\n",
      "477/477 [==============================] - 0s 43us/step - loss: 0.0387 - acc: 0.6122 - val_loss: 0.0514 - val_acc: 0.4717\n",
      "Epoch 77/200\n",
      "477/477 [==============================] - 0s 48us/step - loss: 0.0385 - acc: 0.6436 - val_loss: 0.0512 - val_acc: 0.4780\n",
      "Epoch 78/200\n",
      "477/477 [==============================] - 0s 41us/step - loss: 0.0385 - acc: 0.6205 - val_loss: 0.0514 - val_acc: 0.4780\n",
      "Epoch 79/200\n",
      "477/477 [==============================] - 0s 49us/step - loss: 0.0379 - acc: 0.6373 - val_loss: 0.0511 - val_acc: 0.4654\n",
      "Epoch 80/200\n",
      "477/477 [==============================] - 0s 43us/step - loss: 0.0378 - acc: 0.6478 - val_loss: 0.0507 - val_acc: 0.4969\n",
      "Epoch 81/200\n",
      "477/477 [==============================] - 0s 45us/step - loss: 0.0376 - acc: 0.6394 - val_loss: 0.0506 - val_acc: 0.4906\n",
      "Epoch 82/200\n",
      "477/477 [==============================] - 0s 49us/step - loss: 0.0376 - acc: 0.6520 - val_loss: 0.0520 - val_acc: 0.4403\n",
      "Epoch 83/200\n",
      "477/477 [==============================] - 0s 41us/step - loss: 0.0377 - acc: 0.6352 - val_loss: 0.0508 - val_acc: 0.4717\n",
      "Epoch 84/200\n",
      "477/477 [==============================] - 0s 44us/step - loss: 0.0375 - acc: 0.6478 - val_loss: 0.0500 - val_acc: 0.5157\n",
      "Epoch 85/200\n",
      "477/477 [==============================] - 0s 40us/step - loss: 0.0368 - acc: 0.6541 - val_loss: 0.0515 - val_acc: 0.4528\n",
      "Epoch 86/200\n",
      "477/477 [==============================] - 0s 43us/step - loss: 0.0371 - acc: 0.6499 - val_loss: 0.0511 - val_acc: 0.4780\n",
      "Epoch 87/200\n",
      "477/477 [==============================] - 0s 44us/step - loss: 0.0368 - acc: 0.6394 - val_loss: 0.0511 - val_acc: 0.5094\n",
      "Epoch 88/200\n",
      "477/477 [==============================] - 0s 40us/step - loss: 0.0369 - acc: 0.6415 - val_loss: 0.0504 - val_acc: 0.4780\n",
      "Epoch 89/200\n",
      "477/477 [==============================] - 0s 45us/step - loss: 0.0367 - acc: 0.6667 - val_loss: 0.0516 - val_acc: 0.4403\n",
      "Epoch 90/200\n",
      "477/477 [==============================] - 0s 42us/step - loss: 0.0365 - acc: 0.6415 - val_loss: 0.0511 - val_acc: 0.4843\n",
      "Epoch 91/200\n",
      "477/477 [==============================] - 0s 43us/step - loss: 0.0370 - acc: 0.6415 - val_loss: 0.0503 - val_acc: 0.4780\n",
      "Epoch 92/200\n",
      "477/477 [==============================] - 0s 43us/step - loss: 0.0366 - acc: 0.6583 - val_loss: 0.0522 - val_acc: 0.4591\n",
      "Epoch 93/200\n",
      "477/477 [==============================] - 0s 45us/step - loss: 0.0367 - acc: 0.6373 - val_loss: 0.0508 - val_acc: 0.4780\n",
      "Epoch 94/200\n",
      "477/477 [==============================] - 0s 41us/step - loss: 0.0360 - acc: 0.6478 - val_loss: 0.0506 - val_acc: 0.5220\n",
      "Epoch 95/200\n",
      "477/477 [==============================] - 0s 44us/step - loss: 0.0360 - acc: 0.6730 - val_loss: 0.0514 - val_acc: 0.4843\n",
      "Epoch 96/200\n",
      "477/477 [==============================] - 0s 41us/step - loss: 0.0354 - acc: 0.6646 - val_loss: 0.0509 - val_acc: 0.4906\n",
      "Epoch 97/200\n",
      "477/477 [==============================] - 0s 50us/step - loss: 0.0355 - acc: 0.6562 - val_loss: 0.0508 - val_acc: 0.4654\n",
      "Epoch 98/200\n",
      "477/477 [==============================] - 0s 46us/step - loss: 0.0353 - acc: 0.6604 - val_loss: 0.0506 - val_acc: 0.4717\n",
      "Epoch 99/200\n",
      "477/477 [==============================] - 0s 47us/step - loss: 0.0349 - acc: 0.6625 - val_loss: 0.0505 - val_acc: 0.4780\n",
      "Epoch 100/200\n",
      "477/477 [==============================] - 0s 47us/step - loss: 0.0350 - acc: 0.6562 - val_loss: 0.0507 - val_acc: 0.5094\n",
      "Epoch 101/200\n",
      "477/477 [==============================] - 0s 38us/step - loss: 0.0349 - acc: 0.6688 - val_loss: 0.0505 - val_acc: 0.4843\n",
      "Epoch 102/200\n",
      "477/477 [==============================] - 0s 43us/step - loss: 0.0349 - acc: 0.6792 - val_loss: 0.0499 - val_acc: 0.5157\n",
      "Epoch 103/200\n",
      "477/477 [==============================] - 0s 46us/step - loss: 0.0346 - acc: 0.6688 - val_loss: 0.0520 - val_acc: 0.4717\n",
      "Epoch 104/200\n",
      "477/477 [==============================] - 0s 41us/step - loss: 0.0356 - acc: 0.6499 - val_loss: 0.0500 - val_acc: 0.5031\n",
      "Epoch 105/200\n",
      "477/477 [==============================] - 0s 45us/step - loss: 0.0349 - acc: 0.6562 - val_loss: 0.0515 - val_acc: 0.4717\n",
      "Epoch 106/200\n",
      "477/477 [==============================] - 0s 47us/step - loss: 0.0350 - acc: 0.6625 - val_loss: 0.0506 - val_acc: 0.4591\n",
      "Epoch 107/200\n",
      "477/477 [==============================] - 0s 44us/step - loss: 0.0346 - acc: 0.6583 - val_loss: 0.0505 - val_acc: 0.4906\n",
      "Epoch 108/200\n",
      "477/477 [==============================] - 0s 38us/step - loss: 0.0344 - acc: 0.6730 - val_loss: 0.0502 - val_acc: 0.4969\n",
      "Epoch 109/200\n",
      "477/477 [==============================] - 0s 41us/step - loss: 0.0342 - acc: 0.6918 - val_loss: 0.0510 - val_acc: 0.4717\n",
      "Epoch 110/200\n",
      "477/477 [==============================] - 0s 45us/step - loss: 0.0341 - acc: 0.6792 - val_loss: 0.0495 - val_acc: 0.5157\n",
      "Epoch 111/200\n",
      "477/477 [==============================] - 0s 48us/step - loss: 0.0338 - acc: 0.6855 - val_loss: 0.0497 - val_acc: 0.5094\n",
      "Epoch 112/200\n",
      "477/477 [==============================] - 0s 42us/step - loss: 0.0337 - acc: 0.6960 - val_loss: 0.0506 - val_acc: 0.4780\n",
      "Epoch 113/200\n",
      "477/477 [==============================] - 0s 37us/step - loss: 0.0336 - acc: 0.6918 - val_loss: 0.0500 - val_acc: 0.4906\n",
      "Epoch 114/200\n",
      "477/477 [==============================] - 0s 42us/step - loss: 0.0336 - acc: 0.6897 - val_loss: 0.0496 - val_acc: 0.5346\n",
      "Epoch 115/200\n",
      "477/477 [==============================] - 0s 41us/step - loss: 0.0333 - acc: 0.6876 - val_loss: 0.0500 - val_acc: 0.4906\n",
      "Epoch 116/200\n",
      "477/477 [==============================] - 0s 46us/step - loss: 0.0334 - acc: 0.7023 - val_loss: 0.0500 - val_acc: 0.4780\n",
      "Epoch 117/200\n",
      "477/477 [==============================] - 0s 40us/step - loss: 0.0332 - acc: 0.6960 - val_loss: 0.0503 - val_acc: 0.5157\n",
      "Epoch 118/200\n",
      "477/477 [==============================] - 0s 45us/step - loss: 0.0335 - acc: 0.6960 - val_loss: 0.0503 - val_acc: 0.4843\n",
      "Epoch 119/200\n",
      "477/477 [==============================] - 0s 44us/step - loss: 0.0334 - acc: 0.6855 - val_loss: 0.0504 - val_acc: 0.4780\n",
      "Epoch 120/200\n",
      "477/477 [==============================] - 0s 39us/step - loss: 0.0332 - acc: 0.6834 - val_loss: 0.0489 - val_acc: 0.5346\n",
      "Epoch 121/200\n"
     ]
    },
    {
     "name": "stdout",
     "output_type": "stream",
     "text": [
      "477/477 [==============================] - 0s 44us/step - loss: 0.0330 - acc: 0.7002 - val_loss: 0.0496 - val_acc: 0.4906\n",
      "Epoch 122/200\n",
      "477/477 [==============================] - 0s 38us/step - loss: 0.0333 - acc: 0.6792 - val_loss: 0.0507 - val_acc: 0.4717\n",
      "Epoch 123/200\n",
      "477/477 [==============================] - 0s 49us/step - loss: 0.0329 - acc: 0.6918 - val_loss: 0.0488 - val_acc: 0.5409\n",
      "Epoch 124/200\n",
      "477/477 [==============================] - 0s 41us/step - loss: 0.0330 - acc: 0.6960 - val_loss: 0.0497 - val_acc: 0.4969\n",
      "Epoch 125/200\n",
      "477/477 [==============================] - 0s 45us/step - loss: 0.0331 - acc: 0.6918 - val_loss: 0.0497 - val_acc: 0.5094\n",
      "Epoch 126/200\n",
      "477/477 [==============================] - 0s 48us/step - loss: 0.0327 - acc: 0.7107 - val_loss: 0.0489 - val_acc: 0.5346\n",
      "Epoch 127/200\n",
      "477/477 [==============================] - 0s 45us/step - loss: 0.0329 - acc: 0.6939 - val_loss: 0.0499 - val_acc: 0.5157\n",
      "Epoch 128/200\n",
      "477/477 [==============================] - 0s 47us/step - loss: 0.0326 - acc: 0.7107 - val_loss: 0.0491 - val_acc: 0.5220\n",
      "Epoch 129/200\n",
      "477/477 [==============================] - 0s 45us/step - loss: 0.0335 - acc: 0.6960 - val_loss: 0.0515 - val_acc: 0.4780\n",
      "Epoch 130/200\n",
      "477/477 [==============================] - 0s 36us/step - loss: 0.0333 - acc: 0.6876 - val_loss: 0.0513 - val_acc: 0.5031\n",
      "Epoch 131/200\n",
      "477/477 [==============================] - 0s 44us/step - loss: 0.0330 - acc: 0.6981 - val_loss: 0.0495 - val_acc: 0.5157\n",
      "Epoch 132/200\n",
      "477/477 [==============================] - 0s 45us/step - loss: 0.0330 - acc: 0.7086 - val_loss: 0.0498 - val_acc: 0.4969\n",
      "Epoch 133/200\n",
      "477/477 [==============================] - 0s 39us/step - loss: 0.0322 - acc: 0.7086 - val_loss: 0.0497 - val_acc: 0.5157\n",
      "Epoch 134/200\n",
      "477/477 [==============================] - 0s 47us/step - loss: 0.0318 - acc: 0.7212 - val_loss: 0.0490 - val_acc: 0.5157\n",
      "Epoch 135/200\n",
      "477/477 [==============================] - 0s 41us/step - loss: 0.0319 - acc: 0.7296 - val_loss: 0.0492 - val_acc: 0.5157\n",
      "Epoch 136/200\n",
      "477/477 [==============================] - 0s 46us/step - loss: 0.0315 - acc: 0.7086 - val_loss: 0.0495 - val_acc: 0.5157\n",
      "Epoch 137/200\n",
      "477/477 [==============================] - 0s 47us/step - loss: 0.0317 - acc: 0.7191 - val_loss: 0.0487 - val_acc: 0.5409\n",
      "Epoch 138/200\n",
      "477/477 [==============================] - 0s 50us/step - loss: 0.0313 - acc: 0.7149 - val_loss: 0.0485 - val_acc: 0.5409\n",
      "Epoch 139/200\n",
      "477/477 [==============================] - 0s 48us/step - loss: 0.0316 - acc: 0.7086 - val_loss: 0.0498 - val_acc: 0.4969\n",
      "Epoch 140/200\n",
      "477/477 [==============================] - 0s 44us/step - loss: 0.0315 - acc: 0.7191 - val_loss: 0.0490 - val_acc: 0.5472\n",
      "Epoch 141/200\n",
      "477/477 [==============================] - 0s 53us/step - loss: 0.0315 - acc: 0.7233 - val_loss: 0.0494 - val_acc: 0.5346\n",
      "Epoch 142/200\n",
      "477/477 [==============================] - 0s 47us/step - loss: 0.0315 - acc: 0.7023 - val_loss: 0.0496 - val_acc: 0.5157\n",
      "Epoch 143/200\n",
      "477/477 [==============================] - 0s 53us/step - loss: 0.0311 - acc: 0.7191 - val_loss: 0.0491 - val_acc: 0.5157\n",
      "Epoch 144/200\n",
      "477/477 [==============================] - 0s 49us/step - loss: 0.0314 - acc: 0.7149 - val_loss: 0.0488 - val_acc: 0.5094\n",
      "Epoch 145/200\n",
      "477/477 [==============================] - 0s 48us/step - loss: 0.0313 - acc: 0.7107 - val_loss: 0.0491 - val_acc: 0.5283\n",
      "Epoch 146/200\n",
      "477/477 [==============================] - 0s 44us/step - loss: 0.0310 - acc: 0.7128 - val_loss: 0.0487 - val_acc: 0.5346\n",
      "Epoch 147/200\n",
      "477/477 [==============================] - 0s 52us/step - loss: 0.0312 - acc: 0.7379 - val_loss: 0.0508 - val_acc: 0.4780\n",
      "Epoch 148/200\n",
      "477/477 [==============================] - 0s 41us/step - loss: 0.0312 - acc: 0.7086 - val_loss: 0.0496 - val_acc: 0.5283\n",
      "Epoch 149/200\n",
      "477/477 [==============================] - 0s 46us/step - loss: 0.0310 - acc: 0.7170 - val_loss: 0.0489 - val_acc: 0.5283\n",
      "Epoch 150/200\n",
      "477/477 [==============================] - 0s 47us/step - loss: 0.0311 - acc: 0.7317 - val_loss: 0.0494 - val_acc: 0.5031\n",
      "Epoch 151/200\n",
      "477/477 [==============================] - 0s 46us/step - loss: 0.0305 - acc: 0.7296 - val_loss: 0.0492 - val_acc: 0.5283\n",
      "Epoch 152/200\n",
      "477/477 [==============================] - 0s 47us/step - loss: 0.0303 - acc: 0.7233 - val_loss: 0.0486 - val_acc: 0.5346\n",
      "Epoch 153/200\n",
      "477/477 [==============================] - 0s 49us/step - loss: 0.0303 - acc: 0.7358 - val_loss: 0.0491 - val_acc: 0.5157\n",
      "Epoch 154/200\n",
      "477/477 [==============================] - 0s 51us/step - loss: 0.0300 - acc: 0.7275 - val_loss: 0.0490 - val_acc: 0.5283\n",
      "Epoch 155/200\n",
      "477/477 [==============================] - 0s 44us/step - loss: 0.0303 - acc: 0.7358 - val_loss: 0.0482 - val_acc: 0.5409\n",
      "Epoch 156/200\n",
      "477/477 [==============================] - 0s 49us/step - loss: 0.0302 - acc: 0.7275 - val_loss: 0.0494 - val_acc: 0.4969\n",
      "Epoch 157/200\n",
      "477/477 [==============================] - 0s 43us/step - loss: 0.0304 - acc: 0.7149 - val_loss: 0.0484 - val_acc: 0.5472\n",
      "Epoch 158/200\n",
      "477/477 [==============================] - 0s 47us/step - loss: 0.0303 - acc: 0.7338 - val_loss: 0.0480 - val_acc: 0.5409\n",
      "Epoch 159/200\n",
      "477/477 [==============================] - 0s 49us/step - loss: 0.0297 - acc: 0.7442 - val_loss: 0.0497 - val_acc: 0.5346\n",
      "Epoch 160/200\n",
      "477/477 [==============================] - 0s 46us/step - loss: 0.0296 - acc: 0.7379 - val_loss: 0.0487 - val_acc: 0.5346\n",
      "Epoch 161/200\n",
      "477/477 [==============================] - 0s 51us/step - loss: 0.0298 - acc: 0.7379 - val_loss: 0.0479 - val_acc: 0.5472\n",
      "Epoch 162/200\n",
      "477/477 [==============================] - 0s 47us/step - loss: 0.0297 - acc: 0.7275 - val_loss: 0.0503 - val_acc: 0.4906\n",
      "Epoch 163/200\n",
      "477/477 [==============================] - 0s 45us/step - loss: 0.0299 - acc: 0.7233 - val_loss: 0.0483 - val_acc: 0.5346\n",
      "Epoch 164/200\n",
      "477/477 [==============================] - 0s 47us/step - loss: 0.0303 - acc: 0.7442 - val_loss: 0.0491 - val_acc: 0.5409\n",
      "Epoch 165/200\n",
      "477/477 [==============================] - 0s 42us/step - loss: 0.0299 - acc: 0.7358 - val_loss: 0.0485 - val_acc: 0.5220\n",
      "Epoch 166/200\n",
      "477/477 [==============================] - 0s 47us/step - loss: 0.0295 - acc: 0.7400 - val_loss: 0.0487 - val_acc: 0.5157\n",
      "Epoch 167/200\n",
      "477/477 [==============================] - 0s 52us/step - loss: 0.0296 - acc: 0.7400 - val_loss: 0.0484 - val_acc: 0.5094\n",
      "Epoch 168/200\n",
      "477/477 [==============================] - 0s 47us/step - loss: 0.0293 - acc: 0.7400 - val_loss: 0.0486 - val_acc: 0.5535\n",
      "Epoch 169/200\n",
      "477/477 [==============================] - 0s 50us/step - loss: 0.0290 - acc: 0.7421 - val_loss: 0.0497 - val_acc: 0.5157\n",
      "Epoch 170/200\n",
      "477/477 [==============================] - 0s 40us/step - loss: 0.0296 - acc: 0.7317 - val_loss: 0.0483 - val_acc: 0.5346\n",
      "Epoch 171/200\n",
      "477/477 [==============================] - 0s 48us/step - loss: 0.0291 - acc: 0.7484 - val_loss: 0.0476 - val_acc: 0.5535\n",
      "Epoch 172/200\n",
      "477/477 [==============================] - 0s 44us/step - loss: 0.0293 - acc: 0.7484 - val_loss: 0.0495 - val_acc: 0.5094\n",
      "Epoch 173/200\n",
      "477/477 [==============================] - 0s 40us/step - loss: 0.0294 - acc: 0.7379 - val_loss: 0.0488 - val_acc: 0.5157\n",
      "Epoch 174/200\n",
      "477/477 [==============================] - 0s 44us/step - loss: 0.0288 - acc: 0.7505 - val_loss: 0.0479 - val_acc: 0.5472\n",
      "Epoch 175/200\n",
      "477/477 [==============================] - 0s 45us/step - loss: 0.0292 - acc: 0.7400 - val_loss: 0.0491 - val_acc: 0.5157\n",
      "Epoch 176/200\n",
      "477/477 [==============================] - 0s 46us/step - loss: 0.0286 - acc: 0.7631 - val_loss: 0.0483 - val_acc: 0.5472\n",
      "Epoch 177/200\n",
      "477/477 [==============================] - 0s 48us/step - loss: 0.0296 - acc: 0.7421 - val_loss: 0.0502 - val_acc: 0.5031\n",
      "Epoch 178/200\n",
      "477/477 [==============================] - 0s 45us/step - loss: 0.0296 - acc: 0.7421 - val_loss: 0.0481 - val_acc: 0.5283\n",
      "Epoch 179/200\n",
      "477/477 [==============================] - 0s 41us/step - loss: 0.0290 - acc: 0.7421 - val_loss: 0.0475 - val_acc: 0.5597\n",
      "Epoch 180/200\n",
      "477/477 [==============================] - 0s 48us/step - loss: 0.0287 - acc: 0.7526 - val_loss: 0.0487 - val_acc: 0.5157\n",
      "Epoch 181/200\n",
      "477/477 [==============================] - 0s 44us/step - loss: 0.0283 - acc: 0.7526 - val_loss: 0.0484 - val_acc: 0.5597\n",
      "Epoch 182/200\n",
      "477/477 [==============================] - 0s 47us/step - loss: 0.0289 - acc: 0.7442 - val_loss: 0.0475 - val_acc: 0.5723\n",
      "Epoch 183/200\n",
      "477/477 [==============================] - 0s 40us/step - loss: 0.0284 - acc: 0.7715 - val_loss: 0.0494 - val_acc: 0.5031\n",
      "Epoch 184/200\n",
      "477/477 [==============================] - 0s 51us/step - loss: 0.0286 - acc: 0.7442 - val_loss: 0.0484 - val_acc: 0.5346\n",
      "Epoch 185/200\n",
      "477/477 [==============================] - 0s 54us/step - loss: 0.0279 - acc: 0.7526 - val_loss: 0.0471 - val_acc: 0.5660\n",
      "Epoch 186/200\n",
      "477/477 [==============================] - 0s 45us/step - loss: 0.0278 - acc: 0.7610 - val_loss: 0.0483 - val_acc: 0.5346\n",
      "Epoch 187/200\n",
      "477/477 [==============================] - 0s 46us/step - loss: 0.0278 - acc: 0.7673 - val_loss: 0.0485 - val_acc: 0.5346\n",
      "Epoch 188/200\n",
      "477/477 [==============================] - 0s 54us/step - loss: 0.0275 - acc: 0.7652 - val_loss: 0.0476 - val_acc: 0.5535\n",
      "Epoch 189/200\n",
      "477/477 [==============================] - 0s 50us/step - loss: 0.0277 - acc: 0.7568 - val_loss: 0.0481 - val_acc: 0.5535\n",
      "Epoch 190/200\n",
      "477/477 [==============================] - 0s 46us/step - loss: 0.0275 - acc: 0.7652 - val_loss: 0.0473 - val_acc: 0.5535\n",
      "Epoch 191/200\n",
      "477/477 [==============================] - 0s 46us/step - loss: 0.0279 - acc: 0.7631 - val_loss: 0.0480 - val_acc: 0.5220\n",
      "Epoch 192/200\n",
      "477/477 [==============================] - 0s 56us/step - loss: 0.0276 - acc: 0.7568 - val_loss: 0.0483 - val_acc: 0.5535\n",
      "Epoch 193/200\n",
      "477/477 [==============================] - 0s 42us/step - loss: 0.0275 - acc: 0.7568 - val_loss: 0.0480 - val_acc: 0.5472\n",
      "Epoch 194/200\n",
      "477/477 [==============================] - 0s 49us/step - loss: 0.0273 - acc: 0.7736 - val_loss: 0.0478 - val_acc: 0.5283\n",
      "Epoch 195/200\n",
      "477/477 [==============================] - 0s 51us/step - loss: 0.0275 - acc: 0.7652 - val_loss: 0.0468 - val_acc: 0.5723\n",
      "Epoch 196/200\n",
      "477/477 [==============================] - 0s 40us/step - loss: 0.0272 - acc: 0.7757 - val_loss: 0.0488 - val_acc: 0.5157\n",
      "Epoch 197/200\n",
      "477/477 [==============================] - 0s 50us/step - loss: 0.0272 - acc: 0.7589 - val_loss: 0.0479 - val_acc: 0.5597\n",
      "Epoch 198/200\n",
      "477/477 [==============================] - 0s 47us/step - loss: 0.0275 - acc: 0.7652 - val_loss: 0.0467 - val_acc: 0.5786\n",
      "Epoch 199/200\n",
      "477/477 [==============================] - 0s 44us/step - loss: 0.0271 - acc: 0.7694 - val_loss: 0.0479 - val_acc: 0.5597\n",
      "Epoch 200/200\n",
      "477/477 [==============================] - 0s 38us/step - loss: 0.0274 - acc: 0.7673 - val_loss: 0.0483 - val_acc: 0.5220\n"
     ]
    },
    {
     "data": {
      "text/plain": [
       "<keras.callbacks.History at 0x126db4d68>"
      ]
     },
     "execution_count": 106,
     "metadata": {},
     "output_type": "execute_result"
    }
   ],
   "source": [
    "model.fit(features_copy_train, labels_copy_train,epochs=200, batch_size=100, validation_data=(features_copy_test, labels_copy_test) )"
   ]
  },
  {
   "cell_type": "markdown",
   "metadata": {},
   "source": [
    "## The model is overfitting."
   ]
  },
  {
   "cell_type": "code",
   "execution_count": 46,
   "metadata": {},
   "outputs": [
    {
     "name": "stderr",
     "output_type": "stream",
     "text": [
      "/Library/Frameworks/Python.framework/Versions/3.6/lib/python3.6/site-packages/sklearn/utils/validation.py:475: DataConversionWarning: Data with input dtype int64 was converted to float64 by StandardScaler.\n",
      "  warnings.warn(msg, DataConversionWarning)\n"
     ]
    }
   ],
   "source": [
    "from sklearn.preprocessing import StandardScaler\n",
    "scaler = StandardScaler()\n",
    "scaled_features_train = scaler.fit_transform(features_copy_train)"
   ]
  },
  {
   "cell_type": "code",
   "execution_count": 47,
   "metadata": {},
   "outputs": [
    {
     "data": {
      "text/plain": [
       "array([[ 0.40455895, -1.44032478, -1.397596  , ..., -0.04583492,\n",
       "        -0.57977104, -0.58299883],\n",
       "       [-0.51436781,  1.08902605,  1.04323985, ..., -0.04583492,\n",
       "        -0.57977104, -0.58299883],\n",
       "       [ 0.40455895, -1.44032478,  0.43303089, ..., -0.04583492,\n",
       "        -0.57977104, -0.58299883],\n",
       "       ..., \n",
       "       [ 0.40455895,  0.14051949,  0.12792641, ..., -0.04583492,\n",
       "        -0.57977104,  1.7152693 ],\n",
       "       [-1.43329456,  0.7728572 ,  0.73813537, ..., -0.04583492,\n",
       "        -0.57977104, -0.58299883],\n",
       "       [ 1.93610354,  0.14051949,  0.12792641, ..., -0.04583492,\n",
       "        -0.57977104, -0.58299883]])"
      ]
     },
     "execution_count": 47,
     "metadata": {},
     "output_type": "execute_result"
    }
   ],
   "source": [
    "scaled_features_train"
   ]
  },
  {
   "cell_type": "code",
   "execution_count": 48,
   "metadata": {},
   "outputs": [
    {
     "name": "stdout",
     "output_type": "stream",
     "text": [
      "Epoch 1/100\n",
      "477/477 [==============================] - 0s 37us/step - loss: 11.1452 - acc: 0.0797\n",
      "Epoch 2/100\n",
      "477/477 [==============================] - 0s 34us/step - loss: 7.4658 - acc: 0.1342\n",
      "Epoch 3/100\n",
      "477/477 [==============================] - 0s 33us/step - loss: 5.0444 - acc: 0.2348\n",
      "Epoch 4/100\n",
      "477/477 [==============================] - 0s 35us/step - loss: 3.9800 - acc: 0.2704\n",
      "Epoch 5/100\n",
      "477/477 [==============================] - 0s 33us/step - loss: 3.4181 - acc: 0.2893\n",
      "Epoch 6/100\n",
      "477/477 [==============================] - 0s 34us/step - loss: 3.0252 - acc: 0.3187\n",
      "Epoch 7/100\n",
      "477/477 [==============================] - 0s 33us/step - loss: 2.6963 - acc: 0.3333\n",
      "Epoch 8/100\n",
      "477/477 [==============================] - 0s 35us/step - loss: 2.5453 - acc: 0.3249\n",
      "Epoch 9/100\n",
      "477/477 [==============================] - 0s 34us/step - loss: 2.3404 - acc: 0.3690\n",
      "Epoch 10/100\n",
      "477/477 [==============================] - 0s 36us/step - loss: 2.1892 - acc: 0.4067\n",
      "Epoch 11/100\n",
      "477/477 [==============================] - 0s 42us/step - loss: 2.1049 - acc: 0.4193\n",
      "Epoch 12/100\n",
      "477/477 [==============================] - 0s 34us/step - loss: 1.9745 - acc: 0.4277\n",
      "Epoch 13/100\n",
      "477/477 [==============================] - 0s 34us/step - loss: 1.9356 - acc: 0.4151\n",
      "Epoch 14/100\n",
      "477/477 [==============================] - 0s 35us/step - loss: 1.8231 - acc: 0.4675\n",
      "Epoch 15/100\n",
      "477/477 [==============================] - 0s 39us/step - loss: 1.7683 - acc: 0.4612\n",
      "Epoch 16/100\n",
      "477/477 [==============================] - 0s 31us/step - loss: 1.6695 - acc: 0.4675\n",
      "Epoch 17/100\n",
      "477/477 [==============================] - 0s 36us/step - loss: 1.6252 - acc: 0.5115\n",
      "Epoch 18/100\n",
      "477/477 [==============================] - 0s 35us/step - loss: 1.5901 - acc: 0.5052\n",
      "Epoch 19/100\n",
      "477/477 [==============================] - 0s 39us/step - loss: 1.5221 - acc: 0.5115\n",
      "Epoch 20/100\n",
      "477/477 [==============================] - 0s 31us/step - loss: 1.5028 - acc: 0.5052\n",
      "Epoch 21/100\n",
      "477/477 [==============================] - 0s 38us/step - loss: 1.4465 - acc: 0.5618\n",
      "Epoch 22/100\n",
      "477/477 [==============================] - 0s 36us/step - loss: 1.4133 - acc: 0.5493\n",
      "Epoch 23/100\n",
      "477/477 [==============================] - 0s 31us/step - loss: 1.4168 - acc: 0.5514\n",
      "Epoch 24/100\n",
      "477/477 [==============================] - 0s 37us/step - loss: 1.3863 - acc: 0.5283\n",
      "Epoch 25/100\n",
      "477/477 [==============================] - 0s 37us/step - loss: 1.3675 - acc: 0.5346\n",
      "Epoch 26/100\n",
      "477/477 [==============================] - 0s 37us/step - loss: 1.3893 - acc: 0.5514\n",
      "Epoch 27/100\n",
      "477/477 [==============================] - 0s 34us/step - loss: 1.2846 - acc: 0.5681\n",
      "Epoch 28/100\n",
      "477/477 [==============================] - 0s 32us/step - loss: 1.2665 - acc: 0.6080\n",
      "Epoch 29/100\n",
      "477/477 [==============================] - 0s 38us/step - loss: 1.2502 - acc: 0.6038\n",
      "Epoch 30/100\n",
      "477/477 [==============================] - 0s 31us/step - loss: 1.2952 - acc: 0.5409\n",
      "Epoch 31/100\n",
      "477/477 [==============================] - 0s 33us/step - loss: 1.2645 - acc: 0.5702\n",
      "Epoch 32/100\n",
      "477/477 [==============================] - 0s 42us/step - loss: 1.2466 - acc: 0.6122\n",
      "Epoch 33/100\n",
      "477/477 [==============================] - 0s 35us/step - loss: 1.1933 - acc: 0.6247\n",
      "Epoch 34/100\n",
      "477/477 [==============================] - 0s 34us/step - loss: 1.2048 - acc: 0.5975\n",
      "Epoch 35/100\n",
      "477/477 [==============================] - 0s 38us/step - loss: 1.1864 - acc: 0.6122\n",
      "Epoch 36/100\n",
      "477/477 [==============================] - 0s 36us/step - loss: 1.1908 - acc: 0.6184\n",
      "Epoch 37/100\n",
      "477/477 [==============================] - 0s 34us/step - loss: 1.1600 - acc: 0.6394\n",
      "Epoch 38/100\n",
      "477/477 [==============================] - 0s 30us/step - loss: 1.1748 - acc: 0.6122\n",
      "Epoch 39/100\n",
      "477/477 [==============================] - 0s 38us/step - loss: 1.1577 - acc: 0.6038\n",
      "Epoch 40/100\n",
      "477/477 [==============================] - 0s 39us/step - loss: 1.1516 - acc: 0.6205\n",
      "Epoch 41/100\n",
      "477/477 [==============================] - 0s 44us/step - loss: 1.1213 - acc: 0.6373\n",
      "Epoch 42/100\n",
      "477/477 [==============================] - 0s 39us/step - loss: 1.1162 - acc: 0.6457\n",
      "Epoch 43/100\n",
      "477/477 [==============================] - 0s 35us/step - loss: 1.1003 - acc: 0.6478\n",
      "Epoch 44/100\n",
      "477/477 [==============================] - 0s 47us/step - loss: 1.0876 - acc: 0.6478\n",
      "Epoch 45/100\n",
      "477/477 [==============================] - 0s 40us/step - loss: 1.1458 - acc: 0.6331\n",
      "Epoch 46/100\n",
      "477/477 [==============================] - 0s 44us/step - loss: 1.0981 - acc: 0.6583\n",
      "Epoch 47/100\n",
      "477/477 [==============================] - 0s 39us/step - loss: 1.1043 - acc: 0.6289\n",
      "Epoch 48/100\n",
      "477/477 [==============================] - 0s 39us/step - loss: 1.0742 - acc: 0.6771\n",
      "Epoch 49/100\n",
      "477/477 [==============================] - 0s 43us/step - loss: 1.0473 - acc: 0.6834\n",
      "Epoch 50/100\n",
      "477/477 [==============================] - 0s 37us/step - loss: 1.0728 - acc: 0.6541\n",
      "Epoch 51/100\n",
      "477/477 [==============================] - 0s 42us/step - loss: 1.0680 - acc: 0.6604\n",
      "Epoch 52/100\n",
      "477/477 [==============================] - 0s 38us/step - loss: 1.0451 - acc: 0.6583\n",
      "Epoch 53/100\n",
      "477/477 [==============================] - 0s 43us/step - loss: 1.0218 - acc: 0.6751\n",
      "Epoch 54/100\n",
      "477/477 [==============================] - 0s 36us/step - loss: 1.0550 - acc: 0.6625\n",
      "Epoch 55/100\n",
      "477/477 [==============================] - 0s 38us/step - loss: 1.0385 - acc: 0.6625\n",
      "Epoch 56/100\n",
      "477/477 [==============================] - 0s 46us/step - loss: 1.0141 - acc: 0.7002\n",
      "Epoch 57/100\n",
      "477/477 [==============================] - 0s 39us/step - loss: 1.0026 - acc: 0.6981\n",
      "Epoch 58/100\n",
      "477/477 [==============================] - 0s 40us/step - loss: 1.0469 - acc: 0.6646\n",
      "Epoch 59/100\n",
      "477/477 [==============================] - 0s 40us/step - loss: 0.9890 - acc: 0.7065\n",
      "Epoch 60/100\n",
      "477/477 [==============================] - 0s 43us/step - loss: 0.9732 - acc: 0.6834\n",
      "Epoch 61/100\n",
      "477/477 [==============================] - 0s 39us/step - loss: 0.9987 - acc: 0.6751\n",
      "Epoch 62/100\n",
      "477/477 [==============================] - 0s 44us/step - loss: 0.9759 - acc: 0.7212\n",
      "Epoch 63/100\n",
      "477/477 [==============================] - 0s 38us/step - loss: 0.9712 - acc: 0.6897\n",
      "Epoch 64/100\n",
      "477/477 [==============================] - 0s 47us/step - loss: 0.9702 - acc: 0.7107\n",
      "Epoch 65/100\n",
      "477/477 [==============================] - 0s 43us/step - loss: 0.9583 - acc: 0.7233\n",
      "Epoch 66/100\n",
      "477/477 [==============================] - 0s 36us/step - loss: 0.9833 - acc: 0.6897\n",
      "Epoch 67/100\n",
      "477/477 [==============================] - 0s 34us/step - loss: 0.9679 - acc: 0.7086\n",
      "Epoch 68/100\n",
      "477/477 [==============================] - 0s 38us/step - loss: 0.9279 - acc: 0.7358\n",
      "Epoch 69/100\n",
      "477/477 [==============================] - 0s 42us/step - loss: 0.9499 - acc: 0.7044\n",
      "Epoch 70/100\n",
      "477/477 [==============================] - 0s 45us/step - loss: 0.9474 - acc: 0.7275\n",
      "Epoch 71/100\n",
      "477/477 [==============================] - 0s 36us/step - loss: 0.9292 - acc: 0.7212\n",
      "Epoch 72/100\n",
      "477/477 [==============================] - 0s 38us/step - loss: 0.9422 - acc: 0.7023\n",
      "Epoch 73/100\n",
      "477/477 [==============================] - 0s 33us/step - loss: 0.9325 - acc: 0.7233\n",
      "Epoch 74/100\n",
      "477/477 [==============================] - 0s 35us/step - loss: 0.9358 - acc: 0.7275\n",
      "Epoch 75/100\n",
      "477/477 [==============================] - 0s 40us/step - loss: 0.8932 - acc: 0.7212\n",
      "Epoch 76/100\n",
      "477/477 [==============================] - 0s 53us/step - loss: 0.9029 - acc: 0.7275\n",
      "Epoch 77/100\n",
      "477/477 [==============================] - 0s 38us/step - loss: 0.8818 - acc: 0.7673\n",
      "Epoch 78/100\n",
      "477/477 [==============================] - 0s 41us/step - loss: 0.8907 - acc: 0.7421\n",
      "Epoch 79/100\n",
      "477/477 [==============================] - 0s 42us/step - loss: 0.8714 - acc: 0.7463\n",
      "Epoch 80/100\n",
      "477/477 [==============================] - 0s 40us/step - loss: 0.9372 - acc: 0.7191\n",
      "Epoch 81/100\n",
      "477/477 [==============================] - 0s 36us/step - loss: 0.8607 - acc: 0.7463\n",
      "Epoch 82/100\n",
      "477/477 [==============================] - 0s 37us/step - loss: 0.8763 - acc: 0.7484\n",
      "Epoch 83/100\n",
      "477/477 [==============================] - 0s 35us/step - loss: 0.8460 - acc: 0.7505\n",
      "Epoch 84/100\n",
      "477/477 [==============================] - 0s 35us/step - loss: 0.8689 - acc: 0.7568\n",
      "Epoch 85/100\n",
      "477/477 [==============================] - 0s 40us/step - loss: 0.8737 - acc: 0.7463\n",
      "Epoch 86/100\n",
      "477/477 [==============================] - 0s 35us/step - loss: 0.8861 - acc: 0.7275\n",
      "Epoch 87/100\n",
      "477/477 [==============================] - 0s 39us/step - loss: 0.8283 - acc: 0.7610\n",
      "Epoch 88/100\n",
      "477/477 [==============================] - 0s 49us/step - loss: 0.8371 - acc: 0.7547\n",
      "Epoch 89/100\n",
      "477/477 [==============================] - 0s 59us/step - loss: 0.8832 - acc: 0.7400\n",
      "Epoch 90/100\n",
      "477/477 [==============================] - 0s 45us/step - loss: 0.8037 - acc: 0.7862\n",
      "Epoch 91/100\n",
      "477/477 [==============================] - 0s 49us/step - loss: 0.8246 - acc: 0.7673\n",
      "Epoch 92/100\n",
      "477/477 [==============================] - 0s 41us/step - loss: 0.8217 - acc: 0.7652\n",
      "Epoch 93/100\n",
      "477/477 [==============================] - 0s 50us/step - loss: 0.8492 - acc: 0.7463\n",
      "Epoch 94/100\n",
      "477/477 [==============================] - 0s 45us/step - loss: 0.8375 - acc: 0.7673\n",
      "Epoch 95/100\n",
      "477/477 [==============================] - 0s 48us/step - loss: 0.7883 - acc: 0.7799\n",
      "Epoch 96/100\n",
      "477/477 [==============================] - 0s 45us/step - loss: 0.8046 - acc: 0.7694\n",
      "Epoch 97/100\n",
      "477/477 [==============================] - 0s 46us/step - loss: 0.8251 - acc: 0.7526\n",
      "Epoch 98/100\n",
      "477/477 [==============================] - 0s 40us/step - loss: 0.7818 - acc: 0.7778\n",
      "Epoch 99/100\n",
      "477/477 [==============================] - 0s 41us/step - loss: 0.7921 - acc: 0.7736\n",
      "Epoch 100/100\n",
      "477/477 [==============================] - 0s 41us/step - loss: 0.7620 - acc: 0.7820\n"
     ]
    },
    {
     "data": {
      "text/plain": [
       "<keras.callbacks.History at 0x1240c05f8>"
      ]
     },
     "execution_count": 48,
     "metadata": {},
     "output_type": "execute_result"
    }
   ],
   "source": [
    "model.fit(scaled_features_train, labels_copy_train, epochs=100, batch_size=100)"
   ]
  },
  {
   "cell_type": "code",
   "execution_count": 56,
   "metadata": {},
   "outputs": [
    {
     "name": "stdout",
     "output_type": "stream",
     "text": [
      "159/159 [==============================] - 0s 74us/step\n"
     ]
    },
    {
     "data": {
      "text/plain": [
       "[15.366900869885331, 0.037735848869167782]"
      ]
     },
     "execution_count": 56,
     "metadata": {},
     "output_type": "execute_result"
    }
   ],
   "source": [
    "model.evaluate(features_copy_test, labels_copy_test)"
   ]
  },
  {
   "cell_type": "code",
   "execution_count": 51,
   "metadata": {},
   "outputs": [
    {
     "name": "stderr",
     "output_type": "stream",
     "text": [
      "/Library/Frameworks/Python.framework/Versions/3.6/lib/python3.6/site-packages/sklearn/utils/validation.py:475: DataConversionWarning: Data with input dtype int64 was converted to float64 by StandardScaler.\n",
      "  warnings.warn(msg, DataConversionWarning)\n"
     ]
    }
   ],
   "source": [
    "scaled_features_test = scaler.fit_transform(features_copy_test)"
   ]
  },
  {
   "cell_type": "code",
   "execution_count": 58,
   "metadata": {},
   "outputs": [],
   "source": [
    "from keras import backend as K"
   ]
  },
  {
   "cell_type": "code",
   "execution_count": 59,
   "metadata": {},
   "outputs": [],
   "source": [
    "def new_relu(x):\n",
    "    return K.relu(x, max_value=13)\n",
    "    "
   ]
  },
  {
   "cell_type": "code",
   "execution_count": 61,
   "metadata": {},
   "outputs": [],
   "source": [
    "nn = Sequential()\n",
    "nn.add(Dense(100, activation=\"relu\", input_dim=features_train.shape[1]))\n",
    "nn.add(Dense(100, activation=\"relu\"))\n",
    "nn.add(Dense(75, activation=\"relu\"))\n",
    "nn.add(Dense(1, activation=new_relu))"
   ]
  },
  {
   "cell_type": "code",
   "execution_count": 62,
   "metadata": {},
   "outputs": [],
   "source": [
    "nn.compile(optimizer=\"adam\", loss=keras.losses.mse, metrics=[\"accuracy\"])\n"
   ]
  },
  {
   "cell_type": "code",
   "execution_count": 65,
   "metadata": {},
   "outputs": [
    {
     "name": "stdout",
     "output_type": "stream",
     "text": [
      "Epoch 1/150\n",
      "477/477 [==============================] - 0s 69us/step - loss: 2.1320 - acc: 0.4990\n",
      "Epoch 2/150\n",
      "477/477 [==============================] - 0s 66us/step - loss: 2.1370 - acc: 0.5052\n",
      "Epoch 3/150\n",
      "477/477 [==============================] - 0s 75us/step - loss: 2.3645 - acc: 0.4172\n",
      "Epoch 4/150\n",
      "477/477 [==============================] - 0s 75us/step - loss: 2.2300 - acc: 0.4319\n",
      "Epoch 5/150\n",
      "477/477 [==============================] - 0s 84us/step - loss: 2.1100 - acc: 0.5283\n",
      "Epoch 6/150\n",
      "477/477 [==============================] - 0s 75us/step - loss: 2.0447 - acc: 0.5556\n",
      "Epoch 7/150\n",
      "477/477 [==============================] - 0s 76us/step - loss: 2.0964 - acc: 0.4990\n",
      "Epoch 8/150\n",
      "477/477 [==============================] - 0s 76us/step - loss: 2.0494 - acc: 0.5346\n",
      "Epoch 9/150\n",
      "477/477 [==============================] - 0s 77us/step - loss: 2.0787 - acc: 0.5514\n",
      "Epoch 10/150\n",
      "477/477 [==============================] - 0s 72us/step - loss: 2.0113 - acc: 0.5660\n",
      "Epoch 11/150\n",
      "477/477 [==============================] - 0s 79us/step - loss: 2.0801 - acc: 0.4759\n",
      "Epoch 12/150\n",
      "477/477 [==============================] - 0s 79us/step - loss: 2.0942 - acc: 0.5010\n",
      "Epoch 13/150\n",
      "477/477 [==============================] - 0s 75us/step - loss: 2.2328 - acc: 0.5052\n",
      "Epoch 14/150\n",
      "477/477 [==============================] - 0s 72us/step - loss: 2.0720 - acc: 0.4906\n",
      "Epoch 15/150\n",
      "477/477 [==============================] - 0s 76us/step - loss: 2.0243 - acc: 0.5388\n",
      "Epoch 16/150\n",
      "477/477 [==============================] - 0s 81us/step - loss: 2.0663 - acc: 0.4801\n",
      "Epoch 17/150\n",
      "477/477 [==============================] - 0s 78us/step - loss: 2.0001 - acc: 0.5451\n",
      "Epoch 18/150\n",
      "477/477 [==============================] - 0s 80us/step - loss: 1.9754 - acc: 0.5451\n",
      "Epoch 19/150\n",
      "477/477 [==============================] - 0s 73us/step - loss: 2.1002 - acc: 0.5388\n",
      "Epoch 20/150\n",
      "477/477 [==============================] - 0s 72us/step - loss: 2.0965 - acc: 0.4843\n",
      "Epoch 21/150\n",
      "477/477 [==============================] - 0s 88us/step - loss: 2.2782 - acc: 0.4654\n",
      "Epoch 22/150\n",
      "477/477 [==============================] - 0s 79us/step - loss: 2.0669 - acc: 0.5178\n",
      "Epoch 23/150\n",
      "477/477 [==============================] - 0s 92us/step - loss: 1.9989 - acc: 0.5010\n",
      "Epoch 24/150\n",
      "477/477 [==============================] - 0s 95us/step - loss: 2.2453 - acc: 0.4759\n",
      "Epoch 25/150\n",
      "477/477 [==============================] - 0s 75us/step - loss: 2.0679 - acc: 0.5388\n",
      "Epoch 26/150\n",
      "477/477 [==============================] - 0s 89us/step - loss: 2.0010 - acc: 0.5514\n",
      "Epoch 27/150\n",
      "477/477 [==============================] - 0s 80us/step - loss: 1.9884 - acc: 0.5535\n",
      "Epoch 28/150\n",
      "477/477 [==============================] - 0s 92us/step - loss: 2.0067 - acc: 0.5367\n",
      "Epoch 29/150\n",
      "477/477 [==============================] - 0s 75us/step - loss: 1.8563 - acc: 0.5493\n",
      "Epoch 30/150\n",
      "477/477 [==============================] - 0s 78us/step - loss: 1.9828 - acc: 0.5660\n",
      "Epoch 31/150\n",
      "477/477 [==============================] - 0s 74us/step - loss: 2.1226 - acc: 0.4696\n",
      "Epoch 32/150\n",
      "477/477 [==============================] - 0s 93us/step - loss: 1.9751 - acc: 0.5199\n",
      "Epoch 33/150\n",
      "477/477 [==============================] - 0s 88us/step - loss: 1.9146 - acc: 0.5556\n",
      "Epoch 34/150\n",
      "477/477 [==============================] - 0s 87us/step - loss: 1.9781 - acc: 0.5241\n",
      "Epoch 35/150\n",
      "477/477 [==============================] - 0s 78us/step - loss: 1.8837 - acc: 0.5786\n",
      "Epoch 36/150\n",
      "477/477 [==============================] - 0s 83us/step - loss: 1.9357 - acc: 0.5933\n",
      "Epoch 37/150\n",
      "477/477 [==============================] - 0s 79us/step - loss: 1.9812 - acc: 0.5283\n",
      "Epoch 38/150\n",
      "477/477 [==============================] - 0s 78us/step - loss: 1.9607 - acc: 0.5388\n",
      "Epoch 39/150\n",
      "477/477 [==============================] - 0s 80us/step - loss: 2.0405 - acc: 0.4822\n",
      "Epoch 40/150\n",
      "477/477 [==============================] - 0s 78us/step - loss: 2.0365 - acc: 0.5367\n",
      "Epoch 41/150\n",
      "477/477 [==============================] - 0s 83us/step - loss: 2.0094 - acc: 0.4843\n",
      "Epoch 42/150\n",
      "477/477 [==============================] - 0s 77us/step - loss: 1.9001 - acc: 0.5597\n",
      "Epoch 43/150\n",
      "477/477 [==============================] - ETA: 0s - loss: 1.4958 - acc: 0.500 - 0s 87us/step - loss: 2.1683 - acc: 0.5157\n",
      "Epoch 44/150\n",
      "477/477 [==============================] - 0s 79us/step - loss: 1.8515 - acc: 0.5702\n",
      "Epoch 45/150\n",
      "477/477 [==============================] - 0s 86us/step - loss: 2.0435 - acc: 0.5367\n",
      "Epoch 46/150\n",
      "477/477 [==============================] - 0s 74us/step - loss: 2.0375 - acc: 0.4948\n",
      "Epoch 47/150\n",
      "477/477 [==============================] - 0s 102us/step - loss: 1.9573 - acc: 0.5346\n",
      "Epoch 48/150\n",
      "477/477 [==============================] - 0s 76us/step - loss: 1.9697 - acc: 0.5325\n",
      "Epoch 49/150\n",
      "477/477 [==============================] - 0s 86us/step - loss: 1.9267 - acc: 0.5744\n",
      "Epoch 50/150\n",
      "477/477 [==============================] - 0s 80us/step - loss: 1.9274 - acc: 0.5367\n",
      "Epoch 51/150\n",
      "477/477 [==============================] - 0s 80us/step - loss: 1.8305 - acc: 0.5304\n",
      "Epoch 52/150\n",
      "477/477 [==============================] - 0s 83us/step - loss: 1.8900 - acc: 0.5556\n",
      "Epoch 53/150\n",
      "477/477 [==============================] - 0s 93us/step - loss: 1.8593 - acc: 0.5723\n",
      "Epoch 54/150\n",
      "477/477 [==============================] - 0s 86us/step - loss: 1.9136 - acc: 0.5639\n",
      "Epoch 55/150\n",
      "477/477 [==============================] - 0s 84us/step - loss: 1.9679 - acc: 0.5807\n",
      "Epoch 56/150\n",
      "477/477 [==============================] - 0s 65us/step - loss: 1.9274 - acc: 0.5241\n",
      "Epoch 57/150\n",
      "477/477 [==============================] - 0s 74us/step - loss: 1.8908 - acc: 0.5639\n",
      "Epoch 58/150\n",
      "477/477 [==============================] - 0s 74us/step - loss: 2.0574 - acc: 0.5262\n",
      "Epoch 59/150\n",
      "477/477 [==============================] - 0s 71us/step - loss: 1.9312 - acc: 0.5409\n",
      "Epoch 60/150\n",
      "477/477 [==============================] - 0s 69us/step - loss: 1.8719 - acc: 0.5283\n",
      "Epoch 61/150\n",
      "477/477 [==============================] - 0s 74us/step - loss: 1.9049 - acc: 0.5765\n",
      "Epoch 62/150\n",
      "477/477 [==============================] - 0s 70us/step - loss: 1.8435 - acc: 0.5912\n",
      "Epoch 63/150\n",
      "477/477 [==============================] - 0s 68us/step - loss: 1.9132 - acc: 0.5639\n",
      "Epoch 64/150\n",
      "477/477 [==============================] - 0s 68us/step - loss: 1.8784 - acc: 0.5891\n",
      "Epoch 65/150\n",
      "477/477 [==============================] - 0s 74us/step - loss: 2.0067 - acc: 0.5744\n",
      "Epoch 66/150\n",
      "477/477 [==============================] - 0s 72us/step - loss: 1.9718 - acc: 0.5283\n",
      "Epoch 67/150\n",
      "477/477 [==============================] - 0s 80us/step - loss: 1.8707 - acc: 0.5744\n",
      "Epoch 68/150\n",
      "477/477 [==============================] - 0s 72us/step - loss: 1.8591 - acc: 0.5765\n",
      "Epoch 69/150\n",
      "477/477 [==============================] - 0s 79us/step - loss: 1.9237 - acc: 0.5744\n",
      "Epoch 70/150\n",
      "477/477 [==============================] - 0s 74us/step - loss: 1.9468 - acc: 0.5430\n",
      "Epoch 71/150\n",
      "477/477 [==============================] - 0s 78us/step - loss: 1.9084 - acc: 0.5723\n",
      "Epoch 72/150\n",
      "477/477 [==============================] - 0s 80us/step - loss: 1.8609 - acc: 0.5639\n",
      "Epoch 73/150\n",
      "477/477 [==============================] - 0s 88us/step - loss: 2.0609 - acc: 0.5073\n",
      "Epoch 74/150\n",
      "477/477 [==============================] - 0s 81us/step - loss: 1.8970 - acc: 0.5556\n",
      "Epoch 75/150\n",
      "477/477 [==============================] - 0s 90us/step - loss: 1.8576 - acc: 0.5115\n",
      "Epoch 76/150\n",
      "477/477 [==============================] - 0s 73us/step - loss: 1.8518 - acc: 0.4885\n",
      "Epoch 77/150\n",
      "477/477 [==============================] - 0s 81us/step - loss: 1.8422 - acc: 0.6101\n",
      "Epoch 78/150\n",
      "477/477 [==============================] - 0s 94us/step - loss: 1.8542 - acc: 0.5451\n",
      "Epoch 79/150\n",
      "477/477 [==============================] - 0s 86us/step - loss: 1.8747 - acc: 0.5744\n",
      "Epoch 80/150\n",
      "477/477 [==============================] - 0s 77us/step - loss: 2.0152 - acc: 0.4969\n",
      "Epoch 81/150\n",
      "477/477 [==============================] - 0s 79us/step - loss: 1.8764 - acc: 0.5639\n",
      "Epoch 82/150\n",
      "477/477 [==============================] - 0s 83us/step - loss: 1.8553 - acc: 0.5723\n",
      "Epoch 83/150\n",
      "477/477 [==============================] - 0s 82us/step - loss: 1.9019 - acc: 0.5535\n",
      "Epoch 84/150\n",
      "477/477 [==============================] - 0s 86us/step - loss: 1.8036 - acc: 0.5828\n",
      "Epoch 85/150\n",
      "477/477 [==============================] - 0s 80us/step - loss: 1.8564 - acc: 0.6038\n",
      "Epoch 86/150\n",
      "477/477 [==============================] - 0s 80us/step - loss: 1.7826 - acc: 0.6059\n",
      "Epoch 87/150\n",
      "477/477 [==============================] - 0s 101us/step - loss: 1.8894 - acc: 0.5786\n",
      "Epoch 88/150\n",
      "477/477 [==============================] - 0s 85us/step - loss: 1.7689 - acc: 0.5660\n",
      "Epoch 89/150\n",
      "477/477 [==============================] - 0s 103us/step - loss: 1.8314 - acc: 0.5262\n",
      "Epoch 90/150\n",
      "477/477 [==============================] - 0s 101us/step - loss: 1.8816 - acc: 0.5681\n",
      "Epoch 91/150\n",
      "477/477 [==============================] - 0s 103us/step - loss: 1.8699 - acc: 0.5744\n",
      "Epoch 92/150\n",
      "477/477 [==============================] - 0s 107us/step - loss: 1.8781 - acc: 0.5996\n",
      "Epoch 93/150\n",
      "477/477 [==============================] - 0s 98us/step - loss: 2.0323 - acc: 0.4780\n",
      "Epoch 94/150\n",
      "477/477 [==============================] - 0s 96us/step - loss: 1.8918 - acc: 0.5199\n",
      "Epoch 95/150\n",
      "477/477 [==============================] - 0s 93us/step - loss: 1.9970 - acc: 0.5199\n",
      "Epoch 96/150\n",
      "477/477 [==============================] - 0s 81us/step - loss: 1.8769 - acc: 0.5681\n",
      "Epoch 97/150\n",
      "477/477 [==============================] - 0s 83us/step - loss: 1.8641 - acc: 0.5325\n",
      "Epoch 98/150\n",
      "477/477 [==============================] - 0s 80us/step - loss: 1.8579 - acc: 0.5828\n",
      "Epoch 99/150\n",
      "477/477 [==============================] - 0s 80us/step - loss: 1.8336 - acc: 0.5535\n",
      "Epoch 100/150\n",
      "477/477 [==============================] - ETA: 0s - loss: 2.0621 - acc: 0.531 - 0s 82us/step - loss: 1.7323 - acc: 0.5996\n",
      "Epoch 101/150\n",
      "477/477 [==============================] - 0s 82us/step - loss: 1.7720 - acc: 0.5996\n",
      "Epoch 102/150\n",
      "477/477 [==============================] - 0s 80us/step - loss: 1.7995 - acc: 0.5849\n",
      "Epoch 103/150\n",
      "477/477 [==============================] - 0s 76us/step - loss: 1.8109 - acc: 0.6101\n",
      "Epoch 104/150\n",
      "477/477 [==============================] - 0s 77us/step - loss: 1.8430 - acc: 0.6122\n",
      "Epoch 105/150\n",
      "477/477 [==============================] - 0s 71us/step - loss: 1.8282 - acc: 0.5346\n",
      "Epoch 106/150\n",
      "477/477 [==============================] - 0s 76us/step - loss: 1.8155 - acc: 0.5094\n",
      "Epoch 107/150\n",
      "477/477 [==============================] - 0s 80us/step - loss: 1.8319 - acc: 0.5954\n",
      "Epoch 108/150\n",
      "477/477 [==============================] - 0s 81us/step - loss: 1.8453 - acc: 0.5765\n",
      "Epoch 109/150\n",
      "477/477 [==============================] - 0s 77us/step - loss: 1.8623 - acc: 0.5681\n",
      "Epoch 110/150\n",
      "477/477 [==============================] - 0s 80us/step - loss: 1.8934 - acc: 0.5409\n",
      "Epoch 111/150\n",
      "477/477 [==============================] - 0s 76us/step - loss: 1.8127 - acc: 0.5996\n",
      "Epoch 112/150\n",
      "477/477 [==============================] - 0s 87us/step - loss: 1.7512 - acc: 0.6122\n",
      "Epoch 113/150\n",
      "477/477 [==============================] - 0s 80us/step - loss: 1.7985 - acc: 0.5660\n",
      "Epoch 114/150\n",
      "477/477 [==============================] - 0s 83us/step - loss: 1.8052 - acc: 0.5681\n",
      "Epoch 115/150\n",
      "477/477 [==============================] - 0s 73us/step - loss: 1.8505 - acc: 0.6080\n",
      "Epoch 116/150\n",
      "477/477 [==============================] - 0s 76us/step - loss: 1.9023 - acc: 0.5660\n",
      "Epoch 117/150\n",
      "477/477 [==============================] - 0s 75us/step - loss: 1.7126 - acc: 0.6205\n",
      "Epoch 118/150\n",
      "477/477 [==============================] - 0s 84us/step - loss: 1.7766 - acc: 0.5870\n",
      "Epoch 119/150\n",
      "477/477 [==============================] - 0s 81us/step - loss: 1.7203 - acc: 0.6226\n",
      "Epoch 120/150\n",
      "477/477 [==============================] - 0s 90us/step - loss: 1.7488 - acc: 0.6143\n",
      "Epoch 121/150\n",
      "477/477 [==============================] - 0s 97us/step - loss: 1.6845 - acc: 0.6310\n",
      "Epoch 122/150\n",
      "477/477 [==============================] - 0s 89us/step - loss: 1.7323 - acc: 0.6143\n",
      "Epoch 123/150\n",
      "477/477 [==============================] - 0s 101us/step - loss: 1.7020 - acc: 0.6268\n",
      "Epoch 124/150\n",
      "477/477 [==============================] - 0s 90us/step - loss: 1.7025 - acc: 0.6247\n",
      "Epoch 125/150\n",
      "477/477 [==============================] - 0s 80us/step - loss: 1.7047 - acc: 0.6059\n",
      "Epoch 126/150\n",
      "477/477 [==============================] - 0s 84us/step - loss: 1.7776 - acc: 0.6017\n",
      "Epoch 127/150\n",
      "477/477 [==============================] - 0s 77us/step - loss: 1.7671 - acc: 0.5849\n",
      "Epoch 128/150\n",
      "477/477 [==============================] - 0s 79us/step - loss: 1.7706 - acc: 0.5744\n",
      "Epoch 129/150\n",
      "477/477 [==============================] - 0s 86us/step - loss: 1.8220 - acc: 0.5996\n",
      "Epoch 130/150\n",
      "477/477 [==============================] - 0s 85us/step - loss: 1.7742 - acc: 0.6143\n",
      "Epoch 131/150\n",
      "477/477 [==============================] - 0s 91us/step - loss: 1.8634 - acc: 0.5639\n",
      "Epoch 132/150\n",
      "477/477 [==============================] - 0s 90us/step - loss: 1.9093 - acc: 0.5618\n",
      "Epoch 133/150\n",
      "477/477 [==============================] - 0s 84us/step - loss: 1.8360 - acc: 0.5744\n",
      "Epoch 134/150\n",
      "477/477 [==============================] - 0s 79us/step - loss: 2.0761 - acc: 0.5409\n",
      "Epoch 135/150\n",
      "477/477 [==============================] - 0s 91us/step - loss: 1.9914 - acc: 0.5157\n",
      "Epoch 136/150\n",
      "477/477 [==============================] - 0s 92us/step - loss: 1.7913 - acc: 0.5828\n",
      "Epoch 137/150\n",
      "477/477 [==============================] - 0s 85us/step - loss: 1.7870 - acc: 0.5430\n",
      "Epoch 138/150\n",
      "477/477 [==============================] - 0s 81us/step - loss: 1.9147 - acc: 0.5597\n",
      "Epoch 139/150\n",
      "477/477 [==============================] - 0s 82us/step - loss: 1.8681 - acc: 0.5828\n",
      "Epoch 140/150\n",
      "477/477 [==============================] - 0s 75us/step - loss: 1.8359 - acc: 0.6017\n",
      "Epoch 141/150\n",
      "477/477 [==============================] - 0s 80us/step - loss: 1.7138 - acc: 0.5975\n",
      "Epoch 142/150\n",
      "477/477 [==============================] - 0s 81us/step - loss: 1.8761 - acc: 0.5702\n",
      "Epoch 143/150\n",
      "477/477 [==============================] - 0s 88us/step - loss: 1.8467 - acc: 0.5639\n",
      "Epoch 144/150\n",
      "477/477 [==============================] - 0s 84us/step - loss: 1.7903 - acc: 0.5975\n",
      "Epoch 145/150\n",
      "477/477 [==============================] - 0s 97us/step - loss: 1.7090 - acc: 0.6101\n",
      "Epoch 146/150\n",
      "477/477 [==============================] - 0s 85us/step - loss: 1.7938 - acc: 0.5702\n",
      "Epoch 147/150\n",
      "477/477 [==============================] - 0s 73us/step - loss: 1.7739 - acc: 0.5115\n",
      "Epoch 148/150\n",
      "477/477 [==============================] - 0s 79us/step - loss: 1.8131 - acc: 0.5472\n",
      "Epoch 149/150\n",
      "477/477 [==============================] - 0s 82us/step - loss: 1.8487 - acc: 0.4717\n",
      "Epoch 150/150\n",
      "477/477 [==============================] - 0s 82us/step - loss: 1.8373 - acc: 0.5681\n"
     ]
    },
    {
     "data": {
      "text/plain": [
       "<keras.callbacks.History at 0x125dbdb38>"
      ]
     },
     "execution_count": 65,
     "metadata": {},
     "output_type": "execute_result"
    }
   ],
   "source": [
    "nn.fit(features_train, labels_train, epochs=150)"
   ]
  },
  {
   "cell_type": "code",
   "execution_count": 66,
   "metadata": {},
   "outputs": [
    {
     "name": "stdout",
     "output_type": "stream",
     "text": [
      "159/159 [==============================] - 0s 325us/step\n"
     ]
    },
    {
     "data": {
      "text/plain": [
       "[3.9925836886999742, 0.49056603511174518]"
      ]
     },
     "execution_count": 66,
     "metadata": {},
     "output_type": "execute_result"
    }
   ],
   "source": [
    "nn.evaluate(features_test, labels_test)"
   ]
  },
  {
   "cell_type": "code",
   "execution_count": 77,
   "metadata": {},
   "outputs": [],
   "source": [
    "pred = np.round(nn.predict(features_test))"
   ]
  },
  {
   "cell_type": "code",
   "execution_count": 74,
   "metadata": {},
   "outputs": [
    {
     "data": {
      "text/plain": [
       "array([9, 7, 7, 0, 1, 1, 0])"
      ]
     },
     "execution_count": 74,
     "metadata": {},
     "output_type": "execute_result"
    }
   ],
   "source": [
    "features_test[7]"
   ]
  },
  {
   "cell_type": "code",
   "execution_count": 78,
   "metadata": {},
   "outputs": [
    {
     "data": {
      "text/plain": [
       "array([ 9.], dtype=float32)"
      ]
     },
     "execution_count": 78,
     "metadata": {},
     "output_type": "execute_result"
    }
   ],
   "source": [
    "pred[7]"
   ]
  },
  {
   "cell_type": "markdown",
   "metadata": {},
   "source": [
    "## By using a custom activation function, we are getting an accuracy of 50% on the test data, hence preventing overfitting."
   ]
  },
  {
   "cell_type": "code",
   "execution_count": 79,
   "metadata": {},
   "outputs": [
    {
     "data": {
      "text/plain": [
       "<keras.models.Sequential at 0x12468bd68>"
      ]
     },
     "execution_count": 79,
     "metadata": {},
     "output_type": "execute_result"
    }
   ],
   "source": [
    "nn"
   ]
  },
  {
   "cell_type": "code",
   "execution_count": 101,
   "metadata": {},
   "outputs": [
    {
     "name": "stdout",
     "output_type": "stream",
     "text": [
      "159/159 [==============================] - 0s 73us/step\n"
     ]
    },
    {
     "data": {
      "text/plain": [
       "[1.6023147436057996, 0.50314465127651042]"
      ]
     },
     "execution_count": 101,
     "metadata": {},
     "output_type": "execute_result"
    }
   ],
   "source": [
    "model.evaluate(features_copy_test, labels_copy_test)"
   ]
  },
  {
   "cell_type": "code",
   "execution_count": 84,
   "metadata": {},
   "outputs": [],
   "source": [
    "pred = np.argmax(model.predict(features_copy_test), axis=1)"
   ]
  },
  {
   "cell_type": "code",
   "execution_count": 85,
   "metadata": {},
   "outputs": [
    {
     "data": {
      "text/plain": [
       "array([ 5,  5,  6,  7,  9,  7,  8,  9,  9, 10,  1,  1,  9,  6,  9,  1,  1,\n",
       "        4,  2,  1,  5,  1,  2,  4,  9,  8, 12,  4,  0,  4,  2,  6,  7,  9,\n",
       "        4,  8,  7,  9,  5,  8,  2,  1, 10,  9, 10,  8,  0,  6,  4,  9,  7,\n",
       "        9,  1,  9,  0,  6,  4,  7,  0,  8,  4,  1,  5,  1,  9,  4,  9,  4,\n",
       "        1,  6,  8,  2, 12,  9,  4,  9,  1,  9,  8, 10,  9,  0,  8,  4,  7,\n",
       "        6,  1,  5,  6,  4,  5,  6,  1,  1,  8,  4,  4,  1,  9,  9, 10,  5,\n",
       "        9,  5,  8,  9, 12,  9,  8,  8,  4,  8,  1, 10,  0,  5,  9, 10,  8,\n",
       "        1,  1,  5,  8,  1,  9, 12,  5,  4,  0, 10,  1,  9,  1,  8,  4,  5,\n",
       "        6, 10,  8, 10,  6,  9,  1,  3,  6,  6, 10,  9,  7,  4, 12,  8,  0,\n",
       "        5,  7,  4, 12,  7,  4])"
      ]
     },
     "execution_count": 85,
     "metadata": {},
     "output_type": "execute_result"
    }
   ],
   "source": [
    "pred"
   ]
  },
  {
   "cell_type": "code",
   "execution_count": 88,
   "metadata": {},
   "outputs": [
    {
     "data": {
      "text/plain": [
       "array([7, 5, 7, 1, 1, 0, 0])"
      ]
     },
     "execution_count": 88,
     "metadata": {},
     "output_type": "execute_result"
    }
   ],
   "source": [
    "features_copy_test[0]\n"
   ]
  },
  {
   "cell_type": "code",
   "execution_count": 90,
   "metadata": {},
   "outputs": [
    {
     "data": {
      "text/plain": [
       "5"
      ]
     },
     "execution_count": 90,
     "metadata": {},
     "output_type": "execute_result"
    }
   ],
   "source": [
    "pred[0]"
   ]
  },
  {
   "cell_type": "code",
   "execution_count": 97,
   "metadata": {},
   "outputs": [
    {
     "data": {
      "text/plain": [
       "5"
      ]
     },
     "execution_count": 97,
     "metadata": {},
     "output_type": "execute_result"
    }
   ],
   "source": [
    "np.argmax(labels_copy_test[1], axis=0)"
   ]
  },
  {
   "cell_type": "markdown",
   "metadata": {},
   "source": [
    "# With nn, we get 49% and with model we get 55% using one hot encoding."
   ]
  },
  {
   "cell_type": "code",
   "execution_count": 104,
   "metadata": {},
   "outputs": [],
   "source": [
    "nn.save(\"nn-matches-model-with-49%.hdf5\")\n",
    "model.save('model-matches-model-with-55%.hdf5')"
   ]
  },
  {
   "cell_type": "code",
   "execution_count": 107,
   "metadata": {},
   "outputs": [
    {
     "name": "stdout",
     "output_type": "stream",
     "text": [
      "159/159 [==============================] - 0s 67us/step\n"
     ]
    },
    {
     "data": {
      "text/plain": [
       "[0.048274208164814883, 0.52201257561737635]"
      ]
     },
     "execution_count": 107,
     "metadata": {},
     "output_type": "execute_result"
    }
   ],
   "source": [
    "model.evaluate(features_copy_test, labels_copy_test)"
   ]
  },
  {
   "cell_type": "code",
   "execution_count": 112,
   "metadata": {},
   "outputs": [],
   "source": [
    "from sklearn.ensemble import ExtraTreesClassifier, BaggingClassifier, GradientBoostingClassifier"
   ]
  },
  {
   "cell_type": "code",
   "execution_count": 113,
   "metadata": {},
   "outputs": [
    {
     "data": {
      "text/plain": [
       "ExtraTreesClassifier(bootstrap=False, class_weight=None, criterion='gini',\n",
       "           max_depth=None, max_features='auto', max_leaf_nodes=None,\n",
       "           min_impurity_decrease=0.0, min_impurity_split=None,\n",
       "           min_samples_leaf=1, min_samples_split=2,\n",
       "           min_weight_fraction_leaf=0.0, n_estimators=100, n_jobs=1,\n",
       "           oob_score=False, random_state=None, verbose=0, warm_start=False)"
      ]
     },
     "execution_count": 113,
     "metadata": {},
     "output_type": "execute_result"
    }
   ],
   "source": [
    "clf = ExtraTreesClassifier(n_estimators=100)\n",
    "clf.fit(features_train, labels_train)"
   ]
  },
  {
   "cell_type": "code",
   "execution_count": 114,
   "metadata": {},
   "outputs": [
    {
     "data": {
      "text/plain": [
       "0.61635220125786161"
      ]
     },
     "execution_count": 114,
     "metadata": {},
     "output_type": "execute_result"
    }
   ],
   "source": [
    "clf.score(features_test, labels_test)"
   ]
  },
  {
   "cell_type": "code",
   "execution_count": 116,
   "metadata": {},
   "outputs": [],
   "source": [
    "p = clf.predict(features_test)"
   ]
  },
  {
   "cell_type": "code",
   "execution_count": 117,
   "metadata": {},
   "outputs": [
    {
     "data": {
      "text/plain": [
       "array([7, 5, 7, 1, 1, 0, 0])"
      ]
     },
     "execution_count": 117,
     "metadata": {},
     "output_type": "execute_result"
    }
   ],
   "source": [
    "features_test[0]"
   ]
  },
  {
   "cell_type": "code",
   "execution_count": 118,
   "metadata": {},
   "outputs": [],
   "source": [
    "a = np.array([5, 7, 5, 1, 1, 0, 0])"
   ]
  },
  {
   "cell_type": "code",
   "execution_count": 119,
   "metadata": {},
   "outputs": [
    {
     "data": {
      "text/plain": [
       "array([7])"
      ]
     },
     "execution_count": 119,
     "metadata": {},
     "output_type": "execute_result"
    }
   ],
   "source": [
    "clf.predict(a.reshape(1,-1))"
   ]
  },
  {
   "cell_type": "code",
   "execution_count": 130,
   "metadata": {},
   "outputs": [
    {
     "ename": "SyntaxError",
     "evalue": "unexpected EOF while parsing (<ipython-input-130-05bf4e0d4c51>, line 1)",
     "output_type": "error",
     "traceback": [
      "\u001b[0;36m  File \u001b[0;32m\"<ipython-input-130-05bf4e0d4c51>\"\u001b[0;36m, line \u001b[0;32m1\u001b[0m\n\u001b[0;31m    np.round(model.predict(a.reshape(1,-1))\u001b[0m\n\u001b[0m                                           ^\u001b[0m\n\u001b[0;31mSyntaxError\u001b[0m\u001b[0;31m:\u001b[0m unexpected EOF while parsing\n"
     ]
    }
   ],
   "source": [
    "np.round(model.predict(a.reshape(1,-1))"
   ]
  },
  {
   "cell_type": "code",
   "execution_count": 132,
   "metadata": {},
   "outputs": [],
   "source": [
    "c = model.predict(a.reshape(1,-1))"
   ]
  },
  {
   "cell_type": "code",
   "execution_count": 135,
   "metadata": {},
   "outputs": [
    {
     "data": {
      "text/plain": [
       "array([7])"
      ]
     },
     "execution_count": 135,
     "metadata": {},
     "output_type": "execute_result"
    }
   ],
   "source": [
    "np.argmax(c, axis=1)"
   ]
  },
  {
   "cell_type": "code",
   "execution_count": 138,
   "metadata": {},
   "outputs": [
    {
     "data": {
      "text/plain": [
       "array([[5]])"
      ]
     },
     "execution_count": 138,
     "metadata": {},
     "output_type": "execute_result"
    }
   ],
   "source": [
    "nn.predict(a.reshape(1,-1)).astype(int)"
   ]
  },
  {
   "cell_type": "code",
   "execution_count": 148,
   "metadata": {},
   "outputs": [
    {
     "data": {
      "text/plain": [
       "array([ 5,  5,  6,  7,  8,  7,  8,  9,  1,  9,  1,  1,  9,  6,  7,  1,  1,\n",
       "        4,  2,  1,  5,  1,  2,  4,  0,  9, 12,  4,  0,  4,  2,  6,  6,  6,\n",
       "        4,  8,  7,  8,  5,  8,  3,  1, 10,  8, 10,  8,  0,  9,  4,  7,  7,\n",
       "        8,  1,  7,  0,  6,  4,  7,  0,  5,  4,  1,  5,  1, 10,  3,  9,  4,\n",
       "        1,  5,  7,  1, 12,  9,  4,  8,  1,  8,  8,  9,  6,  0,  8,  4,  7,\n",
       "        6,  1,  5,  6,  4,  5,  9,  1,  1,  8,  4,  4,  1,  8,  9, 10,  5,\n",
       "       10,  6,  8,  9,  9,  8,  8,  8,  4,  7,  1,  9,  9,  5,  8, 10,  8,\n",
       "        1,  1,  5,  7,  1,  9, 12,  5,  4,  1, 10,  1,  7,  1,  8,  5,  5,\n",
       "        7, 11,  8,  8,  6,  9,  1,  3,  7,  6, 11,  9,  7,  4, 12,  8,  0,\n",
       "        5,  7,  5, 12,  8,  4])"
      ]
     },
     "execution_count": 148,
     "metadata": {},
     "output_type": "execute_result"
    }
   ],
   "source": [
    "clf.predict(features_test)"
   ]
  },
  {
   "cell_type": "code",
   "execution_count": 149,
   "metadata": {},
   "outputs": [
    {
     "data": {
      "text/plain": [
       "array([ 7,  5,  6,  7,  9,  1,  8,  9,  1,  9,  9,  1, 13,  6, 10,  1,  1,\n",
       "        4,  2,  1,  5,  6,  6,  4,  9,  7, 10,  4,  0,  4,  2,  4,  1,  6,\n",
       "        4,  8,  6, 10,  5,  8,  3,  1, 10,  8,  9,  6,  0, 12,  4,  9,  6,\n",
       "        9,  1,  9,  0,  6,  4,  7,  0,  9,  4,  1,  5,  1,  7,  3,  8,  4,\n",
       "        1,  5,  8,  4, 12,  9,  6,  8,  6,  9,  9,  9,  9,  0,  8,  4,  7,\n",
       "        6,  7,  5,  6,  0,  0,  9,  9,  1,  9,  8,  0,  1,  8,  9, 10,  5,\n",
       "       10,  6,  8,  9, 12,  8,  8,  8,  4,  7,  1, 12, 13,  5,  9,  1,  4,\n",
       "        1,  3,  5,  8,  1,  9, 12,  7,  5,  0, 10,  4, 10,  6,  8,  4,  5,\n",
       "        7, 11,  8, 10,  6,  9,  1,  3,  6,  6, 11,  5,  1,  4, 10,  8,  0,\n",
       "        5, 10,  4, 12,  8,  4])"
      ]
     },
     "execution_count": 149,
     "metadata": {},
     "output_type": "execute_result"
    }
   ],
   "source": [
    "labels_test"
   ]
  },
  {
   "cell_type": "code",
   "execution_count": 150,
   "metadata": {},
   "outputs": [
    {
     "data": {
      "text/plain": [
       "array([ 7,  5,  6,  7,  9,  1,  8,  9,  1,  9,  9,  1, 13,  6, 10,  1,  1,\n",
       "        4,  2,  1,  5,  6,  6,  4,  9,  7, 10,  4,  0,  4,  2,  4,  1,  6,\n",
       "        4,  8,  6, 10,  5,  8,  3,  1, 10,  8,  9,  6,  0, 12,  4,  9,  6,\n",
       "        9,  1,  9,  0,  6,  4,  7,  0,  9,  4,  1,  5,  1,  7,  3,  8,  4,\n",
       "        1,  5,  8,  4, 12,  9,  6,  8,  6,  9,  9,  9,  9,  0,  8,  4,  7,\n",
       "        6,  7,  5,  6,  0,  0,  9,  9,  1,  9,  8,  0,  1,  8,  9, 10,  5,\n",
       "       10,  6,  8,  9, 12,  8,  8,  8,  4,  7,  1, 12, 13,  5,  9,  1,  4,\n",
       "        1,  3,  5,  8,  1,  9, 12,  7,  5,  0, 10,  4, 10,  6,  8,  4,  5,\n",
       "        7, 11,  8, 10,  6,  9,  1,  3,  6,  6, 11,  5,  1,  4, 10,  8,  0,\n",
       "        5, 10,  4, 12,  8,  4])"
      ]
     },
     "execution_count": 150,
     "metadata": {},
     "output_type": "execute_result"
    }
   ],
   "source": [
    "labels_test"
   ]
  },
  {
   "cell_type": "code",
   "execution_count": 152,
   "metadata": {},
   "outputs": [
    {
     "data": {
      "text/plain": [
       "array([0, 4, 4, 0, 1, 1, 0])"
      ]
     },
     "execution_count": 152,
     "metadata": {},
     "output_type": "execute_result"
    }
   ],
   "source": [
    "features[0]"
   ]
  },
  {
   "cell_type": "code",
   "execution_count": 153,
   "metadata": {},
   "outputs": [
    {
     "data": {
      "text/plain": [
       "0"
      ]
     },
     "execution_count": 153,
     "metadata": {},
     "output_type": "execute_result"
    }
   ],
   "source": [
    "labels[0]"
   ]
  },
  {
   "cell_type": "code",
   "execution_count": 155,
   "metadata": {},
   "outputs": [],
   "source": [
    "a = model.predict(features[0].reshape(1,-1))"
   ]
  },
  {
   "cell_type": "code",
   "execution_count": 156,
   "metadata": {},
   "outputs": [
    {
     "data": {
      "text/plain": [
       "array([[  9.81611907e-01,   8.42660107e-03,   9.77830013e-08,\n",
       "          8.47694930e-03,   1.00995225e-04,   1.28758221e-03,\n",
       "          5.53907121e-05,   3.99190758e-05,   4.88160254e-07,\n",
       "          3.05353232e-09,   1.57500253e-08,   9.04296105e-09,\n",
       "          5.01230311e-08,   2.48539900e-09]], dtype=float32)"
      ]
     },
     "execution_count": 156,
     "metadata": {},
     "output_type": "execute_result"
    }
   ],
   "source": [
    "a"
   ]
  },
  {
   "cell_type": "code",
   "execution_count": 157,
   "metadata": {},
   "outputs": [
    {
     "name": "stdout",
     "output_type": "stream",
     "text": [
      "_________________________________________________________________\n",
      "Layer (type)                 Output Shape              Param #   \n",
      "=================================================================\n",
      "dense_13 (Dense)             (None, 100)               800       \n",
      "_________________________________________________________________\n",
      "dense_14 (Dense)             (None, 100)               10100     \n",
      "_________________________________________________________________\n",
      "dense_15 (Dense)             (None, 75)                7575      \n",
      "_________________________________________________________________\n",
      "dense_16 (Dense)             (None, 14)                1064      \n",
      "=================================================================\n",
      "Total params: 19,539\n",
      "Trainable params: 19,539\n",
      "Non-trainable params: 0\n",
      "_________________________________________________________________\n"
     ]
    }
   ],
   "source": [
    "model.summary()"
   ]
  },
  {
   "cell_type": "code",
   "execution_count": 158,
   "metadata": {},
   "outputs": [
    {
     "data": {
      "text/plain": [
       "array([0])"
      ]
     },
     "execution_count": 158,
     "metadata": {},
     "output_type": "execute_result"
    }
   ],
   "source": [
    "np.argmax(a, axis=1)"
   ]
  },
  {
   "cell_type": "code",
   "execution_count": null,
   "metadata": {},
   "outputs": [],
   "source": []
  }
 ],
 "metadata": {
  "kernelspec": {
   "display_name": "Python 3",
   "language": "python",
   "name": "python3"
  },
  "language_info": {
   "codemirror_mode": {
    "name": "ipython",
    "version": 3
   },
   "file_extension": ".py",
   "mimetype": "text/x-python",
   "name": "python",
   "nbconvert_exporter": "python",
   "pygments_lexer": "ipython3",
   "version": "3.6.4"
  }
 },
 "nbformat": 4,
 "nbformat_minor": 2
}
