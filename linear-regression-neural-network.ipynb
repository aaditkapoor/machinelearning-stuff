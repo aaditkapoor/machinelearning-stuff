{
 "cells": [
  {
   "cell_type": "code",
   "execution_count": 32,
   "metadata": {},
   "outputs": [],
   "source": [
    "import pandas as pd\n",
    "import numpy as np\n",
    "from sklearn.model_selection import train_test_split\n",
    "import keras\n",
    "from keras import Sequential\n",
    "from keras.layers import Dense\n",
    "from keras.utils import normalize"
   ]
  },
  {
   "cell_type": "code",
   "execution_count": 33,
   "metadata": {},
   "outputs": [],
   "source": [
    "data = pd.read_csv('ml-practice/50_Startups.csv')"
   ]
  },
  {
   "cell_type": "code",
   "execution_count": 34,
   "metadata": {},
   "outputs": [
    {
     "data": {
      "text/html": [
       "<div>\n",
       "<style scoped>\n",
       "    .dataframe tbody tr th:only-of-type {\n",
       "        vertical-align: middle;\n",
       "    }\n",
       "\n",
       "    .dataframe tbody tr th {\n",
       "        vertical-align: top;\n",
       "    }\n",
       "\n",
       "    .dataframe thead th {\n",
       "        text-align: right;\n",
       "    }\n",
       "</style>\n",
       "<table border=\"1\" class=\"dataframe\">\n",
       "  <thead>\n",
       "    <tr style=\"text-align: right;\">\n",
       "      <th></th>\n",
       "      <th>R&amp;D Spend</th>\n",
       "      <th>Administration</th>\n",
       "      <th>Marketing Spend</th>\n",
       "      <th>State</th>\n",
       "      <th>Profit</th>\n",
       "    </tr>\n",
       "  </thead>\n",
       "  <tbody>\n",
       "    <tr>\n",
       "      <th>0</th>\n",
       "      <td>165349.20</td>\n",
       "      <td>136897.80</td>\n",
       "      <td>471784.10</td>\n",
       "      <td>New York</td>\n",
       "      <td>192261.83</td>\n",
       "    </tr>\n",
       "    <tr>\n",
       "      <th>1</th>\n",
       "      <td>162597.70</td>\n",
       "      <td>151377.59</td>\n",
       "      <td>443898.53</td>\n",
       "      <td>California</td>\n",
       "      <td>191792.06</td>\n",
       "    </tr>\n",
       "    <tr>\n",
       "      <th>2</th>\n",
       "      <td>153441.51</td>\n",
       "      <td>101145.55</td>\n",
       "      <td>407934.54</td>\n",
       "      <td>Florida</td>\n",
       "      <td>191050.39</td>\n",
       "    </tr>\n",
       "    <tr>\n",
       "      <th>3</th>\n",
       "      <td>144372.41</td>\n",
       "      <td>118671.85</td>\n",
       "      <td>383199.62</td>\n",
       "      <td>New York</td>\n",
       "      <td>182901.99</td>\n",
       "    </tr>\n",
       "    <tr>\n",
       "      <th>4</th>\n",
       "      <td>142107.34</td>\n",
       "      <td>91391.77</td>\n",
       "      <td>366168.42</td>\n",
       "      <td>Florida</td>\n",
       "      <td>166187.94</td>\n",
       "    </tr>\n",
       "  </tbody>\n",
       "</table>\n",
       "</div>"
      ],
      "text/plain": [
       "   R&D Spend  Administration  Marketing Spend       State     Profit\n",
       "0  165349.20       136897.80        471784.10    New York  192261.83\n",
       "1  162597.70       151377.59        443898.53  California  191792.06\n",
       "2  153441.51       101145.55        407934.54     Florida  191050.39\n",
       "3  144372.41       118671.85        383199.62    New York  182901.99\n",
       "4  142107.34        91391.77        366168.42     Florida  166187.94"
      ]
     },
     "execution_count": 34,
     "metadata": {},
     "output_type": "execute_result"
    }
   ],
   "source": [
    "data.head()"
   ]
  },
  {
   "cell_type": "code",
   "execution_count": 35,
   "metadata": {},
   "outputs": [],
   "source": [
    "# We need to predict profit.\n",
    "data.drop(columns=['State'], axis=1, inplace=True)"
   ]
  },
  {
   "cell_type": "code",
   "execution_count": 36,
   "metadata": {},
   "outputs": [
    {
     "data": {
      "text/html": [
       "<div>\n",
       "<style scoped>\n",
       "    .dataframe tbody tr th:only-of-type {\n",
       "        vertical-align: middle;\n",
       "    }\n",
       "\n",
       "    .dataframe tbody tr th {\n",
       "        vertical-align: top;\n",
       "    }\n",
       "\n",
       "    .dataframe thead th {\n",
       "        text-align: right;\n",
       "    }\n",
       "</style>\n",
       "<table border=\"1\" class=\"dataframe\">\n",
       "  <thead>\n",
       "    <tr style=\"text-align: right;\">\n",
       "      <th></th>\n",
       "      <th>R&amp;D Spend</th>\n",
       "      <th>Administration</th>\n",
       "      <th>Marketing Spend</th>\n",
       "      <th>Profit</th>\n",
       "    </tr>\n",
       "  </thead>\n",
       "  <tbody>\n",
       "    <tr>\n",
       "      <th>0</th>\n",
       "      <td>165349.20</td>\n",
       "      <td>136897.80</td>\n",
       "      <td>471784.10</td>\n",
       "      <td>192261.83</td>\n",
       "    </tr>\n",
       "    <tr>\n",
       "      <th>1</th>\n",
       "      <td>162597.70</td>\n",
       "      <td>151377.59</td>\n",
       "      <td>443898.53</td>\n",
       "      <td>191792.06</td>\n",
       "    </tr>\n",
       "    <tr>\n",
       "      <th>2</th>\n",
       "      <td>153441.51</td>\n",
       "      <td>101145.55</td>\n",
       "      <td>407934.54</td>\n",
       "      <td>191050.39</td>\n",
       "    </tr>\n",
       "    <tr>\n",
       "      <th>3</th>\n",
       "      <td>144372.41</td>\n",
       "      <td>118671.85</td>\n",
       "      <td>383199.62</td>\n",
       "      <td>182901.99</td>\n",
       "    </tr>\n",
       "    <tr>\n",
       "      <th>4</th>\n",
       "      <td>142107.34</td>\n",
       "      <td>91391.77</td>\n",
       "      <td>366168.42</td>\n",
       "      <td>166187.94</td>\n",
       "    </tr>\n",
       "  </tbody>\n",
       "</table>\n",
       "</div>"
      ],
      "text/plain": [
       "   R&D Spend  Administration  Marketing Spend     Profit\n",
       "0  165349.20       136897.80        471784.10  192261.83\n",
       "1  162597.70       151377.59        443898.53  191792.06\n",
       "2  153441.51       101145.55        407934.54  191050.39\n",
       "3  144372.41       118671.85        383199.62  182901.99\n",
       "4  142107.34        91391.77        366168.42  166187.94"
      ]
     },
     "execution_count": 36,
     "metadata": {},
     "output_type": "execute_result"
    }
   ],
   "source": [
    "data.head()"
   ]
  },
  {
   "cell_type": "code",
   "execution_count": 37,
   "metadata": {},
   "outputs": [],
   "source": [
    "labels = data.Profit.values\n",
    "features = data.drop(columns=['Profit']).values"
   ]
  },
  {
   "cell_type": "code",
   "execution_count": 7,
   "metadata": {},
   "outputs": [
    {
     "data": {
      "text/plain": [
       "50"
      ]
     },
     "execution_count": 7,
     "metadata": {},
     "output_type": "execute_result"
    }
   ],
   "source": [
    "len(features)"
   ]
  },
  {
   "cell_type": "code",
   "execution_count": 8,
   "metadata": {},
   "outputs": [
    {
     "data": {
      "text/plain": [
       "50"
      ]
     },
     "execution_count": 8,
     "metadata": {},
     "output_type": "execute_result"
    }
   ],
   "source": [
    "len(labels)"
   ]
  },
  {
   "cell_type": "code",
   "execution_count": 9,
   "metadata": {},
   "outputs": [],
   "source": [
    "# Building model\n",
    "features_train, features_test, labels_train, labels_test = train_test_split(features, labels, random_state=3, shuffle=True, test_size=0.5)"
   ]
  },
  {
   "cell_type": "code",
   "execution_count": 15,
   "metadata": {},
   "outputs": [],
   "source": [
    "model = Sequential()\n",
    "model.add(Dense(3, input_dim=features_train.shape[1]))\n",
    "model.add(Dense(1, activation=\"linear\"))"
   ]
  },
  {
   "cell_type": "code",
   "execution_count": 22,
   "metadata": {},
   "outputs": [],
   "source": [
    "model.compile(optimizer=\"adam\", loss=keras.losses.mse, metrics=['mean_squared_error'])"
   ]
  },
  {
   "cell_type": "code",
   "execution_count": 23,
   "metadata": {},
   "outputs": [],
   "source": [
    "from sklearn.metrics import r2_score"
   ]
  },
  {
   "cell_type": "code",
   "execution_count": 28,
   "metadata": {},
   "outputs": [
    {
     "name": "stdout",
     "output_type": "stream",
     "text": [
      "Train on 25 samples, validate on 25 samples\n",
      "Epoch 1/100\n",
      "25/25 [==============================] - 0s 253us/step - loss: nan - mean_squared_error: nan - val_loss: nan - val_mean_squared_error: nan\n",
      "Epoch 2/100\n",
      "25/25 [==============================] - 0s 214us/step - loss: nan - mean_squared_error: nan - val_loss: nan - val_mean_squared_error: nan\n",
      "Epoch 3/100\n",
      "25/25 [==============================] - 0s 152us/step - loss: nan - mean_squared_error: nan - val_loss: nan - val_mean_squared_error: nan\n",
      "Epoch 4/100\n",
      "25/25 [==============================] - 0s 125us/step - loss: nan - mean_squared_error: nan - val_loss: nan - val_mean_squared_error: nan\n",
      "Epoch 5/100\n",
      "25/25 [==============================] - 0s 157us/step - loss: nan - mean_squared_error: nan - val_loss: nan - val_mean_squared_error: nan\n",
      "Epoch 6/100\n",
      "25/25 [==============================] - 0s 159us/step - loss: nan - mean_squared_error: nan - val_loss: nan - val_mean_squared_error: nan\n",
      "Epoch 7/100\n",
      "25/25 [==============================] - 0s 137us/step - loss: nan - mean_squared_error: nan - val_loss: nan - val_mean_squared_error: nan\n",
      "Epoch 8/100\n",
      "25/25 [==============================] - 0s 156us/step - loss: nan - mean_squared_error: nan - val_loss: nan - val_mean_squared_error: nan\n",
      "Epoch 9/100\n",
      "25/25 [==============================] - 0s 142us/step - loss: nan - mean_squared_error: nan - val_loss: nan - val_mean_squared_error: nan\n",
      "Epoch 10/100\n",
      "25/25 [==============================] - 0s 160us/step - loss: nan - mean_squared_error: nan - val_loss: nan - val_mean_squared_error: nan\n",
      "Epoch 11/100\n",
      "25/25 [==============================] - 0s 267us/step - loss: nan - mean_squared_error: nan - val_loss: nan - val_mean_squared_error: nan\n",
      "Epoch 12/100\n",
      "25/25 [==============================] - 0s 244us/step - loss: nan - mean_squared_error: nan - val_loss: nan - val_mean_squared_error: nan\n",
      "Epoch 13/100\n",
      "25/25 [==============================] - 0s 148us/step - loss: nan - mean_squared_error: nan - val_loss: nan - val_mean_squared_error: nan\n",
      "Epoch 14/100\n",
      "25/25 [==============================] - 0s 131us/step - loss: nan - mean_squared_error: nan - val_loss: nan - val_mean_squared_error: nan\n",
      "Epoch 15/100\n",
      "25/25 [==============================] - 0s 179us/step - loss: nan - mean_squared_error: nan - val_loss: nan - val_mean_squared_error: nan\n",
      "Epoch 16/100\n",
      "25/25 [==============================] - 0s 202us/step - loss: nan - mean_squared_error: nan - val_loss: nan - val_mean_squared_error: nan\n",
      "Epoch 17/100\n",
      "25/25 [==============================] - 0s 187us/step - loss: nan - mean_squared_error: nan - val_loss: nan - val_mean_squared_error: nan\n",
      "Epoch 18/100\n",
      "25/25 [==============================] - 0s 159us/step - loss: nan - mean_squared_error: nan - val_loss: nan - val_mean_squared_error: nan\n",
      "Epoch 19/100\n",
      "25/25 [==============================] - 0s 121us/step - loss: nan - mean_squared_error: nan - val_loss: nan - val_mean_squared_error: nan\n",
      "Epoch 20/100\n",
      "25/25 [==============================] - 0s 187us/step - loss: nan - mean_squared_error: nan - val_loss: nan - val_mean_squared_error: nan\n",
      "Epoch 21/100\n",
      "25/25 [==============================] - 0s 172us/step - loss: nan - mean_squared_error: nan - val_loss: nan - val_mean_squared_error: nan\n",
      "Epoch 22/100\n",
      "25/25 [==============================] - 0s 115us/step - loss: nan - mean_squared_error: nan - val_loss: nan - val_mean_squared_error: nan\n",
      "Epoch 23/100\n",
      "25/25 [==============================] - 0s 124us/step - loss: nan - mean_squared_error: nan - val_loss: nan - val_mean_squared_error: nan\n",
      "Epoch 24/100\n",
      "25/25 [==============================] - 0s 184us/step - loss: nan - mean_squared_error: nan - val_loss: nan - val_mean_squared_error: nan\n",
      "Epoch 25/100\n",
      "25/25 [==============================] - 0s 148us/step - loss: nan - mean_squared_error: nan - val_loss: nan - val_mean_squared_error: nan\n",
      "Epoch 26/100\n",
      "25/25 [==============================] - 0s 186us/step - loss: nan - mean_squared_error: nan - val_loss: nan - val_mean_squared_error: nan\n",
      "Epoch 27/100\n",
      "25/25 [==============================] - 0s 121us/step - loss: nan - mean_squared_error: nan - val_loss: nan - val_mean_squared_error: nan\n",
      "Epoch 28/100\n",
      "25/25 [==============================] - 0s 117us/step - loss: nan - mean_squared_error: nan - val_loss: nan - val_mean_squared_error: nan\n",
      "Epoch 29/100\n",
      "25/25 [==============================] - 0s 130us/step - loss: nan - mean_squared_error: nan - val_loss: nan - val_mean_squared_error: nan\n",
      "Epoch 30/100\n",
      "25/25 [==============================] - 0s 182us/step - loss: nan - mean_squared_error: nan - val_loss: nan - val_mean_squared_error: nan\n",
      "Epoch 31/100\n",
      "25/25 [==============================] - 0s 110us/step - loss: nan - mean_squared_error: nan - val_loss: nan - val_mean_squared_error: nan\n",
      "Epoch 32/100\n",
      "25/25 [==============================] - 0s 130us/step - loss: nan - mean_squared_error: nan - val_loss: nan - val_mean_squared_error: nan\n",
      "Epoch 33/100\n",
      "25/25 [==============================] - 0s 143us/step - loss: nan - mean_squared_error: nan - val_loss: nan - val_mean_squared_error: nan\n",
      "Epoch 34/100\n",
      "25/25 [==============================] - 0s 112us/step - loss: nan - mean_squared_error: nan - val_loss: nan - val_mean_squared_error: nan\n",
      "Epoch 35/100\n",
      "25/25 [==============================] - 0s 161us/step - loss: nan - mean_squared_error: nan - val_loss: nan - val_mean_squared_error: nan\n",
      "Epoch 36/100\n",
      "25/25 [==============================] - 0s 177us/step - loss: nan - mean_squared_error: nan - val_loss: nan - val_mean_squared_error: nan\n",
      "Epoch 37/100\n",
      "25/25 [==============================] - 0s 168us/step - loss: nan - mean_squared_error: nan - val_loss: nan - val_mean_squared_error: nan\n",
      "Epoch 38/100\n",
      "25/25 [==============================] - 0s 134us/step - loss: nan - mean_squared_error: nan - val_loss: nan - val_mean_squared_error: nan\n",
      "Epoch 39/100\n",
      "25/25 [==============================] - 0s 163us/step - loss: nan - mean_squared_error: nan - val_loss: nan - val_mean_squared_error: nan\n",
      "Epoch 40/100\n",
      "25/25 [==============================] - 0s 163us/step - loss: nan - mean_squared_error: nan - val_loss: nan - val_mean_squared_error: nan\n",
      "Epoch 41/100\n",
      "25/25 [==============================] - 0s 138us/step - loss: nan - mean_squared_error: nan - val_loss: nan - val_mean_squared_error: nan\n",
      "Epoch 42/100\n",
      "25/25 [==============================] - 0s 101us/step - loss: nan - mean_squared_error: nan - val_loss: nan - val_mean_squared_error: nan\n",
      "Epoch 43/100\n",
      "25/25 [==============================] - 0s 142us/step - loss: nan - mean_squared_error: nan - val_loss: nan - val_mean_squared_error: nan\n",
      "Epoch 44/100\n",
      "25/25 [==============================] - 0s 135us/step - loss: nan - mean_squared_error: nan - val_loss: nan - val_mean_squared_error: nan\n",
      "Epoch 45/100\n",
      "25/25 [==============================] - 0s 114us/step - loss: nan - mean_squared_error: nan - val_loss: nan - val_mean_squared_error: nan\n",
      "Epoch 46/100\n",
      "25/25 [==============================] - 0s 126us/step - loss: nan - mean_squared_error: nan - val_loss: nan - val_mean_squared_error: nan\n",
      "Epoch 47/100\n",
      "25/25 [==============================] - 0s 147us/step - loss: nan - mean_squared_error: nan - val_loss: nan - val_mean_squared_error: nan\n",
      "Epoch 48/100\n",
      "25/25 [==============================] - 0s 119us/step - loss: nan - mean_squared_error: nan - val_loss: nan - val_mean_squared_error: nan\n",
      "Epoch 49/100\n",
      "25/25 [==============================] - 0s 150us/step - loss: nan - mean_squared_error: nan - val_loss: nan - val_mean_squared_error: nan\n",
      "Epoch 50/100\n",
      "25/25 [==============================] - 0s 152us/step - loss: nan - mean_squared_error: nan - val_loss: nan - val_mean_squared_error: nan\n",
      "Epoch 51/100\n",
      "25/25 [==============================] - 0s 138us/step - loss: nan - mean_squared_error: nan - val_loss: nan - val_mean_squared_error: nan\n",
      "Epoch 52/100\n",
      "25/25 [==============================] - 0s 118us/step - loss: nan - mean_squared_error: nan - val_loss: nan - val_mean_squared_error: nan\n",
      "Epoch 53/100\n",
      "25/25 [==============================] - 0s 156us/step - loss: nan - mean_squared_error: nan - val_loss: nan - val_mean_squared_error: nan\n",
      "Epoch 54/100\n",
      "25/25 [==============================] - 0s 150us/step - loss: nan - mean_squared_error: nan - val_loss: nan - val_mean_squared_error: nan\n"
     ]
    },
    {
     "name": "stdout",
     "output_type": "stream",
     "text": [
      "Epoch 55/100\n",
      "25/25 [==============================] - 0s 129us/step - loss: nan - mean_squared_error: nan - val_loss: nan - val_mean_squared_error: nan\n",
      "Epoch 56/100\n",
      "25/25 [==============================] - 0s 121us/step - loss: nan - mean_squared_error: nan - val_loss: nan - val_mean_squared_error: nan\n",
      "Epoch 57/100\n",
      "25/25 [==============================] - 0s 132us/step - loss: nan - mean_squared_error: nan - val_loss: nan - val_mean_squared_error: nan\n",
      "Epoch 58/100\n",
      "25/25 [==============================] - 0s 124us/step - loss: nan - mean_squared_error: nan - val_loss: nan - val_mean_squared_error: nan\n",
      "Epoch 59/100\n",
      "25/25 [==============================] - 0s 120us/step - loss: nan - mean_squared_error: nan - val_loss: nan - val_mean_squared_error: nan\n",
      "Epoch 60/100\n",
      "25/25 [==============================] - 0s 165us/step - loss: nan - mean_squared_error: nan - val_loss: nan - val_mean_squared_error: nan\n",
      "Epoch 61/100\n",
      "25/25 [==============================] - 0s 155us/step - loss: nan - mean_squared_error: nan - val_loss: nan - val_mean_squared_error: nan\n",
      "Epoch 62/100\n",
      "25/25 [==============================] - 0s 136us/step - loss: nan - mean_squared_error: nan - val_loss: nan - val_mean_squared_error: nan\n",
      "Epoch 63/100\n",
      "25/25 [==============================] - 0s 161us/step - loss: nan - mean_squared_error: nan - val_loss: nan - val_mean_squared_error: nan\n",
      "Epoch 64/100\n",
      "25/25 [==============================] - 0s 128us/step - loss: nan - mean_squared_error: nan - val_loss: nan - val_mean_squared_error: nan\n",
      "Epoch 65/100\n",
      "25/25 [==============================] - 0s 107us/step - loss: nan - mean_squared_error: nan - val_loss: nan - val_mean_squared_error: nan\n",
      "Epoch 66/100\n",
      "25/25 [==============================] - 0s 153us/step - loss: nan - mean_squared_error: nan - val_loss: nan - val_mean_squared_error: nan\n",
      "Epoch 67/100\n",
      "25/25 [==============================] - 0s 133us/step - loss: nan - mean_squared_error: nan - val_loss: nan - val_mean_squared_error: nan\n",
      "Epoch 68/100\n",
      "25/25 [==============================] - 0s 124us/step - loss: nan - mean_squared_error: nan - val_loss: nan - val_mean_squared_error: nan\n",
      "Epoch 69/100\n",
      "25/25 [==============================] - 0s 132us/step - loss: nan - mean_squared_error: nan - val_loss: nan - val_mean_squared_error: nan\n",
      "Epoch 70/100\n",
      "25/25 [==============================] - 0s 160us/step - loss: nan - mean_squared_error: nan - val_loss: nan - val_mean_squared_error: nan\n",
      "Epoch 71/100\n",
      "25/25 [==============================] - 0s 118us/step - loss: nan - mean_squared_error: nan - val_loss: nan - val_mean_squared_error: nan\n",
      "Epoch 72/100\n",
      "25/25 [==============================] - 0s 120us/step - loss: nan - mean_squared_error: nan - val_loss: nan - val_mean_squared_error: nan\n",
      "Epoch 73/100\n",
      "25/25 [==============================] - 0s 155us/step - loss: nan - mean_squared_error: nan - val_loss: nan - val_mean_squared_error: nan\n",
      "Epoch 74/100\n",
      "25/25 [==============================] - 0s 119us/step - loss: nan - mean_squared_error: nan - val_loss: nan - val_mean_squared_error: nan\n",
      "Epoch 75/100\n",
      "25/25 [==============================] - 0s 127us/step - loss: nan - mean_squared_error: nan - val_loss: nan - val_mean_squared_error: nan\n",
      "Epoch 76/100\n",
      "25/25 [==============================] - 0s 122us/step - loss: nan - mean_squared_error: nan - val_loss: nan - val_mean_squared_error: nan\n",
      "Epoch 77/100\n",
      "25/25 [==============================] - 0s 117us/step - loss: nan - mean_squared_error: nan - val_loss: nan - val_mean_squared_error: nan\n",
      "Epoch 78/100\n",
      "25/25 [==============================] - 0s 116us/step - loss: nan - mean_squared_error: nan - val_loss: nan - val_mean_squared_error: nan\n",
      "Epoch 79/100\n",
      "25/25 [==============================] - 0s 132us/step - loss: nan - mean_squared_error: nan - val_loss: nan - val_mean_squared_error: nan\n",
      "Epoch 80/100\n",
      "25/25 [==============================] - 0s 128us/step - loss: nan - mean_squared_error: nan - val_loss: nan - val_mean_squared_error: nan\n",
      "Epoch 81/100\n",
      "25/25 [==============================] - 0s 111us/step - loss: nan - mean_squared_error: nan - val_loss: nan - val_mean_squared_error: nan\n",
      "Epoch 82/100\n",
      "25/25 [==============================] - 0s 137us/step - loss: nan - mean_squared_error: nan - val_loss: nan - val_mean_squared_error: nan\n",
      "Epoch 83/100\n",
      "25/25 [==============================] - 0s 120us/step - loss: nan - mean_squared_error: nan - val_loss: nan - val_mean_squared_error: nan\n",
      "Epoch 84/100\n",
      "25/25 [==============================] - 0s 125us/step - loss: nan - mean_squared_error: nan - val_loss: nan - val_mean_squared_error: nan\n",
      "Epoch 85/100\n",
      "25/25 [==============================] - 0s 136us/step - loss: nan - mean_squared_error: nan - val_loss: nan - val_mean_squared_error: nan\n",
      "Epoch 86/100\n",
      "25/25 [==============================] - 0s 129us/step - loss: nan - mean_squared_error: nan - val_loss: nan - val_mean_squared_error: nan\n",
      "Epoch 87/100\n",
      "25/25 [==============================] - 0s 135us/step - loss: nan - mean_squared_error: nan - val_loss: nan - val_mean_squared_error: nan\n",
      "Epoch 88/100\n",
      "25/25 [==============================] - 0s 131us/step - loss: nan - mean_squared_error: nan - val_loss: nan - val_mean_squared_error: nan\n",
      "Epoch 89/100\n",
      "25/25 [==============================] - 0s 151us/step - loss: nan - mean_squared_error: nan - val_loss: nan - val_mean_squared_error: nan\n",
      "Epoch 90/100\n",
      "25/25 [==============================] - 0s 137us/step - loss: nan - mean_squared_error: nan - val_loss: nan - val_mean_squared_error: nan\n",
      "Epoch 91/100\n",
      "25/25 [==============================] - 0s 176us/step - loss: nan - mean_squared_error: nan - val_loss: nan - val_mean_squared_error: nan\n",
      "Epoch 92/100\n",
      "25/25 [==============================] - 0s 125us/step - loss: nan - mean_squared_error: nan - val_loss: nan - val_mean_squared_error: nan\n",
      "Epoch 93/100\n",
      "25/25 [==============================] - 0s 106us/step - loss: nan - mean_squared_error: nan - val_loss: nan - val_mean_squared_error: nan\n",
      "Epoch 94/100\n",
      "25/25 [==============================] - 0s 113us/step - loss: nan - mean_squared_error: nan - val_loss: nan - val_mean_squared_error: nan\n",
      "Epoch 95/100\n",
      "25/25 [==============================] - 0s 173us/step - loss: nan - mean_squared_error: nan - val_loss: nan - val_mean_squared_error: nan\n",
      "Epoch 96/100\n",
      "25/25 [==============================] - 0s 162us/step - loss: nan - mean_squared_error: nan - val_loss: nan - val_mean_squared_error: nan\n",
      "Epoch 97/100\n",
      "25/25 [==============================] - 0s 194us/step - loss: nan - mean_squared_error: nan - val_loss: nan - val_mean_squared_error: nan\n",
      "Epoch 98/100\n",
      "25/25 [==============================] - 0s 190us/step - loss: nan - mean_squared_error: nan - val_loss: nan - val_mean_squared_error: nan\n",
      "Epoch 99/100\n",
      "25/25 [==============================] - 0s 156us/step - loss: nan - mean_squared_error: nan - val_loss: nan - val_mean_squared_error: nan\n",
      "Epoch 100/100\n",
      "25/25 [==============================] - 0s 156us/step - loss: nan - mean_squared_error: nan - val_loss: nan - val_mean_squared_error: nan\n"
     ]
    },
    {
     "data": {
      "text/plain": [
       "<keras.callbacks.History at 0x121bf8fd0>"
      ]
     },
     "execution_count": 28,
     "metadata": {},
     "output_type": "execute_result"
    }
   ],
   "source": [
    "model.fit(features_train, labels_train, epochs=100, validation_data=(features_test, labels_test))"
   ]
  },
  {
   "cell_type": "code",
   "execution_count": 29,
   "metadata": {},
   "outputs": [
    {
     "data": {
      "text/plain": [
       "R&D Spend          0\n",
       "Administration     0\n",
       "Marketing Spend    0\n",
       "Profit             0\n",
       "dtype: int64"
      ]
     },
     "execution_count": 29,
     "metadata": {},
     "output_type": "execute_result"
    }
   ],
   "source": [
    "data.isna().sum()"
   ]
  },
  {
   "cell_type": "code",
   "execution_count": 26,
   "metadata": {},
   "outputs": [],
   "source": [
    "from sklearn.preprocessing import StandardScaler\n",
    "scaler = StandardScaler()\n",
    "features_train = scaler.fit_transform(features_train)"
   ]
  },
  {
   "cell_type": "code",
   "execution_count": 27,
   "metadata": {},
   "outputs": [],
   "source": [
    "features_test = scaler.fit_transform(features_test)"
   ]
  },
  {
   "cell_type": "code",
   "execution_count": 30,
   "metadata": {},
   "outputs": [
    {
     "data": {
      "text/plain": [
       "array([[ 0.6231827 ,  0.25616072,  0.45117972],\n",
       "       [-0.67718468, -1.25132761, -0.25183395],\n",
       "       [ 1.31612421, -0.37763473,  0.96915986],\n",
       "       [-1.58379369,  0.5317806 , -1.89569645],\n",
       "       [-0.14632132,  1.11912533, -1.06701519],\n",
       "       [-0.03075383,  2.13719996, -0.78586689],\n",
       "       [ 0.57918225,  0.53409768,  0.47772106],\n",
       "       [-1.57104871, -2.31344204, -1.89569645],\n",
       "       [-1.56027573,  0.14847213, -1.87781181],\n",
       "       [ 1.58135944,  0.93202331, -0.6959837 ],\n",
       "       [-0.90983551,  0.24717902, -0.00640411],\n",
       "       [ 0.0040685 , -0.4771906 ,  0.96716007],\n",
       "       [-0.54759666, -2.32908224, -0.04489319],\n",
       "       [ 0.57346329, -0.19075133,  0.87464161],\n",
       "       [ 1.75751267, -0.96540106,  1.54392036],\n",
       "       [-0.06336127,  0.67207151, -0.59973939],\n",
       "       [ 0.25049369,  0.06158624,  0.5874482 ],\n",
       "       [ 1.10894876,  0.09624179,  0.5633084 ],\n",
       "       [-0.12614519, -0.14092512, -1.03965172],\n",
       "       [ 0.7832611 , -0.95184062,  0.45028837],\n",
       "       [ 1.47984799,  0.87528428,  1.14665131],\n",
       "       [-0.90770598, -0.04216382, -0.27253383],\n",
       "       [ 0.11164007,  0.27466233,  1.42194894],\n",
       "       [-0.49219826,  1.28885181,  0.08443938],\n",
       "       [-1.55286387, -0.13497755,  0.89525939]])"
      ]
     },
     "execution_count": 30,
     "metadata": {},
     "output_type": "execute_result"
    }
   ],
   "source": [
    "features_test"
   ]
  },
  {
   "cell_type": "code",
   "execution_count": 38,
   "metadata": {},
   "outputs": [
    {
     "data": {
      "text/plain": [
       "array([[ 165349.2 ,  136897.8 ,  471784.1 ],\n",
       "       [ 162597.7 ,  151377.59,  443898.53],\n",
       "       [ 153441.51,  101145.55,  407934.54],\n",
       "       [ 144372.41,  118671.85,  383199.62],\n",
       "       [ 142107.34,   91391.77,  366168.42],\n",
       "       [ 131876.9 ,   99814.71,  362861.36],\n",
       "       [ 134615.46,  147198.87,  127716.82],\n",
       "       [ 130298.13,  145530.06,  323876.68],\n",
       "       [ 120542.52,  148718.95,  311613.29],\n",
       "       [ 123334.88,  108679.17,  304981.62],\n",
       "       [ 101913.08,  110594.11,  229160.95],\n",
       "       [ 100671.96,   91790.61,  249744.55],\n",
       "       [  93863.75,  127320.38,  249839.44],\n",
       "       [  91992.39,  135495.07,  252664.93],\n",
       "       [ 119943.24,  156547.42,  256512.92],\n",
       "       [ 114523.61,  122616.84,  261776.23],\n",
       "       [  78013.11,  121597.55,  264346.06],\n",
       "       [  94657.16,  145077.58,  282574.31],\n",
       "       [  91749.16,  114175.79,  294919.57],\n",
       "       [  86419.7 ,  153514.11,       0.  ],\n",
       "       [  76253.86,  113867.3 ,  298664.47],\n",
       "       [  78389.47,  153773.43,  299737.29],\n",
       "       [  73994.56,  122782.75,  303319.26],\n",
       "       [  67532.53,  105751.03,  304768.73],\n",
       "       [  77044.01,   99281.34,  140574.81],\n",
       "       [  64664.71,  139553.16,  137962.62],\n",
       "       [  75328.87,  144135.98,  134050.07],\n",
       "       [  72107.6 ,  127864.55,  353183.81],\n",
       "       [  66051.52,  182645.56,  118148.2 ],\n",
       "       [  65605.48,  153032.06,  107138.38],\n",
       "       [  61994.48,  115641.28,   91131.24],\n",
       "       [  61136.38,  152701.92,   88218.23],\n",
       "       [  63408.86,  129219.61,   46085.25],\n",
       "       [  55493.95,  103057.49,  214634.81],\n",
       "       [  46426.07,  157693.92,  210797.67],\n",
       "       [  46014.02,   85047.44,  205517.64],\n",
       "       [  28663.76,  127056.21,  201126.82],\n",
       "       [  44069.95,   51283.14,  197029.42],\n",
       "       [  20229.59,   65947.93,  185265.1 ],\n",
       "       [  38558.51,   82982.09,  174999.3 ],\n",
       "       [  28754.33,  118546.05,  172795.67],\n",
       "       [  27892.92,   84710.77,  164470.71],\n",
       "       [  23640.93,   96189.63,  148001.11],\n",
       "       [  15505.73,  127382.3 ,   35534.17],\n",
       "       [  22177.74,  154806.14,   28334.72],\n",
       "       [   1000.23,  124153.04,    1903.93],\n",
       "       [   1315.46,  115816.21,  297114.46],\n",
       "       [      0.  ,  135426.92,       0.  ],\n",
       "       [    542.05,   51743.15,       0.  ],\n",
       "       [      0.  ,  116983.8 ,   45173.06]])"
      ]
     },
     "execution_count": 38,
     "metadata": {},
     "output_type": "execute_result"
    }
   ],
   "source": [
    "features"
   ]
  },
  {
   "cell_type": "code",
   "execution_count": 39,
   "metadata": {},
   "outputs": [
    {
     "data": {
      "text/plain": [
       "array([ 192261.83,  191792.06,  191050.39,  182901.99,  166187.94,\n",
       "        156991.12,  156122.51,  155752.6 ,  152211.77,  149759.96,\n",
       "        146121.95,  144259.4 ,  141585.52,  134307.35,  132602.65,\n",
       "        129917.04,  126992.93,  125370.37,  124266.9 ,  122776.86,\n",
       "        118474.03,  111313.02,  110352.25,  108733.99,  108552.04,\n",
       "        107404.34,  105733.54,  105008.31,  103282.38,  101004.64,\n",
       "         99937.59,   97483.56,   97427.84,   96778.92,   96712.8 ,\n",
       "         96479.51,   90708.19,   89949.14,   81229.06,   81005.76,\n",
       "         78239.91,   77798.83,   71498.49,   69758.98,   65200.33,\n",
       "         64926.08,   49490.75,   42559.73,   35673.41,   14681.4 ])"
      ]
     },
     "execution_count": 39,
     "metadata": {},
     "output_type": "execute_result"
    }
   ],
   "source": [
    "labels"
   ]
  },
  {
   "cell_type": "code",
   "execution_count": 40,
   "metadata": {},
   "outputs": [],
   "source": [
    "features = normalize(features)"
   ]
  },
  {
   "cell_type": "code",
   "execution_count": 41,
   "metadata": {},
   "outputs": [
    {
     "data": {
      "text/plain": [
       "array([[ 0.31900633,  0.26411537,  0.91020769],\n",
       "       [ 0.32756301,  0.30495941,  0.89426072],\n",
       "       [ 0.34294681,  0.22606362,  0.91174707],\n",
       "       [ 0.33862972,  0.2783483 ,  0.89880595],\n",
       "       [ 0.35238805,  0.22662705,  0.90799936],\n",
       "       [ 0.33070362,  0.25030226,  0.9099362 ],\n",
       "       [ 0.56834481,  0.62147181,  0.53921884],\n",
       "       [ 0.34450073,  0.38477307,  0.85631123],\n",
       "       [ 0.32960386,  0.40664771,  0.85205571],\n",
       "       [ 0.35598308,  0.31368211,  0.88027245],\n",
       "       [ 0.37180672,  0.40347749,  0.83604167],\n",
       "       [ 0.35387225,  0.3226534 ,  0.87787768],\n",
       "       [ 0.3174251 ,  0.43056755,  0.84489816],\n",
       "       [ 0.30552127,  0.45000055,  0.83914019],\n",
       "       [ 0.37069634,  0.48382514,  0.79277832],\n",
       "       [ 0.36832626,  0.39435538,  0.84191425],\n",
       "       [ 0.2589657 ,  0.40364491,  0.87750074],\n",
       "       [ 0.28558943,  0.43771251,  0.85255289],\n",
       "       [ 0.27862765,  0.34673377,  0.89562398],\n",
       "       [ 0.49055449,  0.87141052,  0.        ],\n",
       "       [ 0.23205365,  0.34651784,  0.9088875 ],\n",
       "       [ 0.22663715,  0.44458487,  0.86659096],\n",
       "       [ 0.22055684,  0.36598063,  0.90410887],\n",
       "       [ 0.20490017,  0.32085877,  0.92469756],\n",
       "       [ 0.40859742,  0.52653151,  0.74552848],\n",
       "       [ 0.31297004,  0.67542185,  0.66772381],\n",
       "       [ 0.35741837,  0.68389246,  0.63603711],\n",
       "       [ 0.18852858,  0.33430765,  0.92341506],\n",
       "       [ 0.29054708,  0.80342034,  0.51970969],\n",
       "       [ 0.33135128,  0.77291361,  0.54112003],\n",
       "       [ 0.38806379,  0.72387402,  0.57044973],\n",
       "       [ 0.32754666,  0.81812178,  0.47264144],\n",
       "       [ 0.41954697,  0.85498613,  0.30492469],\n",
       "       [ 0.22699138,  0.42154436,  0.87793807],\n",
       "       [ 0.17367418,  0.58991342,  0.78856797],\n",
       "       [ 0.20258927,  0.37444454,  0.90484743],\n",
       "       [ 0.11962263,  0.53024437,  0.83936365],\n",
       "       [ 0.21156029,  0.24618762,  0.94585089],\n",
       "       [ 0.10232962,  0.33359185,  0.93714734],\n",
       "       [ 0.19525476,  0.42020939,  0.88617134],\n",
       "       [ 0.13594505,  0.56046339,  0.81694537],\n",
       "       [ 0.14908425,  0.45276872,  0.87907586],\n",
       "       [ 0.13274789,  0.54012133,  0.83105171],\n",
       "       [ 0.11645168,  0.95667101,  0.26686997],\n",
       "       [ 0.13954158,  0.97403491,  0.17828108],\n",
       "       [ 0.00805522,  0.99984999,  0.01533305],\n",
       "       [ 0.0041251 ,  0.36318314,  0.93170864],\n",
       "       [ 0.        ,  1.        ,  0.        ],\n",
       "       [ 0.01047521,  0.99994513,  0.        ],\n",
       "       [ 0.        ,  0.93286574,  0.36022424]])"
      ]
     },
     "execution_count": 41,
     "metadata": {},
     "output_type": "execute_result"
    }
   ],
   "source": [
    "features"
   ]
  },
  {
   "cell_type": "code",
   "execution_count": 42,
   "metadata": {},
   "outputs": [
    {
     "data": {
      "text/plain": [
       "array([[ 0.31900633,  0.26411537,  0.91020769],\n",
       "       [ 0.32756301,  0.30495941,  0.89426072],\n",
       "       [ 0.34294681,  0.22606362,  0.91174707],\n",
       "       [ 0.33862972,  0.2783483 ,  0.89880595],\n",
       "       [ 0.35238805,  0.22662705,  0.90799936],\n",
       "       [ 0.33070362,  0.25030226,  0.9099362 ],\n",
       "       [ 0.56834481,  0.62147181,  0.53921884],\n",
       "       [ 0.34450073,  0.38477307,  0.85631123],\n",
       "       [ 0.32960386,  0.40664771,  0.85205571],\n",
       "       [ 0.35598308,  0.31368211,  0.88027245],\n",
       "       [ 0.37180672,  0.40347749,  0.83604167],\n",
       "       [ 0.35387225,  0.3226534 ,  0.87787768],\n",
       "       [ 0.3174251 ,  0.43056755,  0.84489816],\n",
       "       [ 0.30552127,  0.45000055,  0.83914019],\n",
       "       [ 0.37069634,  0.48382514,  0.79277832],\n",
       "       [ 0.36832626,  0.39435538,  0.84191425],\n",
       "       [ 0.2589657 ,  0.40364491,  0.87750074],\n",
       "       [ 0.28558943,  0.43771251,  0.85255289],\n",
       "       [ 0.27862765,  0.34673377,  0.89562398],\n",
       "       [ 0.49055449,  0.87141052,  0.        ],\n",
       "       [ 0.23205365,  0.34651784,  0.9088875 ],\n",
       "       [ 0.22663715,  0.44458487,  0.86659096],\n",
       "       [ 0.22055684,  0.36598063,  0.90410887],\n",
       "       [ 0.20490017,  0.32085877,  0.92469756],\n",
       "       [ 0.40859742,  0.52653151,  0.74552848],\n",
       "       [ 0.31297004,  0.67542185,  0.66772381],\n",
       "       [ 0.35741837,  0.68389246,  0.63603711],\n",
       "       [ 0.18852858,  0.33430765,  0.92341506],\n",
       "       [ 0.29054708,  0.80342034,  0.51970969],\n",
       "       [ 0.33135128,  0.77291361,  0.54112003],\n",
       "       [ 0.38806379,  0.72387402,  0.57044973],\n",
       "       [ 0.32754666,  0.81812178,  0.47264144],\n",
       "       [ 0.41954697,  0.85498613,  0.30492469],\n",
       "       [ 0.22699138,  0.42154436,  0.87793807],\n",
       "       [ 0.17367418,  0.58991342,  0.78856797],\n",
       "       [ 0.20258927,  0.37444454,  0.90484743],\n",
       "       [ 0.11962263,  0.53024437,  0.83936365],\n",
       "       [ 0.21156029,  0.24618762,  0.94585089],\n",
       "       [ 0.10232962,  0.33359185,  0.93714734],\n",
       "       [ 0.19525476,  0.42020939,  0.88617134],\n",
       "       [ 0.13594505,  0.56046339,  0.81694537],\n",
       "       [ 0.14908425,  0.45276872,  0.87907586],\n",
       "       [ 0.13274789,  0.54012133,  0.83105171],\n",
       "       [ 0.11645168,  0.95667101,  0.26686997],\n",
       "       [ 0.13954158,  0.97403491,  0.17828108],\n",
       "       [ 0.00805522,  0.99984999,  0.01533305],\n",
       "       [ 0.0041251 ,  0.36318314,  0.93170864],\n",
       "       [ 0.        ,  1.        ,  0.        ],\n",
       "       [ 0.01047521,  0.99994513,  0.        ],\n",
       "       [ 0.        ,  0.93286574,  0.36022424]])"
      ]
     },
     "execution_count": 42,
     "metadata": {},
     "output_type": "execute_result"
    }
   ],
   "source": [
    "features"
   ]
  },
  {
   "cell_type": "code",
   "execution_count": 43,
   "metadata": {},
   "outputs": [],
   "source": [
    "labels = normalize(labels)"
   ]
  },
  {
   "cell_type": "code",
   "execution_count": 44,
   "metadata": {},
   "outputs": [
    {
     "data": {
      "text/plain": [
       "array([[ 0.22866507,  0.22810635,  0.22722426,  0.21753302,  0.1976543 ,\n",
       "         0.18671613,  0.18568306,  0.18524311,  0.18103185,  0.17811581,\n",
       "         0.17378897,  0.17157377,  0.16839361,  0.15973737,  0.1577099 ,\n",
       "         0.15451579,  0.15103803,  0.14910825,  0.14779584,  0.14602368,\n",
       "         0.14090614,  0.13238925,  0.13124657,  0.1293219 ,  0.1291055 ,\n",
       "         0.12774049,  0.12575334,  0.12489079,  0.12283807,  0.12012906,\n",
       "         0.11885997,  0.11594129,  0.11587502,  0.11510324,  0.1150246 ,\n",
       "         0.11474713,  0.10788306,  0.10698029,  0.09660913,  0.09634355,\n",
       "         0.09305401,  0.09252942,  0.08503616,  0.08296729,  0.07754549,\n",
       "         0.07721931,  0.05886143,  0.05061807,  0.04242789,  0.01746121]])"
      ]
     },
     "execution_count": 44,
     "metadata": {},
     "output_type": "execute_result"
    }
   ],
   "source": [
    "labels"
   ]
  },
  {
   "cell_type": "code",
   "execution_count": 45,
   "metadata": {},
   "outputs": [
    {
     "data": {
      "text/plain": [
       "array([[ 0.31900633,  0.26411537,  0.91020769],\n",
       "       [ 0.32756301,  0.30495941,  0.89426072],\n",
       "       [ 0.34294681,  0.22606362,  0.91174707],\n",
       "       [ 0.33862972,  0.2783483 ,  0.89880595],\n",
       "       [ 0.35238805,  0.22662705,  0.90799936],\n",
       "       [ 0.33070362,  0.25030226,  0.9099362 ],\n",
       "       [ 0.56834481,  0.62147181,  0.53921884],\n",
       "       [ 0.34450073,  0.38477307,  0.85631123],\n",
       "       [ 0.32960386,  0.40664771,  0.85205571],\n",
       "       [ 0.35598308,  0.31368211,  0.88027245],\n",
       "       [ 0.37180672,  0.40347749,  0.83604167],\n",
       "       [ 0.35387225,  0.3226534 ,  0.87787768],\n",
       "       [ 0.3174251 ,  0.43056755,  0.84489816],\n",
       "       [ 0.30552127,  0.45000055,  0.83914019],\n",
       "       [ 0.37069634,  0.48382514,  0.79277832],\n",
       "       [ 0.36832626,  0.39435538,  0.84191425],\n",
       "       [ 0.2589657 ,  0.40364491,  0.87750074],\n",
       "       [ 0.28558943,  0.43771251,  0.85255289],\n",
       "       [ 0.27862765,  0.34673377,  0.89562398],\n",
       "       [ 0.49055449,  0.87141052,  0.        ],\n",
       "       [ 0.23205365,  0.34651784,  0.9088875 ],\n",
       "       [ 0.22663715,  0.44458487,  0.86659096],\n",
       "       [ 0.22055684,  0.36598063,  0.90410887],\n",
       "       [ 0.20490017,  0.32085877,  0.92469756],\n",
       "       [ 0.40859742,  0.52653151,  0.74552848],\n",
       "       [ 0.31297004,  0.67542185,  0.66772381],\n",
       "       [ 0.35741837,  0.68389246,  0.63603711],\n",
       "       [ 0.18852858,  0.33430765,  0.92341506],\n",
       "       [ 0.29054708,  0.80342034,  0.51970969],\n",
       "       [ 0.33135128,  0.77291361,  0.54112003],\n",
       "       [ 0.38806379,  0.72387402,  0.57044973],\n",
       "       [ 0.32754666,  0.81812178,  0.47264144],\n",
       "       [ 0.41954697,  0.85498613,  0.30492469],\n",
       "       [ 0.22699138,  0.42154436,  0.87793807],\n",
       "       [ 0.17367418,  0.58991342,  0.78856797],\n",
       "       [ 0.20258927,  0.37444454,  0.90484743],\n",
       "       [ 0.11962263,  0.53024437,  0.83936365],\n",
       "       [ 0.21156029,  0.24618762,  0.94585089],\n",
       "       [ 0.10232962,  0.33359185,  0.93714734],\n",
       "       [ 0.19525476,  0.42020939,  0.88617134],\n",
       "       [ 0.13594505,  0.56046339,  0.81694537],\n",
       "       [ 0.14908425,  0.45276872,  0.87907586],\n",
       "       [ 0.13274789,  0.54012133,  0.83105171],\n",
       "       [ 0.11645168,  0.95667101,  0.26686997],\n",
       "       [ 0.13954158,  0.97403491,  0.17828108],\n",
       "       [ 0.00805522,  0.99984999,  0.01533305],\n",
       "       [ 0.0041251 ,  0.36318314,  0.93170864],\n",
       "       [ 0.        ,  1.        ,  0.        ],\n",
       "       [ 0.01047521,  0.99994513,  0.        ],\n",
       "       [ 0.        ,  0.93286574,  0.36022424]])"
      ]
     },
     "execution_count": 45,
     "metadata": {},
     "output_type": "execute_result"
    }
   ],
   "source": [
    "features"
   ]
  },
  {
   "cell_type": "code",
   "execution_count": 46,
   "metadata": {},
   "outputs": [
    {
     "ename": "ValueError",
     "evalue": "Found input variables with inconsistent numbers of samples: [50, 1]",
     "output_type": "error",
     "traceback": [
      "\u001b[0;31m---------------------------------------------------------------------------\u001b[0m",
      "\u001b[0;31mValueError\u001b[0m                                Traceback (most recent call last)",
      "\u001b[0;32m<ipython-input-46-de2f0dd21f78>\u001b[0m in \u001b[0;36m<module>\u001b[0;34m()\u001b[0m\n\u001b[0;32m----> 1\u001b[0;31m \u001b[0mfeatures_train\u001b[0m\u001b[0;34m,\u001b[0m \u001b[0mfeatures_test\u001b[0m\u001b[0;34m,\u001b[0m \u001b[0mlabels_train\u001b[0m\u001b[0;34m,\u001b[0m \u001b[0mlabels_test\u001b[0m \u001b[0;34m=\u001b[0m \u001b[0mtrain_test_split\u001b[0m\u001b[0;34m(\u001b[0m\u001b[0mfeatures\u001b[0m\u001b[0;34m,\u001b[0m \u001b[0mlabels\u001b[0m\u001b[0;34m,\u001b[0m \u001b[0mrandom_state\u001b[0m\u001b[0;34m=\u001b[0m\u001b[0;36m3\u001b[0m\u001b[0;34m)\u001b[0m\u001b[0;34m\u001b[0m\u001b[0m\n\u001b[0m",
      "\u001b[0;32m/Library/Frameworks/Python.framework/Versions/3.6/lib/python3.6/site-packages/sklearn/model_selection/_split.py\u001b[0m in \u001b[0;36mtrain_test_split\u001b[0;34m(*arrays, **options)\u001b[0m\n\u001b[1;32m   2029\u001b[0m         \u001b[0mtest_size\u001b[0m \u001b[0;34m=\u001b[0m \u001b[0;36m0.25\u001b[0m\u001b[0;34m\u001b[0m\u001b[0m\n\u001b[1;32m   2030\u001b[0m \u001b[0;34m\u001b[0m\u001b[0m\n\u001b[0;32m-> 2031\u001b[0;31m     \u001b[0marrays\u001b[0m \u001b[0;34m=\u001b[0m \u001b[0mindexable\u001b[0m\u001b[0;34m(\u001b[0m\u001b[0;34m*\u001b[0m\u001b[0marrays\u001b[0m\u001b[0;34m)\u001b[0m\u001b[0;34m\u001b[0m\u001b[0m\n\u001b[0m\u001b[1;32m   2032\u001b[0m \u001b[0;34m\u001b[0m\u001b[0m\n\u001b[1;32m   2033\u001b[0m     \u001b[0;32mif\u001b[0m \u001b[0mshuffle\u001b[0m \u001b[0;32mis\u001b[0m \u001b[0;32mFalse\u001b[0m\u001b[0;34m:\u001b[0m\u001b[0;34m\u001b[0m\u001b[0m\n",
      "\u001b[0;32m/Library/Frameworks/Python.framework/Versions/3.6/lib/python3.6/site-packages/sklearn/utils/validation.py\u001b[0m in \u001b[0;36mindexable\u001b[0;34m(*iterables)\u001b[0m\n\u001b[1;32m    227\u001b[0m         \u001b[0;32melse\u001b[0m\u001b[0;34m:\u001b[0m\u001b[0;34m\u001b[0m\u001b[0m\n\u001b[1;32m    228\u001b[0m             \u001b[0mresult\u001b[0m\u001b[0;34m.\u001b[0m\u001b[0mappend\u001b[0m\u001b[0;34m(\u001b[0m\u001b[0mnp\u001b[0m\u001b[0;34m.\u001b[0m\u001b[0marray\u001b[0m\u001b[0;34m(\u001b[0m\u001b[0mX\u001b[0m\u001b[0;34m)\u001b[0m\u001b[0;34m)\u001b[0m\u001b[0;34m\u001b[0m\u001b[0m\n\u001b[0;32m--> 229\u001b[0;31m     \u001b[0mcheck_consistent_length\u001b[0m\u001b[0;34m(\u001b[0m\u001b[0;34m*\u001b[0m\u001b[0mresult\u001b[0m\u001b[0;34m)\u001b[0m\u001b[0;34m\u001b[0m\u001b[0m\n\u001b[0m\u001b[1;32m    230\u001b[0m     \u001b[0;32mreturn\u001b[0m \u001b[0mresult\u001b[0m\u001b[0;34m\u001b[0m\u001b[0m\n\u001b[1;32m    231\u001b[0m \u001b[0;34m\u001b[0m\u001b[0m\n",
      "\u001b[0;32m/Library/Frameworks/Python.framework/Versions/3.6/lib/python3.6/site-packages/sklearn/utils/validation.py\u001b[0m in \u001b[0;36mcheck_consistent_length\u001b[0;34m(*arrays)\u001b[0m\n\u001b[1;32m    202\u001b[0m     \u001b[0;32mif\u001b[0m \u001b[0mlen\u001b[0m\u001b[0;34m(\u001b[0m\u001b[0muniques\u001b[0m\u001b[0;34m)\u001b[0m \u001b[0;34m>\u001b[0m \u001b[0;36m1\u001b[0m\u001b[0;34m:\u001b[0m\u001b[0;34m\u001b[0m\u001b[0m\n\u001b[1;32m    203\u001b[0m         raise ValueError(\"Found input variables with inconsistent numbers of\"\n\u001b[0;32m--> 204\u001b[0;31m                          \" samples: %r\" % [int(l) for l in lengths])\n\u001b[0m\u001b[1;32m    205\u001b[0m \u001b[0;34m\u001b[0m\u001b[0m\n\u001b[1;32m    206\u001b[0m \u001b[0;34m\u001b[0m\u001b[0m\n",
      "\u001b[0;31mValueError\u001b[0m: Found input variables with inconsistent numbers of samples: [50, 1]"
     ]
    }
   ],
   "source": [
    "features_train, features_test, labels_train, labels_test = train_test_split(features, labels, random_state=3)"
   ]
  },
  {
   "cell_type": "code",
   "execution_count": 47,
   "metadata": {},
   "outputs": [
    {
     "data": {
      "text/plain": [
       "array([[ 0.31900633,  0.26411537,  0.91020769],\n",
       "       [ 0.32756301,  0.30495941,  0.89426072],\n",
       "       [ 0.34294681,  0.22606362,  0.91174707],\n",
       "       [ 0.33862972,  0.2783483 ,  0.89880595],\n",
       "       [ 0.35238805,  0.22662705,  0.90799936],\n",
       "       [ 0.33070362,  0.25030226,  0.9099362 ],\n",
       "       [ 0.56834481,  0.62147181,  0.53921884],\n",
       "       [ 0.34450073,  0.38477307,  0.85631123],\n",
       "       [ 0.32960386,  0.40664771,  0.85205571],\n",
       "       [ 0.35598308,  0.31368211,  0.88027245],\n",
       "       [ 0.37180672,  0.40347749,  0.83604167],\n",
       "       [ 0.35387225,  0.3226534 ,  0.87787768],\n",
       "       [ 0.3174251 ,  0.43056755,  0.84489816],\n",
       "       [ 0.30552127,  0.45000055,  0.83914019],\n",
       "       [ 0.37069634,  0.48382514,  0.79277832],\n",
       "       [ 0.36832626,  0.39435538,  0.84191425],\n",
       "       [ 0.2589657 ,  0.40364491,  0.87750074],\n",
       "       [ 0.28558943,  0.43771251,  0.85255289],\n",
       "       [ 0.27862765,  0.34673377,  0.89562398],\n",
       "       [ 0.49055449,  0.87141052,  0.        ],\n",
       "       [ 0.23205365,  0.34651784,  0.9088875 ],\n",
       "       [ 0.22663715,  0.44458487,  0.86659096],\n",
       "       [ 0.22055684,  0.36598063,  0.90410887],\n",
       "       [ 0.20490017,  0.32085877,  0.92469756],\n",
       "       [ 0.40859742,  0.52653151,  0.74552848],\n",
       "       [ 0.31297004,  0.67542185,  0.66772381],\n",
       "       [ 0.35741837,  0.68389246,  0.63603711],\n",
       "       [ 0.18852858,  0.33430765,  0.92341506],\n",
       "       [ 0.29054708,  0.80342034,  0.51970969],\n",
       "       [ 0.33135128,  0.77291361,  0.54112003],\n",
       "       [ 0.38806379,  0.72387402,  0.57044973],\n",
       "       [ 0.32754666,  0.81812178,  0.47264144],\n",
       "       [ 0.41954697,  0.85498613,  0.30492469],\n",
       "       [ 0.22699138,  0.42154436,  0.87793807],\n",
       "       [ 0.17367418,  0.58991342,  0.78856797],\n",
       "       [ 0.20258927,  0.37444454,  0.90484743],\n",
       "       [ 0.11962263,  0.53024437,  0.83936365],\n",
       "       [ 0.21156029,  0.24618762,  0.94585089],\n",
       "       [ 0.10232962,  0.33359185,  0.93714734],\n",
       "       [ 0.19525476,  0.42020939,  0.88617134],\n",
       "       [ 0.13594505,  0.56046339,  0.81694537],\n",
       "       [ 0.14908425,  0.45276872,  0.87907586],\n",
       "       [ 0.13274789,  0.54012133,  0.83105171],\n",
       "       [ 0.11645168,  0.95667101,  0.26686997],\n",
       "       [ 0.13954158,  0.97403491,  0.17828108],\n",
       "       [ 0.00805522,  0.99984999,  0.01533305],\n",
       "       [ 0.0041251 ,  0.36318314,  0.93170864],\n",
       "       [ 0.        ,  1.        ,  0.        ],\n",
       "       [ 0.01047521,  0.99994513,  0.        ],\n",
       "       [ 0.        ,  0.93286574,  0.36022424]])"
      ]
     },
     "execution_count": 47,
     "metadata": {},
     "output_type": "execute_result"
    }
   ],
   "source": [
    "features"
   ]
  },
  {
   "cell_type": "code",
   "execution_count": 48,
   "metadata": {},
   "outputs": [
    {
     "data": {
      "text/plain": [
       "array([[ 0.22866507,  0.22810635,  0.22722426,  0.21753302,  0.1976543 ,\n",
       "         0.18671613,  0.18568306,  0.18524311,  0.18103185,  0.17811581,\n",
       "         0.17378897,  0.17157377,  0.16839361,  0.15973737,  0.1577099 ,\n",
       "         0.15451579,  0.15103803,  0.14910825,  0.14779584,  0.14602368,\n",
       "         0.14090614,  0.13238925,  0.13124657,  0.1293219 ,  0.1291055 ,\n",
       "         0.12774049,  0.12575334,  0.12489079,  0.12283807,  0.12012906,\n",
       "         0.11885997,  0.11594129,  0.11587502,  0.11510324,  0.1150246 ,\n",
       "         0.11474713,  0.10788306,  0.10698029,  0.09660913,  0.09634355,\n",
       "         0.09305401,  0.09252942,  0.08503616,  0.08296729,  0.07754549,\n",
       "         0.07721931,  0.05886143,  0.05061807,  0.04242789,  0.01746121]])"
      ]
     },
     "execution_count": 48,
     "metadata": {},
     "output_type": "execute_result"
    }
   ],
   "source": [
    "labels"
   ]
  },
  {
   "cell_type": "code",
   "execution_count": 51,
   "metadata": {},
   "outputs": [],
   "source": [
    "model = Sequential()\n",
    "model.add(Dense(1, kernel_initializer=\"normal\", activation=\"linear\", input_dim=features.shape[1]))"
   ]
  },
  {
   "cell_type": "code",
   "execution_count": 52,
   "metadata": {},
   "outputs": [],
   "source": [
    "model.compile(optimizer=\"rmsprop\", loss=\"mse\")"
   ]
  },
  {
   "cell_type": "code",
   "execution_count": 53,
   "metadata": {},
   "outputs": [
    {
     "ename": "ValueError",
     "evalue": "Error when checking target: expected dense_7 to have shape (1,) but got array with shape (50,)",
     "output_type": "error",
     "traceback": [
      "\u001b[0;31m---------------------------------------------------------------------------\u001b[0m",
      "\u001b[0;31mValueError\u001b[0m                                Traceback (most recent call last)",
      "\u001b[0;32m<ipython-input-53-3a41430bd37c>\u001b[0m in \u001b[0;36m<module>\u001b[0;34m()\u001b[0m\n\u001b[0;32m----> 1\u001b[0;31m \u001b[0mmodel\u001b[0m\u001b[0;34m.\u001b[0m\u001b[0mfit\u001b[0m\u001b[0;34m(\u001b[0m\u001b[0mfeatures\u001b[0m\u001b[0;34m,\u001b[0m \u001b[0mlabels\u001b[0m\u001b[0;34m)\u001b[0m\u001b[0;34m\u001b[0m\u001b[0m\n\u001b[0m",
      "\u001b[0;32m/Library/Frameworks/Python.framework/Versions/3.6/lib/python3.6/site-packages/keras/models.py\u001b[0m in \u001b[0;36mfit\u001b[0;34m(self, x, y, batch_size, epochs, verbose, callbacks, validation_split, validation_data, shuffle, class_weight, sample_weight, initial_epoch, steps_per_epoch, validation_steps, **kwargs)\u001b[0m\n\u001b[1;32m    961\u001b[0m                               \u001b[0minitial_epoch\u001b[0m\u001b[0;34m=\u001b[0m\u001b[0minitial_epoch\u001b[0m\u001b[0;34m,\u001b[0m\u001b[0;34m\u001b[0m\u001b[0m\n\u001b[1;32m    962\u001b[0m                               \u001b[0msteps_per_epoch\u001b[0m\u001b[0;34m=\u001b[0m\u001b[0msteps_per_epoch\u001b[0m\u001b[0;34m,\u001b[0m\u001b[0;34m\u001b[0m\u001b[0m\n\u001b[0;32m--> 963\u001b[0;31m                               validation_steps=validation_steps)\n\u001b[0m\u001b[1;32m    964\u001b[0m \u001b[0;34m\u001b[0m\u001b[0m\n\u001b[1;32m    965\u001b[0m     def evaluate(self, x=None, y=None,\n",
      "\u001b[0;32m/Library/Frameworks/Python.framework/Versions/3.6/lib/python3.6/site-packages/keras/engine/training.py\u001b[0m in \u001b[0;36mfit\u001b[0;34m(self, x, y, batch_size, epochs, verbose, callbacks, validation_split, validation_data, shuffle, class_weight, sample_weight, initial_epoch, steps_per_epoch, validation_steps, **kwargs)\u001b[0m\n\u001b[1;32m   1628\u001b[0m             \u001b[0msample_weight\u001b[0m\u001b[0;34m=\u001b[0m\u001b[0msample_weight\u001b[0m\u001b[0;34m,\u001b[0m\u001b[0;34m\u001b[0m\u001b[0m\n\u001b[1;32m   1629\u001b[0m             \u001b[0mclass_weight\u001b[0m\u001b[0;34m=\u001b[0m\u001b[0mclass_weight\u001b[0m\u001b[0;34m,\u001b[0m\u001b[0;34m\u001b[0m\u001b[0m\n\u001b[0;32m-> 1630\u001b[0;31m             batch_size=batch_size)\n\u001b[0m\u001b[1;32m   1631\u001b[0m         \u001b[0;31m# Prepare validation data.\u001b[0m\u001b[0;34m\u001b[0m\u001b[0;34m\u001b[0m\u001b[0m\n\u001b[1;32m   1632\u001b[0m         \u001b[0mdo_validation\u001b[0m \u001b[0;34m=\u001b[0m \u001b[0;32mFalse\u001b[0m\u001b[0;34m\u001b[0m\u001b[0m\n",
      "\u001b[0;32m/Library/Frameworks/Python.framework/Versions/3.6/lib/python3.6/site-packages/keras/engine/training.py\u001b[0m in \u001b[0;36m_standardize_user_data\u001b[0;34m(self, x, y, sample_weight, class_weight, check_array_lengths, batch_size)\u001b[0m\n\u001b[1;32m   1478\u001b[0m                                     \u001b[0moutput_shapes\u001b[0m\u001b[0;34m,\u001b[0m\u001b[0;34m\u001b[0m\u001b[0m\n\u001b[1;32m   1479\u001b[0m                                     \u001b[0mcheck_batch_axis\u001b[0m\u001b[0;34m=\u001b[0m\u001b[0;32mFalse\u001b[0m\u001b[0;34m,\u001b[0m\u001b[0;34m\u001b[0m\u001b[0m\n\u001b[0;32m-> 1480\u001b[0;31m                                     exception_prefix='target')\n\u001b[0m\u001b[1;32m   1481\u001b[0m         sample_weights = _standardize_sample_weights(sample_weight,\n\u001b[1;32m   1482\u001b[0m                                                      self._feed_output_names)\n",
      "\u001b[0;32m/Library/Frameworks/Python.framework/Versions/3.6/lib/python3.6/site-packages/keras/engine/training.py\u001b[0m in \u001b[0;36m_standardize_input_data\u001b[0;34m(data, names, shapes, check_batch_axis, exception_prefix)\u001b[0m\n\u001b[1;32m    121\u001b[0m                             \u001b[0;34m': expected '\u001b[0m \u001b[0;34m+\u001b[0m \u001b[0mnames\u001b[0m\u001b[0;34m[\u001b[0m\u001b[0mi\u001b[0m\u001b[0;34m]\u001b[0m \u001b[0;34m+\u001b[0m \u001b[0;34m' to have shape '\u001b[0m \u001b[0;34m+\u001b[0m\u001b[0;34m\u001b[0m\u001b[0m\n\u001b[1;32m    122\u001b[0m                             \u001b[0mstr\u001b[0m\u001b[0;34m(\u001b[0m\u001b[0mshape\u001b[0m\u001b[0;34m)\u001b[0m \u001b[0;34m+\u001b[0m \u001b[0;34m' but got array with shape '\u001b[0m \u001b[0;34m+\u001b[0m\u001b[0;34m\u001b[0m\u001b[0m\n\u001b[0;32m--> 123\u001b[0;31m                             str(data_shape))\n\u001b[0m\u001b[1;32m    124\u001b[0m     \u001b[0;32mreturn\u001b[0m \u001b[0mdata\u001b[0m\u001b[0;34m\u001b[0m\u001b[0m\n\u001b[1;32m    125\u001b[0m \u001b[0;34m\u001b[0m\u001b[0m\n",
      "\u001b[0;31mValueError\u001b[0m: Error when checking target: expected dense_7 to have shape (1,) but got array with shape (50,)"
     ]
    }
   ],
   "source": [
    "model.fit(features, labels)"
   ]
  },
  {
   "cell_type": "code",
   "execution_count": 54,
   "metadata": {},
   "outputs": [
    {
     "data": {
      "text/plain": [
       "(1, 50)"
      ]
     },
     "execution_count": 54,
     "metadata": {},
     "output_type": "execute_result"
    }
   ],
   "source": [
    "labels.shape"
   ]
  },
  {
   "cell_type": "code",
   "execution_count": 55,
   "metadata": {},
   "outputs": [
    {
     "data": {
      "text/plain": [
       "(50, 3)"
      ]
     },
     "execution_count": 55,
     "metadata": {},
     "output_type": "execute_result"
    }
   ],
   "source": [
    "features.shape"
   ]
  },
  {
   "cell_type": "code",
   "execution_count": null,
   "metadata": {},
   "outputs": [],
   "source": []
  }
 ],
 "metadata": {
  "kernelspec": {
   "display_name": "Python 3",
   "language": "python",
   "name": "python3"
  },
  "language_info": {
   "codemirror_mode": {
    "name": "ipython",
    "version": 3
   },
   "file_extension": ".py",
   "mimetype": "text/x-python",
   "name": "python",
   "nbconvert_exporter": "python",
   "pygments_lexer": "ipython3",
   "version": "3.6.4"
  }
 },
 "nbformat": 4,
 "nbformat_minor": 2
}
