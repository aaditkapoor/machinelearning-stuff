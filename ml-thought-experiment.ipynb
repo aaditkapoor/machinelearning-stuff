{
 "cells": [
  {
   "cell_type": "code",
   "execution_count": 27,
   "metadata": {},
   "outputs": [],
   "source": [
    "import keras\n",
    "from keras.layers import Dense\n",
    "from keras import Sequential\n",
    "from keras import losses\n",
    "import numpy as np\n",
    "from sklearn.decomposition import PCA\n",
    "from sklearn.datasets import load_breast_cancer\n",
    "from keras.utils import to_categorical\n",
    "from sklearn.model_selection import train_test_split\n",
    "import os\n",
    "import matplotlib.pyplot as plt\n",
    "from keras.callbacks import TensorBoard, Callback # For tensorboard and custom callbacks"
   ]
  },
  {
   "cell_type": "code",
   "execution_count": 28,
   "metadata": {},
   "outputs": [],
   "source": [
    "features, labels = load_breast_cancer(return_X_y=True)"
   ]
  },
  {
   "cell_type": "code",
   "execution_count": 29,
   "metadata": {},
   "outputs": [
    {
     "data": {
      "text/plain": [
       "(569, 30)"
      ]
     },
     "execution_count": 29,
     "metadata": {},
     "output_type": "execute_result"
    }
   ],
   "source": [
    "features.shape"
   ]
  },
  {
   "cell_type": "code",
   "execution_count": 30,
   "metadata": {},
   "outputs": [
    {
     "data": {
      "text/plain": [
       "PCA(copy=True, iterated_power='auto', n_components=None, random_state=None,\n",
       "  svd_solver='auto', tol=0.0, whiten=False)"
      ]
     },
     "execution_count": 30,
     "metadata": {},
     "output_type": "execute_result"
    }
   ],
   "source": [
    "pca = PCA()\n",
    "pca.fit(features)"
   ]
  },
  {
   "cell_type": "code",
   "execution_count": 31,
   "metadata": {},
   "outputs": [
    {
     "data": {
      "text/plain": [
       "[<matplotlib.lines.Line2D at 0x12490bd30>]"
      ]
     },
     "execution_count": 31,
     "metadata": {},
     "output_type": "execute_result"
    },
    {
     "data": {
      "image/png": "[encoded data removed]",
      "text/plain": [
       "<Figure size 432x288 with 1 Axes>"
      ]
     },
     "metadata": {},
     "output_type": "display_data"
    }
   ],
   "source": [
    "plt.plot(np.cumsum(pca.explained_variance_ratio_))"
   ]
  },
  {
   "cell_type": "code",
   "execution_count": 32,
   "metadata": {},
   "outputs": [],
   "source": [
    "pca = PCA(n_components=10)\n",
    "features = pca.fit_transform(features)"
   ]
  },
  {
   "cell_type": "code",
   "execution_count": 33,
   "metadata": {},
   "outputs": [],
   "source": [
    "labels = to_categorical(labels)"
   ]
  },
  {
   "cell_type": "code",
   "execution_count": 34,
   "metadata": {},
   "outputs": [
    {
     "data": {
      "text/plain": [
       "array([[1., 0.],\n",
       "       [1., 0.],\n",
       "       [1., 0.],\n",
       "       ...,\n",
       "       [1., 0.],\n",
       "       [1., 0.],\n",
       "       [0., 1.]], dtype=float32)"
      ]
     },
     "execution_count": 34,
     "metadata": {},
     "output_type": "execute_result"
    }
   ],
   "source": [
    "labels"
   ]
  },
  {
   "cell_type": "code",
   "execution_count": 35,
   "metadata": {},
   "outputs": [],
   "source": [
    "features_train, features_test, labels_train, labels_test = train_test_split(features, labels, random_state=34, shuffle=True)"
   ]
  },
  {
   "cell_type": "code",
   "execution_count": 36,
   "metadata": {},
   "outputs": [],
   "source": [
    "model = Sequential()\n",
    "model.add(Dense(10, input_dim=10, activation=\"relu\"))\n",
    "model.add(Dense(12, activation=\"relu\"))\n",
    "model.add(Dense(2, activation=\"softmax\"))\n",
    "model.compile(optimizer=\"adam\", loss=losses.categorical_crossentropy, metrics=['acc'])"
   ]
  },
  {
   "cell_type": "code",
   "execution_count": 37,
   "metadata": {},
   "outputs": [
    {
     "name": "stdout",
     "output_type": "stream",
     "text": [
      "Train on 426 samples, validate on 143 samples\n",
      "Epoch 1/100\n",
      "426/426 [==============================] - 0s 1ms/step - loss: 13.5938 - acc: 0.1080 - val_loss: 13.8862 - val_acc: 0.0769\n",
      "Epoch 2/100\n",
      "426/426 [==============================] - 0s 97us/step - loss: 12.6087 - acc: 0.1385 - val_loss: 12.2511 - val_acc: 0.1469\n",
      "Epoch 3/100\n",
      "426/426 [==============================] - 0s 87us/step - loss: 6.8353 - acc: 0.3592 - val_loss: 0.3980 - val_acc: 0.8741\n",
      "Epoch 4/100\n",
      "426/426 [==============================] - 0s 91us/step - loss: 0.5321 - acc: 0.9225 - val_loss: 0.5269 - val_acc: 0.9441\n",
      "Epoch 5/100\n",
      "426/426 [==============================] - 0s 91us/step - loss: 0.6847 - acc: 0.9202 - val_loss: 0.5235 - val_acc: 0.9371\n",
      "Epoch 6/100\n",
      "426/426 [==============================] - 0s 93us/step - loss: 0.6257 - acc: 0.9178 - val_loss: 0.4416 - val_acc: 0.9510\n",
      "Epoch 7/100\n",
      "426/426 [==============================] - 0s 78us/step - loss: 0.4815 - acc: 0.9225 - val_loss: 0.2955 - val_acc: 0.9510\n",
      "Epoch 8/100\n",
      "426/426 [==============================] - 0s 98us/step - loss: 0.3794 - acc: 0.9202 - val_loss: 0.2024 - val_acc: 0.9231\n",
      "Epoch 9/100\n",
      "426/426 [==============================] - 0s 100us/step - loss: 0.3362 - acc: 0.9131 - val_loss: 0.1917 - val_acc: 0.9231\n",
      "Epoch 10/100\n",
      "426/426 [==============================] - 0s 86us/step - loss: 0.3081 - acc: 0.9225 - val_loss: 0.1861 - val_acc: 0.9371\n",
      "Epoch 11/100\n",
      "426/426 [==============================] - 0s 90us/step - loss: 0.3211 - acc: 0.9225 - val_loss: 0.1756 - val_acc: 0.9301\n",
      "Epoch 12/100\n",
      "426/426 [==============================] - 0s 100us/step - loss: 0.2960 - acc: 0.9225 - val_loss: 0.1787 - val_acc: 0.9231\n",
      "Epoch 13/100\n",
      "426/426 [==============================] - 0s 98us/step - loss: 0.3030 - acc: 0.9131 - val_loss: 0.1864 - val_acc: 0.9161\n",
      "Epoch 14/100\n",
      "426/426 [==============================] - 0s 85us/step - loss: 0.2761 - acc: 0.9202 - val_loss: 0.1712 - val_acc: 0.9371\n",
      "Epoch 15/100\n",
      "426/426 [==============================] - 0s 97us/step - loss: 0.2872 - acc: 0.9225 - val_loss: 0.1697 - val_acc: 0.9371\n",
      "Epoch 16/100\n",
      "426/426 [==============================] - 0s 94us/step - loss: 0.2807 - acc: 0.9272 - val_loss: 0.1672 - val_acc: 0.9371\n",
      "Epoch 17/100\n",
      "426/426 [==============================] - 0s 79us/step - loss: 0.2564 - acc: 0.9249 - val_loss: 0.1608 - val_acc: 0.9371\n",
      "Epoch 18/100\n",
      "426/426 [==============================] - 0s 74us/step - loss: 0.2623 - acc: 0.9319 - val_loss: 0.1534 - val_acc: 0.9371\n",
      "Epoch 19/100\n",
      "426/426 [==============================] - 0s 91us/step - loss: 0.2242 - acc: 0.9249 - val_loss: 0.1462 - val_acc: 0.9371\n",
      "Epoch 20/100\n",
      "426/426 [==============================] - 0s 82us/step - loss: 0.2372 - acc: 0.9249 - val_loss: 0.1448 - val_acc: 0.9371\n",
      "Epoch 21/100\n",
      "426/426 [==============================] - 0s 89us/step - loss: 0.2163 - acc: 0.9319 - val_loss: 0.1412 - val_acc: 0.9371\n",
      "Epoch 22/100\n",
      "426/426 [==============================] - 0s 71us/step - loss: 0.1974 - acc: 0.9272 - val_loss: 0.1358 - val_acc: 0.9371\n",
      "Epoch 23/100\n",
      "426/426 [==============================] - 0s 74us/step - loss: 0.1896 - acc: 0.9343 - val_loss: 0.1301 - val_acc: 0.9441\n",
      "Epoch 24/100\n",
      "426/426 [==============================] - 0s 88us/step - loss: 0.1890 - acc: 0.9272 - val_loss: 0.1254 - val_acc: 0.9441\n",
      "Epoch 25/100\n",
      "426/426 [==============================] - 0s 87us/step - loss: 0.1776 - acc: 0.9390 - val_loss: 0.1247 - val_acc: 0.9441\n",
      "Epoch 26/100\n",
      "426/426 [==============================] - 0s 85us/step - loss: 0.1655 - acc: 0.9366 - val_loss: 0.1172 - val_acc: 0.9441\n",
      "Epoch 27/100\n",
      "426/426 [==============================] - 0s 79us/step - loss: 0.1589 - acc: 0.9413 - val_loss: 0.1140 - val_acc: 0.9441\n",
      "Epoch 28/100\n",
      "426/426 [==============================] - 0s 74us/step - loss: 0.1529 - acc: 0.9366 - val_loss: 0.1107 - val_acc: 0.9441\n",
      "Epoch 29/100\n",
      "426/426 [==============================] - 0s 71us/step - loss: 0.1492 - acc: 0.9413 - val_loss: 0.1084 - val_acc: 0.9441\n",
      "Epoch 30/100\n",
      "426/426 [==============================] - 0s 79us/step - loss: 0.1458 - acc: 0.9413 - val_loss: 0.1065 - val_acc: 0.9441\n",
      "Epoch 31/100\n",
      "426/426 [==============================] - 0s 88us/step - loss: 0.1420 - acc: 0.9460 - val_loss: 0.1060 - val_acc: 0.9441\n",
      "Epoch 32/100\n",
      "426/426 [==============================] - 0s 80us/step - loss: 0.1438 - acc: 0.9413 - val_loss: 0.1049 - val_acc: 0.9441\n",
      "Epoch 33/100\n",
      "426/426 [==============================] - 0s 73us/step - loss: 0.1369 - acc: 0.9413 - val_loss: 0.1017 - val_acc: 0.9441\n",
      "Epoch 34/100\n",
      "426/426 [==============================] - 0s 73us/step - loss: 0.1304 - acc: 0.9484 - val_loss: 0.1038 - val_acc: 0.9441\n",
      "Epoch 35/100\n",
      "426/426 [==============================] - 0s 83us/step - loss: 0.1334 - acc: 0.9484 - val_loss: 0.0996 - val_acc: 0.9441\n",
      "Epoch 36/100\n",
      "426/426 [==============================] - 0s 79us/step - loss: 0.1388 - acc: 0.9390 - val_loss: 0.0996 - val_acc: 0.9441\n",
      "Epoch 37/100\n",
      "426/426 [==============================] - 0s 104us/step - loss: 0.1269 - acc: 0.9460 - val_loss: 0.0979 - val_acc: 0.9441\n",
      "Epoch 38/100\n",
      "426/426 [==============================] - 0s 80us/step - loss: 0.1277 - acc: 0.9531 - val_loss: 0.0961 - val_acc: 0.9441\n",
      "Epoch 39/100\n",
      "426/426 [==============================] - 0s 77us/step - loss: 0.1298 - acc: 0.9554 - val_loss: 0.0950 - val_acc: 0.9441\n",
      "Epoch 40/100\n",
      "426/426 [==============================] - 0s 93us/step - loss: 0.1254 - acc: 0.9531 - val_loss: 0.0943 - val_acc: 0.9441\n",
      "Epoch 41/100\n",
      "426/426 [==============================] - 0s 90us/step - loss: 0.1222 - acc: 0.9554 - val_loss: 0.0946 - val_acc: 0.9441\n",
      "Epoch 42/100\n",
      "426/426 [==============================] - 0s 80us/step - loss: 0.1233 - acc: 0.9507 - val_loss: 0.0950 - val_acc: 0.9510\n",
      "Epoch 43/100\n",
      "426/426 [==============================] - 0s 79us/step - loss: 0.1236 - acc: 0.9507 - val_loss: 0.0945 - val_acc: 0.9580\n",
      "Epoch 44/100\n",
      "426/426 [==============================] - 0s 77us/step - loss: 0.1206 - acc: 0.9554 - val_loss: 0.0928 - val_acc: 0.9441\n",
      "Epoch 45/100\n",
      "426/426 [==============================] - 0s 77us/step - loss: 0.1175 - acc: 0.9531 - val_loss: 0.0908 - val_acc: 0.9510\n",
      "Epoch 46/100\n",
      "426/426 [==============================] - 0s 77us/step - loss: 0.1149 - acc: 0.9577 - val_loss: 0.0913 - val_acc: 0.9580\n",
      "Epoch 47/100\n",
      "426/426 [==============================] - 0s 76us/step - loss: 0.1164 - acc: 0.9554 - val_loss: 0.0886 - val_acc: 0.9510\n",
      "Epoch 48/100\n",
      "426/426 [==============================] - 0s 78us/step - loss: 0.1154 - acc: 0.9577 - val_loss: 0.0880 - val_acc: 0.9510\n",
      "Epoch 49/100\n",
      "426/426 [==============================] - 0s 74us/step - loss: 0.1202 - acc: 0.9577 - val_loss: 0.0871 - val_acc: 0.9510\n",
      "Epoch 50/100\n",
      "426/426 [==============================] - 0s 79us/step - loss: 0.1133 - acc: 0.9577 - val_loss: 0.0878 - val_acc: 0.9580\n",
      "Epoch 51/100\n",
      "426/426 [==============================] - 0s 75us/step - loss: 0.1129 - acc: 0.9601 - val_loss: 0.0987 - val_acc: 0.9650\n",
      "Epoch 52/100\n",
      "426/426 [==============================] - 0s 71us/step - loss: 0.1123 - acc: 0.9601 - val_loss: 0.0913 - val_acc: 0.9580\n",
      "Epoch 53/100\n",
      "426/426 [==============================] - 0s 69us/step - loss: 0.1155 - acc: 0.9648 - val_loss: 0.0834 - val_acc: 0.9510\n",
      "Epoch 54/100\n",
      "426/426 [==============================] - 0s 76us/step - loss: 0.1108 - acc: 0.9648 - val_loss: 0.0945 - val_acc: 0.9580\n",
      "Epoch 55/100\n",
      "426/426 [==============================] - 0s 71us/step - loss: 0.1067 - acc: 0.9624 - val_loss: 0.0876 - val_acc: 0.9720\n",
      "Epoch 56/100\n",
      "426/426 [==============================] - 0s 91us/step - loss: 0.1170 - acc: 0.9577 - val_loss: 0.0862 - val_acc: 0.9650\n",
      "Epoch 57/100\n",
      "426/426 [==============================] - 0s 85us/step - loss: 0.1081 - acc: 0.9601 - val_loss: 0.0856 - val_acc: 0.9510\n",
      "Epoch 58/100\n",
      "426/426 [==============================] - 0s 84us/step - loss: 0.0995 - acc: 0.9648 - val_loss: 0.0855 - val_acc: 0.9510\n",
      "Epoch 59/100\n",
      "426/426 [==============================] - 0s 81us/step - loss: 0.0971 - acc: 0.9648 - val_loss: 0.0860 - val_acc: 0.9580\n",
      "Epoch 60/100\n",
      "426/426 [==============================] - 0s 82us/step - loss: 0.0936 - acc: 0.9648 - val_loss: 0.0850 - val_acc: 0.9510\n",
      "Epoch 61/100\n"
     ]
    },
    {
     "name": "stdout",
     "output_type": "stream",
     "text": [
      "426/426 [==============================] - 0s 87us/step - loss: 0.0936 - acc: 0.9695 - val_loss: 0.0884 - val_acc: 0.9580\n",
      "Epoch 62/100\n",
      "426/426 [==============================] - 0s 85us/step - loss: 0.0960 - acc: 0.9624 - val_loss: 0.0894 - val_acc: 0.9580\n",
      "Epoch 63/100\n",
      "426/426 [==============================] - 0s 84us/step - loss: 0.0951 - acc: 0.9695 - val_loss: 0.0894 - val_acc: 0.9580\n",
      "Epoch 64/100\n",
      "426/426 [==============================] - 0s 81us/step - loss: 0.0945 - acc: 0.9695 - val_loss: 0.0869 - val_acc: 0.9510\n",
      "Epoch 65/100\n",
      "426/426 [==============================] - 0s 71us/step - loss: 0.0936 - acc: 0.9695 - val_loss: 0.0845 - val_acc: 0.9580\n",
      "Epoch 66/100\n",
      "426/426 [==============================] - 0s 71us/step - loss: 0.1040 - acc: 0.9695 - val_loss: 0.0835 - val_acc: 0.9650\n",
      "Epoch 67/100\n",
      "426/426 [==============================] - 0s 76us/step - loss: 0.0971 - acc: 0.9671 - val_loss: 0.0869 - val_acc: 0.9650\n",
      "Epoch 68/100\n",
      "426/426 [==============================] - 0s 69us/step - loss: 0.0950 - acc: 0.9624 - val_loss: 0.0993 - val_acc: 0.9580\n",
      "Epoch 69/100\n",
      "426/426 [==============================] - 0s 77us/step - loss: 0.0902 - acc: 0.9671 - val_loss: 0.1000 - val_acc: 0.9650\n",
      "Epoch 70/100\n",
      "426/426 [==============================] - 0s 89us/step - loss: 0.1021 - acc: 0.9577 - val_loss: 0.0843 - val_acc: 0.9580\n",
      "Epoch 71/100\n",
      "426/426 [==============================] - 0s 77us/step - loss: 0.0972 - acc: 0.9695 - val_loss: 0.0849 - val_acc: 0.9510\n",
      "Epoch 72/100\n",
      "426/426 [==============================] - 0s 77us/step - loss: 0.0883 - acc: 0.9695 - val_loss: 0.0843 - val_acc: 0.9580\n",
      "Epoch 73/100\n",
      "426/426 [==============================] - 0s 75us/step - loss: 0.0858 - acc: 0.9718 - val_loss: 0.0844 - val_acc: 0.9650\n",
      "Epoch 74/100\n",
      "426/426 [==============================] - 0s 76us/step - loss: 0.0849 - acc: 0.9718 - val_loss: 0.0827 - val_acc: 0.9580\n",
      "Epoch 75/100\n",
      "426/426 [==============================] - 0s 78us/step - loss: 0.0838 - acc: 0.9695 - val_loss: 0.0877 - val_acc: 0.9650\n",
      "Epoch 76/100\n",
      "426/426 [==============================] - 0s 75us/step - loss: 0.0955 - acc: 0.9695 - val_loss: 0.0857 - val_acc: 0.9580\n",
      "Epoch 77/100\n",
      "426/426 [==============================] - 0s 76us/step - loss: 0.0944 - acc: 0.9648 - val_loss: 0.0848 - val_acc: 0.9580\n",
      "Epoch 78/100\n",
      "426/426 [==============================] - 0s 77us/step - loss: 0.0999 - acc: 0.9648 - val_loss: 0.0834 - val_acc: 0.9580\n",
      "Epoch 79/100\n",
      "426/426 [==============================] - 0s 82us/step - loss: 0.0883 - acc: 0.9671 - val_loss: 0.1253 - val_acc: 0.9650\n",
      "Epoch 80/100\n",
      "426/426 [==============================] - 0s 88us/step - loss: 0.1114 - acc: 0.9624 - val_loss: 0.1042 - val_acc: 0.9580\n",
      "Epoch 81/100\n",
      "426/426 [==============================] - 0s 79us/step - loss: 0.0923 - acc: 0.9671 - val_loss: 0.0885 - val_acc: 0.9650\n",
      "Epoch 82/100\n",
      "426/426 [==============================] - 0s 80us/step - loss: 0.0839 - acc: 0.9718 - val_loss: 0.0871 - val_acc: 0.9650\n",
      "Epoch 83/100\n",
      "426/426 [==============================] - 0s 77us/step - loss: 0.0830 - acc: 0.9671 - val_loss: 0.0839 - val_acc: 0.9580\n",
      "Epoch 84/100\n",
      "426/426 [==============================] - 0s 76us/step - loss: 0.0830 - acc: 0.9695 - val_loss: 0.0845 - val_acc: 0.9650\n",
      "Epoch 85/100\n",
      "426/426 [==============================] - 0s 76us/step - loss: 0.0889 - acc: 0.9695 - val_loss: 0.0856 - val_acc: 0.9580\n",
      "Epoch 86/100\n",
      "426/426 [==============================] - 0s 81us/step - loss: 0.0919 - acc: 0.9671 - val_loss: 0.0934 - val_acc: 0.9650\n",
      "Epoch 87/100\n",
      "426/426 [==============================] - 0s 80us/step - loss: 0.1046 - acc: 0.9648 - val_loss: 0.0867 - val_acc: 0.9510\n",
      "Epoch 88/100\n",
      "426/426 [==============================] - 0s 89us/step - loss: 0.1035 - acc: 0.9648 - val_loss: 0.1092 - val_acc: 0.9650\n",
      "Epoch 89/100\n",
      "426/426 [==============================] - 0s 79us/step - loss: 0.0845 - acc: 0.9671 - val_loss: 0.0855 - val_acc: 0.9580\n",
      "Epoch 90/100\n",
      "426/426 [==============================] - 0s 83us/step - loss: 0.0819 - acc: 0.9742 - val_loss: 0.0846 - val_acc: 0.9580\n",
      "Epoch 91/100\n",
      "426/426 [==============================] - 0s 87us/step - loss: 0.0814 - acc: 0.9742 - val_loss: 0.0843 - val_acc: 0.9650\n",
      "Epoch 92/100\n",
      "426/426 [==============================] - 0s 84us/step - loss: 0.0775 - acc: 0.9695 - val_loss: 0.0835 - val_acc: 0.9580\n",
      "Epoch 93/100\n",
      "426/426 [==============================] - 0s 85us/step - loss: 0.0760 - acc: 0.9695 - val_loss: 0.0833 - val_acc: 0.9510\n",
      "Epoch 94/100\n",
      "426/426 [==============================] - 0s 87us/step - loss: 0.0881 - acc: 0.9695 - val_loss: 0.0830 - val_acc: 0.9510\n",
      "Epoch 95/100\n",
      "426/426 [==============================] - 0s 89us/step - loss: 0.0820 - acc: 0.9718 - val_loss: 0.0969 - val_acc: 0.9650\n",
      "Epoch 96/100\n",
      "426/426 [==============================] - 0s 88us/step - loss: 0.0792 - acc: 0.9718 - val_loss: 0.0840 - val_acc: 0.9580\n",
      "Epoch 97/100\n",
      "426/426 [==============================] - 0s 77us/step - loss: 0.0806 - acc: 0.9742 - val_loss: 0.0848 - val_acc: 0.9580\n",
      "Epoch 98/100\n",
      "426/426 [==============================] - 0s 84us/step - loss: 0.0980 - acc: 0.9742 - val_loss: 0.0903 - val_acc: 0.9650\n",
      "Epoch 99/100\n",
      "426/426 [==============================] - 0s 79us/step - loss: 0.0811 - acc: 0.9718 - val_loss: 0.1198 - val_acc: 0.9650\n",
      "Epoch 100/100\n",
      "426/426 [==============================] - 0s 76us/step - loss: 0.1048 - acc: 0.9695 - val_loss: 0.0903 - val_acc: 0.9580\n"
     ]
    }
   ],
   "source": [
    "history = model.fit(features_train, labels_train, epochs=100, validation_data=(features_test, labels_test))"
   ]
  },
  {
   "cell_type": "code",
   "execution_count": 38,
   "metadata": {},
   "outputs": [
    {
     "data": {
      "text/plain": [
       "[<matplotlib.lines.Line2D at 0x12492d5c0>]"
      ]
     },
     "execution_count": 38,
     "metadata": {},
     "output_type": "execute_result"
    },
    {
     "data": {
      "image/png": "[encoded data removed]",
      "text/plain": [
       "<Figure size 432x288 with 1 Axes>"
      ]
     },
     "metadata": {},
     "output_type": "display_data"
    }
   ],
   "source": [
    "plt.plot(history.history['loss'])"
   ]
  },
  {
   "cell_type": "code",
   "execution_count": 39,
   "metadata": {},
   "outputs": [
    {
     "data": {
      "text/plain": [
       "[<matplotlib.lines.Line2D at 0x123e444a8>]"
      ]
     },
     "execution_count": 39,
     "metadata": {},
     "output_type": "execute_result"
    },
    {
     "data": {
      "image/png": "[encoded data removed]",
      "text/plain": [
       "<Figure size 432x288 with 1 Axes>"
      ]
     },
     "metadata": {},
     "output_type": "display_data"
    }
   ],
   "source": [
    "plt.plot(history.history['acc'])"
   ]
  },
  {
   "cell_type": "code",
   "execution_count": 40,
   "metadata": {},
   "outputs": [],
   "source": [
    "pred = model.predict(features_test)"
   ]
  },
  {
   "cell_type": "code",
   "execution_count": 41,
   "metadata": {},
   "outputs": [],
   "source": [
    "pred = np.argmax(pred, axis=1)"
   ]
  },
  {
   "cell_type": "code",
   "execution_count": 42,
   "metadata": {},
   "outputs": [],
   "source": [
    "from sklearn.metrics import accuracy_score\n"
   ]
  },
  {
   "cell_type": "code",
   "execution_count": null,
   "metadata": {},
   "outputs": [],
   "source": []
  },
  {
   "cell_type": "code",
   "execution_count": 44,
   "metadata": {},
   "outputs": [
    {
     "data": {
      "text/plain": [
       "0"
      ]
     },
     "execution_count": 44,
     "metadata": {},
     "output_type": "execute_result"
    }
   ],
   "source": []
  },
  {
   "cell_type": "code",
   "execution_count": null,
   "metadata": {},
   "outputs": [],
   "source": []
  },
  {
   "cell_type": "code",
   "execution_count": null,
   "metadata": {},
   "outputs": [],
   "source": []
  },
  {
   "cell_type": "code",
   "execution_count": null,
   "metadata": {},
   "outputs": [],
   "source": []
  },
  {
   "cell_type": "code",
   "execution_count": null,
   "metadata": {},
   "outputs": [],
   "source": []
  },
  {
   "cell_type": "code",
   "execution_count": null,
   "metadata": {},
   "outputs": [],
   "source": []
  },
  {
   "cell_type": "code",
   "execution_count": null,
   "metadata": {},
   "outputs": [],
   "source": []
  }
 ],
 "metadata": {
  "kernelspec": {
   "display_name": "Python 3",
   "language": "python",
   "name": "python3"
  },
  "language_info": {
   "codemirror_mode": {
    "name": "ipython",
    "version": 3
   },
   "file_extension": ".py",
   "mimetype": "text/x-python",
   "name": "python",
   "nbconvert_exporter": "python",
   "pygments_lexer": "ipython3",
   "version": "3.6.4"
  }
 },
 "nbformat": 4,
 "nbformat_minor": 2
}
