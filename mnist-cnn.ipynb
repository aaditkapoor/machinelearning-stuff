{
 "cells": [
  {
   "cell_type": "code",
   "execution_count": 41,
   "metadata": {},
   "outputs": [],
   "source": [
    "import numpy as np\n",
    "import torch\n",
    "from torch import nn\n",
    "from torch.autograd import Variable\n",
    "from torch.utils.data import DataLoader, TensorDataset\n",
    "from sklearn.datasets import load_digits\n",
    "from sklearn.model_selection import train_test_split\n",
    "import torch.nn.functional as F\n",
    "import matplotlib.pyplot as plt\n",
    "import skorch\n",
    "from sklearn.metrics import accuracy_score"
   ]
  },
  {
   "cell_type": "code",
   "execution_count": 2,
   "metadata": {},
   "outputs": [],
   "source": [
    "data = load_digits()"
   ]
  },
  {
   "cell_type": "code",
   "execution_count": 3,
   "metadata": {},
   "outputs": [],
   "source": [
    "features = data.images\n",
    "labels = data.target"
   ]
  },
  {
   "cell_type": "code",
   "execution_count": 9,
   "metadata": {},
   "outputs": [
    {
     "data": {
      "text/plain": [
       "<matplotlib.image.AxesImage at 0x114b78908>"
      ]
     },
     "execution_count": 9,
     "metadata": {},
     "output_type": "execute_result"
    },
    {
     "data": {
      "image/png": "[encoded data removed]",
      "text/plain": [
       "<Figure size 432x288 with 1 Axes>"
      ]
     },
     "metadata": {},
     "output_type": "display_data"
    }
   ],
   "source": [
    "plt.imshow(features[1], cmap=\"gray\")"
   ]
  },
  {
   "cell_type": "code",
   "execution_count": 11,
   "metadata": {},
   "outputs": [],
   "source": [
    "features_train, features_test, labels_train, labels_test = train_test_split(features, labels, random_state=34, shuffle=True)"
   ]
  },
  {
   "cell_type": "code",
   "execution_count": 12,
   "metadata": {},
   "outputs": [],
   "source": [
    "x_train = Variable(torch.from_numpy(features_train), requires_grad=False).float()\n",
    "y_train = Variable(torch.from_numpy(labels_train)).long()\n",
    "\n",
    "x_test = Variable(torch.from_numpy(features_test), requires_grad=False).float()\n",
    "y_test = Variable(torch.from_numpy(labels_test)).long()"
   ]
  },
  {
   "cell_type": "code",
   "execution_count": 19,
   "metadata": {},
   "outputs": [],
   "source": [
    "x_train = x_train.view(1347, -1, 8, 8)\n",
    "x_test = x_test.view(len(x_test), -1, 8, 8)"
   ]
  },
  {
   "cell_type": "code",
   "execution_count": 20,
   "metadata": {},
   "outputs": [
    {
     "name": "stdout",
     "output_type": "stream",
     "text": [
      "Shape of x_train:  torch.Size([1347, 1, 8, 8])\n",
      "Shape of x_test: torch.Size([450, 1, 8, 8])\n"
     ]
    }
   ],
   "source": [
    "print (\"Shape of x_train: \", x_train.shape)\n",
    "print (\"Shape of x_test:\", x_test.shape)"
   ]
  },
  {
   "cell_type": "code",
   "execution_count": 23,
   "metadata": {},
   "outputs": [],
   "source": [
    "class Flatten(nn.Module):\n",
    "    def forward(self, x):\n",
    "        return x.view(x.size(0), -1)"
   ]
  },
  {
   "cell_type": "code",
   "execution_count": 37,
   "metadata": {},
   "outputs": [],
   "source": [
    "net = nn.Sequential(nn.Conv2d(1, 64, kernel_size=3),nn.ReLU(), nn.MaxPool2d(2),nn.ReLU(), nn.Conv2d(64, 18, kernel_size=3),Flatten(), nn.Linear(18, 10))"
   ]
  },
  {
   "cell_type": "code",
   "execution_count": 38,
   "metadata": {},
   "outputs": [],
   "source": [
    "optimizer=torch.optim.Adam(net.parameters(), lr=0.001)\n",
    "criterion = nn.CrossEntropyLoss()\n",
    "epochs=100"
   ]
  },
  {
   "cell_type": "code",
   "execution_count": 42,
   "metadata": {},
   "outputs": [],
   "source": [
    "def train():\n",
    "    net.train()\n",
    "    for epoch in range(1, epochs):\n",
    "        optimizer.zero_grad()\n",
    "        y_pred = net(x_train)\n",
    "        acc = accuracy_score(labels_train, y_pred.max(1)[1].data.numpy())\n",
    "        loss = criterion(y_pred, y_train)\n",
    "        print (\"epoch #\", epoch)\n",
    "        print (\"loss: \", loss.item())\n",
    "        print (\"acc: \", acc * 100,\"%\")\n",
    "        loss.backward()\n",
    "        optimizer.step()\n"
   ]
  },
  {
   "cell_type": "code",
   "execution_count": 43,
   "metadata": {},
   "outputs": [
    {
     "name": "stdout",
     "output_type": "stream",
     "text": [
      "epoch # 1\n",
      "loss:  0.3020625710487366\n",
      "acc:  93.39272457312546 %\n",
      "epoch # 2\n",
      "loss:  0.29073968529701233\n",
      "acc:  93.83815887156645 %\n",
      "epoch # 3\n",
      "loss:  0.28075405955314636\n",
      "acc:  93.9123979213066 %\n",
      "epoch # 4\n",
      "loss:  0.27144163846969604\n",
      "acc:  93.9123979213066 %\n",
      "epoch # 5\n",
      "loss:  0.2623262107372284\n",
      "acc:  94.06087602078694 %\n",
      "epoch # 6\n",
      "loss:  0.25330275297164917\n",
      "acc:  94.43207126948775 %\n",
      "epoch # 7\n",
      "loss:  0.24452424049377441\n",
      "acc:  94.72902746844841 %\n",
      "epoch # 8\n",
      "loss:  0.2362017035484314\n",
      "acc:  94.80326651818856 %\n",
      "epoch # 9\n",
      "loss:  0.2284063845872879\n",
      "acc:  95.02598366740905 %\n",
      "epoch # 10\n",
      "loss:  0.22110044956207275\n",
      "acc:  95.32293986636972 %\n",
      "epoch # 11\n",
      "loss:  0.21419909596443176\n",
      "acc:  95.61989606533037 %\n",
      "epoch # 12\n",
      "loss:  0.20765064656734467\n",
      "acc:  95.7683741648107 %\n",
      "epoch # 13\n",
      "loss:  0.20143204927444458\n",
      "acc:  95.84261321455085 %\n",
      "epoch # 14\n",
      "loss:  0.1955357789993286\n",
      "acc:  96.06533036377134 %\n",
      "epoch # 15\n",
      "loss:  0.18993033468723297\n",
      "acc:  96.13956941351151 %\n",
      "epoch # 16\n",
      "loss:  0.1845780611038208\n",
      "acc:  96.06533036377134 %\n",
      "epoch # 17\n",
      "loss:  0.179444819688797\n",
      "acc:  96.36228656273201 %\n",
      "epoch # 18\n",
      "loss:  0.17451763153076172\n",
      "acc:  96.51076466221232 %\n",
      "epoch # 19\n",
      "loss:  0.16978232562541962\n",
      "acc:  96.58500371195248 %\n",
      "epoch # 20\n",
      "loss:  0.16525597870349884\n",
      "acc:  96.58500371195248 %\n",
      "epoch # 21\n",
      "loss:  0.16090388596057892\n",
      "acc:  96.73348181143281 %\n",
      "epoch # 22\n",
      "loss:  0.15668676793575287\n",
      "acc:  96.80772086117298 %\n",
      "epoch # 23\n",
      "loss:  0.15260523557662964\n",
      "acc:  96.95619896065331 %\n",
      "epoch # 24\n",
      "loss:  0.14864566922187805\n",
      "acc:  97.10467706013362 %\n",
      "epoch # 25\n",
      "loss:  0.14481940865516663\n",
      "acc:  97.10467706013362 %\n",
      "epoch # 26\n",
      "loss:  0.1411421000957489\n",
      "acc:  97.03043801039347 %\n",
      "epoch # 27\n",
      "loss:  0.13762275874614716\n",
      "acc:  97.25315515961395 %\n",
      "epoch # 28\n",
      "loss:  0.13425947725772858\n",
      "acc:  97.40163325909428 %\n",
      "epoch # 29\n",
      "loss:  0.13102446496486664\n",
      "acc:  97.69858945805494 %\n",
      "epoch # 30\n",
      "loss:  0.12789443135261536\n",
      "acc:  97.69858945805494 %\n",
      "epoch # 31\n",
      "loss:  0.12485979497432709\n",
      "acc:  97.69858945805494 %\n",
      "epoch # 32\n",
      "loss:  0.12192556262016296\n",
      "acc:  97.69858945805494 %\n",
      "epoch # 33\n",
      "loss:  0.11909519881010056\n",
      "acc:  97.84706755753525 %\n",
      "epoch # 34\n",
      "loss:  0.11637859046459198\n",
      "acc:  97.84706755753525 %\n",
      "epoch # 35\n",
      "loss:  0.1137675791978836\n",
      "acc:  97.9955456570156 %\n",
      "epoch # 36\n",
      "loss:  0.11124958842992783\n",
      "acc:  98.21826280623608 %\n",
      "epoch # 37\n",
      "loss:  0.10880444198846817\n",
      "acc:  98.29250185597624 %\n",
      "epoch # 38\n",
      "loss:  0.1064290776848793\n",
      "acc:  98.29250185597624 %\n",
      "epoch # 39\n",
      "loss:  0.10412055253982544\n",
      "acc:  98.51521900519673 %\n",
      "epoch # 40\n",
      "loss:  0.10187498480081558\n",
      "acc:  98.51521900519673 %\n",
      "epoch # 41\n",
      "loss:  0.09971268475055695\n",
      "acc:  98.51521900519673 %\n",
      "epoch # 42\n",
      "loss:  0.09762255847454071\n",
      "acc:  98.51521900519673 %\n",
      "epoch # 43\n",
      "loss:  0.09559684246778488\n",
      "acc:  98.51521900519673 %\n",
      "epoch # 44\n",
      "loss:  0.09363129734992981\n",
      "acc:  98.66369710467706 %\n",
      "epoch # 45\n",
      "loss:  0.09171560406684875\n",
      "acc:  98.66369710467706 %\n",
      "epoch # 46\n",
      "loss:  0.08984898030757904\n",
      "acc:  98.66369710467706 %\n",
      "epoch # 47\n",
      "loss:  0.0880352258682251\n",
      "acc:  98.66369710467706 %\n",
      "epoch # 48\n",
      "loss:  0.0862676277756691\n",
      "acc:  98.73793615441723 %\n",
      "epoch # 49\n",
      "loss:  0.08453571051359177\n",
      "acc:  98.81217520415738 %\n",
      "epoch # 50\n",
      "loss:  0.08284616470336914\n",
      "acc:  98.81217520415738 %\n",
      "epoch # 51\n",
      "loss:  0.08120344579219818\n",
      "acc:  98.88641425389754 %\n",
      "epoch # 52\n",
      "loss:  0.07960119098424911\n",
      "acc:  98.96065330363771 %\n",
      "epoch # 53\n",
      "loss:  0.0780378133058548\n",
      "acc:  98.96065330363771 %\n",
      "epoch # 54\n",
      "loss:  0.07653100788593292\n",
      "acc:  98.96065330363771 %\n",
      "epoch # 55\n",
      "loss:  0.07506760954856873\n",
      "acc:  98.96065330363771 %\n",
      "epoch # 56\n",
      "loss:  0.07363937050104141\n",
      "acc:  98.96065330363771 %\n",
      "epoch # 57\n",
      "loss:  0.07223494350910187\n",
      "acc:  98.96065330363771 %\n",
      "epoch # 58\n",
      "loss:  0.07086508721113205\n",
      "acc:  98.96065330363771 %\n",
      "epoch # 59\n",
      "loss:  0.06953157484531403\n",
      "acc:  99.10913140311804 %\n",
      "epoch # 60\n",
      "loss:  0.06822536140680313\n",
      "acc:  99.1833704528582 %\n",
      "epoch # 61\n",
      "loss:  0.06694770604372025\n",
      "acc:  99.25760950259837 %\n",
      "epoch # 62\n",
      "loss:  0.06569459289312363\n",
      "acc:  99.25760950259837 %\n",
      "epoch # 63\n",
      "loss:  0.06447222083806992\n",
      "acc:  99.25760950259837 %\n",
      "epoch # 64\n",
      "loss:  0.06327584385871887\n",
      "acc:  99.25760950259837 %\n",
      "epoch # 65\n",
      "loss:  0.062103718519210815\n",
      "acc:  99.25760950259837 %\n",
      "epoch # 66\n",
      "loss:  0.060959819704294205\n",
      "acc:  99.25760950259837 %\n",
      "epoch # 67\n",
      "loss:  0.05984145775437355\n",
      "acc:  99.25760950259837 %\n",
      "epoch # 68\n",
      "loss:  0.058745935559272766\n",
      "acc:  99.25760950259837 %\n",
      "epoch # 69\n",
      "loss:  0.05767257511615753\n",
      "acc:  99.25760950259837 %\n",
      "epoch # 70\n",
      "loss:  0.05661984905600548\n",
      "acc:  99.4060876020787 %\n",
      "epoch # 71\n",
      "loss:  0.0555863082408905\n",
      "acc:  99.4060876020787 %\n",
      "epoch # 72\n",
      "loss:  0.05457223951816559\n",
      "acc:  99.4060876020787 %\n",
      "epoch # 73\n",
      "loss:  0.05357804894447327\n",
      "acc:  99.4060876020787 %\n",
      "epoch # 74\n",
      "loss:  0.05260494723916054\n",
      "acc:  99.4060876020787 %\n",
      "epoch # 75\n",
      "loss:  0.051649291068315506\n",
      "acc:  99.4060876020787 %\n",
      "epoch # 76\n",
      "loss:  0.05071108043193817\n",
      "acc:  99.4060876020787 %\n",
      "epoch # 77\n",
      "loss:  0.04979352280497551\n",
      "acc:  99.4060876020787 %\n",
      "epoch # 78\n",
      "loss:  0.04889414831995964\n",
      "acc:  99.4060876020787 %\n",
      "epoch # 79\n",
      "loss:  0.04800857976078987\n",
      "acc:  99.4060876020787 %\n",
      "epoch # 80\n",
      "loss:  0.047142013907432556\n",
      "acc:  99.4060876020787 %\n",
      "epoch # 81\n",
      "loss:  0.04629039391875267\n",
      "acc:  99.4060876020787 %\n",
      "epoch # 82\n",
      "loss:  0.045453641563653946\n",
      "acc:  99.4060876020787 %\n",
      "epoch # 83\n",
      "loss:  0.04463572055101395\n",
      "acc:  99.4060876020787 %\n",
      "epoch # 84\n",
      "loss:  0.04384012147784233\n",
      "acc:  99.48032665181886 %\n",
      "epoch # 85\n",
      "loss:  0.04306059330701828\n",
      "acc:  99.48032665181886 %\n",
      "epoch # 86\n",
      "loss:  0.04229521378874779\n",
      "acc:  99.48032665181886 %\n",
      "epoch # 87\n",
      "loss:  0.0415450744330883\n",
      "acc:  99.48032665181886 %\n",
      "epoch # 88\n",
      "loss:  0.04081340879201889\n",
      "acc:  99.55456570155901 %\n",
      "epoch # 89\n",
      "loss:  0.04009386524558067\n",
      "acc:  99.55456570155901 %\n",
      "epoch # 90\n",
      "loss:  0.03939143568277359\n",
      "acc:  99.55456570155901 %\n",
      "epoch # 91\n",
      "loss:  0.03870045766234398\n",
      "acc:  99.55456570155901 %\n",
      "epoch # 92\n",
      "loss:  0.0380222424864769\n",
      "acc:  99.55456570155901 %\n",
      "epoch # 93\n",
      "loss:  0.03736068680882454\n",
      "acc:  99.55456570155901 %\n",
      "epoch # 94\n",
      "loss:  0.036714352667331696\n",
      "acc:  99.55456570155901 %\n",
      "epoch # 95\n",
      "loss:  0.03608119860291481\n",
      "acc:  99.55456570155901 %\n",
      "epoch # 96\n",
      "loss:  0.035459406673908234\n",
      "acc:  99.55456570155901 %\n",
      "epoch # 97\n",
      "loss:  0.03484753146767616\n",
      "acc:  99.62880475129919 %\n",
      "epoch # 98\n",
      "loss:  0.03424792364239693\n",
      "acc:  99.62880475129919 %\n",
      "epoch # 99\n",
      "loss:  0.03366133198142052\n",
      "acc:  99.62880475129919 %\n"
     ]
    }
   ],
   "source": [
    "train()"
   ]
  },
  {
   "cell_type": "code",
   "execution_count": 44,
   "metadata": {},
   "outputs": [],
   "source": [
    "predictions = net(x_test).max(1)[1]"
   ]
  },
  {
   "cell_type": "code",
   "execution_count": 45,
   "metadata": {},
   "outputs": [
    {
     "data": {
      "text/plain": [
       "0.98"
      ]
     },
     "execution_count": 45,
     "metadata": {},
     "output_type": "execute_result"
    }
   ],
   "source": [
    "accuracy_score(labels_test, predictions.data.numpy())"
   ]
  },
  {
   "cell_type": "code",
   "execution_count": null,
   "metadata": {},
   "outputs": [],
   "source": []
  }
 ],
 "metadata": {
  "kernelspec": {
   "display_name": "Python 3",
   "language": "python",
   "name": "python3"
  },
  "language_info": {
   "codemirror_mode": {
    "name": "ipython",
    "version": 3
   },
   "file_extension": ".py",
   "mimetype": "text/x-python",
   "name": "python",
   "nbconvert_exporter": "python",
   "pygments_lexer": "ipython3",
   "version": "3.6.4"
  }
 },
 "nbformat": 4,
 "nbformat_minor": 2
}
