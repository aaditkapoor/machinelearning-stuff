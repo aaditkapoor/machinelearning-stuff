{
 "cells": [
  {
   "cell_type": "code",
   "execution_count": 30,
   "metadata": {},
   "outputs": [],
   "source": [
    "import pandas as pd\n",
    "import numpy as np\n",
    "from sklearn.decomposition import PCA\n",
    "from sklearn.model_selection import train_test_split\n",
    "import keras\n",
    "from keras import Sequential\n",
    "from keras.layers import Input, Dense\n",
    "from keras.models import Model\n",
    "from sklearn.datasets import make_classification\n",
    "from keras.callbacks import TensorBoard\n",
    "from keras.utils import to_categorical"
   ]
  },
  {
   "cell_type": "code",
   "execution_count": 6,
   "metadata": {},
   "outputs": [],
   "source": [
    "data = make_classification(n_samples=50000,n_features=200, n_classes=2)"
   ]
  },
  {
   "cell_type": "code",
   "execution_count": 9,
   "metadata": {},
   "outputs": [],
   "source": [
    "features = data[0]\n",
    "labels = data[1]"
   ]
  },
  {
   "cell_type": "code",
   "execution_count": 10,
   "metadata": {},
   "outputs": [],
   "source": [
    "features_train, features_test, labels_train, labels_test = train_test_split(features, labels, random_state=3, shuffle=True)"
   ]
  },
  {
   "cell_type": "code",
   "execution_count": 11,
   "metadata": {},
   "outputs": [
    {
     "data": {
      "text/plain": [
       "37500"
      ]
     },
     "execution_count": 11,
     "metadata": {},
     "output_type": "execute_result"
    }
   ],
   "source": [
    "len(features_train)"
   ]
  },
  {
   "cell_type": "code",
   "execution_count": 25,
   "metadata": {},
   "outputs": [],
   "source": [
    "# Building Model\n",
    "inpL = Input(shape=(features_train.shape[1],), name=\"input\")\n",
    "h_l1 = Dense(100, activation=\"relu\")(inpL)\n",
    "h_l2 = Dense(100, activation=\"relu\")(h_l1)\n",
    "h_l3 = Dense(100, activation=\"relu\")(h_l2)\n",
    "output = Dense(2, activation=\"softmax\")(h_l3)\n",
    "model = Model(inputs=inpL, outputs=output, name=\"output\")"
   ]
  },
  {
   "cell_type": "code",
   "execution_count": 26,
   "metadata": {},
   "outputs": [],
   "source": [
    "model.compile(optimizer=\"adam\", loss=keras.losses.categorical_crossentropy, metrics=['acc'])"
   ]
  },
  {
   "cell_type": "code",
   "execution_count": 28,
   "metadata": {},
   "outputs": [],
   "source": [
    "labels_train = to_categorical(labels_train)\n",
    "labels_test = to_categorical(labels_test)"
   ]
  },
  {
   "cell_type": "code",
   "execution_count": 31,
   "metadata": {},
   "outputs": [
    {
     "name": "stdout",
     "output_type": "stream",
     "text": [
      "Epoch 1/100\n",
      "37500/37500 [==============================] - 1s 19us/step - loss: 2.2487e-07 - acc: 1.0000\n",
      "Epoch 2/100\n",
      "37500/37500 [==============================] - 1s 20us/step - loss: 2.1568e-07 - acc: 1.0000: 0s - loss: 2.0383e-07\n",
      "Epoch 3/100\n",
      "37500/37500 [==============================] - 1s 19us/step - loss: 2.0715e-07 - acc: 1.0000\n",
      "Epoch 4/100\n",
      "37500/37500 [==============================] - 1s 19us/step - loss: 1.9927e-07 - acc: 1.0000\n",
      "Epoch 5/100\n",
      "37500/37500 [==============================] - 1s 19us/step - loss: 1.9214e-07 - acc: 1.0000\n",
      "Epoch 6/100\n",
      "37500/37500 [==============================] - 1s 19us/step - loss: 1.8542e-07 - acc: 1.0000\n",
      "Epoch 7/100\n",
      "37500/37500 [==============================] - 1s 19us/step - loss: 1.7931e-07 - acc: 1.0000\n",
      "Epoch 8/100\n",
      "37500/37500 [==============================] - 1s 19us/step - loss: 1.7384e-07 - acc: 1.0000\n",
      "Epoch 9/100\n",
      "37500/37500 [==============================] - 1s 17us/step - loss: 1.6865e-07 - acc: 1.0000\n",
      "Epoch 10/100\n",
      "37500/37500 [==============================] - 1s 17us/step - loss: 1.6396e-07 - acc: 1.0000\n",
      "Epoch 11/100\n",
      "37500/37500 [==============================] - 1s 17us/step - loss: 1.5961e-07 - acc: 1.0000\n",
      "Epoch 12/100\n",
      "37500/37500 [==============================] - 1s 18us/step - loss: 1.5565e-07 - acc: 1.0000\n",
      "Epoch 13/100\n",
      "37500/37500 [==============================] - 1s 19us/step - loss: 1.5197e-07 - acc: 1.0000\n",
      "Epoch 14/100\n",
      "37500/37500 [==============================] - 1s 19us/step - loss: 1.4871e-07 - acc: 1.0000\n",
      "Epoch 15/100\n",
      "37500/37500 [==============================] - 1s 18us/step - loss: 1.4556e-07 - acc: 1.0000\n",
      "Epoch 16/100\n",
      "37500/37500 [==============================] - 1s 17us/step - loss: 1.4285e-07 - acc: 1.0000\n",
      "Epoch 17/100\n",
      "37500/37500 [==============================] - 1s 18us/step - loss: 1.4023e-07 - acc: 1.0000\n",
      "Epoch 18/100\n",
      "37500/37500 [==============================] - 1s 18us/step - loss: 1.3794e-07 - acc: 1.0000\n",
      "Epoch 19/100\n",
      "37500/37500 [==============================] - 1s 18us/step - loss: 1.3578e-07 - acc: 1.0000\n",
      "Epoch 20/100\n",
      "37500/37500 [==============================] - 1s 18us/step - loss: 1.3389e-07 - acc: 1.0000\n",
      "Epoch 21/100\n",
      "37500/37500 [==============================] - 1s 18us/step - loss: 1.3212e-07 - acc: 1.0000\n",
      "Epoch 22/100\n",
      "37500/37500 [==============================] - 1s 18us/step - loss: 1.3047e-07 - acc: 1.0000\n",
      "Epoch 23/100\n",
      "37500/37500 [==============================] - 1s 18us/step - loss: 1.2906e-07 - acc: 1.0000\n",
      "Epoch 24/100\n",
      "37500/37500 [==============================] - 1s 19us/step - loss: 1.2776e-07 - acc: 1.0000\n",
      "Epoch 25/100\n",
      "37500/37500 [==============================] - 1s 19us/step - loss: 1.2658e-07 - acc: 1.0000\n",
      "Epoch 26/100\n",
      "37500/37500 [==============================] - 1s 19us/step - loss: 1.2554e-07 - acc: 1.0000\n",
      "Epoch 27/100\n",
      "37500/37500 [==============================] - 1s 19us/step - loss: 1.2455e-07 - acc: 1.0000\n",
      "Epoch 28/100\n",
      "37500/37500 [==============================] - 1s 20us/step - loss: 1.2377e-07 - acc: 1.0000\n",
      "Epoch 29/100\n",
      "37500/37500 [==============================] - 1s 19us/step - loss: 1.2304e-07 - acc: 1.0000\n",
      "Epoch 30/100\n",
      "37500/37500 [==============================] - 1s 20us/step - loss: 1.2240e-07 - acc: 1.0000\n",
      "Epoch 31/100\n",
      "37500/37500 [==============================] - 1s 20us/step - loss: 1.2182e-07 - acc: 1.0000\n",
      "Epoch 32/100\n",
      "37500/37500 [==============================] - 1s 18us/step - loss: 1.2131e-07 - acc: 1.0000\n",
      "Epoch 33/100\n",
      "37500/37500 [==============================] - 1s 18us/step - loss: 1.2091e-07 - acc: 1.0000\n",
      "Epoch 34/100\n",
      "37500/37500 [==============================] - 1s 18us/step - loss: 1.2051e-07 - acc: 1.0000\n",
      "Epoch 35/100\n",
      "37500/37500 [==============================] - 1s 20us/step - loss: 1.2026e-07 - acc: 1.0000\n",
      "Epoch 36/100\n",
      "37500/37500 [==============================] - 1s 19us/step - loss: 1.2001e-07 - acc: 1.0000\n",
      "Epoch 37/100\n",
      "37500/37500 [==============================] - 1s 19us/step - loss: 1.1982e-07 - acc: 1.0000\n",
      "Epoch 38/100\n",
      "37500/37500 [==============================] - 1s 18us/step - loss: 1.1968e-07 - acc: 1.0000\n",
      "Epoch 39/100\n",
      "37500/37500 [==============================] - 1s 18us/step - loss: 1.1957e-07 - acc: 1.0000\n",
      "Epoch 40/100\n",
      "37500/37500 [==============================] - 1s 19us/step - loss: 1.1950e-07 - acc: 1.0000\n",
      "Epoch 41/100\n",
      "37500/37500 [==============================] - 1s 20us/step - loss: 1.1944e-07 - acc: 1.0000\n",
      "Epoch 42/100\n",
      "37500/37500 [==============================] - 1s 20us/step - loss: 1.1939e-07 - acc: 1.0000\n",
      "Epoch 43/100\n",
      "37500/37500 [==============================] - 1s 22us/step - loss: 1.1934e-07 - acc: 1.0000\n",
      "Epoch 44/100\n",
      "37500/37500 [==============================] - 1s 23us/step - loss: 1.1932e-07 - acc: 1.0000\n",
      "Epoch 45/100\n",
      "37500/37500 [==============================] - 1s 20us/step - loss: 1.1929e-07 - acc: 1.0000\n",
      "Epoch 46/100\n",
      "37500/37500 [==============================] - 1s 21us/step - loss: 1.1927e-07 - acc: 1.0000\n",
      "Epoch 47/100\n",
      "37500/37500 [==============================] - 1s 20us/step - loss: 1.1926e-07 - acc: 1.0000\n",
      "Epoch 48/100\n",
      "37500/37500 [==============================] - 1s 19us/step - loss: 1.1925e-07 - acc: 1.0000\n",
      "Epoch 49/100\n",
      "37500/37500 [==============================] - 1s 20us/step - loss: 1.1924e-07 - acc: 1.0000\n",
      "Epoch 50/100\n",
      "37500/37500 [==============================] - 1s 18us/step - loss: 1.1923e-07 - acc: 1.0000\n",
      "Epoch 51/100\n",
      "37500/37500 [==============================] - 1s 19us/step - loss: 1.1923e-07 - acc: 1.0000\n",
      "Epoch 52/100\n",
      "37500/37500 [==============================] - 1s 18us/step - loss: 1.1922e-07 - acc: 1.0000\n",
      "Epoch 53/100\n",
      "37500/37500 [==============================] - 1s 20us/step - loss: 1.1922e-07 - acc: 1.0000\n",
      "Epoch 54/100\n",
      "37500/37500 [==============================] - 1s 19us/step - loss: 1.1922e-07 - acc: 1.0000\n",
      "Epoch 55/100\n",
      "37500/37500 [==============================] - 1s 20us/step - loss: 1.1922e-07 - acc: 1.0000\n",
      "Epoch 56/100\n",
      "37500/37500 [==============================] - 1s 20us/step - loss: 1.1921e-07 - acc: 1.0000\n",
      "Epoch 57/100\n",
      "37500/37500 [==============================] - 1s 20us/step - loss: 1.1921e-07 - acc: 1.0000\n",
      "Epoch 58/100\n",
      "37500/37500 [==============================] - 1s 20us/step - loss: 1.1921e-07 - acc: 1.0000\n",
      "Epoch 59/100\n",
      "37500/37500 [==============================] - 1s 20us/step - loss: 1.1921e-07 - acc: 1.0000\n",
      "Epoch 60/100\n",
      "37500/37500 [==============================] - 1s 19us/step - loss: 1.1921e-07 - acc: 1.0000\n",
      "Epoch 61/100\n",
      "37500/37500 [==============================] - 1s 21us/step - loss: 1.1921e-07 - acc: 1.0000\n",
      "Epoch 62/100\n",
      "37500/37500 [==============================] - 1s 19us/step - loss: 1.1921e-07 - acc: 1.0000\n",
      "Epoch 63/100\n",
      "37500/37500 [==============================] - 1s 20us/step - loss: 1.1921e-07 - acc: 1.0000\n",
      "Epoch 64/100\n",
      "37500/37500 [==============================] - 1s 21us/step - loss: 1.1921e-07 - acc: 1.0000\n",
      "Epoch 65/100\n",
      "37500/37500 [==============================] - 1s 21us/step - loss: 1.1921e-07 - acc: 1.0000\n",
      "Epoch 66/100\n",
      "37500/37500 [==============================] - 1s 19us/step - loss: 1.1921e-07 - acc: 1.0000\n",
      "Epoch 67/100\n",
      "37500/37500 [==============================] - 1s 20us/step - loss: 1.1921e-07 - acc: 1.0000\n",
      "Epoch 68/100\n",
      "37500/37500 [==============================] - 1s 19us/step - loss: 1.1921e-07 - acc: 1.0000\n",
      "Epoch 69/100\n",
      "37500/37500 [==============================] - 1s 19us/step - loss: 1.1921e-07 - acc: 1.0000\n",
      "Epoch 70/100\n",
      "37500/37500 [==============================] - 1s 19us/step - loss: 1.1921e-07 - acc: 1.0000\n",
      "Epoch 71/100\n",
      "37500/37500 [==============================] - 1s 19us/step - loss: 1.1921e-07 - acc: 1.0000\n",
      "Epoch 72/100\n",
      "37500/37500 [==============================] - 1s 19us/step - loss: 1.1921e-07 - acc: 1.0000\n",
      "Epoch 73/100\n",
      "37500/37500 [==============================] - 1s 20us/step - loss: 1.1921e-07 - acc: 1.0000\n",
      "Epoch 74/100\n",
      "37500/37500 [==============================] - 1s 20us/step - loss: 1.1921e-07 - acc: 1.0000\n",
      "Epoch 75/100\n",
      "37500/37500 [==============================] - 1s 20us/step - loss: 1.1921e-07 - acc: 1.0000\n",
      "Epoch 76/100\n",
      "37500/37500 [==============================] - 1s 21us/step - loss: 1.1921e-07 - acc: 1.0000\n",
      "Epoch 77/100\n",
      "37500/37500 [==============================] - 1s 22us/step - loss: 1.1921e-07 - acc: 1.0000\n",
      "Epoch 78/100\n"
     ]
    },
    {
     "name": "stdout",
     "output_type": "stream",
     "text": [
      "37500/37500 [==============================] - 1s 18us/step - loss: 1.1921e-07 - acc: 1.0000\n",
      "Epoch 79/100\n",
      "37500/37500 [==============================] - 1s 16us/step - loss: 1.1921e-07 - acc: 1.0000\n",
      "Epoch 80/100\n",
      "37500/37500 [==============================] - 1s 17us/step - loss: 1.1921e-07 - acc: 1.0000\n",
      "Epoch 81/100\n",
      "37500/37500 [==============================] - 1s 16us/step - loss: 1.1921e-07 - acc: 1.0000\n",
      "Epoch 82/100\n",
      "37500/37500 [==============================] - 1s 16us/step - loss: 1.1921e-07 - acc: 1.0000\n",
      "Epoch 83/100\n",
      "37500/37500 [==============================] - 1s 16us/step - loss: 1.1921e-07 - acc: 1.0000\n",
      "Epoch 84/100\n",
      "37500/37500 [==============================] - 1s 17us/step - loss: 1.1921e-07 - acc: 1.0000: 0s - loss: 1.1921e-07 - acc: 1.00\n",
      "Epoch 85/100\n",
      "37500/37500 [==============================] - 1s 16us/step - loss: 1.1921e-07 - acc: 1.0000\n",
      "Epoch 86/100\n",
      "37500/37500 [==============================] - 1s 17us/step - loss: 1.1921e-07 - acc: 1.0000\n",
      "Epoch 87/100\n",
      "37500/37500 [==============================] - 1s 17us/step - loss: 1.1921e-07 - acc: 1.0000\n",
      "Epoch 88/100\n",
      "37500/37500 [==============================] - 1s 17us/step - loss: 1.1921e-07 - acc: 1.0000\n",
      "Epoch 89/100\n",
      "37500/37500 [==============================] - 1s 17us/step - loss: 1.1921e-07 - acc: 1.0000: 0s - loss: 1.1921e-07 - acc: 1.00\n",
      "Epoch 90/100\n",
      "37500/37500 [==============================] - 1s 17us/step - loss: 1.1921e-07 - acc: 1.0000\n",
      "Epoch 91/100\n",
      "37500/37500 [==============================] - 1s 17us/step - loss: 1.1921e-07 - acc: 1.0000\n",
      "Epoch 92/100\n",
      "37500/37500 [==============================] - 1s 17us/step - loss: 1.1921e-07 - acc: 1.0000\n",
      "Epoch 93/100\n",
      "37500/37500 [==============================] - 1s 17us/step - loss: 1.1921e-07 - acc: 1.0000\n",
      "Epoch 94/100\n",
      "37500/37500 [==============================] - 1s 17us/step - loss: 1.1921e-07 - acc: 1.0000\n",
      "Epoch 95/100\n",
      "37500/37500 [==============================] - 1s 17us/step - loss: 1.1921e-07 - acc: 1.0000\n",
      "Epoch 96/100\n",
      "37500/37500 [==============================] - 1s 17us/step - loss: 1.1921e-07 - acc: 1.0000\n",
      "Epoch 97/100\n",
      "37500/37500 [==============================] - 1s 17us/step - loss: 1.1921e-07 - acc: 1.0000\n",
      "Epoch 98/100\n",
      "37500/37500 [==============================] - 1s 17us/step - loss: 1.1921e-07 - acc: 1.0000\n",
      "Epoch 99/100\n",
      "37500/37500 [==============================] - 1s 18us/step - loss: 1.1921e-07 - acc: 1.0000\n",
      "Epoch 100/100\n",
      "37500/37500 [==============================] - 1s 18us/step - loss: 1.1921e-07 - acc: 1.0000\n"
     ]
    },
    {
     "data": {
      "text/plain": [
       "<keras.callbacks.History at 0x129159c50>"
      ]
     },
     "execution_count": 31,
     "metadata": {},
     "output_type": "execute_result"
    }
   ],
   "source": [
    "model.fit(features_train, labels_train, epochs=100, batch_size=256, callbacks=[TensorBoard()])"
   ]
  },
  {
   "cell_type": "code",
   "execution_count": 33,
   "metadata": {},
   "outputs": [],
   "source": [
    "pred = np.argmax(model.predict(features_test), axis=1)"
   ]
  },
  {
   "cell_type": "code",
   "execution_count": 34,
   "metadata": {},
   "outputs": [
    {
     "data": {
      "text/plain": [
       "array([1, 0, 0, ..., 0, 1, 0])"
      ]
     },
     "execution_count": 34,
     "metadata": {},
     "output_type": "execute_result"
    }
   ],
   "source": [
    "pred"
   ]
  },
  {
   "cell_type": "code",
   "execution_count": 36,
   "metadata": {},
   "outputs": [],
   "source": [
    "from sklearn.metrics import accuracy_score"
   ]
  },
  {
   "cell_type": "code",
   "execution_count": 37,
   "metadata": {},
   "outputs": [
    {
     "data": {
      "text/plain": [
       "array([1, 0, 0, ..., 1, 1, 1])"
      ]
     },
     "execution_count": 37,
     "metadata": {},
     "output_type": "execute_result"
    }
   ],
   "source": [
    "labels"
   ]
  },
  {
   "cell_type": "code",
   "execution_count": 38,
   "metadata": {},
   "outputs": [],
   "source": [
    "labels_test = np.argmax(labels_test, axis=1)"
   ]
  },
  {
   "cell_type": "code",
   "execution_count": 39,
   "metadata": {},
   "outputs": [
    {
     "data": {
      "text/plain": [
       "0.88904000000000005"
      ]
     },
     "execution_count": 39,
     "metadata": {},
     "output_type": "execute_result"
    }
   ],
   "source": [
    "accuracy_score(labels_test, pred)"
   ]
  },
  {
   "cell_type": "code",
   "execution_count": null,
   "metadata": {},
   "outputs": [],
   "source": []
  }
 ],
 "metadata": {
  "kernelspec": {
   "display_name": "Python 3",
   "language": "python",
   "name": "python3"
  },
  "language_info": {
   "codemirror_mode": {
    "name": "ipython",
    "version": 3
   },
   "file_extension": ".py",
   "mimetype": "text/x-python",
   "name": "python",
   "nbconvert_exporter": "python",
   "pygments_lexer": "ipython3",
   "version": "3.6.4"
  }
 },
 "nbformat": 4,
 "nbformat_minor": 2
}
