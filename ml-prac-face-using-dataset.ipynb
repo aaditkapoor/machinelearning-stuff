{
 "cells": [
  {
   "cell_type": "code",
   "execution_count": 192,
   "metadata": {},
   "outputs": [],
   "source": [
    "from sklearn.model_selection import train_test_split\n",
    "from skimage.io import imread\n",
    "from keras.preprocessing.image import img_to_array, array_to_img\n",
    "import keras\n",
    "from keras.layers import Dense\n",
    "from keras import Sequential\n",
    "from keras.callbacks import Callback # Custom Callback\n",
    "from keras.utils import to_categorical\n",
    "from sklearn.svm import SVC\n",
    "import os\n",
    "import numpy as np\n",
    "import cv2"
   ]
  },
  {
   "cell_type": "code",
   "execution_count": 78,
   "metadata": {},
   "outputs": [
    {
     "data": {
      "text/plain": [
       "3"
      ]
     },
     "execution_count": 78,
     "metadata": {},
     "output_type": "execute_result"
    }
   ],
   "source": [
    "male_path = \"/Users/aaditkapoor/Desktop/ml-class-face/male\"\n",
    "female_path = \"/Users/aaditkapoor/Desktop/ml-class-face/female\"\n",
    "def return_path(image_name, type=\"male\"):\n",
    "    if type==\"male\":\n",
    "        return male_path+\"/\"+image_name\n",
    "    else:\n",
    "        return female_path+\"/\"+image_name\n",
    "    \n",
    "data = [[[]]]\n",
    "features_m = np.array(data)\n",
    "features_m.ndim"
   ]
  },
  {
   "cell_type": "code",
   "execution_count": 137,
   "metadata": {},
   "outputs": [],
   "source": [
    "# Getting male images\n",
    "images = []\n",
    "labels = []\n",
    "for male in os.listdir(male_path):\n",
    "    if male==\".DS_Store\":\n",
    "        pass\n",
    "    else:\n",
    "        image = imread(return_path(male, type=\"male\"), as_grey=True)\n",
    "        images.append(image)\n",
    "        labels.append(1)"
   ]
  },
  {
   "cell_type": "code",
   "execution_count": 138,
   "metadata": {},
   "outputs": [],
   "source": [
    "for female in os.listdir(female_path):\n",
    "    image = imread(return_path(female, type=\"female\"), as_grey=True)\n",
    "    images.append(image)\n",
    "    labels.append(0)"
   ]
  },
  {
   "cell_type": "code",
   "execution_count": 111,
   "metadata": {},
   "outputs": [
    {
     "data": {
      "text/plain": [
       "list"
      ]
     },
     "execution_count": 111,
     "metadata": {},
     "output_type": "execute_result"
    }
   ],
   "source": [
    "type(females)"
   ]
  },
  {
   "cell_type": "code",
   "execution_count": 119,
   "metadata": {},
   "outputs": [],
   "source": [
    "features = []"
   ]
  },
  {
   "cell_type": "code",
   "execution_count": 120,
   "metadata": {},
   "outputs": [],
   "source": [
    "features.extend([males, females])"
   ]
  },
  {
   "cell_type": "code",
   "execution_count": 121,
   "metadata": {},
   "outputs": [],
   "source": [
    "features = np.array(features)"
   ]
  },
  {
   "cell_type": "code",
   "execution_count": 122,
   "metadata": {},
   "outputs": [
    {
     "data": {
      "text/plain": [
       "array([[[[3.70000000e+01, 3.60000000e+01, 3.20000000e+01, ...,\n",
       "          3.20000000e+01, 3.20000000e+01, 3.40000000e+01],\n",
       "         [3.30000000e+01, 3.60000000e+01, 3.80000000e+01, ...,\n",
       "          3.10000000e+01, 3.70000000e+01, 3.90000000e+01],\n",
       "         [4.00000000e+01, 3.40000000e+01, 4.30000000e+01, ...,\n",
       "          3.10000000e+01, 4.10000000e+01, 4.30000000e+01],\n",
       "         ...,\n",
       "         [1.35000000e+02, 1.36000000e+02, 1.39000000e+02, ...,\n",
       "          6.10000000e+01, 6.30000000e+01, 6.00000000e+01],\n",
       "         [1.33000000e+02, 1.29000000e+02, 1.35000000e+02, ...,\n",
       "          6.00000000e+01, 5.90000000e+01, 6.00000000e+01],\n",
       "         [1.38000000e+02, 1.31000000e+02, 1.32000000e+02, ...,\n",
       "          5.90000000e+01, 5.70000000e+01, 5.80000000e+01]],\n",
       "\n",
       "        [[7.30000000e+01, 9.00000000e+01, 9.50000000e+01, ...,\n",
       "          1.56000000e+02, 1.64000000e+02, 1.62000000e+02],\n",
       "         [8.50000000e+01, 1.04000000e+02, 9.50000000e+01, ...,\n",
       "          1.65000000e+02, 1.61000000e+02, 1.60000000e+02],\n",
       "         [1.00000000e+02, 8.70000000e+01, 8.20000000e+01, ...,\n",
       "          1.73000000e+02, 1.64000000e+02, 1.64000000e+02],\n",
       "         ...,\n",
       "         [1.71000000e+02, 1.72000000e+02, 1.74000000e+02, ...,\n",
       "          3.20000000e+01, 5.20000000e+01, 2.80000000e+01],\n",
       "         [1.69000000e+02, 1.72000000e+02, 1.72000000e+02, ...,\n",
       "          8.00000000e+00, 3.70000000e+01, 5.30000000e+01],\n",
       "         [1.69000000e+02, 1.72000000e+02, 1.72000000e+02, ...,\n",
       "          4.00000000e+00, 4.30000000e+01, 6.20000000e+01]],\n",
       "\n",
       "        [[1.95000000e+02, 1.97000000e+02, 1.73000000e+02, ...,\n",
       "          1.98000000e+02, 2.01000000e+02, 2.06000000e+02],\n",
       "         [2.01000000e+02, 1.92000000e+02, 1.72000000e+02, ...,\n",
       "          2.13000000e+02, 2.06000000e+02, 2.06000000e+02],\n",
       "         [1.98000000e+02, 1.93000000e+02, 1.52000000e+02, ...,\n",
       "          2.02000000e+02, 2.02000000e+02, 2.02000000e+02],\n",
       "         ...,\n",
       "         [2.31000000e+02, 2.30000000e+02, 2.30000000e+02, ...,\n",
       "          2.35000000e+02, 2.37000000e+02, 2.37000000e+02],\n",
       "         [2.30000000e+02, 2.30000000e+02, 2.30000000e+02, ...,\n",
       "          2.51000000e+02, 2.52000000e+02, 2.45000000e+02],\n",
       "         [2.30000000e+02, 2.30000000e+02, 2.30000000e+02, ...,\n",
       "          1.18000000e+02, 1.92000000e+02, 2.35000000e+02]],\n",
       "\n",
       "        ...,\n",
       "\n",
       "        [[2.30000000e+01, 5.60000000e+01, 5.00000000e+00, ...,\n",
       "          1.59000000e+02, 1.76000000e+02, 1.63000000e+02],\n",
       "         [5.30000000e+01, 5.40000000e+01, 4.00000000e+00, ...,\n",
       "          7.20000000e+01, 1.47000000e+02, 1.67000000e+02],\n",
       "         [8.20000000e+01, 3.00000000e+01, 1.10000000e+01, ...,\n",
       "          1.00000000e+01, 1.10000000e+02, 1.77000000e+02],\n",
       "         ...,\n",
       "         [1.61000000e+02, 1.61000000e+02, 1.60000000e+02, ...,\n",
       "          1.52000000e+02, 1.49000000e+02, 1.49000000e+02],\n",
       "         [1.62000000e+02, 1.59000000e+02, 1.58000000e+02, ...,\n",
       "          1.51000000e+02, 1.50000000e+02, 1.51000000e+02],\n",
       "         [1.64000000e+02, 1.61000000e+02, 1.60000000e+02, ...,\n",
       "          1.51000000e+02, 1.50000000e+02, 1.51000000e+02]],\n",
       "\n",
       "        [[1.53000000e+02, 1.60000000e+02, 1.51000000e+02, ...,\n",
       "          3.20000000e+01, 3.60000000e+01, 3.70000000e+01],\n",
       "         [1.47000000e+02, 1.58000000e+02, 1.49000000e+02, ...,\n",
       "          2.70000000e+01, 1.70000000e+01, 3.60000000e+01],\n",
       "         [1.48000000e+02, 1.51000000e+02, 1.57000000e+02, ...,\n",
       "          3.80000000e+01, 1.30000000e+01, 1.60000000e+01],\n",
       "         ...,\n",
       "         [1.38000000e+02, 1.43000000e+02, 1.38000000e+02, ...,\n",
       "          1.37000000e+02, 1.40000000e+02, 1.41000000e+02],\n",
       "         [1.40000000e+02, 1.48000000e+02, 1.42000000e+02, ...,\n",
       "          1.36000000e+02, 1.35000000e+02, 1.35000000e+02],\n",
       "         [1.38000000e+02, 1.44000000e+02, 1.40000000e+02, ...,\n",
       "          1.37000000e+02, 1.40000000e+02, 1.40000000e+02]],\n",
       "\n",
       "        [[1.29000000e+02, 1.12000000e+02, 7.10000000e+01, ...,\n",
       "          6.60000000e+01, 7.50000000e+01, 7.50000000e+01],\n",
       "         [1.29000000e+02, 1.21000000e+02, 6.70000000e+01, ...,\n",
       "          8.10000000e+01, 5.90000000e+01, 5.80000000e+01],\n",
       "         [1.38000000e+02, 1.21000000e+02, 5.60000000e+01, ...,\n",
       "          8.30000000e+01, 6.00000000e+01, 5.80000000e+01],\n",
       "         ...,\n",
       "         [1.56000000e+02, 1.57000000e+02, 1.57000000e+02, ...,\n",
       "          1.61000000e+02, 1.60000000e+02, 1.60000000e+02],\n",
       "         [1.57000000e+02, 1.58000000e+02, 1.58000000e+02, ...,\n",
       "          1.58000000e+02, 1.57000000e+02, 1.58000000e+02],\n",
       "         [1.57000000e+02, 1.57000000e+02, 1.57000000e+02, ...,\n",
       "          1.63000000e+02, 1.59000000e+02, 1.60000000e+02]]],\n",
       "\n",
       "\n",
       "       [[[3.96078431e-01, 3.92156863e-01, 3.41176471e-01, ...,\n",
       "          2.98039216e-01, 2.98039216e-01, 2.27450980e-01],\n",
       "         [3.37254902e-01, 3.29411765e-01, 3.13725490e-01, ...,\n",
       "          3.05882353e-01, 3.49019608e-01, 2.98039216e-01],\n",
       "         [3.60784314e-01, 3.49019608e-01, 3.88235294e-01, ...,\n",
       "          2.70588235e-01, 2.94117647e-01, 2.74509804e-01],\n",
       "         ...,\n",
       "         [2.90196078e-01, 2.98039216e-01, 3.17647059e-01, ...,\n",
       "          2.35294118e-01, 2.11764706e-01, 1.84313725e-01],\n",
       "         [2.86274510e-01, 2.62745098e-01, 2.78431373e-01, ...,\n",
       "          2.31372549e-01, 1.88235294e-01, 2.03921569e-01],\n",
       "         [2.90196078e-01, 2.62745098e-01, 2.70588235e-01, ...,\n",
       "          2.23529412e-01, 1.96078431e-01, 2.07843137e-01]],\n",
       "\n",
       "        [[6.27450980e-01, 6.15686275e-01, 6.19607843e-01, ...,\n",
       "          1.49019608e-01, 1.52941176e-01, 1.68627451e-01],\n",
       "         [6.15686275e-01, 6.27450980e-01, 6.19607843e-01, ...,\n",
       "          1.37254902e-01, 1.41176471e-01, 1.64705882e-01],\n",
       "         [6.11764706e-01, 6.15686275e-01, 5.96078431e-01, ...,\n",
       "          1.37254902e-01, 1.56862745e-01, 1.84313725e-01],\n",
       "         ...,\n",
       "         [2.86274510e-01, 1.68627451e-01, 1.13725490e-01, ...,\n",
       "          5.49019608e-02, 5.88235294e-02, 6.27450980e-02],\n",
       "         [2.58823529e-01, 1.52941176e-01, 1.84313725e-01, ...,\n",
       "          5.88235294e-02, 5.88235294e-02, 7.05882353e-02],\n",
       "         [1.92156863e-01, 2.00000000e-01, 2.90196078e-01, ...,\n",
       "          5.49019608e-02, 6.27450980e-02, 7.84313725e-02]],\n",
       "\n",
       "        [[8.78431373e-01, 8.66666667e-01, 7.17647059e-01, ...,\n",
       "          2.58823529e-01, 2.66666667e-01, 3.05882353e-01],\n",
       "         [8.50980392e-01, 7.80392157e-01, 8.11764706e-01, ...,\n",
       "          2.74509804e-01, 2.39215686e-01, 2.98039216e-01],\n",
       "         [8.70588235e-01, 7.76470588e-01, 7.72549020e-01, ...,\n",
       "          2.94117647e-01, 2.19607843e-01, 2.90196078e-01],\n",
       "         ...,\n",
       "         [2.19607843e-01, 2.07843137e-01, 2.94117647e-01, ...,\n",
       "          1.49019608e-01, 1.60784314e-01, 1.52941176e-01],\n",
       "         [1.72549020e-01, 1.96078431e-01, 2.78431373e-01, ...,\n",
       "          1.60784314e-01, 1.41176471e-01, 1.37254902e-01],\n",
       "         [1.64705882e-01, 1.96078431e-01, 2.74509804e-01, ...,\n",
       "          1.76470588e-01, 1.49019608e-01, 1.41176471e-01]],\n",
       "\n",
       "        ...,\n",
       "\n",
       "        [[5.41176471e-01, 5.68627451e-01, 5.92156863e-01, ...,\n",
       "          5.21568627e-01, 5.29411765e-01, 5.37254902e-01],\n",
       "         [6.00000000e-01, 5.72549020e-01, 5.49019608e-01, ...,\n",
       "          5.29411765e-01, 5.33333333e-01, 5.37254902e-01],\n",
       "         [5.68627451e-01, 5.33333333e-01, 5.21568627e-01, ...,\n",
       "          5.13725490e-01, 5.29411765e-01, 5.37254902e-01],\n",
       "         ...,\n",
       "         [4.54901961e-01, 4.15686275e-01, 4.15686275e-01, ...,\n",
       "          3.25490196e-01, 4.19607843e-01, 4.00000000e-01],\n",
       "         [4.50980392e-01, 4.03921569e-01, 4.23529412e-01, ...,\n",
       "          3.17647059e-01, 3.72549020e-01, 4.47058824e-01],\n",
       "         [4.74509804e-01, 4.19607843e-01, 4.35294118e-01, ...,\n",
       "          3.05882353e-01, 3.49019608e-01, 4.47058824e-01]],\n",
       "\n",
       "        [[3.68627451e-01, 3.68627451e-01, 2.66666667e-01, ...,\n",
       "          9.80392157e-01, 9.92156863e-01, 9.80392157e-01],\n",
       "         [3.60784314e-01, 2.90196078e-01, 1.88235294e-01, ...,\n",
       "          9.72549020e-01, 9.84313725e-01, 9.80392157e-01],\n",
       "         [4.90196078e-01, 1.92156863e-01, 1.64705882e-01, ...,\n",
       "          9.80392157e-01, 9.76470588e-01, 9.80392157e-01],\n",
       "         ...,\n",
       "         [3.72549020e-01, 1.49019608e-01, 2.15686275e-01, ...,\n",
       "          2.50980392e-01, 1.84313725e-01, 1.45098039e-01],\n",
       "         [2.82352941e-01, 1.80392157e-01, 2.23529412e-01, ...,\n",
       "          2.66666667e-01, 1.92156863e-01, 1.52941176e-01],\n",
       "         [2.47058824e-01, 1.60784314e-01, 2.27450980e-01, ...,\n",
       "          2.39215686e-01, 1.64705882e-01, 1.25490196e-01]],\n",
       "\n",
       "        [[4.15686275e-01, 4.70588235e-01, 4.07843137e-01, ...,\n",
       "          2.78431373e-01, 4.35294118e-01, 5.60784314e-01],\n",
       "         [3.96078431e-01, 4.15686275e-01, 2.50980392e-01, ...,\n",
       "          1.84313725e-01, 2.90196078e-01, 4.43137255e-01],\n",
       "         [3.45098039e-01, 3.01960784e-01, 1.56862745e-01, ...,\n",
       "          1.13725490e-01, 1.80392157e-01, 3.45098039e-01],\n",
       "         ...,\n",
       "         [9.80392157e-02, 6.66666667e-02, 8.23529412e-02, ...,\n",
       "          1.29411765e-01, 1.52941176e-01, 1.41176471e-01],\n",
       "         [1.05882353e-01, 9.41176471e-02, 9.01960784e-02, ...,\n",
       "          1.09803922e-01, 1.13725490e-01, 9.80392157e-02],\n",
       "         [8.23529412e-02, 8.23529412e-02, 9.41176471e-02, ...,\n",
       "          9.41176471e-02, 9.01960784e-02, 7.45098039e-02]]]])"
      ]
     },
     "execution_count": 122,
     "metadata": {},
     "output_type": "execute_result"
    }
   ],
   "source": [
    "features"
   ]
  },
  {
   "cell_type": "code",
   "execution_count": 123,
   "metadata": {},
   "outputs": [
    {
     "data": {
      "text/plain": [
       "(2, 200, 90, 90)"
      ]
     },
     "execution_count": 123,
     "metadata": {},
     "output_type": "execute_result"
    }
   ],
   "source": [
    "features.shape"
   ]
  },
  {
   "cell_type": "code",
   "execution_count": 125,
   "metadata": {},
   "outputs": [
    {
     "data": {
      "text/plain": [
       "array([[[[3.70000000e+01, 3.60000000e+01, 3.20000000e+01, ...,\n",
       "          3.20000000e+01, 3.20000000e+01, 3.40000000e+01],\n",
       "         [3.30000000e+01, 3.60000000e+01, 3.80000000e+01, ...,\n",
       "          3.10000000e+01, 3.70000000e+01, 3.90000000e+01],\n",
       "         [4.00000000e+01, 3.40000000e+01, 4.30000000e+01, ...,\n",
       "          3.10000000e+01, 4.10000000e+01, 4.30000000e+01],\n",
       "         ...,\n",
       "         [1.35000000e+02, 1.36000000e+02, 1.39000000e+02, ...,\n",
       "          6.10000000e+01, 6.30000000e+01, 6.00000000e+01],\n",
       "         [1.33000000e+02, 1.29000000e+02, 1.35000000e+02, ...,\n",
       "          6.00000000e+01, 5.90000000e+01, 6.00000000e+01],\n",
       "         [1.38000000e+02, 1.31000000e+02, 1.32000000e+02, ...,\n",
       "          5.90000000e+01, 5.70000000e+01, 5.80000000e+01]],\n",
       "\n",
       "        [[7.30000000e+01, 9.00000000e+01, 9.50000000e+01, ...,\n",
       "          1.56000000e+02, 1.64000000e+02, 1.62000000e+02],\n",
       "         [8.50000000e+01, 1.04000000e+02, 9.50000000e+01, ...,\n",
       "          1.65000000e+02, 1.61000000e+02, 1.60000000e+02],\n",
       "         [1.00000000e+02, 8.70000000e+01, 8.20000000e+01, ...,\n",
       "          1.73000000e+02, 1.64000000e+02, 1.64000000e+02],\n",
       "         ...,\n",
       "         [1.71000000e+02, 1.72000000e+02, 1.74000000e+02, ...,\n",
       "          3.20000000e+01, 5.20000000e+01, 2.80000000e+01],\n",
       "         [1.69000000e+02, 1.72000000e+02, 1.72000000e+02, ...,\n",
       "          8.00000000e+00, 3.70000000e+01, 5.30000000e+01],\n",
       "         [1.69000000e+02, 1.72000000e+02, 1.72000000e+02, ...,\n",
       "          4.00000000e+00, 4.30000000e+01, 6.20000000e+01]],\n",
       "\n",
       "        [[1.95000000e+02, 1.97000000e+02, 1.73000000e+02, ...,\n",
       "          1.98000000e+02, 2.01000000e+02, 2.06000000e+02],\n",
       "         [2.01000000e+02, 1.92000000e+02, 1.72000000e+02, ...,\n",
       "          2.13000000e+02, 2.06000000e+02, 2.06000000e+02],\n",
       "         [1.98000000e+02, 1.93000000e+02, 1.52000000e+02, ...,\n",
       "          2.02000000e+02, 2.02000000e+02, 2.02000000e+02],\n",
       "         ...,\n",
       "         [2.31000000e+02, 2.30000000e+02, 2.30000000e+02, ...,\n",
       "          2.35000000e+02, 2.37000000e+02, 2.37000000e+02],\n",
       "         [2.30000000e+02, 2.30000000e+02, 2.30000000e+02, ...,\n",
       "          2.51000000e+02, 2.52000000e+02, 2.45000000e+02],\n",
       "         [2.30000000e+02, 2.30000000e+02, 2.30000000e+02, ...,\n",
       "          1.18000000e+02, 1.92000000e+02, 2.35000000e+02]],\n",
       "\n",
       "        ...,\n",
       "\n",
       "        [[2.30000000e+01, 5.60000000e+01, 5.00000000e+00, ...,\n",
       "          1.59000000e+02, 1.76000000e+02, 1.63000000e+02],\n",
       "         [5.30000000e+01, 5.40000000e+01, 4.00000000e+00, ...,\n",
       "          7.20000000e+01, 1.47000000e+02, 1.67000000e+02],\n",
       "         [8.20000000e+01, 3.00000000e+01, 1.10000000e+01, ...,\n",
       "          1.00000000e+01, 1.10000000e+02, 1.77000000e+02],\n",
       "         ...,\n",
       "         [1.61000000e+02, 1.61000000e+02, 1.60000000e+02, ...,\n",
       "          1.52000000e+02, 1.49000000e+02, 1.49000000e+02],\n",
       "         [1.62000000e+02, 1.59000000e+02, 1.58000000e+02, ...,\n",
       "          1.51000000e+02, 1.50000000e+02, 1.51000000e+02],\n",
       "         [1.64000000e+02, 1.61000000e+02, 1.60000000e+02, ...,\n",
       "          1.51000000e+02, 1.50000000e+02, 1.51000000e+02]],\n",
       "\n",
       "        [[1.53000000e+02, 1.60000000e+02, 1.51000000e+02, ...,\n",
       "          3.20000000e+01, 3.60000000e+01, 3.70000000e+01],\n",
       "         [1.47000000e+02, 1.58000000e+02, 1.49000000e+02, ...,\n",
       "          2.70000000e+01, 1.70000000e+01, 3.60000000e+01],\n",
       "         [1.48000000e+02, 1.51000000e+02, 1.57000000e+02, ...,\n",
       "          3.80000000e+01, 1.30000000e+01, 1.60000000e+01],\n",
       "         ...,\n",
       "         [1.38000000e+02, 1.43000000e+02, 1.38000000e+02, ...,\n",
       "          1.37000000e+02, 1.40000000e+02, 1.41000000e+02],\n",
       "         [1.40000000e+02, 1.48000000e+02, 1.42000000e+02, ...,\n",
       "          1.36000000e+02, 1.35000000e+02, 1.35000000e+02],\n",
       "         [1.38000000e+02, 1.44000000e+02, 1.40000000e+02, ...,\n",
       "          1.37000000e+02, 1.40000000e+02, 1.40000000e+02]],\n",
       "\n",
       "        [[1.29000000e+02, 1.12000000e+02, 7.10000000e+01, ...,\n",
       "          6.60000000e+01, 7.50000000e+01, 7.50000000e+01],\n",
       "         [1.29000000e+02, 1.21000000e+02, 6.70000000e+01, ...,\n",
       "          8.10000000e+01, 5.90000000e+01, 5.80000000e+01],\n",
       "         [1.38000000e+02, 1.21000000e+02, 5.60000000e+01, ...,\n",
       "          8.30000000e+01, 6.00000000e+01, 5.80000000e+01],\n",
       "         ...,\n",
       "         [1.56000000e+02, 1.57000000e+02, 1.57000000e+02, ...,\n",
       "          1.61000000e+02, 1.60000000e+02, 1.60000000e+02],\n",
       "         [1.57000000e+02, 1.58000000e+02, 1.58000000e+02, ...,\n",
       "          1.58000000e+02, 1.57000000e+02, 1.58000000e+02],\n",
       "         [1.57000000e+02, 1.57000000e+02, 1.57000000e+02, ...,\n",
       "          1.63000000e+02, 1.59000000e+02, 1.60000000e+02]]],\n",
       "\n",
       "\n",
       "       [[[3.96078431e-01, 3.92156863e-01, 3.41176471e-01, ...,\n",
       "          2.98039216e-01, 2.98039216e-01, 2.27450980e-01],\n",
       "         [3.37254902e-01, 3.29411765e-01, 3.13725490e-01, ...,\n",
       "          3.05882353e-01, 3.49019608e-01, 2.98039216e-01],\n",
       "         [3.60784314e-01, 3.49019608e-01, 3.88235294e-01, ...,\n",
       "          2.70588235e-01, 2.94117647e-01, 2.74509804e-01],\n",
       "         ...,\n",
       "         [2.90196078e-01, 2.98039216e-01, 3.17647059e-01, ...,\n",
       "          2.35294118e-01, 2.11764706e-01, 1.84313725e-01],\n",
       "         [2.86274510e-01, 2.62745098e-01, 2.78431373e-01, ...,\n",
       "          2.31372549e-01, 1.88235294e-01, 2.03921569e-01],\n",
       "         [2.90196078e-01, 2.62745098e-01, 2.70588235e-01, ...,\n",
       "          2.23529412e-01, 1.96078431e-01, 2.07843137e-01]],\n",
       "\n",
       "        [[6.27450980e-01, 6.15686275e-01, 6.19607843e-01, ...,\n",
       "          1.49019608e-01, 1.52941176e-01, 1.68627451e-01],\n",
       "         [6.15686275e-01, 6.27450980e-01, 6.19607843e-01, ...,\n",
       "          1.37254902e-01, 1.41176471e-01, 1.64705882e-01],\n",
       "         [6.11764706e-01, 6.15686275e-01, 5.96078431e-01, ...,\n",
       "          1.37254902e-01, 1.56862745e-01, 1.84313725e-01],\n",
       "         ...,\n",
       "         [2.86274510e-01, 1.68627451e-01, 1.13725490e-01, ...,\n",
       "          5.49019608e-02, 5.88235294e-02, 6.27450980e-02],\n",
       "         [2.58823529e-01, 1.52941176e-01, 1.84313725e-01, ...,\n",
       "          5.88235294e-02, 5.88235294e-02, 7.05882353e-02],\n",
       "         [1.92156863e-01, 2.00000000e-01, 2.90196078e-01, ...,\n",
       "          5.49019608e-02, 6.27450980e-02, 7.84313725e-02]],\n",
       "\n",
       "        [[8.78431373e-01, 8.66666667e-01, 7.17647059e-01, ...,\n",
       "          2.58823529e-01, 2.66666667e-01, 3.05882353e-01],\n",
       "         [8.50980392e-01, 7.80392157e-01, 8.11764706e-01, ...,\n",
       "          2.74509804e-01, 2.39215686e-01, 2.98039216e-01],\n",
       "         [8.70588235e-01, 7.76470588e-01, 7.72549020e-01, ...,\n",
       "          2.94117647e-01, 2.19607843e-01, 2.90196078e-01],\n",
       "         ...,\n",
       "         [2.19607843e-01, 2.07843137e-01, 2.94117647e-01, ...,\n",
       "          1.49019608e-01, 1.60784314e-01, 1.52941176e-01],\n",
       "         [1.72549020e-01, 1.96078431e-01, 2.78431373e-01, ...,\n",
       "          1.60784314e-01, 1.41176471e-01, 1.37254902e-01],\n",
       "         [1.64705882e-01, 1.96078431e-01, 2.74509804e-01, ...,\n",
       "          1.76470588e-01, 1.49019608e-01, 1.41176471e-01]],\n",
       "\n",
       "        ...,\n",
       "\n",
       "        [[5.41176471e-01, 5.68627451e-01, 5.92156863e-01, ...,\n",
       "          5.21568627e-01, 5.29411765e-01, 5.37254902e-01],\n",
       "         [6.00000000e-01, 5.72549020e-01, 5.49019608e-01, ...,\n",
       "          5.29411765e-01, 5.33333333e-01, 5.37254902e-01],\n",
       "         [5.68627451e-01, 5.33333333e-01, 5.21568627e-01, ...,\n",
       "          5.13725490e-01, 5.29411765e-01, 5.37254902e-01],\n",
       "         ...,\n",
       "         [4.54901961e-01, 4.15686275e-01, 4.15686275e-01, ...,\n",
       "          3.25490196e-01, 4.19607843e-01, 4.00000000e-01],\n",
       "         [4.50980392e-01, 4.03921569e-01, 4.23529412e-01, ...,\n",
       "          3.17647059e-01, 3.72549020e-01, 4.47058824e-01],\n",
       "         [4.74509804e-01, 4.19607843e-01, 4.35294118e-01, ...,\n",
       "          3.05882353e-01, 3.49019608e-01, 4.47058824e-01]],\n",
       "\n",
       "        [[3.68627451e-01, 3.68627451e-01, 2.66666667e-01, ...,\n",
       "          9.80392157e-01, 9.92156863e-01, 9.80392157e-01],\n",
       "         [3.60784314e-01, 2.90196078e-01, 1.88235294e-01, ...,\n",
       "          9.72549020e-01, 9.84313725e-01, 9.80392157e-01],\n",
       "         [4.90196078e-01, 1.92156863e-01, 1.64705882e-01, ...,\n",
       "          9.80392157e-01, 9.76470588e-01, 9.80392157e-01],\n",
       "         ...,\n",
       "         [3.72549020e-01, 1.49019608e-01, 2.15686275e-01, ...,\n",
       "          2.50980392e-01, 1.84313725e-01, 1.45098039e-01],\n",
       "         [2.82352941e-01, 1.80392157e-01, 2.23529412e-01, ...,\n",
       "          2.66666667e-01, 1.92156863e-01, 1.52941176e-01],\n",
       "         [2.47058824e-01, 1.60784314e-01, 2.27450980e-01, ...,\n",
       "          2.39215686e-01, 1.64705882e-01, 1.25490196e-01]],\n",
       "\n",
       "        [[4.15686275e-01, 4.70588235e-01, 4.07843137e-01, ...,\n",
       "          2.78431373e-01, 4.35294118e-01, 5.60784314e-01],\n",
       "         [3.96078431e-01, 4.15686275e-01, 2.50980392e-01, ...,\n",
       "          1.84313725e-01, 2.90196078e-01, 4.43137255e-01],\n",
       "         [3.45098039e-01, 3.01960784e-01, 1.56862745e-01, ...,\n",
       "          1.13725490e-01, 1.80392157e-01, 3.45098039e-01],\n",
       "         ...,\n",
       "         [9.80392157e-02, 6.66666667e-02, 8.23529412e-02, ...,\n",
       "          1.29411765e-01, 1.52941176e-01, 1.41176471e-01],\n",
       "         [1.05882353e-01, 9.41176471e-02, 9.01960784e-02, ...,\n",
       "          1.09803922e-01, 1.13725490e-01, 9.80392157e-02],\n",
       "         [8.23529412e-02, 8.23529412e-02, 9.41176471e-02, ...,\n",
       "          9.41176471e-02, 9.01960784e-02, 7.45098039e-02]]]])"
      ]
     },
     "execution_count": 125,
     "metadata": {},
     "output_type": "execute_result"
    }
   ],
   "source": [
    "features"
   ]
  },
  {
   "cell_type": "code",
   "execution_count": 130,
   "metadata": {},
   "outputs": [
    {
     "data": {
      "text/plain": [
       "(90, 90)"
      ]
     },
     "execution_count": 130,
     "metadata": {},
     "output_type": "execute_result"
    }
   ],
   "source": [
    "images[0].shape"
   ]
  },
  {
   "cell_type": "code",
   "execution_count": 139,
   "metadata": {},
   "outputs": [],
   "source": [
    "images = np.array(images)"
   ]
  },
  {
   "cell_type": "code",
   "execution_count": 140,
   "metadata": {},
   "outputs": [],
   "source": [
    "\n",
    "labels = np.array(labels)"
   ]
  },
  {
   "cell_type": "code",
   "execution_count": 141,
   "metadata": {},
   "outputs": [],
   "source": [
    "images = images.reshape(400, -1)"
   ]
  },
  {
   "cell_type": "code",
   "execution_count": 142,
   "metadata": {},
   "outputs": [
    {
     "data": {
      "text/plain": [
       "(400, 8100)"
      ]
     },
     "execution_count": 142,
     "metadata": {},
     "output_type": "execute_result"
    }
   ],
   "source": [
    "images.shape"
   ]
  },
  {
   "cell_type": "code",
   "execution_count": 145,
   "metadata": {},
   "outputs": [],
   "source": [
    "features_train, features_test, labels_train,labels_test = train_test_split(images, labels, shuffle=True)"
   ]
  },
  {
   "cell_type": "code",
   "execution_count": 144,
   "metadata": {},
   "outputs": [],
   "source": [
    "from sklearn.decomposition import PCA\n",
    "pca = PCA()"
   ]
  },
  {
   "cell_type": "code",
   "execution_count": 146,
   "metadata": {},
   "outputs": [
    {
     "data": {
      "text/plain": [
       "PCA(copy=True, iterated_power='auto', n_components=None, random_state=None,\n",
       "  svd_solver='auto', tol=0.0, whiten=False)"
      ]
     },
     "execution_count": 146,
     "metadata": {},
     "output_type": "execute_result"
    }
   ],
   "source": [
    "pca.fit(images)"
   ]
  },
  {
   "cell_type": "code",
   "execution_count": 147,
   "metadata": {},
   "outputs": [],
   "source": [
    "import matplotlib.pyplot as plt"
   ]
  },
  {
   "cell_type": "code",
   "execution_count": 148,
   "metadata": {},
   "outputs": [
    {
     "data": {
      "text/plain": [
       "[<matplotlib.lines.Line2D at 0x128f2e390>]"
      ]
     },
     "execution_count": 148,
     "metadata": {},
     "output_type": "execute_result"
    },
    {
     "data": {
      "image/png": "[encoded data removed]",
      "text/plain": [
       "<Figure size 432x288 with 1 Axes>"
      ]
     },
     "metadata": {},
     "output_type": "display_data"
    }
   ],
   "source": [
    "plt.plot(np.cumsum(pca.explained_variance_ratio_))"
   ]
  },
  {
   "cell_type": "code",
   "execution_count": 149,
   "metadata": {},
   "outputs": [],
   "source": [
    "pca = PCA(n_components=400)"
   ]
  },
  {
   "cell_type": "code",
   "execution_count": 150,
   "metadata": {},
   "outputs": [],
   "source": [
    "images = pca.fit_transform(images)"
   ]
  },
  {
   "cell_type": "code",
   "execution_count": 184,
   "metadata": {},
   "outputs": [],
   "source": [
    "features_train, features_test, labels_train,labels_test = train_test_split(images, labels, shuffle=True, random_state=14)"
   ]
  },
  {
   "cell_type": "code",
   "execution_count": 174,
   "metadata": {},
   "outputs": [],
   "source": [
    "clf = SVC(kernel=\"linear\")"
   ]
  },
  {
   "cell_type": "code",
   "execution_count": 175,
   "metadata": {},
   "outputs": [
    {
     "data": {
      "text/plain": [
       "SVC(C=1.0, cache_size=200, class_weight=None, coef0=0.0,\n",
       "  decision_function_shape='ovr', degree=3, gamma='auto', kernel='linear',\n",
       "  max_iter=-1, probability=False, random_state=None, shrinking=True,\n",
       "  tol=0.001, verbose=False)"
      ]
     },
     "execution_count": 175,
     "metadata": {},
     "output_type": "execute_result"
    }
   ],
   "source": [
    "clf.fit(features_train, labels_train)"
   ]
  },
  {
   "cell_type": "code",
   "execution_count": 176,
   "metadata": {},
   "outputs": [
    {
     "data": {
      "text/plain": [
       "0.91"
      ]
     },
     "execution_count": 176,
     "metadata": {},
     "output_type": "execute_result"
    }
   ],
   "source": [
    "clf.score(features_test, labels_test)"
   ]
  },
  {
   "cell_type": "code",
   "execution_count": 177,
   "metadata": {},
   "outputs": [],
   "source": [
    "pred = clf.predict(features_test)"
   ]
  },
  {
   "cell_type": "code",
   "execution_count": 156,
   "metadata": {},
   "outputs": [
    {
     "data": {
      "text/plain": [
       "array([1, 0, 1, 1, 0, 0, 1, 1, 1, 1, 1, 1, 1, 0, 0, 1, 0, 0, 1, 0, 1, 1,\n",
       "       1, 0, 0, 0, 1, 1, 0, 0, 0, 0, 0, 1, 1, 0, 1, 1, 0, 1, 0, 0, 1, 0,\n",
       "       0, 1, 1, 1, 1, 1, 1, 0, 0, 0, 1, 0, 1, 1, 0, 1, 1, 1, 0, 1, 1, 0,\n",
       "       1, 0, 1, 1, 1, 0, 0, 1, 0, 0, 1, 1, 0, 1, 1, 0, 1, 0, 0, 1, 1, 0,\n",
       "       0, 1, 1, 1, 1, 1, 0, 0, 1, 1, 1, 1])"
      ]
     },
     "execution_count": 156,
     "metadata": {},
     "output_type": "execute_result"
    }
   ],
   "source": [
    "pred"
   ]
  },
  {
   "cell_type": "code",
   "execution_count": 157,
   "metadata": {},
   "outputs": [
    {
     "data": {
      "text/plain": [
       "(array([21, 69, 82]),)"
      ]
     },
     "execution_count": 157,
     "metadata": {},
     "output_type": "execute_result"
    }
   ],
   "source": [
    "np.where(pred!=labels_test)"
   ]
  },
  {
   "cell_type": "code",
   "execution_count": 159,
   "metadata": {},
   "outputs": [
    {
     "data": {
      "text/plain": [
       "array([45, 55])"
      ]
     },
     "execution_count": 159,
     "metadata": {},
     "output_type": "execute_result"
    }
   ],
   "source": [
    "np.bincount(labels_test)"
   ]
  },
  {
   "cell_type": "code",
   "execution_count": 178,
   "metadata": {},
   "outputs": [
    {
     "data": {
      "text/plain": [
       "1.0"
      ]
     },
     "execution_count": 178,
     "metadata": {},
     "output_type": "execute_result"
    }
   ],
   "source": [
    "clf.score(features_train, labels_train)"
   ]
  },
  {
   "cell_type": "code",
   "execution_count": 188,
   "metadata": {},
   "outputs": [],
   "source": [
    "model = Sequential()\n",
    "model.add(Dense(100, input_dim=features_train.shape[1],activation=\"relu\"))\n",
    "model.add(Dense(100, activation=\"relu\"))\n",
    "model.add(Dense(2, activation=\"softmax\"))\n",
    "model.compile(optimizer=\"adam\", loss=keras.losses.categorical_crossentropy, metrics=['acc'])"
   ]
  },
  {
   "cell_type": "code",
   "execution_count": null,
   "metadata": {},
   "outputs": [],
   "source": []
  },
  {
   "cell_type": "code",
   "execution_count": 189,
   "metadata": {},
   "outputs": [],
   "source": [
    "labels_train = to_categorical(labels_train)\n",
    "labels_test = to_categorical(labels_test)"
   ]
  },
  {
   "cell_type": "code",
   "execution_count": 190,
   "metadata": {},
   "outputs": [
    {
     "data": {
      "text/plain": [
       "array([[[0., 1.],\n",
       "        [1., 0.]],\n",
       "\n",
       "       [[0., 1.],\n",
       "        [1., 0.]],\n",
       "\n",
       "       [[0., 1.],\n",
       "        [1., 0.]],\n",
       "\n",
       "       ...,\n",
       "\n",
       "       [[0., 1.],\n",
       "        [1., 0.]],\n",
       "\n",
       "       [[0., 1.],\n",
       "        [1., 0.]],\n",
       "\n",
       "       [[1., 0.],\n",
       "        [0., 1.]]], dtype=float32)"
      ]
     },
     "execution_count": 190,
     "metadata": {},
     "output_type": "execute_result"
    }
   ],
   "source": [
    "labels_train"
   ]
  },
  {
   "cell_type": "code",
   "execution_count": 191,
   "metadata": {},
   "outputs": [
    {
     "ename": "ValueError",
     "evalue": "Error when checking target: expected dense_7 to have 2 dimensions, but got array with shape (300, 2, 2)",
     "output_type": "error",
     "traceback": [
      "\u001b[0;31m---------------------------------------------------------------------------\u001b[0m",
      "\u001b[0;31mValueError\u001b[0m                                Traceback (most recent call last)",
      "\u001b[0;32m<ipython-input-191-1825da8c5ff1>\u001b[0m in \u001b[0;36m<module>\u001b[0;34m()\u001b[0m\n\u001b[0;32m----> 1\u001b[0;31m \u001b[0mmodel\u001b[0m\u001b[0;34m.\u001b[0m\u001b[0mfit\u001b[0m\u001b[0;34m(\u001b[0m\u001b[0mfeatures_train\u001b[0m\u001b[0;34m,\u001b[0m \u001b[0mlabels_train\u001b[0m\u001b[0;34m,\u001b[0m \u001b[0mepochs\u001b[0m\u001b[0;34m=\u001b[0m\u001b[0;36m100\u001b[0m\u001b[0;34m,\u001b[0m \u001b[0mbatch_size\u001b[0m\u001b[0;34m=\u001b[0m\u001b[0;36m50\u001b[0m\u001b[0;34m,\u001b[0m \u001b[0mvalidation_data\u001b[0m\u001b[0;34m=\u001b[0m\u001b[0;34m(\u001b[0m\u001b[0mfeatures_test\u001b[0m\u001b[0;34m,\u001b[0m \u001b[0mlabels_test\u001b[0m\u001b[0;34m)\u001b[0m\u001b[0;34m)\u001b[0m\u001b[0;34m\u001b[0m\u001b[0m\n\u001b[0m",
      "\u001b[0;32m/Library/Frameworks/Python.framework/Versions/3.6/lib/python3.6/site-packages/keras/models.py\u001b[0m in \u001b[0;36mfit\u001b[0;34m(self, x, y, batch_size, epochs, verbose, callbacks, validation_split, validation_data, shuffle, class_weight, sample_weight, initial_epoch, steps_per_epoch, validation_steps, **kwargs)\u001b[0m\n\u001b[1;32m   1000\u001b[0m                               \u001b[0minitial_epoch\u001b[0m\u001b[0;34m=\u001b[0m\u001b[0minitial_epoch\u001b[0m\u001b[0;34m,\u001b[0m\u001b[0;34m\u001b[0m\u001b[0m\n\u001b[1;32m   1001\u001b[0m                               \u001b[0msteps_per_epoch\u001b[0m\u001b[0;34m=\u001b[0m\u001b[0msteps_per_epoch\u001b[0m\u001b[0;34m,\u001b[0m\u001b[0;34m\u001b[0m\u001b[0m\n\u001b[0;32m-> 1002\u001b[0;31m                               validation_steps=validation_steps)\n\u001b[0m\u001b[1;32m   1003\u001b[0m \u001b[0;34m\u001b[0m\u001b[0m\n\u001b[1;32m   1004\u001b[0m     def evaluate(self, x=None, y=None,\n",
      "\u001b[0;32m/Library/Frameworks/Python.framework/Versions/3.6/lib/python3.6/site-packages/keras/engine/training.py\u001b[0m in \u001b[0;36mfit\u001b[0;34m(self, x, y, batch_size, epochs, verbose, callbacks, validation_split, validation_data, shuffle, class_weight, sample_weight, initial_epoch, steps_per_epoch, validation_steps, **kwargs)\u001b[0m\n\u001b[1;32m   1628\u001b[0m             \u001b[0msample_weight\u001b[0m\u001b[0;34m=\u001b[0m\u001b[0msample_weight\u001b[0m\u001b[0;34m,\u001b[0m\u001b[0;34m\u001b[0m\u001b[0m\n\u001b[1;32m   1629\u001b[0m             \u001b[0mclass_weight\u001b[0m\u001b[0;34m=\u001b[0m\u001b[0mclass_weight\u001b[0m\u001b[0;34m,\u001b[0m\u001b[0;34m\u001b[0m\u001b[0m\n\u001b[0;32m-> 1630\u001b[0;31m             batch_size=batch_size)\n\u001b[0m\u001b[1;32m   1631\u001b[0m         \u001b[0;31m# Prepare validation data.\u001b[0m\u001b[0;34m\u001b[0m\u001b[0;34m\u001b[0m\u001b[0m\n\u001b[1;32m   1632\u001b[0m         \u001b[0mdo_validation\u001b[0m \u001b[0;34m=\u001b[0m \u001b[0;32mFalse\u001b[0m\u001b[0;34m\u001b[0m\u001b[0m\n",
      "\u001b[0;32m/Library/Frameworks/Python.framework/Versions/3.6/lib/python3.6/site-packages/keras/engine/training.py\u001b[0m in \u001b[0;36m_standardize_user_data\u001b[0;34m(self, x, y, sample_weight, class_weight, check_array_lengths, batch_size)\u001b[0m\n\u001b[1;32m   1478\u001b[0m                                     \u001b[0moutput_shapes\u001b[0m\u001b[0;34m,\u001b[0m\u001b[0;34m\u001b[0m\u001b[0m\n\u001b[1;32m   1479\u001b[0m                                     \u001b[0mcheck_batch_axis\u001b[0m\u001b[0;34m=\u001b[0m\u001b[0;32mFalse\u001b[0m\u001b[0;34m,\u001b[0m\u001b[0;34m\u001b[0m\u001b[0m\n\u001b[0;32m-> 1480\u001b[0;31m                                     exception_prefix='target')\n\u001b[0m\u001b[1;32m   1481\u001b[0m         sample_weights = _standardize_sample_weights(sample_weight,\n\u001b[1;32m   1482\u001b[0m                                                      self._feed_output_names)\n",
      "\u001b[0;32m/Library/Frameworks/Python.framework/Versions/3.6/lib/python3.6/site-packages/keras/engine/training.py\u001b[0m in \u001b[0;36m_standardize_input_data\u001b[0;34m(data, names, shapes, check_batch_axis, exception_prefix)\u001b[0m\n\u001b[1;32m    111\u001b[0m                         \u001b[0;34m': expected '\u001b[0m \u001b[0;34m+\u001b[0m \u001b[0mnames\u001b[0m\u001b[0;34m[\u001b[0m\u001b[0mi\u001b[0m\u001b[0;34m]\u001b[0m \u001b[0;34m+\u001b[0m \u001b[0;34m' to have '\u001b[0m \u001b[0;34m+\u001b[0m\u001b[0;34m\u001b[0m\u001b[0m\n\u001b[1;32m    112\u001b[0m                         \u001b[0mstr\u001b[0m\u001b[0;34m(\u001b[0m\u001b[0mlen\u001b[0m\u001b[0;34m(\u001b[0m\u001b[0mshape\u001b[0m\u001b[0;34m)\u001b[0m\u001b[0;34m)\u001b[0m \u001b[0;34m+\u001b[0m \u001b[0;34m' dimensions, but got array '\u001b[0m\u001b[0;34m\u001b[0m\u001b[0m\n\u001b[0;32m--> 113\u001b[0;31m                         'with shape ' + str(data_shape))\n\u001b[0m\u001b[1;32m    114\u001b[0m                 \u001b[0;32mif\u001b[0m \u001b[0;32mnot\u001b[0m \u001b[0mcheck_batch_axis\u001b[0m\u001b[0;34m:\u001b[0m\u001b[0;34m\u001b[0m\u001b[0m\n\u001b[1;32m    115\u001b[0m                     \u001b[0mdata_shape\u001b[0m \u001b[0;34m=\u001b[0m \u001b[0mdata_shape\u001b[0m\u001b[0;34m[\u001b[0m\u001b[0;36m1\u001b[0m\u001b[0;34m:\u001b[0m\u001b[0;34m]\u001b[0m\u001b[0;34m\u001b[0m\u001b[0m\n",
      "\u001b[0;31mValueError\u001b[0m: Error when checking target: expected dense_7 to have 2 dimensions, but got array with shape (300, 2, 2)"
     ]
    }
   ],
   "source": [
    "model.fit(features_train, labels_train, epochs=100, batch_size=50, validation_data=(features_test, labels_test))"
   ]
  },
  {
   "cell_type": "code",
   "execution_count": null,
   "metadata": {},
   "outputs": [],
   "source": []
  },
  {
   "cell_type": "code",
   "execution_count": null,
   "metadata": {},
   "outputs": [],
   "source": []
  }
 ],
 "metadata": {
  "kernelspec": {
   "display_name": "Python 3",
   "language": "python",
   "name": "python3"
  },
  "language_info": {
   "codemirror_mode": {
    "name": "ipython",
    "version": 3
   },
   "file_extension": ".py",
   "mimetype": "text/x-python",
   "name": "python",
   "nbconvert_exporter": "python",
   "pygments_lexer": "ipython3",
   "version": "3.6.4"
  }
 },
 "nbformat": 4,
 "nbformat_minor": 2
}
