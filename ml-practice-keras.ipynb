{
 "cells": [
  {
   "cell_type": "code",
   "execution_count": 14,
   "metadata": {},
   "outputs": [],
   "source": [
    "from sklearn.datasets import load_boston\n",
    "from sklearn.model_selection import train_test_split\n",
    "from keras import Sequential\n",
    "from keras.layers import Dense\n",
    "import keras"
   ]
  },
  {
   "cell_type": "code",
   "execution_count": 136,
   "metadata": {},
   "outputs": [],
   "source": [
    "features, labels = load_boston(return_X_y=True)"
   ]
  },
  {
   "cell_type": "code",
   "execution_count": 137,
   "metadata": {},
   "outputs": [
    {
     "data": {
      "text/plain": [
       "506"
      ]
     },
     "execution_count": 137,
     "metadata": {},
     "output_type": "execute_result"
    }
   ],
   "source": [
    "len(features)"
   ]
  },
  {
   "cell_type": "code",
   "execution_count": 138,
   "metadata": {},
   "outputs": [],
   "source": [
    "ndim = features.shape[1]"
   ]
  },
  {
   "cell_type": "code",
   "execution_count": 139,
   "metadata": {},
   "outputs": [],
   "source": [
    "features_train, features_test,labels_train, labels_test = train_test_split(features, labels, random_state=3)"
   ]
  },
  {
   "cell_type": "code",
   "execution_count": 78,
   "metadata": {},
   "outputs": [
    {
     "data": {
      "text/plain": [
       "array([[  1.31100000e-02,   9.00000000e+01,   1.22000000e+00, ...,\n",
       "          1.79000000e+01,   3.95930000e+02,   4.81000000e+00],\n",
       "       [  8.20058000e+00,   0.00000000e+00,   1.81000000e+01, ...,\n",
       "          2.02000000e+01,   3.50000000e+00,   1.69400000e+01],\n",
       "       [  3.30600000e-02,   0.00000000e+00,   5.19000000e+00, ...,\n",
       "          2.02000000e+01,   3.96140000e+02,   8.51000000e+00],\n",
       "       ..., \n",
       "       [  1.90730000e-01,   2.20000000e+01,   5.86000000e+00, ...,\n",
       "          1.91000000e+01,   3.93740000e+02,   6.56000000e+00],\n",
       "       [  1.12658000e+00,   0.00000000e+00,   1.95800000e+01, ...,\n",
       "          1.47000000e+01,   3.43280000e+02,   1.21200000e+01],\n",
       "       [  3.67822000e+00,   0.00000000e+00,   1.81000000e+01, ...,\n",
       "          2.02000000e+01,   3.80790000e+02,   1.01900000e+01]])"
      ]
     },
     "execution_count": 78,
     "metadata": {},
     "output_type": "execute_result"
    }
   ],
   "source": [
    "labels.shape\n",
    "features_train"
   ]
  },
  {
   "cell_type": "code",
   "execution_count": 63,
   "metadata": {},
   "outputs": [
    {
     "data": {
      "text/plain": [
       "506"
      ]
     },
     "execution_count": 63,
     "metadata": {},
     "output_type": "execute_result"
    }
   ],
   "source": [
    "len(labels)"
   ]
  },
  {
   "cell_type": "code",
   "execution_count": 120,
   "metadata": {},
   "outputs": [],
   "source": [
    "model = Sequential()\n",
    "model.add(Dense(100, input_dim=ndim, activation=\"relu\"))\n",
    "model.add(Dense(1, activation=\"linear\"))"
   ]
  },
  {
   "cell_type": "code",
   "execution_count": 154,
   "metadata": {},
   "outputs": [],
   "source": [
    "model.compile(optimizer=\"rmsprop\", loss=keras.losses.mse, metrics=[keras.metrics.mean_squared_error])"
   ]
  },
  {
   "cell_type": "code",
   "execution_count": 155,
   "metadata": {},
   "outputs": [
    {
     "data": {
      "text/plain": [
       "379"
      ]
     },
     "execution_count": 155,
     "metadata": {},
     "output_type": "execute_result"
    }
   ],
   "source": [
    "len(features_train)"
   ]
  },
  {
   "cell_type": "code",
   "execution_count": 156,
   "metadata": {},
   "outputs": [
    {
     "name": "stdout",
     "output_type": "stream",
     "text": [
      "Train on 379 samples, validate on 127 samples\n",
      "Epoch 1/50\n",
      "379/379 [==============================] - 1s 2ms/step - loss: 549326.8557 - mean_squared_error: 549326.8557 - val_loss: 368284.0153 - val_mean_squared_error: 368284.0153\n",
      "Epoch 2/50\n",
      "379/379 [==============================] - 0s 100us/step - loss: 281225.9896 - mean_squared_error: 281225.9896 - val_loss: 191029.9106 - val_mean_squared_error: 191029.9106\n",
      "Epoch 3/50\n",
      "379/379 [==============================] - 0s 91us/step - loss: 138360.2819 - mean_squared_error: 138360.2819 - val_loss: 86824.6229 - val_mean_squared_error: 86824.6229\n",
      "Epoch 4/50\n",
      "379/379 [==============================] - 0s 96us/step - loss: 57777.5801 - mean_squared_error: 57777.5801 - val_loss: 33589.3399 - val_mean_squared_error: 33589.3399\n",
      "Epoch 5/50\n",
      "379/379 [==============================] - 0s 93us/step - loss: 20883.4840 - mean_squared_error: 20883.4840 - val_loss: 13778.2199 - val_mean_squared_error: 13778.2199\n",
      "Epoch 6/50\n",
      "379/379 [==============================] - 0s 110us/step - loss: 9267.8744 - mean_squared_error: 9267.8744 - val_loss: 8679.8892 - val_mean_squared_error: 8679.8892\n",
      "Epoch 7/50\n",
      "379/379 [==============================] - 0s 86us/step - loss: 6078.6357 - mean_squared_error: 6078.6357 - val_loss: 5962.2135 - val_mean_squared_error: 5962.2135\n",
      "Epoch 8/50\n",
      "379/379 [==============================] - 0s 95us/step - loss: 4274.3679 - mean_squared_error: 4274.3679 - val_loss: 4092.1185 - val_mean_squared_error: 4092.1185\n",
      "Epoch 9/50\n",
      "379/379 [==============================] - 0s 96us/step - loss: 3271.8627 - mean_squared_error: 3271.8627 - val_loss: 3140.1871 - val_mean_squared_error: 3140.1871\n",
      "Epoch 10/50\n",
      "379/379 [==============================] - 0s 89us/step - loss: 2764.3002 - mean_squared_error: 2764.3002 - val_loss: 2672.0760 - val_mean_squared_error: 2672.0760\n",
      "Epoch 11/50\n",
      "379/379 [==============================] - 0s 91us/step - loss: 2188.4621 - mean_squared_error: 2188.4621 - val_loss: 1990.6489 - val_mean_squared_error: 1990.6489\n",
      "Epoch 12/50\n",
      "379/379 [==============================] - 0s 95us/step - loss: 1822.0974 - mean_squared_error: 1822.0974 - val_loss: 1731.8404 - val_mean_squared_error: 1731.8404\n",
      "Epoch 13/50\n",
      "379/379 [==============================] - 0s 92us/step - loss: 1469.4940 - mean_squared_error: 1469.4940 - val_loss: 1144.0929 - val_mean_squared_error: 1144.0929\n",
      "Epoch 14/50\n",
      "379/379 [==============================] - 0s 98us/step - loss: 1351.9642 - mean_squared_error: 1351.9642 - val_loss: 1020.9528 - val_mean_squared_error: 1020.9528\n",
      "Epoch 15/50\n",
      "379/379 [==============================] - 0s 99us/step - loss: 1082.4340 - mean_squared_error: 1082.4340 - val_loss: 820.0404 - val_mean_squared_error: 820.0404\n",
      "Epoch 16/50\n",
      "379/379 [==============================] - 0s 97us/step - loss: 907.9125 - mean_squared_error: 907.9125 - val_loss: 751.2992 - val_mean_squared_error: 751.2992\n",
      "Epoch 17/50\n",
      "379/379 [==============================] - 0s 95us/step - loss: 849.1045 - mean_squared_error: 849.1045 - val_loss: 1007.9309 - val_mean_squared_error: 1007.9309\n",
      "Epoch 18/50\n",
      "379/379 [==============================] - 0s 99us/step - loss: 690.0004 - mean_squared_error: 690.0004 - val_loss: 639.5477 - val_mean_squared_error: 639.5477\n",
      "Epoch 19/50\n",
      "379/379 [==============================] - 0s 103us/step - loss: 675.1374 - mean_squared_error: 675.1374 - val_loss: 447.2156 - val_mean_squared_error: 447.2156\n",
      "Epoch 20/50\n",
      "379/379 [==============================] - 0s 109us/step - loss: 565.3136 - mean_squared_error: 565.3136 - val_loss: 390.8287 - val_mean_squared_error: 390.8287\n",
      "Epoch 21/50\n",
      "379/379 [==============================] - 0s 112us/step - loss: 521.2328 - mean_squared_error: 521.2328 - val_loss: 372.1438 - val_mean_squared_error: 372.1438\n",
      "Epoch 22/50\n",
      "379/379 [==============================] - 0s 102us/step - loss: 452.2419 - mean_squared_error: 452.2419 - val_loss: 310.3954 - val_mean_squared_error: 310.3954\n",
      "Epoch 23/50\n",
      "379/379 [==============================] - 0s 99us/step - loss: 365.1565 - mean_squared_error: 365.1565 - val_loss: 293.5026 - val_mean_squared_error: 293.5026\n",
      "Epoch 24/50\n",
      "379/379 [==============================] - 0s 93us/step - loss: 387.1786 - mean_squared_error: 387.1786 - val_loss: 246.9648 - val_mean_squared_error: 246.9648\n",
      "Epoch 25/50\n",
      "379/379 [==============================] - 0s 96us/step - loss: 338.9618 - mean_squared_error: 338.9618 - val_loss: 223.5945 - val_mean_squared_error: 223.5945\n",
      "Epoch 26/50\n",
      "379/379 [==============================] - 0s 91us/step - loss: 254.2781 - mean_squared_error: 254.2781 - val_loss: 191.9076 - val_mean_squared_error: 191.9076\n",
      "Epoch 27/50\n",
      "379/379 [==============================] - 0s 94us/step - loss: 347.0385 - mean_squared_error: 347.0385 - val_loss: 207.4227 - val_mean_squared_error: 207.4227\n",
      "Epoch 28/50\n",
      "379/379 [==============================] - 0s 84us/step - loss: 235.4720 - mean_squared_error: 235.4720 - val_loss: 282.8815 - val_mean_squared_error: 282.8815\n",
      "Epoch 29/50\n",
      "379/379 [==============================] - 0s 88us/step - loss: 214.9848 - mean_squared_error: 214.9848 - val_loss: 158.3239 - val_mean_squared_error: 158.3239\n",
      "Epoch 30/50\n",
      "379/379 [==============================] - 0s 91us/step - loss: 231.8835 - mean_squared_error: 231.8835 - val_loss: 205.2873 - val_mean_squared_error: 205.2873\n",
      "Epoch 31/50\n",
      "379/379 [==============================] - 0s 81us/step - loss: 194.3125 - mean_squared_error: 194.3125 - val_loss: 216.8535 - val_mean_squared_error: 216.8535\n",
      "Epoch 32/50\n",
      "379/379 [==============================] - 0s 92us/step - loss: 209.6281 - mean_squared_error: 209.6281 - val_loss: 163.6117 - val_mean_squared_error: 163.6117\n",
      "Epoch 33/50\n",
      "379/379 [==============================] - 0s 102us/step - loss: 193.0942 - mean_squared_error: 193.0942 - val_loss: 107.0498 - val_mean_squared_error: 107.0498\n",
      "Epoch 34/50\n",
      "379/379 [==============================] - 0s 95us/step - loss: 170.0986 - mean_squared_error: 170.0986 - val_loss: 113.3509 - val_mean_squared_error: 113.3509\n",
      "Epoch 35/50\n",
      "379/379 [==============================] - 0s 104us/step - loss: 143.3838 - mean_squared_error: 143.3838 - val_loss: 238.6807 - val_mean_squared_error: 238.6807\n",
      "Epoch 36/50\n",
      "379/379 [==============================] - 0s 104us/step - loss: 134.5831 - mean_squared_error: 134.5831 - val_loss: 135.4665 - val_mean_squared_error: 135.4665\n",
      "Epoch 37/50\n",
      "379/379 [==============================] - 0s 106us/step - loss: 131.1933 - mean_squared_error: 131.1933 - val_loss: 91.5725 - val_mean_squared_error: 91.5725\n",
      "Epoch 38/50\n",
      "379/379 [==============================] - 0s 110us/step - loss: 148.7633 - mean_squared_error: 148.7633 - val_loss: 159.8261 - val_mean_squared_error: 159.8261\n",
      "Epoch 39/50\n",
      "379/379 [==============================] - 0s 88us/step - loss: 145.9732 - mean_squared_error: 145.9732 - val_loss: 76.8019 - val_mean_squared_error: 76.8019\n",
      "Epoch 40/50\n",
      "379/379 [==============================] - 0s 106us/step - loss: 90.5291 - mean_squared_error: 90.5291 - val_loss: 268.2575 - val_mean_squared_error: 268.2575\n",
      "Epoch 41/50\n",
      "379/379 [==============================] - 0s 80us/step - loss: 123.1053 - mean_squared_error: 123.1053 - val_loss: 65.4580 - val_mean_squared_error: 65.4580\n",
      "Epoch 42/50\n",
      "379/379 [==============================] - 0s 92us/step - loss: 142.9834 - mean_squared_error: 142.9834 - val_loss: 88.0255 - val_mean_squared_error: 88.0255\n",
      "Epoch 43/50\n",
      "379/379 [==============================] - 0s 103us/step - loss: 95.3644 - mean_squared_error: 95.3644 - val_loss: 77.9260 - val_mean_squared_error: 77.9260\n",
      "Epoch 44/50\n",
      "379/379 [==============================] - 0s 83us/step - loss: 134.5211 - mean_squared_error: 134.5211 - val_loss: 88.0056 - val_mean_squared_error: 88.0056\n",
      "Epoch 45/50\n",
      "379/379 [==============================] - 0s 84us/step - loss: 71.4979 - mean_squared_error: 71.4979 - val_loss: 64.0308 - val_mean_squared_error: 64.0308\n",
      "Epoch 46/50\n",
      "379/379 [==============================] - 0s 81us/step - loss: 126.7212 - mean_squared_error: 126.7212 - val_loss: 87.5838 - val_mean_squared_error: 87.5838\n",
      "Epoch 47/50\n",
      "379/379 [==============================] - 0s 79us/step - loss: 137.8199 - mean_squared_error: 137.8199 - val_loss: 55.4508 - val_mean_squared_error: 55.4508\n"
     ]
    },
    {
     "name": "stdout",
     "output_type": "stream",
     "text": [
      "Epoch 48/50\n",
      "379/379 [==============================] - 0s 73us/step - loss: 66.7756 - mean_squared_error: 66.7756 - val_loss: 290.1455 - val_mean_squared_error: 290.1455\n",
      "Epoch 49/50\n",
      "379/379 [==============================] - 0s 86us/step - loss: 141.3491 - mean_squared_error: 141.3491 - val_loss: 76.0883 - val_mean_squared_error: 76.0883\n",
      "Epoch 50/50\n",
      "379/379 [==============================] - 0s 94us/step - loss: 87.2427 - mean_squared_error: 87.2427 - val_loss: 143.9991 - val_mean_squared_error: 143.9991\n"
     ]
    },
    {
     "data": {
      "text/plain": [
       "<keras.callbacks.History at 0x12c7de080>"
      ]
     },
     "execution_count": 156,
     "metadata": {},
     "output_type": "execute_result"
    }
   ],
   "source": [
    "model.fit(features_train, labels_train, batch_size=30, epochs=50, validation_data=(features_test, labels_test))"
   ]
  },
  {
   "cell_type": "code",
   "execution_count": 157,
   "metadata": {},
   "outputs": [],
   "source": [
    "pred = model.predict(features_test)"
   ]
  },
  {
   "cell_type": "code",
   "execution_count": 158,
   "metadata": {},
   "outputs": [
    {
     "data": {
      "text/plain": [
       "127"
      ]
     },
     "execution_count": 158,
     "metadata": {},
     "output_type": "execute_result"
    }
   ],
   "source": [
    "from sklearn.metrics import r2_score\n",
    "len(labels_test)"
   ]
  },
  {
   "cell_type": "code",
   "execution_count": 159,
   "metadata": {},
   "outputs": [
    {
     "data": {
      "text/plain": [
       "127"
      ]
     },
     "execution_count": 159,
     "metadata": {},
     "output_type": "execute_result"
    }
   ],
   "source": [
    "len(pred)"
   ]
  },
  {
   "cell_type": "code",
   "execution_count": 160,
   "metadata": {},
   "outputs": [
    {
     "data": {
      "text/plain": [
       "-0.7764205933983217"
      ]
     },
     "execution_count": 160,
     "metadata": {},
     "output_type": "execute_result"
    }
   ],
   "source": [
    "r2_score(labels_test, pred)"
   ]
  },
  {
   "cell_type": "code",
   "execution_count": 141,
   "metadata": {},
   "outputs": [],
   "source": [
    "from sklearn.linear_model import LinearRegression\n",
    "lg = LinearRegression()"
   ]
  },
  {
   "cell_type": "code",
   "execution_count": 142,
   "metadata": {},
   "outputs": [
    {
     "name": "stderr",
     "output_type": "stream",
     "text": [
      "/Library/Frameworks/Python.framework/Versions/3.6/lib/python3.6/site-packages/scipy/linalg/basic.py:1226: RuntimeWarning: internal gelsd driver lwork query error, required iwork dimension not returned. This is likely the result of LAPACK bug 0038, fixed in LAPACK 3.2.2 (released July 21, 2010). Falling back to 'gelss' driver.\n",
      "  warnings.warn(mesg, RuntimeWarning)\n"
     ]
    },
    {
     "data": {
      "text/plain": [
       "LinearRegression(copy_X=True, fit_intercept=True, n_jobs=1, normalize=False)"
      ]
     },
     "execution_count": 142,
     "metadata": {},
     "output_type": "execute_result"
    }
   ],
   "source": [
    "lg.fit(features_train, labels_train)"
   ]
  },
  {
   "cell_type": "code",
   "execution_count": 143,
   "metadata": {},
   "outputs": [
    {
     "data": {
      "text/plain": [
       "0.76672355120767277"
      ]
     },
     "execution_count": 143,
     "metadata": {},
     "output_type": "execute_result"
    }
   ],
   "source": [
    "lg.score(features_test, labels_test)"
   ]
  },
  {
   "cell_type": "code",
   "execution_count": 145,
   "metadata": {},
   "outputs": [
    {
     "data": {
      "text/plain": [
       "array([[  1.31100000e-02,   9.00000000e+01,   1.22000000e+00, ...,\n",
       "          1.79000000e+01,   3.95930000e+02,   4.81000000e+00],\n",
       "       [  8.20058000e+00,   0.00000000e+00,   1.81000000e+01, ...,\n",
       "          2.02000000e+01,   3.50000000e+00,   1.69400000e+01],\n",
       "       [  3.30600000e-02,   0.00000000e+00,   5.19000000e+00, ...,\n",
       "          2.02000000e+01,   3.96140000e+02,   8.51000000e+00],\n",
       "       ..., \n",
       "       [  1.90730000e-01,   2.20000000e+01,   5.86000000e+00, ...,\n",
       "          1.91000000e+01,   3.93740000e+02,   6.56000000e+00],\n",
       "       [  1.12658000e+00,   0.00000000e+00,   1.95800000e+01, ...,\n",
       "          1.47000000e+01,   3.43280000e+02,   1.21200000e+01],\n",
       "       [  3.67822000e+00,   0.00000000e+00,   1.81000000e+01, ...,\n",
       "          2.02000000e+01,   3.80790000e+02,   1.01900000e+01]])"
      ]
     },
     "execution_count": 145,
     "metadata": {},
     "output_type": "execute_result"
    }
   ],
   "source": [
    "features_train"
   ]
  },
  {
   "cell_type": "code",
   "execution_count": 153,
   "metadata": {},
   "outputs": [
    {
     "data": {
      "text/plain": [
       "[array([[ 0.08569495, -0.17264414, -0.08706253, ...,  0.06366895,\n",
       "          0.06778205,  0.07657225],\n",
       "        [ 0.07645809, -0.1665439 , -0.61118841, ...,  0.14985794,\n",
       "          0.08554719,  0.05188082],\n",
       "        [ 0.12975888,  0.05608807,  0.37388209, ...,  0.11640251,\n",
       "         -0.12923062,  0.11746322],\n",
       "        ..., \n",
       "        [-0.14501491, -0.14762411,  0.7742843 , ...,  0.12144659,\n",
       "          0.21201088, -0.23470861],\n",
       "        [-0.05322787,  0.19571613,  0.0818261 , ...,  0.17413823,\n",
       "          0.14145826, -0.02245439],\n",
       "        [-0.12112484, -0.04710303, -0.38755357, ..., -0.37127262,\n",
       "          0.08685709,  0.02677427]], dtype=float32),\n",
       " array([-0.27090257, -0.30971476,  0.7217986 ,  0.44454229,  0.44682944,\n",
       "        -0.25132304,  0.45001987,  0.48768586, -0.23700602,  0.5355233 ,\n",
       "         0.54035556,  0.59611666, -0.23066056,  0.13632391,  0.53817189,\n",
       "         0.3884244 , -0.26160374,  0.36087045, -0.11387835, -0.23836988,\n",
       "        -0.16513053, -0.27238113,  0.53514808,  0.54806066,  0.43196005,\n",
       "        -0.24697892,  0.34633875,  0.47969908,  0.40679702, -0.2385706 ,\n",
       "         0.45849127,  0.48782957,  0.40829068,  0.43519017, -0.20448357,\n",
       "         0.40078405,  0.34177768, -0.13979396,  0.41089046,  0.43695614,\n",
       "        -0.19156195, -0.21051581,  0.48443046, -0.08745469,  0.57415205,\n",
       "        -0.30127069, -0.19462693,  0.4155269 ,  0.42799446, -0.22208154,\n",
       "         0.61051834, -0.2800163 , -0.21832362,  0.62244743,  0.57114935,\n",
       "         0.46337566,  0.59943807, -0.22599764,  0.39350572, -0.27450404,\n",
       "         0.61977267,  0.65867239,  0.41296133,  0.40984517, -0.2535305 ,\n",
       "         0.49624851, -0.19018427,  0.62710875, -0.28243285,  0.55624753,\n",
       "        -0.23169516, -0.26218712,  0.43320718, -0.13822241,  0.49533996,\n",
       "         0.58768356,  0.4280954 ,  0.39236608,  0.7205357 , -0.27228674,\n",
       "        -0.22077797, -0.2331448 ,  0.46133068,  0.64982867,  0.55173606,\n",
       "         0.61823273,  0.41846386, -0.15276164,  0.58484626,  0.7186569 ,\n",
       "         0.43606925,  0.50933313,  0.7079441 ,  0.59915417,  0.56975895,\n",
       "         0.40860063,  0.55558449,  0.42895159, -0.18286173,  0.46104658], dtype=float32),\n",
       " array([[-0.08745357],\n",
       "        [-0.20457959],\n",
       "        [ 0.57976276],\n",
       "        [ 0.24197656],\n",
       "        [ 0.17638795],\n",
       "        [-0.02300354],\n",
       "        [ 0.23164958],\n",
       "        [ 0.48771912],\n",
       "        [-0.08274796],\n",
       "        [ 0.11735571],\n",
       "        [ 0.60590416],\n",
       "        [ 0.26157719],\n",
       "        [-0.11988734],\n",
       "        [ 0.00174333],\n",
       "        [ 0.12679037],\n",
       "        [ 0.09834588],\n",
       "        [-0.10434522],\n",
       "        [ 0.05602609],\n",
       "        [-0.03990069],\n",
       "        [-0.09992912],\n",
       "        [-0.12831639],\n",
       "        [-0.10405711],\n",
       "        [ 0.12713607],\n",
       "        [ 0.62191492],\n",
       "        [ 0.0558573 ],\n",
       "        [-0.14634849],\n",
       "        [ 0.11179404],\n",
       "        [ 0.09024732],\n",
       "        [ 0.05994933],\n",
       "        [-0.12707743],\n",
       "        [ 0.03110161],\n",
       "        [ 0.05467498],\n",
       "        [ 0.21830155],\n",
       "        [ 0.0848617 ],\n",
       "        [-0.57163084],\n",
       "        [ 0.11976606],\n",
       "        [ 0.12792036],\n",
       "        [-0.23192489],\n",
       "        [ 0.16760151],\n",
       "        [ 0.10666463],\n",
       "        [-0.08066282],\n",
       "        [-0.09826545],\n",
       "        [ 0.08889689],\n",
       "        [ 0.06124445],\n",
       "        [ 0.6385504 ],\n",
       "        [-0.05589373],\n",
       "        [-0.0901783 ],\n",
       "        [ 0.21599874],\n",
       "        [ 0.21218744],\n",
       "        [-0.15956201],\n",
       "        [ 0.63621449],\n",
       "        [-0.15937017],\n",
       "        [-0.20948482],\n",
       "        [ 0.79653317],\n",
       "        [ 0.61048293],\n",
       "        [ 0.04361055],\n",
       "        [ 0.41601807],\n",
       "        [-0.01581509],\n",
       "        [ 0.01204552],\n",
       "        [-0.05893835],\n",
       "        [ 0.45630339],\n",
       "        [ 0.77809316],\n",
       "        [ 0.21074395],\n",
       "        [ 0.21036942],\n",
       "        [-0.06698705],\n",
       "        [ 0.10543931],\n",
       "        [-0.18276039],\n",
       "        [ 0.55029368],\n",
       "        [-0.22205612],\n",
       "        [ 0.40996677],\n",
       "        [-0.15559229],\n",
       "        [-0.07647767],\n",
       "        [ 0.18704726],\n",
       "        [-0.08449032],\n",
       "        [ 0.14728637],\n",
       "        [ 0.16185731],\n",
       "        [ 0.12301572],\n",
       "        [ 0.23626392],\n",
       "        [ 0.57586122],\n",
       "        [-0.206962  ],\n",
       "        [-0.23758782],\n",
       "        [-0.08583062],\n",
       "        [ 0.10206236],\n",
       "        [ 0.63636523],\n",
       "        [ 0.61715835],\n",
       "        [ 0.50492734],\n",
       "        [ 0.08494238],\n",
       "        [-0.11470816],\n",
       "        [ 0.09927756],\n",
       "        [ 0.64644259],\n",
       "        [ 0.03810853],\n",
       "        [ 0.17781334],\n",
       "        [ 0.65972406],\n",
       "        [ 0.34257925],\n",
       "        [ 0.76839095],\n",
       "        [ 0.05097387],\n",
       "        [ 0.67259037],\n",
       "        [ 0.19170566],\n",
       "        [-0.05693213],\n",
       "        [ 0.27000141]], dtype=float32),\n",
       " array([ 0.41052604], dtype=float32)]"
      ]
     },
     "execution_count": 153,
     "metadata": {},
     "output_type": "execute_result"
    }
   ],
   "source": [
    "model.get_weights()"
   ]
  },
  {
   "cell_type": "code",
   "execution_count": 149,
   "metadata": {},
   "outputs": [
    {
     "data": {
      "text/plain": [
       "36.383215312273869"
      ]
     },
     "execution_count": 149,
     "metadata": {},
     "output_type": "execute_result"
    }
   ],
   "source": [
    "lg.intercept_"
   ]
  },
  {
   "cell_type": "code",
   "execution_count": 162,
   "metadata": {},
   "outputs": [],
   "source": [
    "from keras.utils import normalize"
   ]
  },
  {
   "cell_type": "code",
   "execution_count": 164,
   "metadata": {},
   "outputs": [
    {
     "data": {
      "text/plain": [
       "array([[  2.81487004e-05,   1.93240506e-01,   2.61948242e-03, ...,\n",
       "          3.84333896e-02,   8.50107929e-01,   1.03276315e-02],\n",
       "       [  1.22013303e-02,   0.00000000e+00,   2.69302998e-02, ...,\n",
       "          3.00548098e-02,   5.20751654e-03,   2.52043801e-02],\n",
       "       [  7.23002208e-05,   0.00000000e+00,   1.13502161e-02, ...,\n",
       "          4.41761785e-02,   8.66334224e-01,   1.86108554e-02],\n",
       "       ..., \n",
       "       [  3.70283744e-04,   4.27108602e-02,   1.13766200e-02, ...,\n",
       "          3.70807922e-02,   7.64407913e-01,   1.27356019e-02],\n",
       "       [  2.09636188e-03,   0.00000000e+00,   3.64348432e-02, ...,\n",
       "          2.73540447e-02,   6.38782073e-01,   2.25531307e-02],\n",
       "       [  4.75143611e-03,   0.00000000e+00,   2.33811445e-02, ...,\n",
       "          2.60938740e-02,   4.91895361e-01,   1.31631968e-02]])"
      ]
     },
     "execution_count": 164,
     "metadata": {},
     "output_type": "execute_result"
    }
   ],
   "source": [
    "normalize(features_train)"
   ]
  },
  {
   "cell_type": "code",
   "execution_count": 1,
   "metadata": {},
   "outputs": [
    {
     "name": "stderr",
     "output_type": "stream",
     "text": [
      "Using TensorFlow backend.\n"
     ]
    }
   ],
   "source": [
    "from keras.models import load_model"
   ]
  },
  {
   "cell_type": "code",
   "execution_count": 2,
   "metadata": {},
   "outputs": [],
   "source": [
    "model = load_model(\"keras-spam-ham.h5\")"
   ]
  },
  {
   "cell_type": "code",
   "execution_count": 3,
   "metadata": {},
   "outputs": [],
   "source": [
    "to_check = \"Hi How are you i am fine\"\n"
   ]
  },
  {
   "cell_type": "code",
   "execution_count": 4,
   "metadata": {},
   "outputs": [],
   "source": [
    "from keras.preprocessing.text import Tokenizer, text_to_word_sequence"
   ]
  },
  {
   "cell_type": "code",
   "execution_count": 5,
   "metadata": {},
   "outputs": [],
   "source": [
    "words = text_to_word_sequence(to_check)"
   ]
  },
  {
   "cell_type": "code",
   "execution_count": 6,
   "metadata": {},
   "outputs": [],
   "source": [
    "t = Tokenizer()"
   ]
  },
  {
   "cell_type": "code",
   "execution_count": 7,
   "metadata": {},
   "outputs": [],
   "source": [
    "t.fit_on_texts(words)"
   ]
  },
  {
   "cell_type": "code",
   "execution_count": 9,
   "metadata": {},
   "outputs": [],
   "source": [
    "c = t.texts_to_matrix(words)"
   ]
  },
  {
   "cell_type": "code",
   "execution_count": 10,
   "metadata": {},
   "outputs": [
    {
     "data": {
      "text/plain": [
       "(7, 8)"
      ]
     },
     "execution_count": 10,
     "metadata": {},
     "output_type": "execute_result"
    }
   ],
   "source": [
    "c.shape"
   ]
  },
  {
   "cell_type": "code",
   "execution_count": 12,
   "metadata": {},
   "outputs": [
    {
     "ename": "AttributeError",
     "evalue": "'str' object has no attribute 'ndim'",
     "output_type": "error",
     "traceback": [
      "\u001b[0;31m---------------------------------------------------------------------------\u001b[0m",
      "\u001b[0;31mAttributeError\u001b[0m                            Traceback (most recent call last)",
      "\u001b[0;32m<ipython-input-12-a246ea1f5b96>\u001b[0m in \u001b[0;36m<module>\u001b[0;34m()\u001b[0m\n\u001b[0;32m----> 1\u001b[0;31m \u001b[0mmodel\u001b[0m\u001b[0;34m.\u001b[0m\u001b[0mpredict\u001b[0m\u001b[0;34m(\u001b[0m\u001b[0mto_check\u001b[0m\u001b[0;34m)\u001b[0m\u001b[0;34m\u001b[0m\u001b[0m\n\u001b[0m",
      "\u001b[0;32m/Library/Frameworks/Python.framework/Versions/3.6/lib/python3.6/site-packages/keras/models.py\u001b[0m in \u001b[0;36mpredict\u001b[0;34m(self, x, batch_size, verbose, steps)\u001b[0m\n\u001b[1;32m   1023\u001b[0m             \u001b[0mself\u001b[0m\u001b[0;34m.\u001b[0m\u001b[0mbuild\u001b[0m\u001b[0;34m(\u001b[0m\u001b[0;34m)\u001b[0m\u001b[0;34m\u001b[0m\u001b[0m\n\u001b[1;32m   1024\u001b[0m         return self.model.predict(x, batch_size=batch_size, verbose=verbose,\n\u001b[0;32m-> 1025\u001b[0;31m                                   steps=steps)\n\u001b[0m\u001b[1;32m   1026\u001b[0m \u001b[0;34m\u001b[0m\u001b[0m\n\u001b[1;32m   1027\u001b[0m     \u001b[0;32mdef\u001b[0m \u001b[0mpredict_on_batch\u001b[0m\u001b[0;34m(\u001b[0m\u001b[0mself\u001b[0m\u001b[0;34m,\u001b[0m \u001b[0mx\u001b[0m\u001b[0;34m)\u001b[0m\u001b[0;34m:\u001b[0m\u001b[0;34m\u001b[0m\u001b[0m\n",
      "\u001b[0;32m/Library/Frameworks/Python.framework/Versions/3.6/lib/python3.6/site-packages/keras/engine/training.py\u001b[0m in \u001b[0;36mpredict\u001b[0;34m(self, x, batch_size, verbose, steps)\u001b[0m\n\u001b[1;32m   1815\u001b[0m         x = _standardize_input_data(x, self._feed_input_names,\n\u001b[1;32m   1816\u001b[0m                                     \u001b[0mself\u001b[0m\u001b[0;34m.\u001b[0m\u001b[0m_feed_input_shapes\u001b[0m\u001b[0;34m,\u001b[0m\u001b[0;34m\u001b[0m\u001b[0m\n\u001b[0;32m-> 1817\u001b[0;31m                                     check_batch_axis=False)\n\u001b[0m\u001b[1;32m   1818\u001b[0m         \u001b[0;32mif\u001b[0m \u001b[0mself\u001b[0m\u001b[0;34m.\u001b[0m\u001b[0mstateful\u001b[0m\u001b[0;34m:\u001b[0m\u001b[0;34m\u001b[0m\u001b[0m\n\u001b[1;32m   1819\u001b[0m             \u001b[0;32mif\u001b[0m \u001b[0mx\u001b[0m\u001b[0;34m[\u001b[0m\u001b[0;36m0\u001b[0m\u001b[0;34m]\u001b[0m\u001b[0;34m.\u001b[0m\u001b[0mshape\u001b[0m\u001b[0;34m[\u001b[0m\u001b[0;36m0\u001b[0m\u001b[0;34m]\u001b[0m \u001b[0;34m>\u001b[0m \u001b[0mbatch_size\u001b[0m \u001b[0;32mand\u001b[0m \u001b[0mx\u001b[0m\u001b[0;34m[\u001b[0m\u001b[0;36m0\u001b[0m\u001b[0;34m]\u001b[0m\u001b[0;34m.\u001b[0m\u001b[0mshape\u001b[0m\u001b[0;34m[\u001b[0m\u001b[0;36m0\u001b[0m\u001b[0;34m]\u001b[0m \u001b[0;34m%\u001b[0m \u001b[0mbatch_size\u001b[0m \u001b[0;34m!=\u001b[0m \u001b[0;36m0\u001b[0m\u001b[0;34m:\u001b[0m\u001b[0;34m\u001b[0m\u001b[0m\n",
      "\u001b[0;32m/Library/Frameworks/Python.framework/Versions/3.6/lib/python3.6/site-packages/keras/engine/training.py\u001b[0m in \u001b[0;36m_standardize_input_data\u001b[0;34m(data, names, shapes, check_batch_axis, exception_prefix)\u001b[0m\n\u001b[1;32m     74\u001b[0m         \u001b[0mdata\u001b[0m \u001b[0;34m=\u001b[0m \u001b[0mdata\u001b[0m\u001b[0;34m.\u001b[0m\u001b[0mvalues\u001b[0m \u001b[0;32mif\u001b[0m \u001b[0mdata\u001b[0m\u001b[0;34m.\u001b[0m\u001b[0m__class__\u001b[0m\u001b[0;34m.\u001b[0m\u001b[0m__name__\u001b[0m \u001b[0;34m==\u001b[0m \u001b[0;34m'DataFrame'\u001b[0m \u001b[0;32melse\u001b[0m \u001b[0mdata\u001b[0m\u001b[0;34m\u001b[0m\u001b[0m\n\u001b[1;32m     75\u001b[0m         \u001b[0mdata\u001b[0m \u001b[0;34m=\u001b[0m \u001b[0;34m[\u001b[0m\u001b[0mdata\u001b[0m\u001b[0;34m]\u001b[0m\u001b[0;34m\u001b[0m\u001b[0m\n\u001b[0;32m---> 76\u001b[0;31m     \u001b[0mdata\u001b[0m \u001b[0;34m=\u001b[0m \u001b[0;34m[\u001b[0m\u001b[0mnp\u001b[0m\u001b[0;34m.\u001b[0m\u001b[0mexpand_dims\u001b[0m\u001b[0;34m(\u001b[0m\u001b[0mx\u001b[0m\u001b[0;34m,\u001b[0m \u001b[0;36m1\u001b[0m\u001b[0;34m)\u001b[0m \u001b[0;32mif\u001b[0m \u001b[0mx\u001b[0m \u001b[0;32mis\u001b[0m \u001b[0;32mnot\u001b[0m \u001b[0;32mNone\u001b[0m \u001b[0;32mand\u001b[0m \u001b[0mx\u001b[0m\u001b[0;34m.\u001b[0m\u001b[0mndim\u001b[0m \u001b[0;34m==\u001b[0m \u001b[0;36m1\u001b[0m \u001b[0;32melse\u001b[0m \u001b[0mx\u001b[0m \u001b[0;32mfor\u001b[0m \u001b[0mx\u001b[0m \u001b[0;32min\u001b[0m \u001b[0mdata\u001b[0m\u001b[0;34m]\u001b[0m\u001b[0;34m\u001b[0m\u001b[0m\n\u001b[0m\u001b[1;32m     77\u001b[0m \u001b[0;34m\u001b[0m\u001b[0m\n\u001b[1;32m     78\u001b[0m     \u001b[0;32mif\u001b[0m \u001b[0mlen\u001b[0m\u001b[0;34m(\u001b[0m\u001b[0mdata\u001b[0m\u001b[0;34m)\u001b[0m \u001b[0;34m!=\u001b[0m \u001b[0mlen\u001b[0m\u001b[0;34m(\u001b[0m\u001b[0mnames\u001b[0m\u001b[0;34m)\u001b[0m\u001b[0;34m:\u001b[0m\u001b[0;34m\u001b[0m\u001b[0m\n",
      "\u001b[0;32m/Library/Frameworks/Python.framework/Versions/3.6/lib/python3.6/site-packages/keras/engine/training.py\u001b[0m in \u001b[0;36m<listcomp>\u001b[0;34m(.0)\u001b[0m\n\u001b[1;32m     74\u001b[0m         \u001b[0mdata\u001b[0m \u001b[0;34m=\u001b[0m \u001b[0mdata\u001b[0m\u001b[0;34m.\u001b[0m\u001b[0mvalues\u001b[0m \u001b[0;32mif\u001b[0m \u001b[0mdata\u001b[0m\u001b[0;34m.\u001b[0m\u001b[0m__class__\u001b[0m\u001b[0;34m.\u001b[0m\u001b[0m__name__\u001b[0m \u001b[0;34m==\u001b[0m \u001b[0;34m'DataFrame'\u001b[0m \u001b[0;32melse\u001b[0m \u001b[0mdata\u001b[0m\u001b[0;34m\u001b[0m\u001b[0m\n\u001b[1;32m     75\u001b[0m         \u001b[0mdata\u001b[0m \u001b[0;34m=\u001b[0m \u001b[0;34m[\u001b[0m\u001b[0mdata\u001b[0m\u001b[0;34m]\u001b[0m\u001b[0;34m\u001b[0m\u001b[0m\n\u001b[0;32m---> 76\u001b[0;31m     \u001b[0mdata\u001b[0m \u001b[0;34m=\u001b[0m \u001b[0;34m[\u001b[0m\u001b[0mnp\u001b[0m\u001b[0;34m.\u001b[0m\u001b[0mexpand_dims\u001b[0m\u001b[0;34m(\u001b[0m\u001b[0mx\u001b[0m\u001b[0;34m,\u001b[0m \u001b[0;36m1\u001b[0m\u001b[0;34m)\u001b[0m \u001b[0;32mif\u001b[0m \u001b[0mx\u001b[0m \u001b[0;32mis\u001b[0m \u001b[0;32mnot\u001b[0m \u001b[0;32mNone\u001b[0m \u001b[0;32mand\u001b[0m \u001b[0mx\u001b[0m\u001b[0;34m.\u001b[0m\u001b[0mndim\u001b[0m \u001b[0;34m==\u001b[0m \u001b[0;36m1\u001b[0m \u001b[0;32melse\u001b[0m \u001b[0mx\u001b[0m \u001b[0;32mfor\u001b[0m \u001b[0mx\u001b[0m \u001b[0;32min\u001b[0m \u001b[0mdata\u001b[0m\u001b[0;34m]\u001b[0m\u001b[0;34m\u001b[0m\u001b[0m\n\u001b[0m\u001b[1;32m     77\u001b[0m \u001b[0;34m\u001b[0m\u001b[0m\n\u001b[1;32m     78\u001b[0m     \u001b[0;32mif\u001b[0m \u001b[0mlen\u001b[0m\u001b[0;34m(\u001b[0m\u001b[0mdata\u001b[0m\u001b[0;34m)\u001b[0m \u001b[0;34m!=\u001b[0m \u001b[0mlen\u001b[0m\u001b[0;34m(\u001b[0m\u001b[0mnames\u001b[0m\u001b[0;34m)\u001b[0m\u001b[0;34m:\u001b[0m\u001b[0;34m\u001b[0m\u001b[0m\n",
      "\u001b[0;31mAttributeError\u001b[0m: 'str' object has no attribute 'ndim'"
     ]
    }
   ],
   "source": [
    "model.predict(to_check)"
   ]
  },
  {
   "cell_type": "code",
   "execution_count": null,
   "metadata": {},
   "outputs": [],
   "source": []
  }
 ],
 "metadata": {
  "kernelspec": {
   "display_name": "Python 3",
   "language": "python",
   "name": "python3"
  },
  "language_info": {
   "codemirror_mode": {
    "name": "ipython",
    "version": 3
   },
   "file_extension": ".py",
   "mimetype": "text/x-python",
   "name": "python",
   "nbconvert_exporter": "python",
   "pygments_lexer": "ipython3",
   "version": "3.6.4"
  }
 },
 "nbformat": 4,
 "nbformat_minor": 2
}
