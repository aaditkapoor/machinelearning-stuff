{
 "cells": [
  {
   "cell_type": "markdown",
   "metadata": {},
   "source": [
    "## <u>Problem Definition</u>\n",
    "### Our task is to fetch the first image of the first 300 folders and store it in a list."
   ]
  },
  {
   "cell_type": "code",
   "execution_count": 2,
   "metadata": {},
   "outputs": [],
   "source": [
    "# importing\n",
    "import os"
   ]
  },
  {
   "cell_type": "code",
   "execution_count": 5,
   "metadata": {},
   "outputs": [],
   "source": [
    "# Main path\n",
    "path = \"\"\n",
    "images_path = \"\"\n",
    "copy_path = \"\"\n",
    "\n",
    "# Individual folders\n",
    "folders = []\n",
    "# All images of each folder in a dictionary\n",
    "all_images = {}\n",
    "\n",
    "# first image of each folder\n",
    "images = {}"
   ]
  },
  {
   "cell_type": "code",
   "execution_count": 18,
   "metadata": {},
   "outputs": [],
   "source": [
    "# Returns the folder\n",
    "def return_folders(path):\n",
    "    return os.listdir(path)\n",
    "\n",
    "# Returns all the images\n",
    "def return_images(folders):\n",
    "    all_images = {}\n",
    "    for i in folders:\n",
    "        for j in os.listdir(path+\"/\"+i):\n",
    "            all_images[i] = j # First image is returned (to test)\n",
    "    return all_images\n",
    "\n",
    "# Returns the first image\n",
    "def return_first_images(data):\n",
    "    images = []\n",
    "    for i in data.items():\n",
    "        images.append(i)    "
   ]
  },
  {
   "cell_type": "code",
   "execution_count": null,
   "metadata": {},
   "outputs": [],
   "source": [
    "folders = return_folders(path)\n",
    "all_images = return_images(folders)\n",
    "images = return_first_images(all_images)"
   ]
  },
  {
   "cell_type": "code",
   "execution_count": 17,
   "metadata": {},
   "outputs": [
    {
     "name": "stdout",
     "output_type": "stream",
     "text": [
      "{1: 5, 2: 4}\n"
     ]
    }
   ],
   "source": [
    "# Code snippet demonstrating the above behaviour\n",
    "\n",
    "a = [1,2] # Folders\n",
    "c = {1:[1,2,3,4,5],2:[1,2,3,4]} # Items of the folder (1,2) in list format\n",
    "x = {} # Folder's last item\n",
    "\n",
    "# Last item\n",
    "for i in a:\n",
    "    for j in c.get(i):\n",
    "        x[i] = j   \n",
    "\n",
    "print (x) # Getting the last element in a dictionary"
   ]
  },
  {
   "cell_type": "code",
   "execution_count": null,
   "metadata": {},
   "outputs": [],
   "source": []
  },
  {
   "cell_type": "code",
   "execution_count": null,
   "metadata": {},
   "outputs": [],
   "source": []
  }
 ],
 "metadata": {
  "kernelspec": {
   "display_name": "Python 3",
   "language": "python",
   "name": "python3"
  },
  "language_info": {
   "codemirror_mode": {
    "name": "ipython",
    "version": 3
   },
   "file_extension": ".py",
   "mimetype": "text/x-python",
   "name": "python",
   "nbconvert_exporter": "python",
   "pygments_lexer": "ipython3",
   "version": "3.6.4"
  }
 },
 "nbformat": 4,
 "nbformat_minor": 2
}
