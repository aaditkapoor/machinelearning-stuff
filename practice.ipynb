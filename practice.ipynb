{
 "cells": [
  {
   "cell_type": "code",
   "execution_count": 3,
   "metadata": {},
   "outputs": [],
   "source": [
    "import pandas as pd\n",
    "import numpy as np\n",
    "from sklearn.model_selection import train_test_split\n",
    "import keras\n",
    "from keras import Sequential\n",
    "from keras.layers import Dense\n",
    "from sklearn.datasets import load_iris"
   ]
  },
  {
   "cell_type": "code",
   "execution_count": 4,
   "metadata": {},
   "outputs": [],
   "source": [
    "data = load_iris()"
   ]
  },
  {
   "cell_type": "code",
   "execution_count": 5,
   "metadata": {},
   "outputs": [],
   "source": [
    "features = data.data\n",
    "labels = data.target"
   ]
  },
  {
   "cell_type": "code",
   "execution_count": 6,
   "metadata": {},
   "outputs": [
    {
     "data": {
      "text/plain": [
       "array([0, 0, 0, 0, 0, 0, 0, 0, 0, 0, 0, 0, 0, 0, 0, 0, 0, 0, 0, 0, 0, 0, 0,\n",
       "       0, 0, 0, 0, 0, 0, 0, 0, 0, 0, 0, 0, 0, 0, 0, 0, 0, 0, 0, 0, 0, 0, 0,\n",
       "       0, 0, 0, 0, 1, 1, 1, 1, 1, 1, 1, 1, 1, 1, 1, 1, 1, 1, 1, 1, 1, 1, 1,\n",
       "       1, 1, 1, 1, 1, 1, 1, 1, 1, 1, 1, 1, 1, 1, 1, 1, 1, 1, 1, 1, 1, 1, 1,\n",
       "       1, 1, 1, 1, 1, 1, 1, 1, 2, 2, 2, 2, 2, 2, 2, 2, 2, 2, 2, 2, 2, 2, 2,\n",
       "       2, 2, 2, 2, 2, 2, 2, 2, 2, 2, 2, 2, 2, 2, 2, 2, 2, 2, 2, 2, 2, 2, 2,\n",
       "       2, 2, 2, 2, 2, 2, 2, 2, 2, 2, 2, 2])"
      ]
     },
     "execution_count": 6,
     "metadata": {},
     "output_type": "execute_result"
    }
   ],
   "source": [
    "labels"
   ]
  },
  {
   "cell_type": "code",
   "execution_count": 7,
   "metadata": {},
   "outputs": [
    {
     "data": {
      "text/plain": [
       "array([ 5.1,  3.5,  1.4,  0.2])"
      ]
     },
     "execution_count": 7,
     "metadata": {},
     "output_type": "execute_result"
    }
   ],
   "source": [
    "features[0]"
   ]
  },
  {
   "cell_type": "code",
   "execution_count": 8,
   "metadata": {},
   "outputs": [
    {
     "data": {
      "text/plain": [
       "150"
      ]
     },
     "execution_count": 8,
     "metadata": {},
     "output_type": "execute_result"
    }
   ],
   "source": [
    "len(features)"
   ]
  },
  {
   "cell_type": "code",
   "execution_count": 9,
   "metadata": {},
   "outputs": [],
   "source": [
    "model = Sequential()\n",
    "model.add(Dense(50, input_dim = features.shape[1], activation=\"relu\"))\n",
    "model.add(Dense(25, activation=\"relu\"))\n",
    "model.add(Dense(3, activation=\"softmax\"))\n",
    "model.compile(optimizer=\"rmsprop\", loss=keras.losses.categorical_crossentropy, metrics=[\"accuracy\"])"
   ]
  },
  {
   "cell_type": "code",
   "execution_count": 10,
   "metadata": {},
   "outputs": [],
   "source": [
    "from keras.utils import to_categorical\n",
    "labels = to_categorical(labels)"
   ]
  },
  {
   "cell_type": "code",
   "execution_count": 11,
   "metadata": {},
   "outputs": [
    {
     "data": {
      "text/plain": [
       "array([[ 1.,  0.,  0.],\n",
       "       [ 1.,  0.,  0.],\n",
       "       [ 1.,  0.,  0.],\n",
       "       [ 1.,  0.,  0.],\n",
       "       [ 1.,  0.,  0.],\n",
       "       [ 1.,  0.,  0.],\n",
       "       [ 1.,  0.,  0.],\n",
       "       [ 1.,  0.,  0.],\n",
       "       [ 1.,  0.,  0.],\n",
       "       [ 1.,  0.,  0.],\n",
       "       [ 1.,  0.,  0.],\n",
       "       [ 1.,  0.,  0.],\n",
       "       [ 1.,  0.,  0.],\n",
       "       [ 1.,  0.,  0.],\n",
       "       [ 1.,  0.,  0.],\n",
       "       [ 1.,  0.,  0.],\n",
       "       [ 1.,  0.,  0.],\n",
       "       [ 1.,  0.,  0.],\n",
       "       [ 1.,  0.,  0.],\n",
       "       [ 1.,  0.,  0.],\n",
       "       [ 1.,  0.,  0.],\n",
       "       [ 1.,  0.,  0.],\n",
       "       [ 1.,  0.,  0.],\n",
       "       [ 1.,  0.,  0.],\n",
       "       [ 1.,  0.,  0.],\n",
       "       [ 1.,  0.,  0.],\n",
       "       [ 1.,  0.,  0.],\n",
       "       [ 1.,  0.,  0.],\n",
       "       [ 1.,  0.,  0.],\n",
       "       [ 1.,  0.,  0.],\n",
       "       [ 1.,  0.,  0.],\n",
       "       [ 1.,  0.,  0.],\n",
       "       [ 1.,  0.,  0.],\n",
       "       [ 1.,  0.,  0.],\n",
       "       [ 1.,  0.,  0.],\n",
       "       [ 1.,  0.,  0.],\n",
       "       [ 1.,  0.,  0.],\n",
       "       [ 1.,  0.,  0.],\n",
       "       [ 1.,  0.,  0.],\n",
       "       [ 1.,  0.,  0.],\n",
       "       [ 1.,  0.,  0.],\n",
       "       [ 1.,  0.,  0.],\n",
       "       [ 1.,  0.,  0.],\n",
       "       [ 1.,  0.,  0.],\n",
       "       [ 1.,  0.,  0.],\n",
       "       [ 1.,  0.,  0.],\n",
       "       [ 1.,  0.,  0.],\n",
       "       [ 1.,  0.,  0.],\n",
       "       [ 1.,  0.,  0.],\n",
       "       [ 1.,  0.,  0.],\n",
       "       [ 0.,  1.,  0.],\n",
       "       [ 0.,  1.,  0.],\n",
       "       [ 0.,  1.,  0.],\n",
       "       [ 0.,  1.,  0.],\n",
       "       [ 0.,  1.,  0.],\n",
       "       [ 0.,  1.,  0.],\n",
       "       [ 0.,  1.,  0.],\n",
       "       [ 0.,  1.,  0.],\n",
       "       [ 0.,  1.,  0.],\n",
       "       [ 0.,  1.,  0.],\n",
       "       [ 0.,  1.,  0.],\n",
       "       [ 0.,  1.,  0.],\n",
       "       [ 0.,  1.,  0.],\n",
       "       [ 0.,  1.,  0.],\n",
       "       [ 0.,  1.,  0.],\n",
       "       [ 0.,  1.,  0.],\n",
       "       [ 0.,  1.,  0.],\n",
       "       [ 0.,  1.,  0.],\n",
       "       [ 0.,  1.,  0.],\n",
       "       [ 0.,  1.,  0.],\n",
       "       [ 0.,  1.,  0.],\n",
       "       [ 0.,  1.,  0.],\n",
       "       [ 0.,  1.,  0.],\n",
       "       [ 0.,  1.,  0.],\n",
       "       [ 0.,  1.,  0.],\n",
       "       [ 0.,  1.,  0.],\n",
       "       [ 0.,  1.,  0.],\n",
       "       [ 0.,  1.,  0.],\n",
       "       [ 0.,  1.,  0.],\n",
       "       [ 0.,  1.,  0.],\n",
       "       [ 0.,  1.,  0.],\n",
       "       [ 0.,  1.,  0.],\n",
       "       [ 0.,  1.,  0.],\n",
       "       [ 0.,  1.,  0.],\n",
       "       [ 0.,  1.,  0.],\n",
       "       [ 0.,  1.,  0.],\n",
       "       [ 0.,  1.,  0.],\n",
       "       [ 0.,  1.,  0.],\n",
       "       [ 0.,  1.,  0.],\n",
       "       [ 0.,  1.,  0.],\n",
       "       [ 0.,  1.,  0.],\n",
       "       [ 0.,  1.,  0.],\n",
       "       [ 0.,  1.,  0.],\n",
       "       [ 0.,  1.,  0.],\n",
       "       [ 0.,  1.,  0.],\n",
       "       [ 0.,  1.,  0.],\n",
       "       [ 0.,  1.,  0.],\n",
       "       [ 0.,  1.,  0.],\n",
       "       [ 0.,  1.,  0.],\n",
       "       [ 0.,  1.,  0.],\n",
       "       [ 0.,  0.,  1.],\n",
       "       [ 0.,  0.,  1.],\n",
       "       [ 0.,  0.,  1.],\n",
       "       [ 0.,  0.,  1.],\n",
       "       [ 0.,  0.,  1.],\n",
       "       [ 0.,  0.,  1.],\n",
       "       [ 0.,  0.,  1.],\n",
       "       [ 0.,  0.,  1.],\n",
       "       [ 0.,  0.,  1.],\n",
       "       [ 0.,  0.,  1.],\n",
       "       [ 0.,  0.,  1.],\n",
       "       [ 0.,  0.,  1.],\n",
       "       [ 0.,  0.,  1.],\n",
       "       [ 0.,  0.,  1.],\n",
       "       [ 0.,  0.,  1.],\n",
       "       [ 0.,  0.,  1.],\n",
       "       [ 0.,  0.,  1.],\n",
       "       [ 0.,  0.,  1.],\n",
       "       [ 0.,  0.,  1.],\n",
       "       [ 0.,  0.,  1.],\n",
       "       [ 0.,  0.,  1.],\n",
       "       [ 0.,  0.,  1.],\n",
       "       [ 0.,  0.,  1.],\n",
       "       [ 0.,  0.,  1.],\n",
       "       [ 0.,  0.,  1.],\n",
       "       [ 0.,  0.,  1.],\n",
       "       [ 0.,  0.,  1.],\n",
       "       [ 0.,  0.,  1.],\n",
       "       [ 0.,  0.,  1.],\n",
       "       [ 0.,  0.,  1.],\n",
       "       [ 0.,  0.,  1.],\n",
       "       [ 0.,  0.,  1.],\n",
       "       [ 0.,  0.,  1.],\n",
       "       [ 0.,  0.,  1.],\n",
       "       [ 0.,  0.,  1.],\n",
       "       [ 0.,  0.,  1.],\n",
       "       [ 0.,  0.,  1.],\n",
       "       [ 0.,  0.,  1.],\n",
       "       [ 0.,  0.,  1.],\n",
       "       [ 0.,  0.,  1.],\n",
       "       [ 0.,  0.,  1.],\n",
       "       [ 0.,  0.,  1.],\n",
       "       [ 0.,  0.,  1.],\n",
       "       [ 0.,  0.,  1.],\n",
       "       [ 0.,  0.,  1.],\n",
       "       [ 0.,  0.,  1.],\n",
       "       [ 0.,  0.,  1.],\n",
       "       [ 0.,  0.,  1.],\n",
       "       [ 0.,  0.,  1.],\n",
       "       [ 0.,  0.,  1.]])"
      ]
     },
     "execution_count": 11,
     "metadata": {},
     "output_type": "execute_result"
    }
   ],
   "source": [
    "labels"
   ]
  },
  {
   "cell_type": "code",
   "execution_count": 12,
   "metadata": {},
   "outputs": [],
   "source": [
    "features_train, features_test, labels_train, labels_test = train_test_split(features, labels, random_state=3, shuffle=True)"
   ]
  },
  {
   "cell_type": "code",
   "execution_count": 13,
   "metadata": {},
   "outputs": [
    {
     "name": "stdout",
     "output_type": "stream",
     "text": [
      "Train on 112 samples, validate on 38 samples\n",
      "Epoch 1/100\n",
      "112/112 [==============================] - 0s 2ms/step - loss: 0.9362 - acc: 0.4911 - val_loss: 0.8552 - val_acc: 0.6842\n",
      "Epoch 2/100\n",
      "112/112 [==============================] - 0s 141us/step - loss: 0.8390 - acc: 0.6607 - val_loss: 0.7970 - val_acc: 0.6842\n",
      "Epoch 3/100\n",
      "112/112 [==============================] - 0s 138us/step - loss: 0.7944 - acc: 0.6607 - val_loss: 0.7632 - val_acc: 0.6842\n",
      "Epoch 4/100\n",
      "112/112 [==============================] - 0s 159us/step - loss: 0.7586 - acc: 0.6607 - val_loss: 0.7368 - val_acc: 0.6579\n",
      "Epoch 5/100\n",
      "112/112 [==============================] - 0s 208us/step - loss: 0.7243 - acc: 0.6607 - val_loss: 0.6774 - val_acc: 0.6842\n",
      "Epoch 6/100\n",
      "112/112 [==============================] - 0s 159us/step - loss: 0.6957 - acc: 0.6696 - val_loss: 0.6495 - val_acc: 0.6842\n",
      "Epoch 7/100\n",
      "112/112 [==============================] - 0s 172us/step - loss: 0.6641 - acc: 0.6607 - val_loss: 0.6272 - val_acc: 0.7105\n",
      "Epoch 8/100\n",
      "112/112 [==============================] - 0s 166us/step - loss: 0.6474 - acc: 0.5982 - val_loss: 0.5921 - val_acc: 0.6842\n",
      "Epoch 9/100\n",
      "112/112 [==============================] - 0s 182us/step - loss: 0.6182 - acc: 0.7411 - val_loss: 0.5693 - val_acc: 0.6842\n",
      "Epoch 10/100\n",
      "112/112 [==============================] - 0s 186us/step - loss: 0.5977 - acc: 0.6964 - val_loss: 0.5485 - val_acc: 0.6842\n",
      "Epoch 11/100\n",
      "112/112 [==============================] - 0s 246us/step - loss: 0.5740 - acc: 0.6696 - val_loss: 0.5396 - val_acc: 0.9474\n",
      "Epoch 12/100\n",
      "112/112 [==============================] - 0s 309us/step - loss: 0.5620 - acc: 0.7411 - val_loss: 0.5148 - val_acc: 0.8158\n",
      "Epoch 13/100\n",
      "112/112 [==============================] - 0s 196us/step - loss: 0.5440 - acc: 0.8929 - val_loss: 0.4972 - val_acc: 0.9737\n",
      "Epoch 14/100\n",
      "112/112 [==============================] - 0s 211us/step - loss: 0.5254 - acc: 0.8571 - val_loss: 0.4773 - val_acc: 0.9474\n",
      "Epoch 15/100\n",
      "112/112 [==============================] - 0s 141us/step - loss: 0.5155 - acc: 0.7946 - val_loss: 0.4618 - val_acc: 0.9474\n",
      "Epoch 16/100\n",
      "112/112 [==============================] - 0s 183us/step - loss: 0.5002 - acc: 0.8661 - val_loss: 0.4494 - val_acc: 0.9737\n",
      "Epoch 17/100\n",
      "112/112 [==============================] - 0s 164us/step - loss: 0.4890 - acc: 0.8750 - val_loss: 0.4377 - val_acc: 0.7632\n",
      "Epoch 18/100\n",
      "112/112 [==============================] - 0s 182us/step - loss: 0.4840 - acc: 0.7054 - val_loss: 0.4302 - val_acc: 0.8158\n",
      "Epoch 19/100\n",
      "112/112 [==============================] - 0s 175us/step - loss: 0.4672 - acc: 0.8482 - val_loss: 0.4174 - val_acc: 0.8158\n",
      "Epoch 20/100\n",
      "112/112 [==============================] - 0s 130us/step - loss: 0.4527 - acc: 0.8929 - val_loss: 0.4139 - val_acc: 0.7105\n",
      "Epoch 21/100\n",
      "112/112 [==============================] - 0s 134us/step - loss: 0.4437 - acc: 0.8214 - val_loss: 0.3998 - val_acc: 0.8158\n",
      "Epoch 22/100\n",
      "112/112 [==============================] - 0s 160us/step - loss: 0.4307 - acc: 0.8839 - val_loss: 0.3908 - val_acc: 0.8158\n",
      "Epoch 23/100\n",
      "112/112 [==============================] - 0s 152us/step - loss: 0.4235 - acc: 0.9196 - val_loss: 0.3848 - val_acc: 0.7895\n",
      "Epoch 24/100\n",
      "112/112 [==============================] - 0s 153us/step - loss: 0.4157 - acc: 0.8661 - val_loss: 0.3651 - val_acc: 0.9211\n",
      "Epoch 25/100\n",
      "112/112 [==============================] - 0s 168us/step - loss: 0.3983 - acc: 0.9375 - val_loss: 0.3523 - val_acc: 0.9737\n",
      "Epoch 26/100\n",
      "112/112 [==============================] - 0s 193us/step - loss: 0.3947 - acc: 0.9375 - val_loss: 0.3459 - val_acc: 0.9211\n",
      "Epoch 27/100\n",
      "112/112 [==============================] - 0s 147us/step - loss: 0.3843 - acc: 0.9107 - val_loss: 0.3405 - val_acc: 0.9211\n",
      "Epoch 28/100\n",
      "112/112 [==============================] - 0s 178us/step - loss: 0.3690 - acc: 0.9821 - val_loss: 0.3338 - val_acc: 0.8947\n",
      "Epoch 29/100\n",
      "112/112 [==============================] - 0s 139us/step - loss: 0.3625 - acc: 0.9375 - val_loss: 0.3164 - val_acc: 0.9474\n",
      "Epoch 30/100\n",
      "112/112 [==============================] - 0s 218us/step - loss: 0.3625 - acc: 0.9375 - val_loss: 0.3081 - val_acc: 0.9737\n",
      "Epoch 31/100\n",
      "112/112 [==============================] - 0s 123us/step - loss: 0.3406 - acc: 0.9821 - val_loss: 0.3056 - val_acc: 0.9211\n",
      "Epoch 32/100\n",
      "112/112 [==============================] - 0s 203us/step - loss: 0.3478 - acc: 0.9554 - val_loss: 0.3040 - val_acc: 0.9211\n",
      "Epoch 33/100\n",
      "112/112 [==============================] - 0s 139us/step - loss: 0.3353 - acc: 0.9464 - val_loss: 0.2895 - val_acc: 0.9474\n",
      "Epoch 34/100\n",
      "112/112 [==============================] - 0s 123us/step - loss: 0.3242 - acc: 0.9286 - val_loss: 0.2783 - val_acc: 0.9737\n",
      "Epoch 35/100\n",
      "112/112 [==============================] - 0s 172us/step - loss: 0.3129 - acc: 0.9554 - val_loss: 0.2709 - val_acc: 0.9737\n",
      "Epoch 36/100\n",
      "112/112 [==============================] - 0s 156us/step - loss: 0.3057 - acc: 0.9732 - val_loss: 0.2685 - val_acc: 0.9474\n",
      "Epoch 37/100\n",
      "112/112 [==============================] - 0s 139us/step - loss: 0.3030 - acc: 0.9554 - val_loss: 0.2596 - val_acc: 0.9737\n",
      "Epoch 38/100\n",
      "112/112 [==============================] - 0s 138us/step - loss: 0.2871 - acc: 0.9821 - val_loss: 0.2536 - val_acc: 0.9474\n",
      "Epoch 39/100\n",
      "112/112 [==============================] - 0s 155us/step - loss: 0.2800 - acc: 0.9821 - val_loss: 0.2448 - val_acc: 0.9737\n",
      "Epoch 40/100\n",
      "112/112 [==============================] - 0s 131us/step - loss: 0.2736 - acc: 0.9821 - val_loss: 0.2401 - val_acc: 0.9474\n",
      "Epoch 41/100\n",
      "112/112 [==============================] - 0s 201us/step - loss: 0.2738 - acc: 0.9643 - val_loss: 0.2604 - val_acc: 0.8947\n",
      "Epoch 42/100\n",
      "112/112 [==============================] - 0s 137us/step - loss: 0.2639 - acc: 0.9464 - val_loss: 0.2322 - val_acc: 0.9474\n",
      "Epoch 43/100\n",
      "112/112 [==============================] - 0s 162us/step - loss: 0.2538 - acc: 0.9732 - val_loss: 0.2176 - val_acc: 0.9737\n",
      "Epoch 44/100\n",
      "112/112 [==============================] - 0s 169us/step - loss: 0.2525 - acc: 0.9643 - val_loss: 0.2132 - val_acc: 0.9737\n",
      "Epoch 45/100\n",
      "112/112 [==============================] - 0s 120us/step - loss: 0.2415 - acc: 0.9464 - val_loss: 0.2113 - val_acc: 0.9737\n",
      "Epoch 46/100\n",
      "112/112 [==============================] - 0s 173us/step - loss: 0.2375 - acc: 0.9643 - val_loss: 0.2066 - val_acc: 0.9737\n",
      "Epoch 47/100\n",
      "112/112 [==============================] - 0s 149us/step - loss: 0.2299 - acc: 0.9643 - val_loss: 0.1953 - val_acc: 0.9737\n",
      "Epoch 48/100\n",
      "112/112 [==============================] - 0s 136us/step - loss: 0.2243 - acc: 0.9643 - val_loss: 0.1937 - val_acc: 0.9737\n",
      "Epoch 49/100\n",
      "112/112 [==============================] - 0s 159us/step - loss: 0.2176 - acc: 0.9643 - val_loss: 0.1957 - val_acc: 0.9474\n",
      "Epoch 50/100\n",
      "112/112 [==============================] - 0s 130us/step - loss: 0.2088 - acc: 0.9643 - val_loss: 0.1839 - val_acc: 0.9474\n",
      "Epoch 51/100\n",
      "112/112 [==============================] - 0s 126us/step - loss: 0.2073 - acc: 0.9732 - val_loss: 0.1773 - val_acc: 0.9474\n",
      "Epoch 52/100\n",
      "112/112 [==============================] - 0s 120us/step - loss: 0.2018 - acc: 0.9732 - val_loss: 0.1741 - val_acc: 0.9474\n",
      "Epoch 53/100\n",
      "112/112 [==============================] - 0s 149us/step - loss: 0.2067 - acc: 0.9375 - val_loss: 0.1668 - val_acc: 0.9737\n",
      "Epoch 54/100\n",
      "112/112 [==============================] - 0s 129us/step - loss: 0.1905 - acc: 0.9554 - val_loss: 0.1634 - val_acc: 0.9737\n",
      "Epoch 55/100\n",
      "112/112 [==============================] - 0s 140us/step - loss: 0.1928 - acc: 0.9643 - val_loss: 0.1589 - val_acc: 0.9737\n",
      "Epoch 56/100\n",
      "112/112 [==============================] - 0s 130us/step - loss: 0.1902 - acc: 0.9643 - val_loss: 0.1569 - val_acc: 0.9474\n",
      "Epoch 57/100\n",
      "112/112 [==============================] - 0s 158us/step - loss: 0.1825 - acc: 0.9732 - val_loss: 0.1533 - val_acc: 0.9737\n",
      "Epoch 58/100\n",
      "112/112 [==============================] - 0s 126us/step - loss: 0.1734 - acc: 0.9821 - val_loss: 0.1545 - val_acc: 0.9737\n",
      "Epoch 59/100\n",
      "112/112 [==============================] - 0s 130us/step - loss: 0.1677 - acc: 0.9821 - val_loss: 0.1580 - val_acc: 0.9474\n",
      "Epoch 60/100\n",
      "112/112 [==============================] - 0s 134us/step - loss: 0.1677 - acc: 0.9643 - val_loss: 0.1580 - val_acc: 0.9474\n"
     ]
    },
    {
     "name": "stdout",
     "output_type": "stream",
     "text": [
      "Epoch 61/100\n",
      "112/112 [==============================] - 0s 125us/step - loss: 0.1644 - acc: 0.9643 - val_loss: 0.1385 - val_acc: 0.9737\n",
      "Epoch 62/100\n",
      "112/112 [==============================] - 0s 192us/step - loss: 0.1558 - acc: 0.9821 - val_loss: 0.1462 - val_acc: 0.9737\n",
      "Epoch 63/100\n",
      "112/112 [==============================] - 0s 157us/step - loss: 0.1568 - acc: 0.9732 - val_loss: 0.1605 - val_acc: 0.9474\n",
      "Epoch 64/100\n",
      "112/112 [==============================] - 0s 192us/step - loss: 0.1528 - acc: 0.9643 - val_loss: 0.1323 - val_acc: 0.9474\n",
      "Epoch 65/100\n",
      "112/112 [==============================] - 0s 172us/step - loss: 0.1451 - acc: 0.9821 - val_loss: 0.1865 - val_acc: 0.9211\n",
      "Epoch 66/100\n",
      "112/112 [==============================] - 0s 158us/step - loss: 0.1544 - acc: 0.9732 - val_loss: 0.1290 - val_acc: 0.9474\n",
      "Epoch 67/100\n",
      "112/112 [==============================] - 0s 180us/step - loss: 0.1513 - acc: 0.9643 - val_loss: 0.1202 - val_acc: 0.9737\n",
      "Epoch 68/100\n",
      "112/112 [==============================] - 0s 161us/step - loss: 0.1624 - acc: 0.9464 - val_loss: 0.1266 - val_acc: 0.9737\n",
      "Epoch 69/100\n",
      "112/112 [==============================] - 0s 191us/step - loss: 0.1404 - acc: 0.9821 - val_loss: 0.1170 - val_acc: 0.9737\n",
      "Epoch 70/100\n",
      "112/112 [==============================] - 0s 202us/step - loss: 0.1365 - acc: 0.9821 - val_loss: 0.1171 - val_acc: 0.9737\n",
      "Epoch 71/100\n",
      "112/112 [==============================] - 0s 189us/step - loss: 0.1331 - acc: 0.9732 - val_loss: 0.1186 - val_acc: 0.9737\n",
      "Epoch 72/100\n",
      "112/112 [==============================] - 0s 138us/step - loss: 0.1301 - acc: 0.9732 - val_loss: 0.1318 - val_acc: 0.9474\n",
      "Epoch 73/100\n",
      "112/112 [==============================] - 0s 183us/step - loss: 0.1447 - acc: 0.9554 - val_loss: 0.1230 - val_acc: 0.9737\n",
      "Epoch 74/100\n",
      "112/112 [==============================] - 0s 173us/step - loss: 0.1314 - acc: 0.9732 - val_loss: 0.1105 - val_acc: 0.9737\n",
      "Epoch 75/100\n",
      "112/112 [==============================] - 0s 131us/step - loss: 0.1300 - acc: 0.9732 - val_loss: 0.1163 - val_acc: 0.9737\n",
      "Epoch 76/100\n",
      "112/112 [==============================] - 0s 151us/step - loss: 0.1255 - acc: 0.9821 - val_loss: 0.1062 - val_acc: 0.9737\n",
      "Epoch 77/100\n",
      "112/112 [==============================] - 0s 142us/step - loss: 0.1231 - acc: 0.9732 - val_loss: 0.1059 - val_acc: 0.9737\n",
      "Epoch 78/100\n",
      "112/112 [==============================] - 0s 158us/step - loss: 0.1224 - acc: 0.9554 - val_loss: 0.1433 - val_acc: 0.9474\n",
      "Epoch 79/100\n",
      "112/112 [==============================] - 0s 167us/step - loss: 0.1199 - acc: 0.9821 - val_loss: 0.1012 - val_acc: 0.9737\n",
      "Epoch 80/100\n",
      "112/112 [==============================] - 0s 161us/step - loss: 0.1266 - acc: 0.9643 - val_loss: 0.1030 - val_acc: 0.9737\n",
      "Epoch 81/100\n",
      "112/112 [==============================] - 0s 150us/step - loss: 0.1141 - acc: 0.9821 - val_loss: 0.0978 - val_acc: 0.9737\n",
      "Epoch 82/100\n",
      "112/112 [==============================] - 0s 136us/step - loss: 0.1142 - acc: 0.9643 - val_loss: 0.1275 - val_acc: 0.9474\n",
      "Epoch 83/100\n",
      "112/112 [==============================] - 0s 131us/step - loss: 0.1157 - acc: 0.9821 - val_loss: 0.0945 - val_acc: 0.9737\n",
      "Epoch 84/100\n",
      "112/112 [==============================] - 0s 157us/step - loss: 0.1255 - acc: 0.9643 - val_loss: 0.1125 - val_acc: 0.9737\n",
      "Epoch 85/100\n",
      "112/112 [==============================] - 0s 151us/step - loss: 0.1198 - acc: 0.9732 - val_loss: 0.0921 - val_acc: 0.9737\n",
      "Epoch 86/100\n",
      "112/112 [==============================] - 0s 170us/step - loss: 0.1073 - acc: 0.9643 - val_loss: 0.1063 - val_acc: 0.9737\n",
      "Epoch 87/100\n",
      "112/112 [==============================] - 0s 167us/step - loss: 0.1082 - acc: 0.9821 - val_loss: 0.0897 - val_acc: 0.9737\n",
      "Epoch 88/100\n",
      "112/112 [==============================] - 0s 140us/step - loss: 0.1063 - acc: 0.9732 - val_loss: 0.0896 - val_acc: 0.9737\n",
      "Epoch 89/100\n",
      "112/112 [==============================] - 0s 153us/step - loss: 0.1042 - acc: 0.9821 - val_loss: 0.0976 - val_acc: 0.9737\n",
      "Epoch 90/100\n",
      "112/112 [==============================] - 0s 143us/step - loss: 0.1113 - acc: 0.9554 - val_loss: 0.0880 - val_acc: 0.9737\n",
      "Epoch 91/100\n",
      "112/112 [==============================] - 0s 136us/step - loss: 0.1020 - acc: 0.9821 - val_loss: 0.0848 - val_acc: 0.9737\n",
      "Epoch 92/100\n",
      "112/112 [==============================] - 0s 142us/step - loss: 0.1154 - acc: 0.9554 - val_loss: 0.0840 - val_acc: 0.9737\n",
      "Epoch 93/100\n",
      "112/112 [==============================] - 0s 127us/step - loss: 0.1063 - acc: 0.9554 - val_loss: 0.0987 - val_acc: 0.9737\n",
      "Epoch 94/100\n",
      "112/112 [==============================] - 0s 151us/step - loss: 0.1086 - acc: 0.9732 - val_loss: 0.0851 - val_acc: 0.9474\n",
      "Epoch 95/100\n",
      "112/112 [==============================] - 0s 147us/step - loss: 0.1004 - acc: 0.9732 - val_loss: 0.1133 - val_acc: 0.9474\n",
      "Epoch 96/100\n",
      "112/112 [==============================] - 0s 160us/step - loss: 0.1063 - acc: 0.9821 - val_loss: 0.1057 - val_acc: 0.9737\n",
      "Epoch 97/100\n",
      "112/112 [==============================] - 0s 162us/step - loss: 0.1003 - acc: 0.9821 - val_loss: 0.0824 - val_acc: 0.9737\n",
      "Epoch 98/100\n",
      "112/112 [==============================] - 0s 118us/step - loss: 0.1020 - acc: 0.9732 - val_loss: 0.0903 - val_acc: 0.9737\n",
      "Epoch 99/100\n",
      "112/112 [==============================] - 0s 174us/step - loss: 0.0958 - acc: 0.9821 - val_loss: 0.0800 - val_acc: 0.9737\n",
      "Epoch 100/100\n",
      "112/112 [==============================] - 0s 174us/step - loss: 0.1020 - acc: 0.9732 - val_loss: 0.0793 - val_acc: 0.9737\n"
     ]
    },
    {
     "data": {
      "text/plain": [
       "<keras.callbacks.History at 0x12036e470>"
      ]
     },
     "execution_count": 13,
     "metadata": {},
     "output_type": "execute_result"
    }
   ],
   "source": [
    "model.fit(features_train, labels_train, epochs=100, batch_size=25, validation_data=(features_test, labels_test))"
   ]
  },
  {
   "cell_type": "code",
   "execution_count": 14,
   "metadata": {},
   "outputs": [],
   "source": [
    "pred = model.predict(features_test)"
   ]
  },
  {
   "cell_type": "code",
   "execution_count": 17,
   "metadata": {},
   "outputs": [],
   "source": [
    "pred = np.round(pred)"
   ]
  },
  {
   "cell_type": "code",
   "execution_count": 18,
   "metadata": {},
   "outputs": [
    {
     "data": {
      "text/plain": [
       "array([0, 0, 0, 0, 0, 2, 1, 0, 2, 1, 1, 0, 1, 1, 2, 0, 2, 2, 2, 0, 2, 2, 2,\n",
       "       1, 0, 2, 2, 1, 1, 1, 0, 0, 2, 1, 0, 0, 1, 0])"
      ]
     },
     "execution_count": 18,
     "metadata": {},
     "output_type": "execute_result"
    }
   ],
   "source": [
    "model.predict_classes(features_test)"
   ]
  },
  {
   "cell_type": "code",
   "execution_count": 19,
   "metadata": {},
   "outputs": [
    {
     "data": {
      "text/plain": [
       "array([[ 1.,  0.,  0.],\n",
       "       [ 1.,  0.,  0.],\n",
       "       [ 1.,  0.,  0.],\n",
       "       [ 1.,  0.,  0.],\n",
       "       [ 1.,  0.,  0.],\n",
       "       [ 0.,  0.,  1.],\n",
       "       [ 0.,  1.,  0.],\n",
       "       [ 1.,  0.,  0.],\n",
       "       [ 0.,  0.,  1.],\n",
       "       [ 0.,  1.,  0.],\n",
       "       [ 0.,  1.,  0.],\n",
       "       [ 1.,  0.,  0.],\n",
       "       [ 0.,  1.,  0.],\n",
       "       [ 0.,  1.,  0.],\n",
       "       [ 0.,  0.,  1.],\n",
       "       [ 1.,  0.,  0.],\n",
       "       [ 0.,  1.,  0.],\n",
       "       [ 0.,  0.,  1.],\n",
       "       [ 0.,  0.,  1.],\n",
       "       [ 1.,  0.,  0.],\n",
       "       [ 0.,  0.,  1.],\n",
       "       [ 0.,  0.,  1.],\n",
       "       [ 0.,  0.,  1.],\n",
       "       [ 0.,  1.,  0.],\n",
       "       [ 1.,  0.,  0.],\n",
       "       [ 0.,  0.,  1.],\n",
       "       [ 0.,  0.,  1.],\n",
       "       [ 0.,  1.,  0.],\n",
       "       [ 0.,  1.,  0.],\n",
       "       [ 0.,  1.,  0.],\n",
       "       [ 1.,  0.,  0.],\n",
       "       [ 1.,  0.,  0.],\n",
       "       [ 0.,  0.,  1.],\n",
       "       [ 0.,  1.,  0.],\n",
       "       [ 1.,  0.,  0.],\n",
       "       [ 1.,  0.,  0.],\n",
       "       [ 0.,  1.,  0.],\n",
       "       [ 1.,  0.,  0.]])"
      ]
     },
     "execution_count": 19,
     "metadata": {},
     "output_type": "execute_result"
    }
   ],
   "source": [
    "labels_test"
   ]
  },
  {
   "cell_type": "code",
   "execution_count": 24,
   "metadata": {},
   "outputs": [
    {
     "data": {
      "text/plain": [
       "array([0, 0, 0, 0, 0, 2, 1, 0, 2, 1, 1, 0, 1, 1, 2, 0, 1, 2, 2, 0, 2, 2, 2,\n",
       "       1, 0, 2, 2, 1, 1, 1, 0, 0, 2, 1, 0, 0, 1, 0])"
      ]
     },
     "execution_count": 24,
     "metadata": {},
     "output_type": "execute_result"
    }
   ],
   "source": [
    "np.argmax(labels_test, axis=1)"
   ]
  },
  {
   "cell_type": "code",
   "execution_count": 25,
   "metadata": {},
   "outputs": [
    {
     "data": {
      "text/plain": [
       "array([ 5.1,  3.5,  1.4,  0.2])"
      ]
     },
     "execution_count": 25,
     "metadata": {},
     "output_type": "execute_result"
    }
   ],
   "source": [
    "features[0]"
   ]
  },
  {
   "cell_type": "code",
   "execution_count": null,
   "metadata": {},
   "outputs": [],
   "source": [
    "features"
   ]
  }
 ],
 "metadata": {
  "kernelspec": {
   "display_name": "Python 3",
   "language": "python",
   "name": "python3"
  },
  "language_info": {
   "codemirror_mode": {
    "name": "ipython",
    "version": 3
   },
   "file_extension": ".py",
   "mimetype": "text/x-python",
   "name": "python",
   "nbconvert_exporter": "python",
   "pygments_lexer": "ipython3",
   "version": "3.6.4"
  }
 },
 "nbformat": 4,
 "nbformat_minor": 2
}
