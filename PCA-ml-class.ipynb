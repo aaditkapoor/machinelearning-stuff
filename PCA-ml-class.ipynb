{
 "cells": [
  {
   "cell_type": "markdown",
   "metadata": {},
   "source": [
    "## <u>PCA Terms</u>\n",
    "<p> Variance, CoVariance, Covariance Matrix(Matrix of Variance and Covariance, Eigen Vector and Eigen Values. </p>"
   ]
  },
  {
   "cell_type": "code",
   "execution_count": 28,
   "metadata": {},
   "outputs": [],
   "source": [
    "from sklearn.model_selection import train_test_split\n",
    "from sklearn.datasets import load_iris\n",
    "from sklearn.preprocessing import StandardScaler\n",
    "from sklearn.decomposition import PCA\n",
    "from sklearn.svm import SVC\n",
    "import numpy as np"
   ]
  },
  {
   "cell_type": "code",
   "execution_count": 29,
   "metadata": {},
   "outputs": [],
   "source": [
    "features, labels = load_iris(return_X_y=True)"
   ]
  },
  {
   "cell_type": "code",
   "execution_count": 30,
   "metadata": {},
   "outputs": [],
   "source": [
    "features = StandardScaler().fit_transform(features)"
   ]
  },
  {
   "cell_type": "code",
   "execution_count": 31,
   "metadata": {},
   "outputs": [],
   "source": [
    "features_train, features_test, labels_train, labels_test = train_test_split(features, labels, random_state=3, shuffle=True)"
   ]
  },
  {
   "cell_type": "code",
   "execution_count": 32,
   "metadata": {},
   "outputs": [
    {
     "data": {
      "text/plain": [
       "(112, 4)"
      ]
     },
     "execution_count": 32,
     "metadata": {},
     "output_type": "execute_result"
    }
   ],
   "source": [
    "features_train.shape"
   ]
  },
  {
   "cell_type": "code",
   "execution_count": 33,
   "metadata": {},
   "outputs": [
    {
     "data": {
      "text/plain": [
       "(38, 4)"
      ]
     },
     "execution_count": 33,
     "metadata": {},
     "output_type": "execute_result"
    }
   ],
   "source": [
    "features_test.shape"
   ]
  },
  {
   "cell_type": "code",
   "execution_count": 9,
   "metadata": {},
   "outputs": [],
   "source": [
    "pca = PCA(n_components=2)"
   ]
  },
  {
   "cell_type": "code",
   "execution_count": 10,
   "metadata": {},
   "outputs": [
    {
     "data": {
      "text/plain": [
       "PCA(copy=True, iterated_power='auto', n_components=2, random_state=None,\n",
       "  svd_solver='auto', tol=0.0, whiten=False)"
      ]
     },
     "execution_count": 10,
     "metadata": {},
     "output_type": "execute_result"
    }
   ],
   "source": [
    "pca.fit(features_train)"
   ]
  },
  {
   "cell_type": "code",
   "execution_count": 12,
   "metadata": {},
   "outputs": [],
   "source": [
    "features_train = pca.transform(features_train)"
   ]
  },
  {
   "cell_type": "code",
   "execution_count": 13,
   "metadata": {},
   "outputs": [
    {
     "data": {
      "text/plain": [
       "SVC(C=1.0, cache_size=200, class_weight=None, coef0=0.0,\n",
       "  decision_function_shape='ovr', degree=3, gamma='auto', kernel='rbf',\n",
       "  max_iter=-1, probability=False, random_state=None, shrinking=True,\n",
       "  tol=0.001, verbose=False)"
      ]
     },
     "execution_count": 13,
     "metadata": {},
     "output_type": "execute_result"
    }
   ],
   "source": [
    "svc = SVC()\n",
    "svc.fit(features_train, labels_train)"
   ]
  },
  {
   "cell_type": "code",
   "execution_count": 16,
   "metadata": {},
   "outputs": [
    {
     "data": {
      "text/plain": [
       "0.81578947368421051"
      ]
     },
     "execution_count": 16,
     "metadata": {},
     "output_type": "execute_result"
    }
   ],
   "source": [
    "svc.score(pca.fit_transform(features_test), labels_test)"
   ]
  },
  {
   "cell_type": "code",
   "execution_count": 18,
   "metadata": {},
   "outputs": [],
   "source": [
    "cov_mat = np.cov(features.T)"
   ]
  },
  {
   "cell_type": "code",
   "execution_count": 19,
   "metadata": {},
   "outputs": [
    {
     "name": "stdout",
     "output_type": "stream",
     "text": [
      "[[ 1.00671141 -0.11010327  0.87760486  0.82344326]\n",
      " [-0.11010327  1.00671141 -0.42333835 -0.358937  ]\n",
      " [ 0.87760486 -0.42333835  1.00671141  0.96921855]\n",
      " [ 0.82344326 -0.358937    0.96921855  1.00671141]]\n"
     ]
    }
   ],
   "source": [
    "print (cov_mat)"
   ]
  },
  {
   "cell_type": "code",
   "execution_count": 23,
   "metadata": {},
   "outputs": [],
   "source": [
    "eig_val, eig_vec = np.linalg.eig(cov_mat) # For Eigen values and vector"
   ]
  },
  {
   "cell_type": "code",
   "execution_count": 24,
   "metadata": {},
   "outputs": [
    {
     "data": {
      "text/plain": [
       "array([ 2.93035378,  0.92740362,  0.14834223,  0.02074601])"
      ]
     },
     "execution_count": 24,
     "metadata": {},
     "output_type": "execute_result"
    }
   ],
   "source": [
    "eig_val"
   ]
  },
  {
   "cell_type": "code",
   "execution_count": 25,
   "metadata": {},
   "outputs": [
    {
     "data": {
      "text/plain": [
       "array([[ 0.52237162, -0.37231836, -0.72101681,  0.26199559],\n",
       "       [-0.26335492, -0.92555649,  0.24203288, -0.12413481],\n",
       "       [ 0.58125401, -0.02109478,  0.14089226, -0.80115427],\n",
       "       [ 0.56561105, -0.06541577,  0.6338014 ,  0.52354627]])"
      ]
     },
     "execution_count": 25,
     "metadata": {},
     "output_type": "execute_result"
    }
   ],
   "source": [
    "eig_vec"
   ]
  },
  {
   "cell_type": "code",
   "execution_count": 40,
   "metadata": {},
   "outputs": [],
   "source": [
    "import matplotlib.pyplot as plt"
   ]
  },
  {
   "cell_type": "code",
   "execution_count": 44,
   "metadata": {},
   "outputs": [
    {
     "data": {
      "text/plain": [
       "array([ 3.4581241 ,  1.12676073])"
      ]
     },
     "execution_count": 44,
     "metadata": {},
     "output_type": "execute_result"
    }
   ],
   "source": [
    "pca.explained_variance_"
   ]
  },
  {
   "cell_type": "code",
   "execution_count": 45,
   "metadata": {},
   "outputs": [
    {
     "data": {
      "text/plain": [
       "Text(0,0.5,'cum sum')"
      ]
     },
     "execution_count": 45,
     "metadata": {},
     "output_type": "execute_result"
    },
    {
     "data": {
      "image/png": "[encoded data removed]",
      "text/plain": [
       "<Figure size 432x288 with 1 Axes>"
      ]
     },
     "metadata": {},
     "output_type": "display_data"
    }
   ],
   "source": [
    "plt.plot(np.cumsum(pca.explained_variance_ratio_))\n",
    "plt.xlabel(\"components\")\n",
    "plt.ylabel(\"cum sum\")"
   ]
  },
  {
   "cell_type": "code",
   "execution_count": 46,
   "metadata": {},
   "outputs": [],
   "source": [
    "from sklearn.datasets import make_classification"
   ]
  },
  {
   "cell_type": "code",
   "execution_count": 48,
   "metadata": {},
   "outputs": [],
   "source": [
    "data = make_classification(n_samples=50000, n_features=1000)"
   ]
  },
  {
   "cell_type": "code",
   "execution_count": 55,
   "metadata": {},
   "outputs": [],
   "source": [
    "features=data[0]\n",
    "labels = data[1]\n",
    "features = StandardScaler().fit_transform(features)"
   ]
  },
  {
   "cell_type": "code",
   "execution_count": 56,
   "metadata": {},
   "outputs": [
    {
     "data": {
      "text/plain": [
       "(50000, 1000)"
      ]
     },
     "execution_count": 56,
     "metadata": {},
     "output_type": "execute_result"
    }
   ],
   "source": [
    "features.shape"
   ]
  },
  {
   "cell_type": "code",
   "execution_count": 57,
   "metadata": {},
   "outputs": [
    {
     "data": {
      "text/plain": [
       "(50000,)"
      ]
     },
     "execution_count": 57,
     "metadata": {},
     "output_type": "execute_result"
    }
   ],
   "source": [
    "labels.shape"
   ]
  },
  {
   "cell_type": "code",
   "execution_count": 61,
   "metadata": {},
   "outputs": [
    {
     "data": {
      "text/plain": [
       "PCA(copy=True, iterated_power='auto', n_components=None, random_state=None,\n",
       "  svd_solver='auto', tol=0.0, whiten=False)"
      ]
     },
     "execution_count": 61,
     "metadata": {},
     "output_type": "execute_result"
    }
   ],
   "source": [
    "pca = PCA()\n",
    "pca.fit(features)"
   ]
  },
  {
   "cell_type": "code",
   "execution_count": 62,
   "metadata": {},
   "outputs": [
    {
     "data": {
      "text/plain": [
       "[<matplotlib.lines.Line2D at 0x11755e978>]"
      ]
     },
     "execution_count": 62,
     "metadata": {},
     "output_type": "execute_result"
    },
    {
     "data": {
      "image/png": "[encoded data removed]",
      "text/plain": [
       "<Figure size 432x288 with 1 Axes>"
      ]
     },
     "metadata": {},
     "output_type": "display_data"
    }
   ],
   "source": [
    "plt.plot(np.cumsum(pca.explained_variance_ratio_))"
   ]
  },
  {
   "cell_type": "code",
   "execution_count": 60,
   "metadata": {},
   "outputs": [
    {
     "data": {
      "text/plain": [
       "array([[ 0.7475021 ,  1.12552167, -0.7829565 , ...,  0.58466306,\n",
       "         1.24725129, -2.2912146 ],\n",
       "       [ 1.30160682, -1.39246426, -0.17480092, ..., -0.50001734,\n",
       "         1.4101821 ,  0.13318473],\n",
       "       [-0.45820873,  1.04277879, -0.92533313, ..., -1.22618542,\n",
       "        -1.12194498,  0.6546513 ],\n",
       "       ..., \n",
       "       [ 1.1303144 ,  3.05726008, -1.73698931, ..., -0.03823414,\n",
       "        -0.10809418, -1.11331679],\n",
       "       [ 0.83028147,  0.47171528, -0.25199659, ...,  0.4468105 ,\n",
       "        -0.8876907 ,  1.45068622],\n",
       "       [ 1.16169492, -1.34402106,  1.15938871, ..., -0.515937  ,\n",
       "         1.53789362, -0.5343975 ]])"
      ]
     },
     "execution_count": 60,
     "metadata": {},
     "output_type": "execute_result"
    }
   ],
   "source": [
    "features"
   ]
  },
  {
   "cell_type": "code",
   "execution_count": 63,
   "metadata": {},
   "outputs": [],
   "source": [
    "from sklearn.datasets import load_breast_cancer"
   ]
  },
  {
   "cell_type": "code",
   "execution_count": 64,
   "metadata": {},
   "outputs": [],
   "source": [
    "data = load_breast_cancer()"
   ]
  },
  {
   "cell_type": "code",
   "execution_count": 65,
   "metadata": {},
   "outputs": [
    {
     "data": {
      "text/plain": [
       "569"
      ]
     },
     "execution_count": 65,
     "metadata": {},
     "output_type": "execute_result"
    }
   ],
   "source": [
    "len(data.data)"
   ]
  },
  {
   "cell_type": "code",
   "execution_count": 66,
   "metadata": {},
   "outputs": [
    {
     "data": {
      "text/plain": [
       "(569, 30)"
      ]
     },
     "execution_count": 66,
     "metadata": {},
     "output_type": "execute_result"
    }
   ],
   "source": [
    "data.data.shape"
   ]
  },
  {
   "cell_type": "code",
   "execution_count": 70,
   "metadata": {},
   "outputs": [],
   "source": [
    "features = data.data\n",
    "labels = data.target\n",
    "features = StandardScaler().fit_transform(features)"
   ]
  },
  {
   "cell_type": "code",
   "execution_count": 71,
   "metadata": {},
   "outputs": [
    {
     "data": {
      "text/plain": [
       "PCA(copy=True, iterated_power='auto', n_components=None, random_state=None,\n",
       "  svd_solver='auto', tol=0.0, whiten=False)"
      ]
     },
     "execution_count": 71,
     "metadata": {},
     "output_type": "execute_result"
    }
   ],
   "source": [
    "pca = PCA()\n",
    "pca.fit(features)"
   ]
  },
  {
   "cell_type": "code",
   "execution_count": 72,
   "metadata": {},
   "outputs": [
    {
     "data": {
      "text/plain": [
       "[<matplotlib.lines.Line2D at 0x1173c4668>]"
      ]
     },
     "execution_count": 72,
     "metadata": {},
     "output_type": "execute_result"
    },
    {
     "data": {
      "image/png": "[encoded data removed]",
      "text/plain": [
       "<Figure size 432x288 with 1 Axes>"
      ]
     },
     "metadata": {},
     "output_type": "display_data"
    }
   ],
   "source": [
    "plt.plot(np.cumsum(pca.explained_variance_ratio_))"
   ]
  },
  {
   "cell_type": "code",
   "execution_count": 73,
   "metadata": {},
   "outputs": [],
   "source": [
    "pca = PCA(n_components=25)"
   ]
  },
  {
   "cell_type": "code",
   "execution_count": 74,
   "metadata": {},
   "outputs": [],
   "source": [
    "features = pca.fit_transform(features)"
   ]
  },
  {
   "cell_type": "code",
   "execution_count": 75,
   "metadata": {},
   "outputs": [],
   "source": [
    "features_train, features_test, labels_train, labels_test = train_test_split(features, labels, random_state=3,shuffle=True)"
   ]
  },
  {
   "cell_type": "code",
   "execution_count": 76,
   "metadata": {},
   "outputs": [
    {
     "name": "stderr",
     "output_type": "stream",
     "text": [
      "Using TensorFlow backend.\n",
      "/Library/Frameworks/Python.framework/Versions/3.6/lib/python3.6/importlib/_bootstrap.py:219: RuntimeWarning: numpy.dtype size changed, may indicate binary incompatibility. Expected 96, got 88\n",
      "  return f(*args, **kwds)\n"
     ]
    }
   ],
   "source": [
    "from keras import Sequential\n",
    "from keras.layers import Dense\n",
    "from keras import losses"
   ]
  },
  {
   "cell_type": "code",
   "execution_count": 77,
   "metadata": {},
   "outputs": [
    {
     "data": {
      "text/plain": [
       "(426, 25)"
      ]
     },
     "execution_count": 77,
     "metadata": {},
     "output_type": "execute_result"
    }
   ],
   "source": [
    "features_train.shape"
   ]
  },
  {
   "cell_type": "code",
   "execution_count": 78,
   "metadata": {},
   "outputs": [],
   "source": [
    "model = Sequential()\n",
    "model.add(Dense(75, activation=\"relu\", input_dim=25))\n",
    "model.add(Dense(25, activation=\"relu\"))\n",
    "model.add(Dense(10, activation=\"relu\"))\n",
    "model.add(Dense(2, activation=\"softmax\"))\n",
    "model.compile(optimizer=\"adam\", loss=losses.categorical_crossentropy, metrics=['acc'])"
   ]
  },
  {
   "cell_type": "code",
   "execution_count": 79,
   "metadata": {},
   "outputs": [],
   "source": [
    "from keras.utils import to_categorical\n",
    "labels_train = to_categorical(labels_train)\n",
    "labels_test = to_categorical(labels_test)"
   ]
  },
  {
   "cell_type": "code",
   "execution_count": 80,
   "metadata": {},
   "outputs": [],
   "source": [
    "from keras.callbacks import TensorBoard\n",
    "tensorboard = TensorBoard()"
   ]
  },
  {
   "cell_type": "code",
   "execution_count": 81,
   "metadata": {},
   "outputs": [
    {
     "name": "stdout",
     "output_type": "stream",
     "text": [
      "Epoch 1/100\n",
      "426/426 [==============================] - 0s 356us/step - loss: 0.5647 - acc: 0.7840\n",
      "Epoch 2/100\n",
      "426/426 [==============================] - 0s 90us/step - loss: 0.3626 - acc: 0.9554\n",
      "Epoch 3/100\n",
      "426/426 [==============================] - 0s 90us/step - loss: 0.2199 - acc: 0.9695\n",
      "Epoch 4/100\n",
      "426/426 [==============================] - 0s 93us/step - loss: 0.1402 - acc: 0.9765\n",
      "Epoch 5/100\n",
      "426/426 [==============================] - 0s 90us/step - loss: 0.0995 - acc: 0.9859\n",
      "Epoch 6/100\n",
      "426/426 [==============================] - 0s 96us/step - loss: 0.0795 - acc: 0.9859\n",
      "Epoch 7/100\n",
      "426/426 [==============================] - 0s 118us/step - loss: 0.0650 - acc: 0.9859\n",
      "Epoch 8/100\n",
      "426/426 [==============================] - 0s 101us/step - loss: 0.0552 - acc: 0.9859\n",
      "Epoch 9/100\n",
      "426/426 [==============================] - 0s 94us/step - loss: 0.0472 - acc: 0.9906\n",
      "Epoch 10/100\n",
      "426/426 [==============================] - 0s 80us/step - loss: 0.0420 - acc: 0.9930\n",
      "Epoch 11/100\n",
      "426/426 [==============================] - 0s 80us/step - loss: 0.0378 - acc: 0.9930\n",
      "Epoch 12/100\n",
      "426/426 [==============================] - 0s 86us/step - loss: 0.0339 - acc: 0.9953\n",
      "Epoch 13/100\n",
      "426/426 [==============================] - 0s 88us/step - loss: 0.0313 - acc: 0.9953\n",
      "Epoch 14/100\n",
      "426/426 [==============================] - 0s 84us/step - loss: 0.0281 - acc: 0.9953\n",
      "Epoch 15/100\n",
      "426/426 [==============================] - 0s 87us/step - loss: 0.0258 - acc: 0.9953\n",
      "Epoch 16/100\n",
      "426/426 [==============================] - 0s 112us/step - loss: 0.0240 - acc: 0.9953\n",
      "Epoch 17/100\n",
      "426/426 [==============================] - 0s 84us/step - loss: 0.0218 - acc: 0.9953\n",
      "Epoch 18/100\n",
      "426/426 [==============================] - 0s 80us/step - loss: 0.0206 - acc: 0.9953\n",
      "Epoch 19/100\n",
      "426/426 [==============================] - 0s 76us/step - loss: 0.0186 - acc: 0.9953\n",
      "Epoch 20/100\n",
      "426/426 [==============================] - 0s 81us/step - loss: 0.0171 - acc: 0.9953\n",
      "Epoch 21/100\n",
      "426/426 [==============================] - 0s 78us/step - loss: 0.0158 - acc: 0.9953\n",
      "Epoch 22/100\n",
      "426/426 [==============================] - 0s 74us/step - loss: 0.0144 - acc: 0.9953\n",
      "Epoch 23/100\n",
      "426/426 [==============================] - 0s 73us/step - loss: 0.0133 - acc: 0.9953\n",
      "Epoch 24/100\n",
      "426/426 [==============================] - 0s 70us/step - loss: 0.0122 - acc: 0.9953\n",
      "Epoch 25/100\n",
      "426/426 [==============================] - 0s 77us/step - loss: 0.0113 - acc: 0.9953\n",
      "Epoch 26/100\n",
      "426/426 [==============================] - 0s 84us/step - loss: 0.0102 - acc: 0.9977\n",
      "Epoch 27/100\n",
      "426/426 [==============================] - 0s 86us/step - loss: 0.0093 - acc: 0.9977\n",
      "Epoch 28/100\n",
      "426/426 [==============================] - 0s 88us/step - loss: 0.0087 - acc: 0.9977\n",
      "Epoch 29/100\n",
      "426/426 [==============================] - 0s 87us/step - loss: 0.0081 - acc: 0.9977\n",
      "Epoch 30/100\n",
      "426/426 [==============================] - 0s 88us/step - loss: 0.0076 - acc: 0.9977\n",
      "Epoch 31/100\n",
      "426/426 [==============================] - 0s 85us/step - loss: 0.0072 - acc: 0.9977\n",
      "Epoch 32/100\n",
      "426/426 [==============================] - 0s 96us/step - loss: 0.0068 - acc: 0.9977\n",
      "Epoch 33/100\n",
      "426/426 [==============================] - 0s 93us/step - loss: 0.0063 - acc: 0.9977\n",
      "Epoch 34/100\n",
      "426/426 [==============================] - 0s 95us/step - loss: 0.0059 - acc: 0.9977\n",
      "Epoch 35/100\n",
      "426/426 [==============================] - 0s 70us/step - loss: 0.0055 - acc: 0.9977\n",
      "Epoch 36/100\n",
      "426/426 [==============================] - 0s 83us/step - loss: 0.0054 - acc: 0.9977\n",
      "Epoch 37/100\n",
      "426/426 [==============================] - 0s 89us/step - loss: 0.0049 - acc: 0.9977\n",
      "Epoch 38/100\n",
      "426/426 [==============================] - 0s 85us/step - loss: 0.0046 - acc: 0.9977\n",
      "Epoch 39/100\n",
      "426/426 [==============================] - 0s 94us/step - loss: 0.0035 - acc: 1.0000\n",
      "Epoch 40/100\n",
      "426/426 [==============================] - 0s 85us/step - loss: 0.0030 - acc: 1.0000\n",
      "Epoch 41/100\n",
      "426/426 [==============================] - 0s 77us/step - loss: 0.0027 - acc: 1.0000\n",
      "Epoch 42/100\n",
      "426/426 [==============================] - 0s 83us/step - loss: 0.0025 - acc: 1.0000\n",
      "Epoch 43/100\n",
      "426/426 [==============================] - 0s 80us/step - loss: 0.0022 - acc: 1.0000\n",
      "Epoch 44/100\n",
      "426/426 [==============================] - 0s 81us/step - loss: 0.0021 - acc: 1.0000\n",
      "Epoch 45/100\n",
      "426/426 [==============================] - 0s 73us/step - loss: 0.0020 - acc: 1.0000\n",
      "Epoch 46/100\n",
      "426/426 [==============================] - 0s 68us/step - loss: 0.0019 - acc: 1.0000\n",
      "Epoch 47/100\n",
      "426/426 [==============================] - 0s 80us/step - loss: 0.0017 - acc: 1.0000\n",
      "Epoch 48/100\n",
      "426/426 [==============================] - 0s 79us/step - loss: 0.0015 - acc: 1.0000\n",
      "Epoch 49/100\n",
      "426/426 [==============================] - 0s 80us/step - loss: 0.0015 - acc: 1.0000\n",
      "Epoch 50/100\n",
      "426/426 [==============================] - 0s 79us/step - loss: 0.0013 - acc: 1.0000\n",
      "Epoch 51/100\n",
      "426/426 [==============================] - 0s 96us/step - loss: 0.0013 - acc: 1.0000\n",
      "Epoch 52/100\n",
      "426/426 [==============================] - 0s 89us/step - loss: 0.0012 - acc: 1.0000\n",
      "Epoch 53/100\n",
      "426/426 [==============================] - 0s 76us/step - loss: 0.0011 - acc: 1.0000\n",
      "Epoch 54/100\n",
      "426/426 [==============================] - 0s 88us/step - loss: 0.0011 - acc: 1.0000\n",
      "Epoch 55/100\n",
      "426/426 [==============================] - 0s 87us/step - loss: 9.9682e-04 - acc: 1.0000\n",
      "Epoch 56/100\n",
      "426/426 [==============================] - 0s 90us/step - loss: 9.4919e-04 - acc: 1.0000\n",
      "Epoch 57/100\n",
      "426/426 [==============================] - 0s 82us/step - loss: 9.0682e-04 - acc: 1.0000\n",
      "Epoch 58/100\n",
      "426/426 [==============================] - 0s 89us/step - loss: 8.5491e-04 - acc: 1.0000\n",
      "Epoch 59/100\n",
      "426/426 [==============================] - 0s 84us/step - loss: 8.1515e-04 - acc: 1.0000\n",
      "Epoch 60/100\n",
      "426/426 [==============================] - 0s 89us/step - loss: 7.7790e-04 - acc: 1.0000\n",
      "Epoch 61/100\n",
      "426/426 [==============================] - 0s 78us/step - loss: 7.4426e-04 - acc: 1.0000\n",
      "Epoch 62/100\n",
      "426/426 [==============================] - 0s 89us/step - loss: 7.1635e-04 - acc: 1.0000\n",
      "Epoch 63/100\n",
      "426/426 [==============================] - 0s 82us/step - loss: 6.8101e-04 - acc: 1.0000\n",
      "Epoch 64/100\n",
      "426/426 [==============================] - 0s 71us/step - loss: 6.6015e-04 - acc: 1.0000\n",
      "Epoch 65/100\n",
      "426/426 [==============================] - 0s 77us/step - loss: 6.2986e-04 - acc: 1.0000\n",
      "Epoch 66/100\n",
      "426/426 [==============================] - 0s 77us/step - loss: 5.9734e-04 - acc: 1.0000\n",
      "Epoch 67/100\n",
      "426/426 [==============================] - 0s 73us/step - loss: 5.7766e-04 - acc: 1.0000\n",
      "Epoch 68/100\n",
      "426/426 [==============================] - 0s 74us/step - loss: 5.3401e-04 - acc: 1.0000\n",
      "Epoch 69/100\n",
      "426/426 [==============================] - 0s 83us/step - loss: 5.0972e-04 - acc: 1.0000\n",
      "Epoch 70/100\n",
      "426/426 [==============================] - 0s 81us/step - loss: 4.9491e-04 - acc: 1.0000\n",
      "Epoch 71/100\n",
      "426/426 [==============================] - 0s 86us/step - loss: 4.6677e-04 - acc: 1.0000\n",
      "Epoch 72/100\n",
      "426/426 [==============================] - 0s 89us/step - loss: 4.5104e-04 - acc: 1.0000\n",
      "Epoch 73/100\n",
      "426/426 [==============================] - 0s 79us/step - loss: 4.3714e-04 - acc: 1.0000\n",
      "Epoch 74/100\n",
      "426/426 [==============================] - 0s 78us/step - loss: 4.1426e-04 - acc: 1.0000\n",
      "Epoch 75/100\n",
      "426/426 [==============================] - 0s 79us/step - loss: 3.9800e-04 - acc: 1.0000\n",
      "Epoch 76/100\n",
      "426/426 [==============================] - 0s 70us/step - loss: 3.8860e-04 - acc: 1.0000\n",
      "Epoch 77/100\n",
      "426/426 [==============================] - 0s 72us/step - loss: 3.7376e-04 - acc: 1.0000\n",
      "Epoch 78/100\n",
      "426/426 [==============================] - 0s 89us/step - loss: 3.5643e-04 - acc: 1.0000\n",
      "Epoch 79/100\n",
      "426/426 [==============================] - 0s 96us/step - loss: 3.4446e-04 - acc: 1.0000\n",
      "Epoch 80/100\n",
      "426/426 [==============================] - 0s 82us/step - loss: 3.3374e-04 - acc: 1.0000\n",
      "Epoch 81/100\n",
      "426/426 [==============================] - 0s 92us/step - loss: 3.1995e-04 - acc: 1.0000\n",
      "Epoch 82/100\n",
      "426/426 [==============================] - 0s 98us/step - loss: 3.2117e-04 - acc: 1.0000\n",
      "Epoch 83/100\n"
     ]
    },
    {
     "name": "stdout",
     "output_type": "stream",
     "text": [
      "426/426 [==============================] - 0s 90us/step - loss: 2.9791e-04 - acc: 1.0000\n",
      "Epoch 84/100\n",
      "426/426 [==============================] - 0s 72us/step - loss: 2.9336e-04 - acc: 1.0000\n",
      "Epoch 85/100\n",
      "426/426 [==============================] - 0s 76us/step - loss: 2.8121e-04 - acc: 1.0000\n",
      "Epoch 86/100\n",
      "426/426 [==============================] - 0s 74us/step - loss: 2.7078e-04 - acc: 1.0000\n",
      "Epoch 87/100\n",
      "426/426 [==============================] - 0s 87us/step - loss: 2.6354e-04 - acc: 1.0000\n",
      "Epoch 88/100\n",
      "426/426 [==============================] - 0s 101us/step - loss: 2.5342e-04 - acc: 1.0000\n",
      "Epoch 89/100\n",
      "426/426 [==============================] - 0s 122us/step - loss: 2.4780e-04 - acc: 1.0000\n",
      "Epoch 90/100\n",
      "426/426 [==============================] - 0s 136us/step - loss: 2.3982e-04 - acc: 1.0000\n",
      "Epoch 91/100\n",
      "426/426 [==============================] - 0s 117us/step - loss: 2.3507e-04 - acc: 1.0000\n",
      "Epoch 92/100\n",
      "426/426 [==============================] - 0s 100us/step - loss: 2.2754e-04 - acc: 1.0000\n",
      "Epoch 93/100\n",
      "426/426 [==============================] - 0s 85us/step - loss: 2.2192e-04 - acc: 1.0000\n",
      "Epoch 94/100\n",
      "426/426 [==============================] - 0s 101us/step - loss: 2.1479e-04 - acc: 1.0000\n",
      "Epoch 95/100\n",
      "426/426 [==============================] - 0s 87us/step - loss: 2.0786e-04 - acc: 1.0000\n",
      "Epoch 96/100\n",
      "426/426 [==============================] - 0s 82us/step - loss: 2.0273e-04 - acc: 1.0000\n",
      "Epoch 97/100\n",
      "426/426 [==============================] - 0s 91us/step - loss: 1.9735e-04 - acc: 1.0000\n",
      "Epoch 98/100\n",
      "426/426 [==============================] - 0s 95us/step - loss: 1.9436e-04 - acc: 1.0000\n",
      "Epoch 99/100\n",
      "426/426 [==============================] - 0s 83us/step - loss: 1.8829e-04 - acc: 1.0000\n",
      "Epoch 100/100\n",
      "426/426 [==============================] - 0s 90us/step - loss: 1.8328e-04 - acc: 1.0000\n"
     ]
    },
    {
     "data": {
      "text/plain": [
       "<keras.callbacks.History at 0x12c7aa748>"
      ]
     },
     "execution_count": 81,
     "metadata": {},
     "output_type": "execute_result"
    }
   ],
   "source": [
    "model.fit(features_train, labels_train, epochs=100, callbacks=[tensorboard])"
   ]
  },
  {
   "cell_type": "code",
   "execution_count": 82,
   "metadata": {},
   "outputs": [],
   "source": [
    "pred = model.predict(features_test)"
   ]
  },
  {
   "cell_type": "code",
   "execution_count": 83,
   "metadata": {},
   "outputs": [
    {
     "data": {
      "text/plain": [
       "array([[  9.19189702e-08,   9.99999881e-01],\n",
       "       [  1.87553186e-02,   9.81244683e-01],\n",
       "       [  4.84387328e-06,   9.99995112e-01],\n",
       "       [  3.22864828e-08,   1.00000000e+00],\n",
       "       [  1.00000000e+00,   2.85424910e-08],\n",
       "       [  2.48620449e-06,   9.99997497e-01],\n",
       "       [  4.40034910e-06,   9.99995589e-01],\n",
       "       [  4.72813289e-10,   1.00000000e+00],\n",
       "       [  3.62068153e-09,   1.00000000e+00],\n",
       "       [  1.86281980e-07,   9.99999762e-01],\n",
       "       [  2.93968683e-10,   1.00000000e+00],\n",
       "       [  9.99997139e-01,   2.89559694e-06],\n",
       "       [  2.38502240e-09,   1.00000000e+00],\n",
       "       [  2.79682098e-07,   9.99999762e-01],\n",
       "       [  1.53402313e-09,   1.00000000e+00],\n",
       "       [  4.58114755e-07,   9.99999523e-01],\n",
       "       [  1.78446882e-07,   9.99999881e-01],\n",
       "       [  4.54472282e-09,   1.00000000e+00],\n",
       "       [  1.00000000e+00,   1.77402928e-08],\n",
       "       [  9.81954575e-01,   1.80454291e-02],\n",
       "       [  1.05612855e-06,   9.99998927e-01],\n",
       "       [  1.02038928e-06,   9.99998927e-01],\n",
       "       [  1.73398439e-05,   9.99982715e-01],\n",
       "       [  3.49114626e-03,   9.96508896e-01],\n",
       "       [  1.72921688e-07,   9.99999881e-01],\n",
       "       [  1.37437173e-08,   1.00000000e+00],\n",
       "       [  1.20661241e-07,   9.99999881e-01],\n",
       "       [  1.00000000e+00,   2.89903934e-10],\n",
       "       [  1.00000000e+00,   1.00266826e-11],\n",
       "       [  5.33209402e-07,   9.99999523e-01],\n",
       "       [  9.99961019e-01,   3.90205023e-05],\n",
       "       [  2.17815089e-12,   1.00000000e+00],\n",
       "       [  4.86694953e-05,   9.99951363e-01],\n",
       "       [  1.56709959e-07,   9.99999881e-01],\n",
       "       [  1.41728342e-05,   9.99985814e-01],\n",
       "       [  3.43607923e-07,   9.99999642e-01],\n",
       "       [  4.24341977e-07,   9.99999523e-01],\n",
       "       [  1.99440353e-09,   1.00000000e+00],\n",
       "       [  9.99998927e-01,   1.08589325e-06],\n",
       "       [  1.00000000e+00,   2.12679332e-12],\n",
       "       [  1.00000000e+00,   5.79675934e-12],\n",
       "       [  2.62791700e-09,   1.00000000e+00],\n",
       "       [  1.04795479e-08,   1.00000000e+00],\n",
       "       [  9.99992847e-01,   7.13528334e-06],\n",
       "       [  1.06191719e-05,   9.99989390e-01],\n",
       "       [  9.84309554e-01,   1.56904403e-02],\n",
       "       [  9.99067008e-01,   9.33040050e-04],\n",
       "       [  1.32626723e-04,   9.99867320e-01],\n",
       "       [  9.99977708e-01,   2.22938834e-05],\n",
       "       [  7.72732733e-07,   9.99999285e-01],\n",
       "       [  1.00000000e+00,   8.20164736e-09],\n",
       "       [  2.13288286e-06,   9.99997854e-01],\n",
       "       [  2.78595726e-05,   9.99972105e-01],\n",
       "       [  9.99996305e-01,   3.64557536e-06],\n",
       "       [  1.00000000e+00,   4.34807357e-10],\n",
       "       [  2.11566388e-07,   9.99999762e-01],\n",
       "       [  2.55955737e-08,   1.00000000e+00],\n",
       "       [  1.25194952e-01,   8.74805033e-01],\n",
       "       [  3.07599430e-06,   9.99996901e-01],\n",
       "       [  1.45348292e-06,   9.99998569e-01],\n",
       "       [  3.90995014e-09,   1.00000000e+00],\n",
       "       [  9.30321927e-04,   9.99069750e-01],\n",
       "       [  1.00000000e+00,   2.52445096e-11],\n",
       "       [  9.99998450e-01,   1.50281244e-06],\n",
       "       [  4.09937684e-08,   1.00000000e+00],\n",
       "       [  1.11332753e-07,   9.99999881e-01],\n",
       "       [  1.00000000e+00,   1.20908616e-08],\n",
       "       [  2.30569075e-08,   1.00000000e+00],\n",
       "       [  1.00000000e+00,   3.31337631e-11],\n",
       "       [  9.99995828e-01,   4.13990074e-06],\n",
       "       [  3.71046144e-06,   9.99996305e-01],\n",
       "       [  1.46826625e-01,   8.53173375e-01],\n",
       "       [  1.00000000e+00,   4.73551181e-19],\n",
       "       [  1.00000000e+00,   3.85135500e-11],\n",
       "       [  5.22194197e-04,   9.99477804e-01],\n",
       "       [  9.99999166e-01,   8.79453751e-07],\n",
       "       [  6.00225251e-12,   1.00000000e+00],\n",
       "       [  1.00000000e+00,   6.70523459e-09],\n",
       "       [  9.90760088e-01,   9.23997350e-03],\n",
       "       [  1.00000000e+00,   1.62474567e-08],\n",
       "       [  1.00000000e+00,   2.31441241e-10],\n",
       "       [  1.01477550e-02,   9.89852250e-01],\n",
       "       [  1.70476200e-09,   1.00000000e+00],\n",
       "       [  1.28094496e-06,   9.99998689e-01],\n",
       "       [  2.11846130e-03,   9.97881472e-01],\n",
       "       [  9.99998450e-01,   1.50822382e-06],\n",
       "       [  9.47941444e-05,   9.99905229e-01],\n",
       "       [  1.50815197e-06,   9.99998450e-01],\n",
       "       [  4.68919348e-09,   1.00000000e+00],\n",
       "       [  2.45493879e-07,   9.99999762e-01],\n",
       "       [  9.99999881e-01,   1.19815112e-07],\n",
       "       [  1.00000000e+00,   2.79819667e-10],\n",
       "       [  9.99999881e-01,   1.56132799e-07],\n",
       "       [  3.57366283e-04,   9.99642611e-01],\n",
       "       [  1.29261013e-09,   1.00000000e+00],\n",
       "       [  9.99992132e-01,   7.89059504e-06],\n",
       "       [  1.87960481e-07,   9.99999762e-01],\n",
       "       [  9.99999404e-01,   6.14759983e-07],\n",
       "       [  1.56277611e-06,   9.99998450e-01],\n",
       "       [  8.18782597e-10,   1.00000000e+00],\n",
       "       [  6.72379426e-12,   1.00000000e+00],\n",
       "       [  9.98867512e-01,   1.13252958e-03],\n",
       "       [  4.54907010e-08,   1.00000000e+00],\n",
       "       [  9.90663466e-05,   9.99900937e-01],\n",
       "       [  5.22132737e-08,   1.00000000e+00],\n",
       "       [  1.00000000e+00,   8.68326938e-11],\n",
       "       [  1.00000000e+00,   3.69178473e-12],\n",
       "       [  9.99149776e-08,   9.99999881e-01],\n",
       "       [  1.00000000e+00,   9.21088361e-09],\n",
       "       [  2.61892478e-06,   9.99997377e-01],\n",
       "       [  5.01988424e-08,   1.00000000e+00],\n",
       "       [  9.99770224e-01,   2.29731115e-04],\n",
       "       [  3.40193651e-10,   1.00000000e+00],\n",
       "       [  4.74983111e-08,   1.00000000e+00],\n",
       "       [  1.00000000e+00,   6.06033182e-13],\n",
       "       [  1.00000000e+00,   4.98610433e-08],\n",
       "       [  3.15200916e-04,   9.99684811e-01],\n",
       "       [  9.99933124e-01,   6.68526191e-05],\n",
       "       [  9.99997616e-01,   2.40409781e-06],\n",
       "       [  1.00000000e+00,   8.06381836e-11],\n",
       "       [  7.05959849e-07,   9.99999285e-01],\n",
       "       [  1.12631104e-08,   1.00000000e+00],\n",
       "       [  1.00000000e+00,   2.65077422e-11],\n",
       "       [  1.99640443e-10,   1.00000000e+00],\n",
       "       [  9.99991775e-01,   8.21482172e-06],\n",
       "       [  1.81698501e-13,   1.00000000e+00],\n",
       "       [  1.00000000e+00,   9.81350072e-17],\n",
       "       [  1.02529193e-10,   1.00000000e+00],\n",
       "       [  9.99999881e-01,   1.29442100e-07],\n",
       "       [  1.00065991e-08,   1.00000000e+00],\n",
       "       [  2.98503187e-06,   9.99997020e-01],\n",
       "       [  1.00000000e+00,   7.31696392e-09],\n",
       "       [  1.00000000e+00,   1.31960949e-08],\n",
       "       [  3.39690723e-06,   9.99996662e-01],\n",
       "       [  1.21981259e-07,   9.99999881e-01],\n",
       "       [  1.97909627e-04,   9.99802053e-01],\n",
       "       [  1.07923004e-08,   1.00000000e+00],\n",
       "       [  1.00000000e+00,   1.10492238e-08],\n",
       "       [  9.32497386e-08,   9.99999881e-01],\n",
       "       [  3.87532737e-06,   9.99996066e-01],\n",
       "       [  2.04449634e-06,   9.99997973e-01],\n",
       "       [  4.26558699e-09,   1.00000000e+00],\n",
       "       [  1.00000000e+00,   2.44985827e-08]], dtype=float32)"
      ]
     },
     "execution_count": 83,
     "metadata": {},
     "output_type": "execute_result"
    }
   ],
   "source": [
    "pred"
   ]
  },
  {
   "cell_type": "code",
   "execution_count": 84,
   "metadata": {},
   "outputs": [],
   "source": [
    "pred = np.argmax(pred, axis=1)"
   ]
  },
  {
   "cell_type": "code",
   "execution_count": 85,
   "metadata": {},
   "outputs": [],
   "source": [
    "labels_test = np.argmax(labels_test, axis=1)"
   ]
  },
  {
   "cell_type": "code",
   "execution_count": 86,
   "metadata": {},
   "outputs": [
    {
     "data": {
      "text/plain": [
       "0.97202797202797198"
      ]
     },
     "execution_count": 86,
     "metadata": {},
     "output_type": "execute_result"
    }
   ],
   "source": [
    "from sklearn.metrics import accuracy_score\n",
    "accuracy_score(labels_test, pred)"
   ]
  },
  {
   "cell_type": "code",
   "execution_count": 87,
   "metadata": {},
   "outputs": [
    {
     "data": {
      "text/plain": [
       "array([1, 1, 1, 1, 0, 1, 1, 1, 1, 1, 1, 0, 1, 1, 1, 1, 1, 1, 0, 0, 1, 1, 1,\n",
       "       1, 1, 1, 1, 0, 0, 1, 0, 1, 1, 1, 1, 1, 1, 1, 0, 0, 0, 1, 1, 0, 1, 0,\n",
       "       0, 1, 0, 1, 0, 1, 1, 0, 0, 1, 1, 1, 1, 1, 1, 1, 0, 0, 1, 1, 0, 1, 0,\n",
       "       0, 1, 1, 0, 0, 1, 0, 1, 0, 0, 0, 0, 1, 1, 1, 1, 0, 1, 1, 1, 1, 0, 0,\n",
       "       0, 1, 1, 0, 1, 0, 1, 1, 1, 0, 1, 1, 1, 0, 0, 1, 0, 1, 1, 0, 1, 1, 0,\n",
       "       0, 1, 0, 0, 0, 1, 1, 0, 1, 0, 1, 0, 1, 0, 1, 1, 0, 0, 1, 1, 1, 1, 0,\n",
       "       1, 1, 1, 1, 0])"
      ]
     },
     "execution_count": 87,
     "metadata": {},
     "output_type": "execute_result"
    }
   ],
   "source": [
    "pred"
   ]
  },
  {
   "cell_type": "code",
   "execution_count": 88,
   "metadata": {},
   "outputs": [
    {
     "data": {
      "text/plain": [
       "143"
      ]
     },
     "execution_count": 88,
     "metadata": {},
     "output_type": "execute_result"
    }
   ],
   "source": [
    "len(pred)"
   ]
  },
  {
   "cell_type": "code",
   "execution_count": 90,
   "metadata": {},
   "outputs": [
    {
     "data": {
      "text/plain": [
       "array([1, 1, 1, 1, 0, 1, 1, 1, 1, 1])"
      ]
     },
     "execution_count": 90,
     "metadata": {},
     "output_type": "execute_result"
    }
   ],
   "source": [
    "labels_test[:10]"
   ]
  },
  {
   "cell_type": "code",
   "execution_count": 92,
   "metadata": {},
   "outputs": [
    {
     "data": {
      "text/plain": [
       "array([1, 1, 1, 1, 0, 1, 1, 1, 1, 1])"
      ]
     },
     "execution_count": 92,
     "metadata": {},
     "output_type": "execute_result"
    }
   ],
   "source": [
    "pred[0:10]"
   ]
  },
  {
   "cell_type": "code",
   "execution_count": null,
   "metadata": {},
   "outputs": [],
   "source": []
  },
  {
   "cell_type": "code",
   "execution_count": null,
   "metadata": {},
   "outputs": [],
   "source": []
  }
 ],
 "metadata": {
  "kernelspec": {
   "display_name": "Python 3",
   "language": "python",
   "name": "python3"
  },
  "language_info": {
   "codemirror_mode": {
    "name": "ipython",
    "version": 3
   },
   "file_extension": ".py",
   "mimetype": "text/x-python",
   "name": "python",
   "nbconvert_exporter": "python",
   "pygments_lexer": "ipython3",
   "version": "3.6.4"
  }
 },
 "nbformat": 4,
 "nbformat_minor": 2
}
